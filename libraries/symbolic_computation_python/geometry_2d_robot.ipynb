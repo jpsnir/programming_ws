{
 "cells": [
  {
   "cell_type": "code",
   "execution_count": 4,
   "id": "df318aef-a939-4772-807b-cd26acc65b2a",
   "metadata": {},
   "outputs": [],
   "source": [
    "import symforce.symbolic as sf\n",
    "from symforce.notebook_util import display, display_code, display_code_file\n",
    "import symforce\n",
    "e = sf.Symbol(\"e\")\n",
    "world_pose_body = sf.Pose2(\n",
    "    t = sf.V2.symbolic(\"t\"),\n",
    "    R = sf.Rot2.symbolic(\"R\"),\n",
    ")\n",
    "landmark_world = sf.V2.symbolic(\"L\")"
   ]
  },
  {
   "cell_type": "code",
   "execution_count": 5,
   "id": "14bc7ae5-3b26-4b5a-8922-9f0a619e921e",
   "metadata": {},
   "outputs": [],
   "source": [
    "landmark_body = world_pose_body.inverse()*landmark_world"
   ]
  },
  {
   "cell_type": "code",
   "execution_count": 6,
   "id": "47425773-245d-497a-a41a-2a939b4b54de",
   "metadata": {},
   "outputs": [
    {
     "data": {
      "image/png": "[encoded data removed]",
      "text/latex": [
       "$\\displaystyle \\left[\\begin{matrix}L_{0} R_{re} + L_{1} R_{im} - R_{im} t_{1} - R_{re} t_{0}\\\\- L_{0} R_{im} + L_{1} R_{re} + R_{im} t_{0} - R_{re} t_{1}\\end{matrix}\\right]$"
      ],
      "text/plain": [
       "⎡L₀⋅Rᵣₑ + L₁⋅Rᵢₘ - Rᵢₘ⋅t₁ - Rᵣₑ⋅t₀ ⎤\n",
       "⎢                                  ⎥\n",
       "⎣-L₀⋅Rᵢₘ + L₁⋅Rᵣₑ + Rᵢₘ⋅t₀ - Rᵣₑ⋅t₁⎦"
      ]
     },
     "metadata": {},
     "output_type": "display_data"
    }
   ],
   "source": [
    "display(landmark_body)"
   ]
  },
  {
   "cell_type": "code",
   "execution_count": 7,
   "id": "b4b56b2a-a07a-4831-bc36-7b9dde318d57",
   "metadata": {},
   "outputs": [
    {
     "data": {
      "text/plain": [
       "<Pose2 R=<Rot2 <C real=R_re, imag=-R_im>>, t=(-(t0*R_re + t1*R_im), -(-t0*R_im + t1*R_re))>"
      ]
     },
     "metadata": {},
     "output_type": "display_data"
    }
   ],
   "source": [
    "display(world_pose_body.inverse())"
   ]
  },
  {
   "cell_type": "code",
   "execution_count": 8,
   "id": "8f2f40d5-07a4-4cf6-a824-4bf1d4a3f1b1",
   "metadata": {},
   "outputs": [
    {
     "data": {
      "image/png": "[encoded data removed]",
      "text/latex": [
       "$\\displaystyle 3$"
      ],
      "text/plain": [
       "3"
      ]
     },
     "execution_count": 8,
     "metadata": {},
     "output_type": "execute_result"
    }
   ],
   "source": [
    "world_pose_body.tangent_dim()\n"
   ]
  },
  {
   "cell_type": "code",
   "execution_count": 9,
   "id": "e367624e-0a4d-477c-ba4e-20ff6c68357b",
   "metadata": {},
   "outputs": [
    {
     "data": {
      "text/plain": [
       "[0, 0, 0]\n",
       "[0, 0, 0]"
      ]
     },
     "metadata": {},
     "output_type": "display_data"
    }
   ],
   "source": [
    "landmark_world.jacobian(world_pose_body)"
   ]
  },
  {
   "cell_type": "code",
   "execution_count": 10,
   "id": "1e7c5870-313d-4722-8986-29f5db67acfc",
   "metadata": {},
   "outputs": [
    {
     "data": {
      "image/png": "[encoded data removed]",
      "text/latex": [
       "$\\displaystyle \\left[\\begin{matrix}- L_{0} R_{im} + L_{1} R_{re} + R_{im} t_{0} - R_{re} t_{1} & - R_{re} & - R_{im}\\\\- L_{0} R_{re} - L_{1} R_{im} + R_{im} t_{1} + R_{re} t_{0} & R_{im} & - R_{re}\\end{matrix}\\right]$"
      ],
      "text/plain": [
       "⎡-L₀⋅Rᵢₘ + L₁⋅Rᵣₑ + Rᵢₘ⋅t₀ - Rᵣₑ⋅t₁  -Rᵣₑ  -Rᵢₘ⎤\n",
       "⎢                                              ⎥\n",
       "⎣-L₀⋅Rᵣₑ - L₁⋅Rᵢₘ + Rᵢₘ⋅t₁ + Rᵣₑ⋅t₀  Rᵢₘ   -Rᵣₑ⎦"
      ]
     },
     "metadata": {},
     "output_type": "display_data"
    }
   ],
   "source": [
    "display(landmark_body.jacobian(world_pose_body))"
   ]
  },
  {
   "cell_type": "code",
   "execution_count": 11,
   "id": "57875fad-12bd-4b56-9e19-54a3dcd895dd",
   "metadata": {},
   "outputs": [
    {
     "data": {
      "image/png": "[encoded data removed]",
      "text/latex": [
       "$\\displaystyle \\operatorname{atan}_{2}{\\left(L_{0} R_{re} + L_{1} R_{im} - R_{im} t_{1} - R_{re} t_{0},- L_{0} R_{im} + L_{1} R_{re} + R_{im} t_{0} - R_{re} t_{1} \\right)}$"
      ],
      "text/plain": [
       "atan2(L₀⋅Rᵣₑ + L₁⋅Rᵢₘ - Rᵢₘ⋅t₁ - Rᵣₑ⋅t₀, -L₀⋅Rᵢₘ + L₁⋅Rᵣₑ + Rᵢₘ⋅t₀ - Rᵣₑ⋅t₁)"
      ]
     },
     "metadata": {},
     "output_type": "display_data"
    }
   ],
   "source": [
    "display(sf.atan2(landmark_body[0], landmark_body[1]))"
   ]
  },
  {
   "cell_type": "code",
   "execution_count": null,
   "id": "d1da776d-ada3-4c49-a5f5-1e148f36fe23",
   "metadata": {},
   "outputs": [],
   "source": []
  },
  {
   "cell_type": "code",
   "execution_count": null,
   "id": "8b5d8108-1cab-4b88-b86a-bdf3dd31d264",
   "metadata": {},
   "outputs": [],
   "source": []
  }
 ],
 "metadata": {
  "kernelspec": {
   "display_name": "Python 3 (ipykernel)",
   "language": "python",
   "name": "python3"
  },
  "language_info": {
   "codemirror_mode": {
    "name": "ipython",
    "version": 3
   },
   "file_extension": ".py",
   "mimetype": "text/x-python",
   "name": "python",
   "nbconvert_exporter": "python",
   "pygments_lexer": "ipython3",
   "version": "3.8.16"
  }
 },
 "nbformat": 4,
 "nbformat_minor": 5
}
