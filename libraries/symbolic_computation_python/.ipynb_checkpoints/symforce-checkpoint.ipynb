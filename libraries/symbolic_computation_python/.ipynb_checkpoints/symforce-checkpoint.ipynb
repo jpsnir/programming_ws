{
 "cells": [
  {
   "cell_type": "code",
   "execution_count": 1,
   "id": "9665eff7-597b-4fa2-9272-dc3f56edb3d8",
   "metadata": {},
   "outputs": [],
   "source": [
    "import symforce"
   ]
  },
  {
   "cell_type": "code",
   "execution_count": 2,
   "id": "2781b631-5916-4fce-a603-a74e1b3b1b4b",
   "metadata": {},
   "outputs": [],
   "source": [
    "symforce.set_symbolic_api(\"sympy\")\n",
    "symforce.set_log_level(\"warning\")\n",
    "from symforce.notebook_util import display, print_expression_tree"
   ]
  },
  {
   "cell_type": "code",
   "execution_count": 3,
   "id": "a5f4bab8-0d4c-4c9d-b49b-fa94630b0880",
   "metadata": {},
   "outputs": [
    {
     "data": {
      "image/png": "[encoded data removed]",
      "text/latex": [
       "$\\displaystyle x^{2} + \\frac{\\sin{\\left(y \\right)}}{x^{2}}$"
      ],
      "text/plain": [
       " 2   sin(y)\n",
       "x  + ──────\n",
       "        2  \n",
       "       x   "
      ]
     },
     "metadata": {},
     "output_type": "display_data"
    }
   ],
   "source": [
    "import symforce.symbolic as sf\n",
    "\n",
    "x = sf.Symbol(\"x\")\n",
    "y = sf.Symbol(\"y\")\n",
    "expr = x**2 + sf.sin(y)/x**2\n",
    "display(expr)"
   ]
  },
  {
   "cell_type": "code",
   "execution_count": 6,
   "id": "21dec31a-b419-4dbe-bc31-24cf72bd21a5",
   "metadata": {},
   "outputs": [
    {
     "name": "stdout",
     "output_type": "stream",
     "text": [
      "Add: x**2 + sin(y)/x**2\n",
      "+-Pow: x**2\n",
      "| +-Symbol: x\n",
      "| +-Integer: 2\n",
      "+-Mul: sin(y)/x**2\n",
      "  +-Pow: x**(-2)\n",
      "  | +-Symbol: x\n",
      "  | +-Integer: -2\n",
      "  +-sin: sin(y)\n",
      "    +-Symbol: y\n"
     ]
    }
   ],
   "source": [
    "print_expression_tree(expr)"
   ]
  },
  {
   "cell_type": "code",
   "execution_count": 7,
   "id": "320fcb8a-aa93-49e8-b608-71f59342f2b1",
   "metadata": {},
   "outputs": [
    {
     "data": {
      "image/png": "[encoded data removed]",
      "text/latex": [
       "$\\displaystyle \\frac{\\cos{\\left(y \\right)}}{x^{2}}$"
      ],
      "text/plain": [
       "cos(y)\n",
       "──────\n",
       "   2  \n",
       "  x   "
      ]
     },
     "metadata": {},
     "output_type": "display_data"
    }
   ],
   "source": [
    "display(expr.diff(y))"
   ]
  },
  {
   "cell_type": "code",
   "execution_count": 8,
   "id": "f50d614b-7143-4801-aa34-158612370650",
   "metadata": {},
   "outputs": [
    {
     "data": {
      "image/png": "[encoded data removed]",
      "text/latex": [
       "$\\displaystyle 1.71042940438101$"
      ],
      "text/plain": [
       "1.71042940438101"
      ]
     },
     "metadata": {},
     "output_type": "display_data"
    }
   ],
   "source": [
    "display(expr.subs({x:1.2, y:0.4}))"
   ]
  },
  {
   "cell_type": "code",
   "execution_count": 9,
   "id": "26d89771-0de6-475b-9d17-39f7cdc224e3",
   "metadata": {},
   "outputs": [
    {
     "data": {
      "image/png": "[encoded data removed]",
      "text/latex": [
       "$\\displaystyle \\frac{y}{x^{2}} - \\frac{y^{3}}{6 x^{2}} + \\frac{y^{5}}{120 x^{2}} + x^{2} + O\\left(y^{6}\\right)$"
      ],
      "text/plain": [
       "       3       5               \n",
       "y     y       y       2    ⎛ 6⎞\n",
       "── - ──── + ────── + x  + O⎝y ⎠\n",
       " 2      2        2             \n",
       "x    6⋅x    120⋅x              "
      ]
     },
     "metadata": {},
     "output_type": "display_data"
    }
   ],
   "source": [
    "display(sf.series(expr,y))"
   ]
  },
  {
   "cell_type": "code",
   "execution_count": 10,
   "id": "a6a66405-40c8-46a9-a812-e6fce304c421",
   "metadata": {},
   "outputs": [
    {
     "data": {
      "text/plain": [
       "<Rot3 <Q xyzw=[0, 0, 0, 1]>>"
      ]
     },
     "metadata": {},
     "output_type": "display_data"
    }
   ],
   "source": [
    "from symforce import ops\n",
    "display(sf.Rot3())"
   ]
  },
  {
   "cell_type": "code",
   "execution_count": 11,
   "id": "d6600efd-d323-4c7d-aa8c-bd7ccfdc63ab",
   "metadata": {},
   "outputs": [
    {
     "data": {
      "text/plain": [
       "<Rot3 <Q xyzw=[R_x, R_y, R_z, R_w]>>"
      ]
     },
     "metadata": {},
     "output_type": "display_data"
    }
   ],
   "source": [
    "display(sf.Rot3.symbolic(\"R\"))"
   ]
  },
  {
   "cell_type": "code",
   "execution_count": 12,
   "id": "4d715ae4-5785-400d-bec0-a942a8bcad34",
   "metadata": {},
   "outputs": [],
   "source": [
    "qv = sf.V3.symbolic(\"qv\")\n",
    "qw = sf.Symbol(\"qw\")\n",
    "quat = sf.Quaternion(xyz=qv, w=qw)"
   ]
  },
  {
   "cell_type": "code",
   "execution_count": 13,
   "id": "61696446-441d-4497-b01b-ea6bbf011aa3",
   "metadata": {},
   "outputs": [
    {
     "data": {
      "text/plain": [
       "<Q xyzw=[qv0, qv1, qv2, qw]>"
      ]
     },
     "metadata": {},
     "output_type": "display_data"
    }
   ],
   "source": [
    "display(quat)"
   ]
  },
  {
   "cell_type": "code",
   "execution_count": 14,
   "id": "17f0b628-f5f7-4541-aa48-772680663bdc",
   "metadata": {},
   "outputs": [],
   "source": [
    "R_from_quat = sf.Rot3(quat)"
   ]
  },
  {
   "cell_type": "code",
   "execution_count": 15,
   "id": "d137717d-2659-4ed0-bb7e-0612d1ba7735",
   "metadata": {},
   "outputs": [
    {
     "data": {
      "text/plain": [
       "<Rot3 <Q xyzw=[qv0, qv1, qv2, qw]>>"
      ]
     },
     "metadata": {},
     "output_type": "display_data"
    }
   ],
   "source": [
    "display(R_from_quat)"
   ]
  },
  {
   "cell_type": "code",
   "execution_count": 16,
   "id": "b929a7a5-1f95-4ea6-9a48-84000d4fbf75",
   "metadata": {},
   "outputs": [],
   "source": [
    "theta = sf.Symbol(\"theta\")"
   ]
  },
  {
   "cell_type": "code",
   "execution_count": 18,
   "id": "5d704a33-f04d-4690-9628-bae39e926e55",
   "metadata": {},
   "outputs": [
    {
     "data": {
      "image/png": "[encoded data removed]",
      "text/latex": [
       "$\\displaystyle \\left[\\begin{matrix}1 & 0 & 0\\\\0 & \\cos{\\left(\\theta \\right)} & - \\sin{\\left(\\theta \\right)}\\\\0 & \\sin{\\left(\\theta \\right)} & \\cos{\\left(\\theta \\right)}\\end{matrix}\\right]$"
      ],
      "text/plain": [
       "⎡1    0        0   ⎤\n",
       "⎢                  ⎥\n",
       "⎢0  cos(θ)  -sin(θ)⎥\n",
       "⎢                  ⎥\n",
       "⎣0  sin(θ)  cos(θ) ⎦"
      ]
     },
     "metadata": {},
     "output_type": "display_data"
    },
    {
     "data": {
      "text/plain": [
       "<Rot3 <Q xyzw=[(1 - Max(0, sign(Max(1, 2*cos(theta) + 1, cos(theta)) - 1)))*(sqrt(Max(0, 2 - 2*cos(theta)))/2 + Max(0, sign(Max(1, 2*cos(theta) + 1, cos(theta)) - 1))/2) + 2*sin(theta)*Min(1 - Max(0, sign(-2*cos(theta) + Max(1, 2*cos(theta) + 1, cos(theta)) - 1)), 1 - Max(0, 1 - Max(0, sign(Max(1, 2*cos(theta) + 1, cos(theta)) - 1)), Min(1 - Max(0, sign(-cos(theta) + Max(1, 2*cos(theta) + 1, cos(theta)))), Max(1 - Max(0, 1 - Max(0, sign(Max(1, 2*cos(theta) + 1, cos(theta)) - 1))), 1 - Max(0, 1 - Max(0, sign(Max(1, 2*cos(theta) + 1, cos(theta)) - 1)), Min(1 - Max(0, 1 - Max(0, sign(Max(1, 2*cos(theta) + 1, cos(theta)) - 1))), 1 - Max(0, sign(-cos(theta) + Max(1, 2*cos(theta) + 1, cos(theta))))))))))/(2*sqrt(Max(0, 2*cos(theta) + 2)) - 2*Min(1 - Max(0, sign(-2*cos(theta) + Max(1, 2*cos(theta) + 1, cos(theta)) - 1)), 1 - Max(0, 1 - Max(0, sign(Max(1, 2*cos(theta) + 1, cos(theta)) - 1)), Min(1 - Max(0, sign(-cos(theta) + Max(1, 2*cos(theta) + 1, cos(theta)))), Max(1 - Max(0, 1 - Max(0, sign(Max(1, 2*cos(theta) + 1, cos(theta)) - 1))), 1 - Max(0, 1 - Max(0, sign(Max(1, 2*cos(theta) + 1, cos(theta)) - 1)), Min(1 - Max(0, 1 - Max(0, sign(Max(1, 2*cos(theta) + 1, cos(theta)) - 1))), 1 - Max(0, sign(-cos(theta) + Max(1, 2*cos(theta) + 1, cos(theta)))))))))) + 2), (1/2 - Min(1 - Max(0, 1 - Max(0, sign(Max(1, 2*cos(theta) + 1, cos(theta)) - 1))), 1 - Max(0, sign(-cos(theta) + Max(1, 2*cos(theta) + 1, cos(theta)))))/2)*Min(1 - Max(0, 1 - Max(0, sign(Max(1, 2*cos(theta) + 1, cos(theta)) - 1))), 1 - Max(0, sign(-cos(theta) + Max(1, 2*cos(theta) + 1, cos(theta))))), (1/2 - Min(1 - Max(0, sign(-cos(theta) + Max(1, 2*cos(theta) + 1, cos(theta)))), 1 - Max(0, 1 - Max(0, sign(Max(1, 2*cos(theta) + 1, cos(theta)) - 1)), Min(1 - Max(0, 1 - Max(0, sign(Max(1, 2*cos(theta) + 1, cos(theta)) - 1))), 1 - Max(0, sign(-cos(theta) + Max(1, 2*cos(theta) + 1, cos(theta)))))))/2)*Min(1 - Max(0, sign(-cos(theta) + Max(1, 2*cos(theta) + 1, cos(theta)))), 1 - Max(0, 1 - Max(0, sign(Max(1, 2*cos(theta) + 1, cos(theta)) - 1)), Min(1 - Max(0, 1 - Max(0, sign(Max(1, 2*cos(theta) + 1, cos(theta)) - 1))), 1 - Max(0, sign(-cos(theta) + Max(1, 2*cos(theta) + 1, cos(theta))))))), 2*(1 - Max(0, sign(Max(1, 2*cos(theta) + 1, cos(theta)) - 1)))*sin(theta)/(2*sqrt(Max(0, 2 - 2*cos(theta))) + 2*Max(0, sign(Max(1, 2*cos(theta) + 1, cos(theta)) - 1))) + (sqrt(Max(0, 2*cos(theta) + 2))/2 - Min(1 - Max(0, sign(-2*cos(theta) + Max(1, 2*cos(theta) + 1, cos(theta)) - 1)), 1 - Max(0, 1 - Max(0, sign(Max(1, 2*cos(theta) + 1, cos(theta)) - 1)), Min(1 - Max(0, sign(-cos(theta) + Max(1, 2*cos(theta) + 1, cos(theta)))), Max(1 - Max(0, 1 - Max(0, sign(Max(1, 2*cos(theta) + 1, cos(theta)) - 1))), 1 - Max(0, 1 - Max(0, sign(Max(1, 2*cos(theta) + 1, cos(theta)) - 1)), Min(1 - Max(0, 1 - Max(0, sign(Max(1, 2*cos(theta) + 1, cos(theta)) - 1))), 1 - Max(0, sign(-cos(theta) + Max(1, 2*cos(theta) + 1, cos(theta))))))))))/2 + 1/2)*Min(1 - Max(0, sign(-2*cos(theta) + Max(1, 2*cos(theta) + 1, cos(theta)) - 1)), 1 - Max(0, 1 - Max(0, sign(Max(1, 2*cos(theta) + 1, cos(theta)) - 1)), Min(1 - Max(0, sign(-cos(theta) + Max(1, 2*cos(theta) + 1, cos(theta)))), Max(1 - Max(0, 1 - Max(0, sign(Max(1, 2*cos(theta) + 1, cos(theta)) - 1))), 1 - Max(0, 1 - Max(0, sign(Max(1, 2*cos(theta) + 1, cos(theta)) - 1)), Min(1 - Max(0, 1 - Max(0, sign(Max(1, 2*cos(theta) + 1, cos(theta)) - 1))), 1 - Max(0, sign(-cos(theta) + Max(1, 2*cos(theta) + 1, cos(theta))))))))))]>>"
      ]
     },
     "metadata": {},
     "output_type": "display_data"
    },
    {
     "data": {
      "text/latex": [
       "$\\displaystyle \\left[\\begin{matrix}- 2 \\left(\\frac{1}{2} - \\frac{\\min\\left(1 - \\max\\left(0, 1 - \\max\\left(0, \\operatorname{sign}{\\left(\\max\\left(1, 2 \\cos{\\left(\\theta \\right)} + 1, \\cos{\\left(\\theta \\right)}\\right) - 1 \\right)}\\right)\\right), 1 - \\max\\left(0, \\operatorname{sign}{\\left(- \\cos{\\left(\\theta \\right)} + \\max\\left(1, 2 \\cos{\\left(\\theta \\right)} + 1, \\cos{\\left(\\theta \\right)}\\right) \\right)}\\right)\\right)}{2}\\right)^{2} \\min\\left(1 - \\max\\left(0, 1 - \\max\\left(0, \\operatorname{sign}{\\left(\\max\\left(1, 2 \\cos{\\left(\\theta \\right)} + 1, \\cos{\\left(\\theta \\right)}\\right) - 1 \\right)}\\right)\\right), 1 - \\max\\left(0, \\operatorname{sign}{\\left(- \\cos{\\left(\\theta \\right)} + \\max\\left(1, 2 \\cos{\\left(\\theta \\right)} + 1, \\cos{\\left(\\theta \\right)}\\right) \\right)}\\right)\\right)^{2} - 2 \\left(\\frac{1}{2} - \\frac{\\min\\left(1 - \\max\\left(0, \\operatorname{sign}{\\left(- \\cos{\\left(\\theta \\right)} + \\max\\left(1, 2 \\cos{\\left(\\theta \\right)} + 1, \\cos{\\left(\\theta \\right)}\\right) \\right)}\\right), 1 - \\max\\left(0, 1 - \\max\\left(0, \\operatorname{sign}{\\left(\\max\\left(1, 2 \\cos{\\left(\\theta \\right)} + 1, \\cos{\\left(\\theta \\right)}\\right) - 1 \\right)}\\right), \\min\\left(1 - \\max\\left(0, 1 - \\max\\left(0, \\operatorname{sign}{\\left(\\max\\left(1, 2 \\cos{\\left(\\theta \\right)} + 1, \\cos{\\left(\\theta \\right)}\\right) - 1 \\right)}\\right)\\right), 1 - \\max\\left(0, \\operatorname{sign}{\\left(- \\cos{\\left(\\theta \\right)} + \\max\\left(1, 2 \\cos{\\left(\\theta \\right)} + 1, \\cos{\\left(\\theta \\right)}\\right) \\right)}\\right)\\right)\\right)\\right)}{2}\\right)^{2} \\min\\left(1 - \\max\\left(0, \\operatorname{sign}{\\left(- \\cos{\\left(\\theta \\right)} + \\max\\left(1, 2 \\cos{\\left(\\theta \\right)} + 1, \\cos{\\left(\\theta \\right)}\\right) \\right)}\\right), 1 - \\max\\left(0, 1 - \\max\\left(0, \\operatorname{sign}{\\left(\\max\\left(1, 2 \\cos{\\left(\\theta \\right)} + 1, \\cos{\\left(\\theta \\right)}\\right) - 1 \\right)}\\right), \\min\\left(1 - \\max\\left(0, 1 - \\max\\left(0, \\operatorname{sign}{\\left(\\max\\left(1, 2 \\cos{\\left(\\theta \\right)} + 1, \\cos{\\left(\\theta \\right)}\\right) - 1 \\right)}\\right)\\right), 1 - \\max\\left(0, \\operatorname{sign}{\\left(- \\cos{\\left(\\theta \\right)} + \\max\\left(1, 2 \\cos{\\left(\\theta \\right)} + 1, \\cos{\\left(\\theta \\right)}\\right) \\right)}\\right)\\right)\\right)\\right)^{2} + 1 & \\left(\\frac{1}{2} - \\frac{\\min\\left(1 - \\max\\left(0, 1 - \\max\\left(0, \\operatorname{sign}{\\left(\\max\\left(1, 2 \\cos{\\left(\\theta \\right)} + 1, \\cos{\\left(\\theta \\right)}\\right) - 1 \\right)}\\right)\\right), 1 - \\max\\left(0, \\operatorname{sign}{\\left(- \\cos{\\left(\\theta \\right)} + \\max\\left(1, 2 \\cos{\\left(\\theta \\right)} + 1, \\cos{\\left(\\theta \\right)}\\right) \\right)}\\right)\\right)}{2}\\right) \\left(2 \\cdot \\left(1 - \\max\\left(0, \\operatorname{sign}{\\left(\\max\\left(1, 2 \\cos{\\left(\\theta \\right)} + 1, \\cos{\\left(\\theta \\right)}\\right) - 1 \\right)}\\right)\\right) \\left(\\frac{\\sqrt{\\max\\left(0, 2 - 2 \\cos{\\left(\\theta \\right)}\\right)}}{2} + \\frac{\\max\\left(0, \\operatorname{sign}{\\left(\\max\\left(1, 2 \\cos{\\left(\\theta \\right)} + 1, \\cos{\\left(\\theta \\right)}\\right) - 1 \\right)}\\right)}{2}\\right) + \\frac{4 \\sin{\\left(\\theta \\right)} \\min\\left(1 - \\max\\left(0, \\operatorname{sign}{\\left(- 2 \\cos{\\left(\\theta \\right)} + \\max\\left(1, 2 \\cos{\\left(\\theta \\right)} + 1, \\cos{\\left(\\theta \\right)}\\right) - 1 \\right)}\\right), 1 - \\max\\left(0, 1 - \\max\\left(0, \\operatorname{sign}{\\left(\\max\\left(1, 2 \\cos{\\left(\\theta \\right)} + 1, \\cos{\\left(\\theta \\right)}\\right) - 1 \\right)}\\right), \\min\\left(1 - \\max\\left(0, \\operatorname{sign}{\\left(- \\cos{\\left(\\theta \\right)} + \\max\\left(1, 2 \\cos{\\left(\\theta \\right)} + 1, \\cos{\\left(\\theta \\right)}\\right) \\right)}\\right), \\max\\left(1 - \\max\\left(0, 1 - \\max\\left(0, \\operatorname{sign}{\\left(\\max\\left(1, 2 \\cos{\\left(\\theta \\right)} + 1, \\cos{\\left(\\theta \\right)}\\right) - 1 \\right)}\\right)\\right), 1 - \\max\\left(0, 1 - \\max\\left(0, \\operatorname{sign}{\\left(\\max\\left(1, 2 \\cos{\\left(\\theta \\right)} + 1, \\cos{\\left(\\theta \\right)}\\right) - 1 \\right)}\\right), \\min\\left(1 - \\max\\left(0, 1 - \\max\\left(0, \\operatorname{sign}{\\left(\\max\\left(1, 2 \\cos{\\left(\\theta \\right)} + 1, \\cos{\\left(\\theta \\right)}\\right) - 1 \\right)}\\right)\\right), 1 - \\max\\left(0, \\operatorname{sign}{\\left(- \\cos{\\left(\\theta \\right)} + \\max\\left(1, 2 \\cos{\\left(\\theta \\right)} + 1, \\cos{\\left(\\theta \\right)}\\right) \\right)}\\right)\\right)\\right)\\right)\\right)\\right)\\right)}{2 \\sqrt{\\max\\left(0, 2 \\cos{\\left(\\theta \\right)} + 2\\right)} - 2 \\min\\left(1 - \\max\\left(0, \\operatorname{sign}{\\left(- 2 \\cos{\\left(\\theta \\right)} + \\max\\left(1, 2 \\cos{\\left(\\theta \\right)} + 1, \\cos{\\left(\\theta \\right)}\\right) - 1 \\right)}\\right), 1 - \\max\\left(0, 1 - \\max\\left(0, \\operatorname{sign}{\\left(\\max\\left(1, 2 \\cos{\\left(\\theta \\right)} + 1, \\cos{\\left(\\theta \\right)}\\right) - 1 \\right)}\\right), \\min\\left(1 - \\max\\left(0, \\operatorname{sign}{\\left(- \\cos{\\left(\\theta \\right)} + \\max\\left(1, 2 \\cos{\\left(\\theta \\right)} + 1, \\cos{\\left(\\theta \\right)}\\right) \\right)}\\right), \\max\\left(1 - \\max\\left(0, 1 - \\max\\left(0, \\operatorname{sign}{\\left(\\max\\left(1, 2 \\cos{\\left(\\theta \\right)} + 1, \\cos{\\left(\\theta \\right)}\\right) - 1 \\right)}\\right)\\right), 1 - \\max\\left(0, 1 - \\max\\left(0, \\operatorname{sign}{\\left(\\max\\left(1, 2 \\cos{\\left(\\theta \\right)} + 1, \\cos{\\left(\\theta \\right)}\\right) - 1 \\right)}\\right), \\min\\left(1 - \\max\\left(0, 1 - \\max\\left(0, \\operatorname{sign}{\\left(\\max\\left(1, 2 \\cos{\\left(\\theta \\right)} + 1, \\cos{\\left(\\theta \\right)}\\right) - 1 \\right)}\\right)\\right), 1 - \\max\\left(0, \\operatorname{sign}{\\left(- \\cos{\\left(\\theta \\right)} + \\max\\left(1, 2 \\cos{\\left(\\theta \\right)} + 1, \\cos{\\left(\\theta \\right)}\\right) \\right)}\\right)\\right)\\right)\\right)\\right)\\right)\\right) + 2}\\right) \\min\\left(1 - \\max\\left(0, 1 - \\max\\left(0, \\operatorname{sign}{\\left(\\max\\left(1, 2 \\cos{\\left(\\theta \\right)} + 1, \\cos{\\left(\\theta \\right)}\\right) - 1 \\right)}\\right)\\right), 1 - \\max\\left(0, \\operatorname{sign}{\\left(- \\cos{\\left(\\theta \\right)} + \\max\\left(1, 2 \\cos{\\left(\\theta \\right)} + 1, \\cos{\\left(\\theta \\right)}\\right) \\right)}\\right)\\right) - 2 \\cdot \\left(\\frac{1}{2} - \\frac{\\min\\left(1 - \\max\\left(0, \\operatorname{sign}{\\left(- \\cos{\\left(\\theta \\right)} + \\max\\left(1, 2 \\cos{\\left(\\theta \\right)} + 1, \\cos{\\left(\\theta \\right)}\\right) \\right)}\\right), 1 - \\max\\left(0, 1 - \\max\\left(0, \\operatorname{sign}{\\left(\\max\\left(1, 2 \\cos{\\left(\\theta \\right)} + 1, \\cos{\\left(\\theta \\right)}\\right) - 1 \\right)}\\right), \\min\\left(1 - \\max\\left(0, 1 - \\max\\left(0, \\operatorname{sign}{\\left(\\max\\left(1, 2 \\cos{\\left(\\theta \\right)} + 1, \\cos{\\left(\\theta \\right)}\\right) - 1 \\right)}\\right)\\right), 1 - \\max\\left(0, \\operatorname{sign}{\\left(- \\cos{\\left(\\theta \\right)} + \\max\\left(1, 2 \\cos{\\left(\\theta \\right)} + 1, \\cos{\\left(\\theta \\right)}\\right) \\right)}\\right)\\right)\\right)\\right)}{2}\\right) \\left(\\frac{2 \\cdot \\left(1 - \\max\\left(0, \\operatorname{sign}{\\left(\\max\\left(1, 2 \\cos{\\left(\\theta \\right)} + 1, \\cos{\\left(\\theta \\right)}\\right) - 1 \\right)}\\right)\\right) \\sin{\\left(\\theta \\right)}}{2 \\sqrt{\\max\\left(0, 2 - 2 \\cos{\\left(\\theta \\right)}\\right)} + 2 \\max\\left(0, \\operatorname{sign}{\\left(\\max\\left(1, 2 \\cos{\\left(\\theta \\right)} + 1, \\cos{\\left(\\theta \\right)}\\right) - 1 \\right)}\\right)} + \\left(\\frac{\\sqrt{\\max\\left(0, 2 \\cos{\\left(\\theta \\right)} + 2\\right)}}{2} - \\frac{\\min\\left(1 - \\max\\left(0, \\operatorname{sign}{\\left(- 2 \\cos{\\left(\\theta \\right)} + \\max\\left(1, 2 \\cos{\\left(\\theta \\right)} + 1, \\cos{\\left(\\theta \\right)}\\right) - 1 \\right)}\\right), 1 - \\max\\left(0, 1 - \\max\\left(0, \\operatorname{sign}{\\left(\\max\\left(1, 2 \\cos{\\left(\\theta \\right)} + 1, \\cos{\\left(\\theta \\right)}\\right) - 1 \\right)}\\right), \\min\\left(1 - \\max\\left(0, \\operatorname{sign}{\\left(- \\cos{\\left(\\theta \\right)} + \\max\\left(1, 2 \\cos{\\left(\\theta \\right)} + 1, \\cos{\\left(\\theta \\right)}\\right) \\right)}\\right), \\max\\left(1 - \\max\\left(0, 1 - \\max\\left(0, \\operatorname{sign}{\\left(\\max\\left(1, 2 \\cos{\\left(\\theta \\right)} + 1, \\cos{\\left(\\theta \\right)}\\right) - 1 \\right)}\\right)\\right), 1 - \\max\\left(0, 1 - \\max\\left(0, \\operatorname{sign}{\\left(\\max\\left(1, 2 \\cos{\\left(\\theta \\right)} + 1, \\cos{\\left(\\theta \\right)}\\right) - 1 \\right)}\\right), \\min\\left(1 - \\max\\left(0, 1 - \\max\\left(0, \\operatorname{sign}{\\left(\\max\\left(1, 2 \\cos{\\left(\\theta \\right)} + 1, \\cos{\\left(\\theta \\right)}\\right) - 1 \\right)}\\right)\\right), 1 - \\max\\left(0, \\operatorname{sign}{\\left(- \\cos{\\left(\\theta \\right)} + \\max\\left(1, 2 \\cos{\\left(\\theta \\right)} + 1, \\cos{\\left(\\theta \\right)}\\right) \\right)}\\right)\\right)\\right)\\right)\\right)\\right)\\right)}{2} + \\frac{1}{2}\\right) \\min\\left(1 - \\max\\left(0, \\operatorname{sign}{\\left(- 2 \\cos{\\left(\\theta \\right)} + \\max\\left(1, 2 \\cos{\\left(\\theta \\right)} + 1, \\cos{\\left(\\theta \\right)}\\right) - 1 \\right)}\\right), 1 - \\max\\left(0, 1 - \\max\\left(0, \\operatorname{sign}{\\left(\\max\\left(1, 2 \\cos{\\left(\\theta \\right)} + 1, \\cos{\\left(\\theta \\right)}\\right) - 1 \\right)}\\right), \\min\\left(1 - \\max\\left(0, \\operatorname{sign}{\\left(- \\cos{\\left(\\theta \\right)} + \\max\\left(1, 2 \\cos{\\left(\\theta \\right)} + 1, \\cos{\\left(\\theta \\right)}\\right) \\right)}\\right), \\max\\left(1 - \\max\\left(0, 1 - \\max\\left(0, \\operatorname{sign}{\\left(\\max\\left(1, 2 \\cos{\\left(\\theta \\right)} + 1, \\cos{\\left(\\theta \\right)}\\right) - 1 \\right)}\\right)\\right), 1 - \\max\\left(0, 1 - \\max\\left(0, \\operatorname{sign}{\\left(\\max\\left(1, 2 \\cos{\\left(\\theta \\right)} + 1, \\cos{\\left(\\theta \\right)}\\right) - 1 \\right)}\\right), \\min\\left(1 - \\max\\left(0, 1 - \\max\\left(0, \\operatorname{sign}{\\left(\\max\\left(1, 2 \\cos{\\left(\\theta \\right)} + 1, \\cos{\\left(\\theta \\right)}\\right) - 1 \\right)}\\right)\\right), 1 - \\max\\left(0, \\operatorname{sign}{\\left(- \\cos{\\left(\\theta \\right)} + \\max\\left(1, 2 \\cos{\\left(\\theta \\right)} + 1, \\cos{\\left(\\theta \\right)}\\right) \\right)}\\right)\\right)\\right)\\right)\\right)\\right)\\right)\\right) \\min\\left(1 - \\max\\left(0, \\operatorname{sign}{\\left(- \\cos{\\left(\\theta \\right)} + \\max\\left(1, 2 \\cos{\\left(\\theta \\right)} + 1, \\cos{\\left(\\theta \\right)}\\right) \\right)}\\right), 1 - \\max\\left(0, 1 - \\max\\left(0, \\operatorname{sign}{\\left(\\max\\left(1, 2 \\cos{\\left(\\theta \\right)} + 1, \\cos{\\left(\\theta \\right)}\\right) - 1 \\right)}\\right), \\min\\left(1 - \\max\\left(0, 1 - \\max\\left(0, \\operatorname{sign}{\\left(\\max\\left(1, 2 \\cos{\\left(\\theta \\right)} + 1, \\cos{\\left(\\theta \\right)}\\right) - 1 \\right)}\\right)\\right), 1 - \\max\\left(0, \\operatorname{sign}{\\left(- \\cos{\\left(\\theta \\right)} + \\max\\left(1, 2 \\cos{\\left(\\theta \\right)} + 1, \\cos{\\left(\\theta \\right)}\\right) \\right)}\\right)\\right)\\right)\\right) & 2 \\cdot \\left(\\frac{1}{2} - \\frac{\\min\\left(1 - \\max\\left(0, 1 - \\max\\left(0, \\operatorname{sign}{\\left(\\max\\left(1, 2 \\cos{\\left(\\theta \\right)} + 1, \\cos{\\left(\\theta \\right)}\\right) - 1 \\right)}\\right)\\right), 1 - \\max\\left(0, \\operatorname{sign}{\\left(- \\cos{\\left(\\theta \\right)} + \\max\\left(1, 2 \\cos{\\left(\\theta \\right)} + 1, \\cos{\\left(\\theta \\right)}\\right) \\right)}\\right)\\right)}{2}\\right) \\left(\\frac{2 \\cdot \\left(1 - \\max\\left(0, \\operatorname{sign}{\\left(\\max\\left(1, 2 \\cos{\\left(\\theta \\right)} + 1, \\cos{\\left(\\theta \\right)}\\right) - 1 \\right)}\\right)\\right) \\sin{\\left(\\theta \\right)}}{2 \\sqrt{\\max\\left(0, 2 - 2 \\cos{\\left(\\theta \\right)}\\right)} + 2 \\max\\left(0, \\operatorname{sign}{\\left(\\max\\left(1, 2 \\cos{\\left(\\theta \\right)} + 1, \\cos{\\left(\\theta \\right)}\\right) - 1 \\right)}\\right)} + \\left(\\frac{\\sqrt{\\max\\left(0, 2 \\cos{\\left(\\theta \\right)} + 2\\right)}}{2} - \\frac{\\min\\left(1 - \\max\\left(0, \\operatorname{sign}{\\left(- 2 \\cos{\\left(\\theta \\right)} + \\max\\left(1, 2 \\cos{\\left(\\theta \\right)} + 1, \\cos{\\left(\\theta \\right)}\\right) - 1 \\right)}\\right), 1 - \\max\\left(0, 1 - \\max\\left(0, \\operatorname{sign}{\\left(\\max\\left(1, 2 \\cos{\\left(\\theta \\right)} + 1, \\cos{\\left(\\theta \\right)}\\right) - 1 \\right)}\\right), \\min\\left(1 - \\max\\left(0, \\operatorname{sign}{\\left(- \\cos{\\left(\\theta \\right)} + \\max\\left(1, 2 \\cos{\\left(\\theta \\right)} + 1, \\cos{\\left(\\theta \\right)}\\right) \\right)}\\right), \\max\\left(1 - \\max\\left(0, 1 - \\max\\left(0, \\operatorname{sign}{\\left(\\max\\left(1, 2 \\cos{\\left(\\theta \\right)} + 1, \\cos{\\left(\\theta \\right)}\\right) - 1 \\right)}\\right)\\right), 1 - \\max\\left(0, 1 - \\max\\left(0, \\operatorname{sign}{\\left(\\max\\left(1, 2 \\cos{\\left(\\theta \\right)} + 1, \\cos{\\left(\\theta \\right)}\\right) - 1 \\right)}\\right), \\min\\left(1 - \\max\\left(0, 1 - \\max\\left(0, \\operatorname{sign}{\\left(\\max\\left(1, 2 \\cos{\\left(\\theta \\right)} + 1, \\cos{\\left(\\theta \\right)}\\right) - 1 \\right)}\\right)\\right), 1 - \\max\\left(0, \\operatorname{sign}{\\left(- \\cos{\\left(\\theta \\right)} + \\max\\left(1, 2 \\cos{\\left(\\theta \\right)} + 1, \\cos{\\left(\\theta \\right)}\\right) \\right)}\\right)\\right)\\right)\\right)\\right)\\right)\\right)}{2} + \\frac{1}{2}\\right) \\min\\left(1 - \\max\\left(0, \\operatorname{sign}{\\left(- 2 \\cos{\\left(\\theta \\right)} + \\max\\left(1, 2 \\cos{\\left(\\theta \\right)} + 1, \\cos{\\left(\\theta \\right)}\\right) - 1 \\right)}\\right), 1 - \\max\\left(0, 1 - \\max\\left(0, \\operatorname{sign}{\\left(\\max\\left(1, 2 \\cos{\\left(\\theta \\right)} + 1, \\cos{\\left(\\theta \\right)}\\right) - 1 \\right)}\\right), \\min\\left(1 - \\max\\left(0, \\operatorname{sign}{\\left(- \\cos{\\left(\\theta \\right)} + \\max\\left(1, 2 \\cos{\\left(\\theta \\right)} + 1, \\cos{\\left(\\theta \\right)}\\right) \\right)}\\right), \\max\\left(1 - \\max\\left(0, 1 - \\max\\left(0, \\operatorname{sign}{\\left(\\max\\left(1, 2 \\cos{\\left(\\theta \\right)} + 1, \\cos{\\left(\\theta \\right)}\\right) - 1 \\right)}\\right)\\right), 1 - \\max\\left(0, 1 - \\max\\left(0, \\operatorname{sign}{\\left(\\max\\left(1, 2 \\cos{\\left(\\theta \\right)} + 1, \\cos{\\left(\\theta \\right)}\\right) - 1 \\right)}\\right), \\min\\left(1 - \\max\\left(0, 1 - \\max\\left(0, \\operatorname{sign}{\\left(\\max\\left(1, 2 \\cos{\\left(\\theta \\right)} + 1, \\cos{\\left(\\theta \\right)}\\right) - 1 \\right)}\\right)\\right), 1 - \\max\\left(0, \\operatorname{sign}{\\left(- \\cos{\\left(\\theta \\right)} + \\max\\left(1, 2 \\cos{\\left(\\theta \\right)} + 1, \\cos{\\left(\\theta \\right)}\\right) \\right)}\\right)\\right)\\right)\\right)\\right)\\right)\\right)\\right) \\min\\left(1 - \\max\\left(0, 1 - \\max\\left(0, \\operatorname{sign}{\\left(\\max\\left(1, 2 \\cos{\\left(\\theta \\right)} + 1, \\cos{\\left(\\theta \\right)}\\right) - 1 \\right)}\\right)\\right), 1 - \\max\\left(0, \\operatorname{sign}{\\left(- \\cos{\\left(\\theta \\right)} + \\max\\left(1, 2 \\cos{\\left(\\theta \\right)} + 1, \\cos{\\left(\\theta \\right)}\\right) \\right)}\\right)\\right) + \\left(\\frac{1}{2} - \\frac{\\min\\left(1 - \\max\\left(0, \\operatorname{sign}{\\left(- \\cos{\\left(\\theta \\right)} + \\max\\left(1, 2 \\cos{\\left(\\theta \\right)} + 1, \\cos{\\left(\\theta \\right)}\\right) \\right)}\\right), 1 - \\max\\left(0, 1 - \\max\\left(0, \\operatorname{sign}{\\left(\\max\\left(1, 2 \\cos{\\left(\\theta \\right)} + 1, \\cos{\\left(\\theta \\right)}\\right) - 1 \\right)}\\right), \\min\\left(1 - \\max\\left(0, 1 - \\max\\left(0, \\operatorname{sign}{\\left(\\max\\left(1, 2 \\cos{\\left(\\theta \\right)} + 1, \\cos{\\left(\\theta \\right)}\\right) - 1 \\right)}\\right)\\right), 1 - \\max\\left(0, \\operatorname{sign}{\\left(- \\cos{\\left(\\theta \\right)} + \\max\\left(1, 2 \\cos{\\left(\\theta \\right)} + 1, \\cos{\\left(\\theta \\right)}\\right) \\right)}\\right)\\right)\\right)\\right)}{2}\\right) \\left(2 \\cdot \\left(1 - \\max\\left(0, \\operatorname{sign}{\\left(\\max\\left(1, 2 \\cos{\\left(\\theta \\right)} + 1, \\cos{\\left(\\theta \\right)}\\right) - 1 \\right)}\\right)\\right) \\left(\\frac{\\sqrt{\\max\\left(0, 2 - 2 \\cos{\\left(\\theta \\right)}\\right)}}{2} + \\frac{\\max\\left(0, \\operatorname{sign}{\\left(\\max\\left(1, 2 \\cos{\\left(\\theta \\right)} + 1, \\cos{\\left(\\theta \\right)}\\right) - 1 \\right)}\\right)}{2}\\right) + \\frac{4 \\sin{\\left(\\theta \\right)} \\min\\left(1 - \\max\\left(0, \\operatorname{sign}{\\left(- 2 \\cos{\\left(\\theta \\right)} + \\max\\left(1, 2 \\cos{\\left(\\theta \\right)} + 1, \\cos{\\left(\\theta \\right)}\\right) - 1 \\right)}\\right), 1 - \\max\\left(0, 1 - \\max\\left(0, \\operatorname{sign}{\\left(\\max\\left(1, 2 \\cos{\\left(\\theta \\right)} + 1, \\cos{\\left(\\theta \\right)}\\right) - 1 \\right)}\\right), \\min\\left(1 - \\max\\left(0, \\operatorname{sign}{\\left(- \\cos{\\left(\\theta \\right)} + \\max\\left(1, 2 \\cos{\\left(\\theta \\right)} + 1, \\cos{\\left(\\theta \\right)}\\right) \\right)}\\right), \\max\\left(1 - \\max\\left(0, 1 - \\max\\left(0, \\operatorname{sign}{\\left(\\max\\left(1, 2 \\cos{\\left(\\theta \\right)} + 1, \\cos{\\left(\\theta \\right)}\\right) - 1 \\right)}\\right)\\right), 1 - \\max\\left(0, 1 - \\max\\left(0, \\operatorname{sign}{\\left(\\max\\left(1, 2 \\cos{\\left(\\theta \\right)} + 1, \\cos{\\left(\\theta \\right)}\\right) - 1 \\right)}\\right), \\min\\left(1 - \\max\\left(0, 1 - \\max\\left(0, \\operatorname{sign}{\\left(\\max\\left(1, 2 \\cos{\\left(\\theta \\right)} + 1, \\cos{\\left(\\theta \\right)}\\right) - 1 \\right)}\\right)\\right), 1 - \\max\\left(0, \\operatorname{sign}{\\left(- \\cos{\\left(\\theta \\right)} + \\max\\left(1, 2 \\cos{\\left(\\theta \\right)} + 1, \\cos{\\left(\\theta \\right)}\\right) \\right)}\\right)\\right)\\right)\\right)\\right)\\right)\\right)}{2 \\sqrt{\\max\\left(0, 2 \\cos{\\left(\\theta \\right)} + 2\\right)} - 2 \\min\\left(1 - \\max\\left(0, \\operatorname{sign}{\\left(- 2 \\cos{\\left(\\theta \\right)} + \\max\\left(1, 2 \\cos{\\left(\\theta \\right)} + 1, \\cos{\\left(\\theta \\right)}\\right) - 1 \\right)}\\right), 1 - \\max\\left(0, 1 - \\max\\left(0, \\operatorname{sign}{\\left(\\max\\left(1, 2 \\cos{\\left(\\theta \\right)} + 1, \\cos{\\left(\\theta \\right)}\\right) - 1 \\right)}\\right), \\min\\left(1 - \\max\\left(0, \\operatorname{sign}{\\left(- \\cos{\\left(\\theta \\right)} + \\max\\left(1, 2 \\cos{\\left(\\theta \\right)} + 1, \\cos{\\left(\\theta \\right)}\\right) \\right)}\\right), \\max\\left(1 - \\max\\left(0, 1 - \\max\\left(0, \\operatorname{sign}{\\left(\\max\\left(1, 2 \\cos{\\left(\\theta \\right)} + 1, \\cos{\\left(\\theta \\right)}\\right) - 1 \\right)}\\right)\\right), 1 - \\max\\left(0, 1 - \\max\\left(0, \\operatorname{sign}{\\left(\\max\\left(1, 2 \\cos{\\left(\\theta \\right)} + 1, \\cos{\\left(\\theta \\right)}\\right) - 1 \\right)}\\right), \\min\\left(1 - \\max\\left(0, 1 - \\max\\left(0, \\operatorname{sign}{\\left(\\max\\left(1, 2 \\cos{\\left(\\theta \\right)} + 1, \\cos{\\left(\\theta \\right)}\\right) - 1 \\right)}\\right)\\right), 1 - \\max\\left(0, \\operatorname{sign}{\\left(- \\cos{\\left(\\theta \\right)} + \\max\\left(1, 2 \\cos{\\left(\\theta \\right)} + 1, \\cos{\\left(\\theta \\right)}\\right) \\right)}\\right)\\right)\\right)\\right)\\right)\\right)\\right) + 2}\\right) \\min\\left(1 - \\max\\left(0, \\operatorname{sign}{\\left(- \\cos{\\left(\\theta \\right)} + \\max\\left(1, 2 \\cos{\\left(\\theta \\right)} + 1, \\cos{\\left(\\theta \\right)}\\right) \\right)}\\right), 1 - \\max\\left(0, 1 - \\max\\left(0, \\operatorname{sign}{\\left(\\max\\left(1, 2 \\cos{\\left(\\theta \\right)} + 1, \\cos{\\left(\\theta \\right)}\\right) - 1 \\right)}\\right), \\min\\left(1 - \\max\\left(0, 1 - \\max\\left(0, \\operatorname{sign}{\\left(\\max\\left(1, 2 \\cos{\\left(\\theta \\right)} + 1, \\cos{\\left(\\theta \\right)}\\right) - 1 \\right)}\\right)\\right), 1 - \\max\\left(0, \\operatorname{sign}{\\left(- \\cos{\\left(\\theta \\right)} + \\max\\left(1, 2 \\cos{\\left(\\theta \\right)} + 1, \\cos{\\left(\\theta \\right)}\\right) \\right)}\\right)\\right)\\right)\\right)\\\\\\left(\\frac{1}{2} - \\frac{\\min\\left(1 - \\max\\left(0, 1 - \\max\\left(0, \\operatorname{sign}{\\left(\\max\\left(1, 2 \\cos{\\left(\\theta \\right)} + 1, \\cos{\\left(\\theta \\right)}\\right) - 1 \\right)}\\right)\\right), 1 - \\max\\left(0, \\operatorname{sign}{\\left(- \\cos{\\left(\\theta \\right)} + \\max\\left(1, 2 \\cos{\\left(\\theta \\right)} + 1, \\cos{\\left(\\theta \\right)}\\right) \\right)}\\right)\\right)}{2}\\right) \\left(2 \\cdot \\left(1 - \\max\\left(0, \\operatorname{sign}{\\left(\\max\\left(1, 2 \\cos{\\left(\\theta \\right)} + 1, \\cos{\\left(\\theta \\right)}\\right) - 1 \\right)}\\right)\\right) \\left(\\frac{\\sqrt{\\max\\left(0, 2 - 2 \\cos{\\left(\\theta \\right)}\\right)}}{2} + \\frac{\\max\\left(0, \\operatorname{sign}{\\left(\\max\\left(1, 2 \\cos{\\left(\\theta \\right)} + 1, \\cos{\\left(\\theta \\right)}\\right) - 1 \\right)}\\right)}{2}\\right) + \\frac{4 \\sin{\\left(\\theta \\right)} \\min\\left(1 - \\max\\left(0, \\operatorname{sign}{\\left(- 2 \\cos{\\left(\\theta \\right)} + \\max\\left(1, 2 \\cos{\\left(\\theta \\right)} + 1, \\cos{\\left(\\theta \\right)}\\right) - 1 \\right)}\\right), 1 - \\max\\left(0, 1 - \\max\\left(0, \\operatorname{sign}{\\left(\\max\\left(1, 2 \\cos{\\left(\\theta \\right)} + 1, \\cos{\\left(\\theta \\right)}\\right) - 1 \\right)}\\right), \\min\\left(1 - \\max\\left(0, \\operatorname{sign}{\\left(- \\cos{\\left(\\theta \\right)} + \\max\\left(1, 2 \\cos{\\left(\\theta \\right)} + 1, \\cos{\\left(\\theta \\right)}\\right) \\right)}\\right), \\max\\left(1 - \\max\\left(0, 1 - \\max\\left(0, \\operatorname{sign}{\\left(\\max\\left(1, 2 \\cos{\\left(\\theta \\right)} + 1, \\cos{\\left(\\theta \\right)}\\right) - 1 \\right)}\\right)\\right), 1 - \\max\\left(0, 1 - \\max\\left(0, \\operatorname{sign}{\\left(\\max\\left(1, 2 \\cos{\\left(\\theta \\right)} + 1, \\cos{\\left(\\theta \\right)}\\right) - 1 \\right)}\\right), \\min\\left(1 - \\max\\left(0, 1 - \\max\\left(0, \\operatorname{sign}{\\left(\\max\\left(1, 2 \\cos{\\left(\\theta \\right)} + 1, \\cos{\\left(\\theta \\right)}\\right) - 1 \\right)}\\right)\\right), 1 - \\max\\left(0, \\operatorname{sign}{\\left(- \\cos{\\left(\\theta \\right)} + \\max\\left(1, 2 \\cos{\\left(\\theta \\right)} + 1, \\cos{\\left(\\theta \\right)}\\right) \\right)}\\right)\\right)\\right)\\right)\\right)\\right)\\right)}{2 \\sqrt{\\max\\left(0, 2 \\cos{\\left(\\theta \\right)} + 2\\right)} - 2 \\min\\left(1 - \\max\\left(0, \\operatorname{sign}{\\left(- 2 \\cos{\\left(\\theta \\right)} + \\max\\left(1, 2 \\cos{\\left(\\theta \\right)} + 1, \\cos{\\left(\\theta \\right)}\\right) - 1 \\right)}\\right), 1 - \\max\\left(0, 1 - \\max\\left(0, \\operatorname{sign}{\\left(\\max\\left(1, 2 \\cos{\\left(\\theta \\right)} + 1, \\cos{\\left(\\theta \\right)}\\right) - 1 \\right)}\\right), \\min\\left(1 - \\max\\left(0, \\operatorname{sign}{\\left(- \\cos{\\left(\\theta \\right)} + \\max\\left(1, 2 \\cos{\\left(\\theta \\right)} + 1, \\cos{\\left(\\theta \\right)}\\right) \\right)}\\right), \\max\\left(1 - \\max\\left(0, 1 - \\max\\left(0, \\operatorname{sign}{\\left(\\max\\left(1, 2 \\cos{\\left(\\theta \\right)} + 1, \\cos{\\left(\\theta \\right)}\\right) - 1 \\right)}\\right)\\right), 1 - \\max\\left(0, 1 - \\max\\left(0, \\operatorname{sign}{\\left(\\max\\left(1, 2 \\cos{\\left(\\theta \\right)} + 1, \\cos{\\left(\\theta \\right)}\\right) - 1 \\right)}\\right), \\min\\left(1 - \\max\\left(0, 1 - \\max\\left(0, \\operatorname{sign}{\\left(\\max\\left(1, 2 \\cos{\\left(\\theta \\right)} + 1, \\cos{\\left(\\theta \\right)}\\right) - 1 \\right)}\\right)\\right), 1 - \\max\\left(0, \\operatorname{sign}{\\left(- \\cos{\\left(\\theta \\right)} + \\max\\left(1, 2 \\cos{\\left(\\theta \\right)} + 1, \\cos{\\left(\\theta \\right)}\\right) \\right)}\\right)\\right)\\right)\\right)\\right)\\right)\\right) + 2}\\right) \\min\\left(1 - \\max\\left(0, 1 - \\max\\left(0, \\operatorname{sign}{\\left(\\max\\left(1, 2 \\cos{\\left(\\theta \\right)} + 1, \\cos{\\left(\\theta \\right)}\\right) - 1 \\right)}\\right)\\right), 1 - \\max\\left(0, \\operatorname{sign}{\\left(- \\cos{\\left(\\theta \\right)} + \\max\\left(1, 2 \\cos{\\left(\\theta \\right)} + 1, \\cos{\\left(\\theta \\right)}\\right) \\right)}\\right)\\right) + 2 \\cdot \\left(\\frac{1}{2} - \\frac{\\min\\left(1 - \\max\\left(0, \\operatorname{sign}{\\left(- \\cos{\\left(\\theta \\right)} + \\max\\left(1, 2 \\cos{\\left(\\theta \\right)} + 1, \\cos{\\left(\\theta \\right)}\\right) \\right)}\\right), 1 - \\max\\left(0, 1 - \\max\\left(0, \\operatorname{sign}{\\left(\\max\\left(1, 2 \\cos{\\left(\\theta \\right)} + 1, \\cos{\\left(\\theta \\right)}\\right) - 1 \\right)}\\right), \\min\\left(1 - \\max\\left(0, 1 - \\max\\left(0, \\operatorname{sign}{\\left(\\max\\left(1, 2 \\cos{\\left(\\theta \\right)} + 1, \\cos{\\left(\\theta \\right)}\\right) - 1 \\right)}\\right)\\right), 1 - \\max\\left(0, \\operatorname{sign}{\\left(- \\cos{\\left(\\theta \\right)} + \\max\\left(1, 2 \\cos{\\left(\\theta \\right)} + 1, \\cos{\\left(\\theta \\right)}\\right) \\right)}\\right)\\right)\\right)\\right)}{2}\\right) \\left(\\frac{2 \\cdot \\left(1 - \\max\\left(0, \\operatorname{sign}{\\left(\\max\\left(1, 2 \\cos{\\left(\\theta \\right)} + 1, \\cos{\\left(\\theta \\right)}\\right) - 1 \\right)}\\right)\\right) \\sin{\\left(\\theta \\right)}}{2 \\sqrt{\\max\\left(0, 2 - 2 \\cos{\\left(\\theta \\right)}\\right)} + 2 \\max\\left(0, \\operatorname{sign}{\\left(\\max\\left(1, 2 \\cos{\\left(\\theta \\right)} + 1, \\cos{\\left(\\theta \\right)}\\right) - 1 \\right)}\\right)} + \\left(\\frac{\\sqrt{\\max\\left(0, 2 \\cos{\\left(\\theta \\right)} + 2\\right)}}{2} - \\frac{\\min\\left(1 - \\max\\left(0, \\operatorname{sign}{\\left(- 2 \\cos{\\left(\\theta \\right)} + \\max\\left(1, 2 \\cos{\\left(\\theta \\right)} + 1, \\cos{\\left(\\theta \\right)}\\right) - 1 \\right)}\\right), 1 - \\max\\left(0, 1 - \\max\\left(0, \\operatorname{sign}{\\left(\\max\\left(1, 2 \\cos{\\left(\\theta \\right)} + 1, \\cos{\\left(\\theta \\right)}\\right) - 1 \\right)}\\right), \\min\\left(1 - \\max\\left(0, \\operatorname{sign}{\\left(- \\cos{\\left(\\theta \\right)} + \\max\\left(1, 2 \\cos{\\left(\\theta \\right)} + 1, \\cos{\\left(\\theta \\right)}\\right) \\right)}\\right), \\max\\left(1 - \\max\\left(0, 1 - \\max\\left(0, \\operatorname{sign}{\\left(\\max\\left(1, 2 \\cos{\\left(\\theta \\right)} + 1, \\cos{\\left(\\theta \\right)}\\right) - 1 \\right)}\\right)\\right), 1 - \\max\\left(0, 1 - \\max\\left(0, \\operatorname{sign}{\\left(\\max\\left(1, 2 \\cos{\\left(\\theta \\right)} + 1, \\cos{\\left(\\theta \\right)}\\right) - 1 \\right)}\\right), \\min\\left(1 - \\max\\left(0, 1 - \\max\\left(0, \\operatorname{sign}{\\left(\\max\\left(1, 2 \\cos{\\left(\\theta \\right)} + 1, \\cos{\\left(\\theta \\right)}\\right) - 1 \\right)}\\right)\\right), 1 - \\max\\left(0, \\operatorname{sign}{\\left(- \\cos{\\left(\\theta \\right)} + \\max\\left(1, 2 \\cos{\\left(\\theta \\right)} + 1, \\cos{\\left(\\theta \\right)}\\right) \\right)}\\right)\\right)\\right)\\right)\\right)\\right)\\right)}{2} + \\frac{1}{2}\\right) \\min\\left(1 - \\max\\left(0, \\operatorname{sign}{\\left(- 2 \\cos{\\left(\\theta \\right)} + \\max\\left(1, 2 \\cos{\\left(\\theta \\right)} + 1, \\cos{\\left(\\theta \\right)}\\right) - 1 \\right)}\\right), 1 - \\max\\left(0, 1 - \\max\\left(0, \\operatorname{sign}{\\left(\\max\\left(1, 2 \\cos{\\left(\\theta \\right)} + 1, \\cos{\\left(\\theta \\right)}\\right) - 1 \\right)}\\right), \\min\\left(1 - \\max\\left(0, \\operatorname{sign}{\\left(- \\cos{\\left(\\theta \\right)} + \\max\\left(1, 2 \\cos{\\left(\\theta \\right)} + 1, \\cos{\\left(\\theta \\right)}\\right) \\right)}\\right), \\max\\left(1 - \\max\\left(0, 1 - \\max\\left(0, \\operatorname{sign}{\\left(\\max\\left(1, 2 \\cos{\\left(\\theta \\right)} + 1, \\cos{\\left(\\theta \\right)}\\right) - 1 \\right)}\\right)\\right), 1 - \\max\\left(0, 1 - \\max\\left(0, \\operatorname{sign}{\\left(\\max\\left(1, 2 \\cos{\\left(\\theta \\right)} + 1, \\cos{\\left(\\theta \\right)}\\right) - 1 \\right)}\\right), \\min\\left(1 - \\max\\left(0, 1 - \\max\\left(0, \\operatorname{sign}{\\left(\\max\\left(1, 2 \\cos{\\left(\\theta \\right)} + 1, \\cos{\\left(\\theta \\right)}\\right) - 1 \\right)}\\right)\\right), 1 - \\max\\left(0, \\operatorname{sign}{\\left(- \\cos{\\left(\\theta \\right)} + \\max\\left(1, 2 \\cos{\\left(\\theta \\right)} + 1, \\cos{\\left(\\theta \\right)}\\right) \\right)}\\right)\\right)\\right)\\right)\\right)\\right)\\right)\\right) \\min\\left(1 - \\max\\left(0, \\operatorname{sign}{\\left(- \\cos{\\left(\\theta \\right)} + \\max\\left(1, 2 \\cos{\\left(\\theta \\right)} + 1, \\cos{\\left(\\theta \\right)}\\right) \\right)}\\right), 1 - \\max\\left(0, 1 - \\max\\left(0, \\operatorname{sign}{\\left(\\max\\left(1, 2 \\cos{\\left(\\theta \\right)} + 1, \\cos{\\left(\\theta \\right)}\\right) - 1 \\right)}\\right), \\min\\left(1 - \\max\\left(0, 1 - \\max\\left(0, \\operatorname{sign}{\\left(\\max\\left(1, 2 \\cos{\\left(\\theta \\right)} + 1, \\cos{\\left(\\theta \\right)}\\right) - 1 \\right)}\\right)\\right), 1 - \\max\\left(0, \\operatorname{sign}{\\left(- \\cos{\\left(\\theta \\right)} + \\max\\left(1, 2 \\cos{\\left(\\theta \\right)} + 1, \\cos{\\left(\\theta \\right)}\\right) \\right)}\\right)\\right)\\right)\\right) & - 2 \\left(\\frac{1}{2} - \\frac{\\min\\left(1 - \\max\\left(0, \\operatorname{sign}{\\left(- \\cos{\\left(\\theta \\right)} + \\max\\left(1, 2 \\cos{\\left(\\theta \\right)} + 1, \\cos{\\left(\\theta \\right)}\\right) \\right)}\\right), 1 - \\max\\left(0, 1 - \\max\\left(0, \\operatorname{sign}{\\left(\\max\\left(1, 2 \\cos{\\left(\\theta \\right)} + 1, \\cos{\\left(\\theta \\right)}\\right) - 1 \\right)}\\right), \\min\\left(1 - \\max\\left(0, 1 - \\max\\left(0, \\operatorname{sign}{\\left(\\max\\left(1, 2 \\cos{\\left(\\theta \\right)} + 1, \\cos{\\left(\\theta \\right)}\\right) - 1 \\right)}\\right)\\right), 1 - \\max\\left(0, \\operatorname{sign}{\\left(- \\cos{\\left(\\theta \\right)} + \\max\\left(1, 2 \\cos{\\left(\\theta \\right)} + 1, \\cos{\\left(\\theta \\right)}\\right) \\right)}\\right)\\right)\\right)\\right)}{2}\\right)^{2} \\min\\left(1 - \\max\\left(0, \\operatorname{sign}{\\left(- \\cos{\\left(\\theta \\right)} + \\max\\left(1, 2 \\cos{\\left(\\theta \\right)} + 1, \\cos{\\left(\\theta \\right)}\\right) \\right)}\\right), 1 - \\max\\left(0, 1 - \\max\\left(0, \\operatorname{sign}{\\left(\\max\\left(1, 2 \\cos{\\left(\\theta \\right)} + 1, \\cos{\\left(\\theta \\right)}\\right) - 1 \\right)}\\right), \\min\\left(1 - \\max\\left(0, 1 - \\max\\left(0, \\operatorname{sign}{\\left(\\max\\left(1, 2 \\cos{\\left(\\theta \\right)} + 1, \\cos{\\left(\\theta \\right)}\\right) - 1 \\right)}\\right)\\right), 1 - \\max\\left(0, \\operatorname{sign}{\\left(- \\cos{\\left(\\theta \\right)} + \\max\\left(1, 2 \\cos{\\left(\\theta \\right)} + 1, \\cos{\\left(\\theta \\right)}\\right) \\right)}\\right)\\right)\\right)\\right)^{2} - 2 \\left(\\left(1 - \\max\\left(0, \\operatorname{sign}{\\left(\\max\\left(1, 2 \\cos{\\left(\\theta \\right)} + 1, \\cos{\\left(\\theta \\right)}\\right) - 1 \\right)}\\right)\\right) \\left(\\frac{\\sqrt{\\max\\left(0, 2 - 2 \\cos{\\left(\\theta \\right)}\\right)}}{2} + \\frac{\\max\\left(0, \\operatorname{sign}{\\left(\\max\\left(1, 2 \\cos{\\left(\\theta \\right)} + 1, \\cos{\\left(\\theta \\right)}\\right) - 1 \\right)}\\right)}{2}\\right) + \\frac{2 \\sin{\\left(\\theta \\right)} \\min\\left(1 - \\max\\left(0, \\operatorname{sign}{\\left(- 2 \\cos{\\left(\\theta \\right)} + \\max\\left(1, 2 \\cos{\\left(\\theta \\right)} + 1, \\cos{\\left(\\theta \\right)}\\right) - 1 \\right)}\\right), 1 - \\max\\left(0, 1 - \\max\\left(0, \\operatorname{sign}{\\left(\\max\\left(1, 2 \\cos{\\left(\\theta \\right)} + 1, \\cos{\\left(\\theta \\right)}\\right) - 1 \\right)}\\right), \\min\\left(1 - \\max\\left(0, \\operatorname{sign}{\\left(- \\cos{\\left(\\theta \\right)} + \\max\\left(1, 2 \\cos{\\left(\\theta \\right)} + 1, \\cos{\\left(\\theta \\right)}\\right) \\right)}\\right), \\max\\left(1 - \\max\\left(0, 1 - \\max\\left(0, \\operatorname{sign}{\\left(\\max\\left(1, 2 \\cos{\\left(\\theta \\right)} + 1, \\cos{\\left(\\theta \\right)}\\right) - 1 \\right)}\\right)\\right), 1 - \\max\\left(0, 1 - \\max\\left(0, \\operatorname{sign}{\\left(\\max\\left(1, 2 \\cos{\\left(\\theta \\right)} + 1, \\cos{\\left(\\theta \\right)}\\right) - 1 \\right)}\\right), \\min\\left(1 - \\max\\left(0, 1 - \\max\\left(0, \\operatorname{sign}{\\left(\\max\\left(1, 2 \\cos{\\left(\\theta \\right)} + 1, \\cos{\\left(\\theta \\right)}\\right) - 1 \\right)}\\right)\\right), 1 - \\max\\left(0, \\operatorname{sign}{\\left(- \\cos{\\left(\\theta \\right)} + \\max\\left(1, 2 \\cos{\\left(\\theta \\right)} + 1, \\cos{\\left(\\theta \\right)}\\right) \\right)}\\right)\\right)\\right)\\right)\\right)\\right)\\right)}{2 \\sqrt{\\max\\left(0, 2 \\cos{\\left(\\theta \\right)} + 2\\right)} - 2 \\min\\left(1 - \\max\\left(0, \\operatorname{sign}{\\left(- 2 \\cos{\\left(\\theta \\right)} + \\max\\left(1, 2 \\cos{\\left(\\theta \\right)} + 1, \\cos{\\left(\\theta \\right)}\\right) - 1 \\right)}\\right), 1 - \\max\\left(0, 1 - \\max\\left(0, \\operatorname{sign}{\\left(\\max\\left(1, 2 \\cos{\\left(\\theta \\right)} + 1, \\cos{\\left(\\theta \\right)}\\right) - 1 \\right)}\\right), \\min\\left(1 - \\max\\left(0, \\operatorname{sign}{\\left(- \\cos{\\left(\\theta \\right)} + \\max\\left(1, 2 \\cos{\\left(\\theta \\right)} + 1, \\cos{\\left(\\theta \\right)}\\right) \\right)}\\right), \\max\\left(1 - \\max\\left(0, 1 - \\max\\left(0, \\operatorname{sign}{\\left(\\max\\left(1, 2 \\cos{\\left(\\theta \\right)} + 1, \\cos{\\left(\\theta \\right)}\\right) - 1 \\right)}\\right)\\right), 1 - \\max\\left(0, 1 - \\max\\left(0, \\operatorname{sign}{\\left(\\max\\left(1, 2 \\cos{\\left(\\theta \\right)} + 1, \\cos{\\left(\\theta \\right)}\\right) - 1 \\right)}\\right), \\min\\left(1 - \\max\\left(0, 1 - \\max\\left(0, \\operatorname{sign}{\\left(\\max\\left(1, 2 \\cos{\\left(\\theta \\right)} + 1, \\cos{\\left(\\theta \\right)}\\right) - 1 \\right)}\\right)\\right), 1 - \\max\\left(0, \\operatorname{sign}{\\left(- \\cos{\\left(\\theta \\right)} + \\max\\left(1, 2 \\cos{\\left(\\theta \\right)} + 1, \\cos{\\left(\\theta \\right)}\\right) \\right)}\\right)\\right)\\right)\\right)\\right)\\right)\\right) + 2}\\right)^{2} + 1 & 2 \\cdot \\left(\\frac{1}{2} - \\frac{\\min\\left(1 - \\max\\left(0, 1 - \\max\\left(0, \\operatorname{sign}{\\left(\\max\\left(1, 2 \\cos{\\left(\\theta \\right)} + 1, \\cos{\\left(\\theta \\right)}\\right) - 1 \\right)}\\right)\\right), 1 - \\max\\left(0, \\operatorname{sign}{\\left(- \\cos{\\left(\\theta \\right)} + \\max\\left(1, 2 \\cos{\\left(\\theta \\right)} + 1, \\cos{\\left(\\theta \\right)}\\right) \\right)}\\right)\\right)}{2}\\right) \\left(\\frac{1}{2} - \\frac{\\min\\left(1 - \\max\\left(0, \\operatorname{sign}{\\left(- \\cos{\\left(\\theta \\right)} + \\max\\left(1, 2 \\cos{\\left(\\theta \\right)} + 1, \\cos{\\left(\\theta \\right)}\\right) \\right)}\\right), 1 - \\max\\left(0, 1 - \\max\\left(0, \\operatorname{sign}{\\left(\\max\\left(1, 2 \\cos{\\left(\\theta \\right)} + 1, \\cos{\\left(\\theta \\right)}\\right) - 1 \\right)}\\right), \\min\\left(1 - \\max\\left(0, 1 - \\max\\left(0, \\operatorname{sign}{\\left(\\max\\left(1, 2 \\cos{\\left(\\theta \\right)} + 1, \\cos{\\left(\\theta \\right)}\\right) - 1 \\right)}\\right)\\right), 1 - \\max\\left(0, \\operatorname{sign}{\\left(- \\cos{\\left(\\theta \\right)} + \\max\\left(1, 2 \\cos{\\left(\\theta \\right)} + 1, \\cos{\\left(\\theta \\right)}\\right) \\right)}\\right)\\right)\\right)\\right)}{2}\\right) \\min\\left(1 - \\max\\left(0, 1 - \\max\\left(0, \\operatorname{sign}{\\left(\\max\\left(1, 2 \\cos{\\left(\\theta \\right)} + 1, \\cos{\\left(\\theta \\right)}\\right) - 1 \\right)}\\right)\\right), 1 - \\max\\left(0, \\operatorname{sign}{\\left(- \\cos{\\left(\\theta \\right)} + \\max\\left(1, 2 \\cos{\\left(\\theta \\right)} + 1, \\cos{\\left(\\theta \\right)}\\right) \\right)}\\right)\\right) \\min\\left(1 - \\max\\left(0, \\operatorname{sign}{\\left(- \\cos{\\left(\\theta \\right)} + \\max\\left(1, 2 \\cos{\\left(\\theta \\right)} + 1, \\cos{\\left(\\theta \\right)}\\right) \\right)}\\right), 1 - \\max\\left(0, 1 - \\max\\left(0, \\operatorname{sign}{\\left(\\max\\left(1, 2 \\cos{\\left(\\theta \\right)} + 1, \\cos{\\left(\\theta \\right)}\\right) - 1 \\right)}\\right), \\min\\left(1 - \\max\\left(0, 1 - \\max\\left(0, \\operatorname{sign}{\\left(\\max\\left(1, 2 \\cos{\\left(\\theta \\right)} + 1, \\cos{\\left(\\theta \\right)}\\right) - 1 \\right)}\\right)\\right), 1 - \\max\\left(0, \\operatorname{sign}{\\left(- \\cos{\\left(\\theta \\right)} + \\max\\left(1, 2 \\cos{\\left(\\theta \\right)} + 1, \\cos{\\left(\\theta \\right)}\\right) \\right)}\\right)\\right)\\right)\\right) - \\left(2 \\cdot \\left(1 - \\max\\left(0, \\operatorname{sign}{\\left(\\max\\left(1, 2 \\cos{\\left(\\theta \\right)} + 1, \\cos{\\left(\\theta \\right)}\\right) - 1 \\right)}\\right)\\right) \\left(\\frac{\\sqrt{\\max\\left(0, 2 - 2 \\cos{\\left(\\theta \\right)}\\right)}}{2} + \\frac{\\max\\left(0, \\operatorname{sign}{\\left(\\max\\left(1, 2 \\cos{\\left(\\theta \\right)} + 1, \\cos{\\left(\\theta \\right)}\\right) - 1 \\right)}\\right)}{2}\\right) + \\frac{4 \\sin{\\left(\\theta \\right)} \\min\\left(1 - \\max\\left(0, \\operatorname{sign}{\\left(- 2 \\cos{\\left(\\theta \\right)} + \\max\\left(1, 2 \\cos{\\left(\\theta \\right)} + 1, \\cos{\\left(\\theta \\right)}\\right) - 1 \\right)}\\right), 1 - \\max\\left(0, 1 - \\max\\left(0, \\operatorname{sign}{\\left(\\max\\left(1, 2 \\cos{\\left(\\theta \\right)} + 1, \\cos{\\left(\\theta \\right)}\\right) - 1 \\right)}\\right), \\min\\left(1 - \\max\\left(0, \\operatorname{sign}{\\left(- \\cos{\\left(\\theta \\right)} + \\max\\left(1, 2 \\cos{\\left(\\theta \\right)} + 1, \\cos{\\left(\\theta \\right)}\\right) \\right)}\\right), \\max\\left(1 - \\max\\left(0, 1 - \\max\\left(0, \\operatorname{sign}{\\left(\\max\\left(1, 2 \\cos{\\left(\\theta \\right)} + 1, \\cos{\\left(\\theta \\right)}\\right) - 1 \\right)}\\right)\\right), 1 - \\max\\left(0, 1 - \\max\\left(0, \\operatorname{sign}{\\left(\\max\\left(1, 2 \\cos{\\left(\\theta \\right)} + 1, \\cos{\\left(\\theta \\right)}\\right) - 1 \\right)}\\right), \\min\\left(1 - \\max\\left(0, 1 - \\max\\left(0, \\operatorname{sign}{\\left(\\max\\left(1, 2 \\cos{\\left(\\theta \\right)} + 1, \\cos{\\left(\\theta \\right)}\\right) - 1 \\right)}\\right)\\right), 1 - \\max\\left(0, \\operatorname{sign}{\\left(- \\cos{\\left(\\theta \\right)} + \\max\\left(1, 2 \\cos{\\left(\\theta \\right)} + 1, \\cos{\\left(\\theta \\right)}\\right) \\right)}\\right)\\right)\\right)\\right)\\right)\\right)\\right)}{2 \\sqrt{\\max\\left(0, 2 \\cos{\\left(\\theta \\right)} + 2\\right)} - 2 \\min\\left(1 - \\max\\left(0, \\operatorname{sign}{\\left(- 2 \\cos{\\left(\\theta \\right)} + \\max\\left(1, 2 \\cos{\\left(\\theta \\right)} + 1, \\cos{\\left(\\theta \\right)}\\right) - 1 \\right)}\\right), 1 - \\max\\left(0, 1 - \\max\\left(0, \\operatorname{sign}{\\left(\\max\\left(1, 2 \\cos{\\left(\\theta \\right)} + 1, \\cos{\\left(\\theta \\right)}\\right) - 1 \\right)}\\right), \\min\\left(1 - \\max\\left(0, \\operatorname{sign}{\\left(- \\cos{\\left(\\theta \\right)} + \\max\\left(1, 2 \\cos{\\left(\\theta \\right)} + 1, \\cos{\\left(\\theta \\right)}\\right) \\right)}\\right), \\max\\left(1 - \\max\\left(0, 1 - \\max\\left(0, \\operatorname{sign}{\\left(\\max\\left(1, 2 \\cos{\\left(\\theta \\right)} + 1, \\cos{\\left(\\theta \\right)}\\right) - 1 \\right)}\\right)\\right), 1 - \\max\\left(0, 1 - \\max\\left(0, \\operatorname{sign}{\\left(\\max\\left(1, 2 \\cos{\\left(\\theta \\right)} + 1, \\cos{\\left(\\theta \\right)}\\right) - 1 \\right)}\\right), \\min\\left(1 - \\max\\left(0, 1 - \\max\\left(0, \\operatorname{sign}{\\left(\\max\\left(1, 2 \\cos{\\left(\\theta \\right)} + 1, \\cos{\\left(\\theta \\right)}\\right) - 1 \\right)}\\right)\\right), 1 - \\max\\left(0, \\operatorname{sign}{\\left(- \\cos{\\left(\\theta \\right)} + \\max\\left(1, 2 \\cos{\\left(\\theta \\right)} + 1, \\cos{\\left(\\theta \\right)}\\right) \\right)}\\right)\\right)\\right)\\right)\\right)\\right)\\right) + 2}\\right) \\left(\\frac{2 \\cdot \\left(1 - \\max\\left(0, \\operatorname{sign}{\\left(\\max\\left(1, 2 \\cos{\\left(\\theta \\right)} + 1, \\cos{\\left(\\theta \\right)}\\right) - 1 \\right)}\\right)\\right) \\sin{\\left(\\theta \\right)}}{2 \\sqrt{\\max\\left(0, 2 - 2 \\cos{\\left(\\theta \\right)}\\right)} + 2 \\max\\left(0, \\operatorname{sign}{\\left(\\max\\left(1, 2 \\cos{\\left(\\theta \\right)} + 1, \\cos{\\left(\\theta \\right)}\\right) - 1 \\right)}\\right)} + \\left(\\frac{\\sqrt{\\max\\left(0, 2 \\cos{\\left(\\theta \\right)} + 2\\right)}}{2} - \\frac{\\min\\left(1 - \\max\\left(0, \\operatorname{sign}{\\left(- 2 \\cos{\\left(\\theta \\right)} + \\max\\left(1, 2 \\cos{\\left(\\theta \\right)} + 1, \\cos{\\left(\\theta \\right)}\\right) - 1 \\right)}\\right), 1 - \\max\\left(0, 1 - \\max\\left(0, \\operatorname{sign}{\\left(\\max\\left(1, 2 \\cos{\\left(\\theta \\right)} + 1, \\cos{\\left(\\theta \\right)}\\right) - 1 \\right)}\\right), \\min\\left(1 - \\max\\left(0, \\operatorname{sign}{\\left(- \\cos{\\left(\\theta \\right)} + \\max\\left(1, 2 \\cos{\\left(\\theta \\right)} + 1, \\cos{\\left(\\theta \\right)}\\right) \\right)}\\right), \\max\\left(1 - \\max\\left(0, 1 - \\max\\left(0, \\operatorname{sign}{\\left(\\max\\left(1, 2 \\cos{\\left(\\theta \\right)} + 1, \\cos{\\left(\\theta \\right)}\\right) - 1 \\right)}\\right)\\right), 1 - \\max\\left(0, 1 - \\max\\left(0, \\operatorname{sign}{\\left(\\max\\left(1, 2 \\cos{\\left(\\theta \\right)} + 1, \\cos{\\left(\\theta \\right)}\\right) - 1 \\right)}\\right), \\min\\left(1 - \\max\\left(0, 1 - \\max\\left(0, \\operatorname{sign}{\\left(\\max\\left(1, 2 \\cos{\\left(\\theta \\right)} + 1, \\cos{\\left(\\theta \\right)}\\right) - 1 \\right)}\\right)\\right), 1 - \\max\\left(0, \\operatorname{sign}{\\left(- \\cos{\\left(\\theta \\right)} + \\max\\left(1, 2 \\cos{\\left(\\theta \\right)} + 1, \\cos{\\left(\\theta \\right)}\\right) \\right)}\\right)\\right)\\right)\\right)\\right)\\right)\\right)}{2} + \\frac{1}{2}\\right) \\min\\left(1 - \\max\\left(0, \\operatorname{sign}{\\left(- 2 \\cos{\\left(\\theta \\right)} + \\max\\left(1, 2 \\cos{\\left(\\theta \\right)} + 1, \\cos{\\left(\\theta \\right)}\\right) - 1 \\right)}\\right), 1 - \\max\\left(0, 1 - \\max\\left(0, \\operatorname{sign}{\\left(\\max\\left(1, 2 \\cos{\\left(\\theta \\right)} + 1, \\cos{\\left(\\theta \\right)}\\right) - 1 \\right)}\\right), \\min\\left(1 - \\max\\left(0, \\operatorname{sign}{\\left(- \\cos{\\left(\\theta \\right)} + \\max\\left(1, 2 \\cos{\\left(\\theta \\right)} + 1, \\cos{\\left(\\theta \\right)}\\right) \\right)}\\right), \\max\\left(1 - \\max\\left(0, 1 - \\max\\left(0, \\operatorname{sign}{\\left(\\max\\left(1, 2 \\cos{\\left(\\theta \\right)} + 1, \\cos{\\left(\\theta \\right)}\\right) - 1 \\right)}\\right)\\right), 1 - \\max\\left(0, 1 - \\max\\left(0, \\operatorname{sign}{\\left(\\max\\left(1, 2 \\cos{\\left(\\theta \\right)} + 1, \\cos{\\left(\\theta \\right)}\\right) - 1 \\right)}\\right), \\min\\left(1 - \\max\\left(0, 1 - \\max\\left(0, \\operatorname{sign}{\\left(\\max\\left(1, 2 \\cos{\\left(\\theta \\right)} + 1, \\cos{\\left(\\theta \\right)}\\right) - 1 \\right)}\\right)\\right), 1 - \\max\\left(0, \\operatorname{sign}{\\left(- \\cos{\\left(\\theta \\right)} + \\max\\left(1, 2 \\cos{\\left(\\theta \\right)} + 1, \\cos{\\left(\\theta \\right)}\\right) \\right)}\\right)\\right)\\right)\\right)\\right)\\right)\\right)\\right)\\\\- 2 \\cdot \\left(\\frac{1}{2} - \\frac{\\min\\left(1 - \\max\\left(0, 1 - \\max\\left(0, \\operatorname{sign}{\\left(\\max\\left(1, 2 \\cos{\\left(\\theta \\right)} + 1, \\cos{\\left(\\theta \\right)}\\right) - 1 \\right)}\\right)\\right), 1 - \\max\\left(0, \\operatorname{sign}{\\left(- \\cos{\\left(\\theta \\right)} + \\max\\left(1, 2 \\cos{\\left(\\theta \\right)} + 1, \\cos{\\left(\\theta \\right)}\\right) \\right)}\\right)\\right)}{2}\\right) \\left(\\frac{2 \\cdot \\left(1 - \\max\\left(0, \\operatorname{sign}{\\left(\\max\\left(1, 2 \\cos{\\left(\\theta \\right)} + 1, \\cos{\\left(\\theta \\right)}\\right) - 1 \\right)}\\right)\\right) \\sin{\\left(\\theta \\right)}}{2 \\sqrt{\\max\\left(0, 2 - 2 \\cos{\\left(\\theta \\right)}\\right)} + 2 \\max\\left(0, \\operatorname{sign}{\\left(\\max\\left(1, 2 \\cos{\\left(\\theta \\right)} + 1, \\cos{\\left(\\theta \\right)}\\right) - 1 \\right)}\\right)} + \\left(\\frac{\\sqrt{\\max\\left(0, 2 \\cos{\\left(\\theta \\right)} + 2\\right)}}{2} - \\frac{\\min\\left(1 - \\max\\left(0, \\operatorname{sign}{\\left(- 2 \\cos{\\left(\\theta \\right)} + \\max\\left(1, 2 \\cos{\\left(\\theta \\right)} + 1, \\cos{\\left(\\theta \\right)}\\right) - 1 \\right)}\\right), 1 - \\max\\left(0, 1 - \\max\\left(0, \\operatorname{sign}{\\left(\\max\\left(1, 2 \\cos{\\left(\\theta \\right)} + 1, \\cos{\\left(\\theta \\right)}\\right) - 1 \\right)}\\right), \\min\\left(1 - \\max\\left(0, \\operatorname{sign}{\\left(- \\cos{\\left(\\theta \\right)} + \\max\\left(1, 2 \\cos{\\left(\\theta \\right)} + 1, \\cos{\\left(\\theta \\right)}\\right) \\right)}\\right), \\max\\left(1 - \\max\\left(0, 1 - \\max\\left(0, \\operatorname{sign}{\\left(\\max\\left(1, 2 \\cos{\\left(\\theta \\right)} + 1, \\cos{\\left(\\theta \\right)}\\right) - 1 \\right)}\\right)\\right), 1 - \\max\\left(0, 1 - \\max\\left(0, \\operatorname{sign}{\\left(\\max\\left(1, 2 \\cos{\\left(\\theta \\right)} + 1, \\cos{\\left(\\theta \\right)}\\right) - 1 \\right)}\\right), \\min\\left(1 - \\max\\left(0, 1 - \\max\\left(0, \\operatorname{sign}{\\left(\\max\\left(1, 2 \\cos{\\left(\\theta \\right)} + 1, \\cos{\\left(\\theta \\right)}\\right) - 1 \\right)}\\right)\\right), 1 - \\max\\left(0, \\operatorname{sign}{\\left(- \\cos{\\left(\\theta \\right)} + \\max\\left(1, 2 \\cos{\\left(\\theta \\right)} + 1, \\cos{\\left(\\theta \\right)}\\right) \\right)}\\right)\\right)\\right)\\right)\\right)\\right)\\right)}{2} + \\frac{1}{2}\\right) \\min\\left(1 - \\max\\left(0, \\operatorname{sign}{\\left(- 2 \\cos{\\left(\\theta \\right)} + \\max\\left(1, 2 \\cos{\\left(\\theta \\right)} + 1, \\cos{\\left(\\theta \\right)}\\right) - 1 \\right)}\\right), 1 - \\max\\left(0, 1 - \\max\\left(0, \\operatorname{sign}{\\left(\\max\\left(1, 2 \\cos{\\left(\\theta \\right)} + 1, \\cos{\\left(\\theta \\right)}\\right) - 1 \\right)}\\right), \\min\\left(1 - \\max\\left(0, \\operatorname{sign}{\\left(- \\cos{\\left(\\theta \\right)} + \\max\\left(1, 2 \\cos{\\left(\\theta \\right)} + 1, \\cos{\\left(\\theta \\right)}\\right) \\right)}\\right), \\max\\left(1 - \\max\\left(0, 1 - \\max\\left(0, \\operatorname{sign}{\\left(\\max\\left(1, 2 \\cos{\\left(\\theta \\right)} + 1, \\cos{\\left(\\theta \\right)}\\right) - 1 \\right)}\\right)\\right), 1 - \\max\\left(0, 1 - \\max\\left(0, \\operatorname{sign}{\\left(\\max\\left(1, 2 \\cos{\\left(\\theta \\right)} + 1, \\cos{\\left(\\theta \\right)}\\right) - 1 \\right)}\\right), \\min\\left(1 - \\max\\left(0, 1 - \\max\\left(0, \\operatorname{sign}{\\left(\\max\\left(1, 2 \\cos{\\left(\\theta \\right)} + 1, \\cos{\\left(\\theta \\right)}\\right) - 1 \\right)}\\right)\\right), 1 - \\max\\left(0, \\operatorname{sign}{\\left(- \\cos{\\left(\\theta \\right)} + \\max\\left(1, 2 \\cos{\\left(\\theta \\right)} + 1, \\cos{\\left(\\theta \\right)}\\right) \\right)}\\right)\\right)\\right)\\right)\\right)\\right)\\right)\\right) \\min\\left(1 - \\max\\left(0, 1 - \\max\\left(0, \\operatorname{sign}{\\left(\\max\\left(1, 2 \\cos{\\left(\\theta \\right)} + 1, \\cos{\\left(\\theta \\right)}\\right) - 1 \\right)}\\right)\\right), 1 - \\max\\left(0, \\operatorname{sign}{\\left(- \\cos{\\left(\\theta \\right)} + \\max\\left(1, 2 \\cos{\\left(\\theta \\right)} + 1, \\cos{\\left(\\theta \\right)}\\right) \\right)}\\right)\\right) + \\left(\\frac{1}{2} - \\frac{\\min\\left(1 - \\max\\left(0, \\operatorname{sign}{\\left(- \\cos{\\left(\\theta \\right)} + \\max\\left(1, 2 \\cos{\\left(\\theta \\right)} + 1, \\cos{\\left(\\theta \\right)}\\right) \\right)}\\right), 1 - \\max\\left(0, 1 - \\max\\left(0, \\operatorname{sign}{\\left(\\max\\left(1, 2 \\cos{\\left(\\theta \\right)} + 1, \\cos{\\left(\\theta \\right)}\\right) - 1 \\right)}\\right), \\min\\left(1 - \\max\\left(0, 1 - \\max\\left(0, \\operatorname{sign}{\\left(\\max\\left(1, 2 \\cos{\\left(\\theta \\right)} + 1, \\cos{\\left(\\theta \\right)}\\right) - 1 \\right)}\\right)\\right), 1 - \\max\\left(0, \\operatorname{sign}{\\left(- \\cos{\\left(\\theta \\right)} + \\max\\left(1, 2 \\cos{\\left(\\theta \\right)} + 1, \\cos{\\left(\\theta \\right)}\\right) \\right)}\\right)\\right)\\right)\\right)}{2}\\right) \\left(2 \\cdot \\left(1 - \\max\\left(0, \\operatorname{sign}{\\left(\\max\\left(1, 2 \\cos{\\left(\\theta \\right)} + 1, \\cos{\\left(\\theta \\right)}\\right) - 1 \\right)}\\right)\\right) \\left(\\frac{\\sqrt{\\max\\left(0, 2 - 2 \\cos{\\left(\\theta \\right)}\\right)}}{2} + \\frac{\\max\\left(0, \\operatorname{sign}{\\left(\\max\\left(1, 2 \\cos{\\left(\\theta \\right)} + 1, \\cos{\\left(\\theta \\right)}\\right) - 1 \\right)}\\right)}{2}\\right) + \\frac{4 \\sin{\\left(\\theta \\right)} \\min\\left(1 - \\max\\left(0, \\operatorname{sign}{\\left(- 2 \\cos{\\left(\\theta \\right)} + \\max\\left(1, 2 \\cos{\\left(\\theta \\right)} + 1, \\cos{\\left(\\theta \\right)}\\right) - 1 \\right)}\\right), 1 - \\max\\left(0, 1 - \\max\\left(0, \\operatorname{sign}{\\left(\\max\\left(1, 2 \\cos{\\left(\\theta \\right)} + 1, \\cos{\\left(\\theta \\right)}\\right) - 1 \\right)}\\right), \\min\\left(1 - \\max\\left(0, \\operatorname{sign}{\\left(- \\cos{\\left(\\theta \\right)} + \\max\\left(1, 2 \\cos{\\left(\\theta \\right)} + 1, \\cos{\\left(\\theta \\right)}\\right) \\right)}\\right), \\max\\left(1 - \\max\\left(0, 1 - \\max\\left(0, \\operatorname{sign}{\\left(\\max\\left(1, 2 \\cos{\\left(\\theta \\right)} + 1, \\cos{\\left(\\theta \\right)}\\right) - 1 \\right)}\\right)\\right), 1 - \\max\\left(0, 1 - \\max\\left(0, \\operatorname{sign}{\\left(\\max\\left(1, 2 \\cos{\\left(\\theta \\right)} + 1, \\cos{\\left(\\theta \\right)}\\right) - 1 \\right)}\\right), \\min\\left(1 - \\max\\left(0, 1 - \\max\\left(0, \\operatorname{sign}{\\left(\\max\\left(1, 2 \\cos{\\left(\\theta \\right)} + 1, \\cos{\\left(\\theta \\right)}\\right) - 1 \\right)}\\right)\\right), 1 - \\max\\left(0, \\operatorname{sign}{\\left(- \\cos{\\left(\\theta \\right)} + \\max\\left(1, 2 \\cos{\\left(\\theta \\right)} + 1, \\cos{\\left(\\theta \\right)}\\right) \\right)}\\right)\\right)\\right)\\right)\\right)\\right)\\right)}{2 \\sqrt{\\max\\left(0, 2 \\cos{\\left(\\theta \\right)} + 2\\right)} - 2 \\min\\left(1 - \\max\\left(0, \\operatorname{sign}{\\left(- 2 \\cos{\\left(\\theta \\right)} + \\max\\left(1, 2 \\cos{\\left(\\theta \\right)} + 1, \\cos{\\left(\\theta \\right)}\\right) - 1 \\right)}\\right), 1 - \\max\\left(0, 1 - \\max\\left(0, \\operatorname{sign}{\\left(\\max\\left(1, 2 \\cos{\\left(\\theta \\right)} + 1, \\cos{\\left(\\theta \\right)}\\right) - 1 \\right)}\\right), \\min\\left(1 - \\max\\left(0, \\operatorname{sign}{\\left(- \\cos{\\left(\\theta \\right)} + \\max\\left(1, 2 \\cos{\\left(\\theta \\right)} + 1, \\cos{\\left(\\theta \\right)}\\right) \\right)}\\right), \\max\\left(1 - \\max\\left(0, 1 - \\max\\left(0, \\operatorname{sign}{\\left(\\max\\left(1, 2 \\cos{\\left(\\theta \\right)} + 1, \\cos{\\left(\\theta \\right)}\\right) - 1 \\right)}\\right)\\right), 1 - \\max\\left(0, 1 - \\max\\left(0, \\operatorname{sign}{\\left(\\max\\left(1, 2 \\cos{\\left(\\theta \\right)} + 1, \\cos{\\left(\\theta \\right)}\\right) - 1 \\right)}\\right), \\min\\left(1 - \\max\\left(0, 1 - \\max\\left(0, \\operatorname{sign}{\\left(\\max\\left(1, 2 \\cos{\\left(\\theta \\right)} + 1, \\cos{\\left(\\theta \\right)}\\right) - 1 \\right)}\\right)\\right), 1 - \\max\\left(0, \\operatorname{sign}{\\left(- \\cos{\\left(\\theta \\right)} + \\max\\left(1, 2 \\cos{\\left(\\theta \\right)} + 1, \\cos{\\left(\\theta \\right)}\\right) \\right)}\\right)\\right)\\right)\\right)\\right)\\right)\\right) + 2}\\right) \\min\\left(1 - \\max\\left(0, \\operatorname{sign}{\\left(- \\cos{\\left(\\theta \\right)} + \\max\\left(1, 2 \\cos{\\left(\\theta \\right)} + 1, \\cos{\\left(\\theta \\right)}\\right) \\right)}\\right), 1 - \\max\\left(0, 1 - \\max\\left(0, \\operatorname{sign}{\\left(\\max\\left(1, 2 \\cos{\\left(\\theta \\right)} + 1, \\cos{\\left(\\theta \\right)}\\right) - 1 \\right)}\\right), \\min\\left(1 - \\max\\left(0, 1 - \\max\\left(0, \\operatorname{sign}{\\left(\\max\\left(1, 2 \\cos{\\left(\\theta \\right)} + 1, \\cos{\\left(\\theta \\right)}\\right) - 1 \\right)}\\right)\\right), 1 - \\max\\left(0, \\operatorname{sign}{\\left(- \\cos{\\left(\\theta \\right)} + \\max\\left(1, 2 \\cos{\\left(\\theta \\right)} + 1, \\cos{\\left(\\theta \\right)}\\right) \\right)}\\right)\\right)\\right)\\right) & 2 \\cdot \\left(\\frac{1}{2} - \\frac{\\min\\left(1 - \\max\\left(0, 1 - \\max\\left(0, \\operatorname{sign}{\\left(\\max\\left(1, 2 \\cos{\\left(\\theta \\right)} + 1, \\cos{\\left(\\theta \\right)}\\right) - 1 \\right)}\\right)\\right), 1 - \\max\\left(0, \\operatorname{sign}{\\left(- \\cos{\\left(\\theta \\right)} + \\max\\left(1, 2 \\cos{\\left(\\theta \\right)} + 1, \\cos{\\left(\\theta \\right)}\\right) \\right)}\\right)\\right)}{2}\\right) \\left(\\frac{1}{2} - \\frac{\\min\\left(1 - \\max\\left(0, \\operatorname{sign}{\\left(- \\cos{\\left(\\theta \\right)} + \\max\\left(1, 2 \\cos{\\left(\\theta \\right)} + 1, \\cos{\\left(\\theta \\right)}\\right) \\right)}\\right), 1 - \\max\\left(0, 1 - \\max\\left(0, \\operatorname{sign}{\\left(\\max\\left(1, 2 \\cos{\\left(\\theta \\right)} + 1, \\cos{\\left(\\theta \\right)}\\right) - 1 \\right)}\\right), \\min\\left(1 - \\max\\left(0, 1 - \\max\\left(0, \\operatorname{sign}{\\left(\\max\\left(1, 2 \\cos{\\left(\\theta \\right)} + 1, \\cos{\\left(\\theta \\right)}\\right) - 1 \\right)}\\right)\\right), 1 - \\max\\left(0, \\operatorname{sign}{\\left(- \\cos{\\left(\\theta \\right)} + \\max\\left(1, 2 \\cos{\\left(\\theta \\right)} + 1, \\cos{\\left(\\theta \\right)}\\right) \\right)}\\right)\\right)\\right)\\right)}{2}\\right) \\min\\left(1 - \\max\\left(0, 1 - \\max\\left(0, \\operatorname{sign}{\\left(\\max\\left(1, 2 \\cos{\\left(\\theta \\right)} + 1, \\cos{\\left(\\theta \\right)}\\right) - 1 \\right)}\\right)\\right), 1 - \\max\\left(0, \\operatorname{sign}{\\left(- \\cos{\\left(\\theta \\right)} + \\max\\left(1, 2 \\cos{\\left(\\theta \\right)} + 1, \\cos{\\left(\\theta \\right)}\\right) \\right)}\\right)\\right) \\min\\left(1 - \\max\\left(0, \\operatorname{sign}{\\left(- \\cos{\\left(\\theta \\right)} + \\max\\left(1, 2 \\cos{\\left(\\theta \\right)} + 1, \\cos{\\left(\\theta \\right)}\\right) \\right)}\\right), 1 - \\max\\left(0, 1 - \\max\\left(0, \\operatorname{sign}{\\left(\\max\\left(1, 2 \\cos{\\left(\\theta \\right)} + 1, \\cos{\\left(\\theta \\right)}\\right) - 1 \\right)}\\right), \\min\\left(1 - \\max\\left(0, 1 - \\max\\left(0, \\operatorname{sign}{\\left(\\max\\left(1, 2 \\cos{\\left(\\theta \\right)} + 1, \\cos{\\left(\\theta \\right)}\\right) - 1 \\right)}\\right)\\right), 1 - \\max\\left(0, \\operatorname{sign}{\\left(- \\cos{\\left(\\theta \\right)} + \\max\\left(1, 2 \\cos{\\left(\\theta \\right)} + 1, \\cos{\\left(\\theta \\right)}\\right) \\right)}\\right)\\right)\\right)\\right) + \\left(2 \\cdot \\left(1 - \\max\\left(0, \\operatorname{sign}{\\left(\\max\\left(1, 2 \\cos{\\left(\\theta \\right)} + 1, \\cos{\\left(\\theta \\right)}\\right) - 1 \\right)}\\right)\\right) \\left(\\frac{\\sqrt{\\max\\left(0, 2 - 2 \\cos{\\left(\\theta \\right)}\\right)}}{2} + \\frac{\\max\\left(0, \\operatorname{sign}{\\left(\\max\\left(1, 2 \\cos{\\left(\\theta \\right)} + 1, \\cos{\\left(\\theta \\right)}\\right) - 1 \\right)}\\right)}{2}\\right) + \\frac{4 \\sin{\\left(\\theta \\right)} \\min\\left(1 - \\max\\left(0, \\operatorname{sign}{\\left(- 2 \\cos{\\left(\\theta \\right)} + \\max\\left(1, 2 \\cos{\\left(\\theta \\right)} + 1, \\cos{\\left(\\theta \\right)}\\right) - 1 \\right)}\\right), 1 - \\max\\left(0, 1 - \\max\\left(0, \\operatorname{sign}{\\left(\\max\\left(1, 2 \\cos{\\left(\\theta \\right)} + 1, \\cos{\\left(\\theta \\right)}\\right) - 1 \\right)}\\right), \\min\\left(1 - \\max\\left(0, \\operatorname{sign}{\\left(- \\cos{\\left(\\theta \\right)} + \\max\\left(1, 2 \\cos{\\left(\\theta \\right)} + 1, \\cos{\\left(\\theta \\right)}\\right) \\right)}\\right), \\max\\left(1 - \\max\\left(0, 1 - \\max\\left(0, \\operatorname{sign}{\\left(\\max\\left(1, 2 \\cos{\\left(\\theta \\right)} + 1, \\cos{\\left(\\theta \\right)}\\right) - 1 \\right)}\\right)\\right), 1 - \\max\\left(0, 1 - \\max\\left(0, \\operatorname{sign}{\\left(\\max\\left(1, 2 \\cos{\\left(\\theta \\right)} + 1, \\cos{\\left(\\theta \\right)}\\right) - 1 \\right)}\\right), \\min\\left(1 - \\max\\left(0, 1 - \\max\\left(0, \\operatorname{sign}{\\left(\\max\\left(1, 2 \\cos{\\left(\\theta \\right)} + 1, \\cos{\\left(\\theta \\right)}\\right) - 1 \\right)}\\right)\\right), 1 - \\max\\left(0, \\operatorname{sign}{\\left(- \\cos{\\left(\\theta \\right)} + \\max\\left(1, 2 \\cos{\\left(\\theta \\right)} + 1, \\cos{\\left(\\theta \\right)}\\right) \\right)}\\right)\\right)\\right)\\right)\\right)\\right)\\right)}{2 \\sqrt{\\max\\left(0, 2 \\cos{\\left(\\theta \\right)} + 2\\right)} - 2 \\min\\left(1 - \\max\\left(0, \\operatorname{sign}{\\left(- 2 \\cos{\\left(\\theta \\right)} + \\max\\left(1, 2 \\cos{\\left(\\theta \\right)} + 1, \\cos{\\left(\\theta \\right)}\\right) - 1 \\right)}\\right), 1 - \\max\\left(0, 1 - \\max\\left(0, \\operatorname{sign}{\\left(\\max\\left(1, 2 \\cos{\\left(\\theta \\right)} + 1, \\cos{\\left(\\theta \\right)}\\right) - 1 \\right)}\\right), \\min\\left(1 - \\max\\left(0, \\operatorname{sign}{\\left(- \\cos{\\left(\\theta \\right)} + \\max\\left(1, 2 \\cos{\\left(\\theta \\right)} + 1, \\cos{\\left(\\theta \\right)}\\right) \\right)}\\right), \\max\\left(1 - \\max\\left(0, 1 - \\max\\left(0, \\operatorname{sign}{\\left(\\max\\left(1, 2 \\cos{\\left(\\theta \\right)} + 1, \\cos{\\left(\\theta \\right)}\\right) - 1 \\right)}\\right)\\right), 1 - \\max\\left(0, 1 - \\max\\left(0, \\operatorname{sign}{\\left(\\max\\left(1, 2 \\cos{\\left(\\theta \\right)} + 1, \\cos{\\left(\\theta \\right)}\\right) - 1 \\right)}\\right), \\min\\left(1 - \\max\\left(0, 1 - \\max\\left(0, \\operatorname{sign}{\\left(\\max\\left(1, 2 \\cos{\\left(\\theta \\right)} + 1, \\cos{\\left(\\theta \\right)}\\right) - 1 \\right)}\\right)\\right), 1 - \\max\\left(0, \\operatorname{sign}{\\left(- \\cos{\\left(\\theta \\right)} + \\max\\left(1, 2 \\cos{\\left(\\theta \\right)} + 1, \\cos{\\left(\\theta \\right)}\\right) \\right)}\\right)\\right)\\right)\\right)\\right)\\right)\\right) + 2}\\right) \\left(\\frac{2 \\cdot \\left(1 - \\max\\left(0, \\operatorname{sign}{\\left(\\max\\left(1, 2 \\cos{\\left(\\theta \\right)} + 1, \\cos{\\left(\\theta \\right)}\\right) - 1 \\right)}\\right)\\right) \\sin{\\left(\\theta \\right)}}{2 \\sqrt{\\max\\left(0, 2 - 2 \\cos{\\left(\\theta \\right)}\\right)} + 2 \\max\\left(0, \\operatorname{sign}{\\left(\\max\\left(1, 2 \\cos{\\left(\\theta \\right)} + 1, \\cos{\\left(\\theta \\right)}\\right) - 1 \\right)}\\right)} + \\left(\\frac{\\sqrt{\\max\\left(0, 2 \\cos{\\left(\\theta \\right)} + 2\\right)}}{2} - \\frac{\\min\\left(1 - \\max\\left(0, \\operatorname{sign}{\\left(- 2 \\cos{\\left(\\theta \\right)} + \\max\\left(1, 2 \\cos{\\left(\\theta \\right)} + 1, \\cos{\\left(\\theta \\right)}\\right) - 1 \\right)}\\right), 1 - \\max\\left(0, 1 - \\max\\left(0, \\operatorname{sign}{\\left(\\max\\left(1, 2 \\cos{\\left(\\theta \\right)} + 1, \\cos{\\left(\\theta \\right)}\\right) - 1 \\right)}\\right), \\min\\left(1 - \\max\\left(0, \\operatorname{sign}{\\left(- \\cos{\\left(\\theta \\right)} + \\max\\left(1, 2 \\cos{\\left(\\theta \\right)} + 1, \\cos{\\left(\\theta \\right)}\\right) \\right)}\\right), \\max\\left(1 - \\max\\left(0, 1 - \\max\\left(0, \\operatorname{sign}{\\left(\\max\\left(1, 2 \\cos{\\left(\\theta \\right)} + 1, \\cos{\\left(\\theta \\right)}\\right) - 1 \\right)}\\right)\\right), 1 - \\max\\left(0, 1 - \\max\\left(0, \\operatorname{sign}{\\left(\\max\\left(1, 2 \\cos{\\left(\\theta \\right)} + 1, \\cos{\\left(\\theta \\right)}\\right) - 1 \\right)}\\right), \\min\\left(1 - \\max\\left(0, 1 - \\max\\left(0, \\operatorname{sign}{\\left(\\max\\left(1, 2 \\cos{\\left(\\theta \\right)} + 1, \\cos{\\left(\\theta \\right)}\\right) - 1 \\right)}\\right)\\right), 1 - \\max\\left(0, \\operatorname{sign}{\\left(- \\cos{\\left(\\theta \\right)} + \\max\\left(1, 2 \\cos{\\left(\\theta \\right)} + 1, \\cos{\\left(\\theta \\right)}\\right) \\right)}\\right)\\right)\\right)\\right)\\right)\\right)\\right)}{2} + \\frac{1}{2}\\right) \\min\\left(1 - \\max\\left(0, \\operatorname{sign}{\\left(- 2 \\cos{\\left(\\theta \\right)} + \\max\\left(1, 2 \\cos{\\left(\\theta \\right)} + 1, \\cos{\\left(\\theta \\right)}\\right) - 1 \\right)}\\right), 1 - \\max\\left(0, 1 - \\max\\left(0, \\operatorname{sign}{\\left(\\max\\left(1, 2 \\cos{\\left(\\theta \\right)} + 1, \\cos{\\left(\\theta \\right)}\\right) - 1 \\right)}\\right), \\min\\left(1 - \\max\\left(0, \\operatorname{sign}{\\left(- \\cos{\\left(\\theta \\right)} + \\max\\left(1, 2 \\cos{\\left(\\theta \\right)} + 1, \\cos{\\left(\\theta \\right)}\\right) \\right)}\\right), \\max\\left(1 - \\max\\left(0, 1 - \\max\\left(0, \\operatorname{sign}{\\left(\\max\\left(1, 2 \\cos{\\left(\\theta \\right)} + 1, \\cos{\\left(\\theta \\right)}\\right) - 1 \\right)}\\right)\\right), 1 - \\max\\left(0, 1 - \\max\\left(0, \\operatorname{sign}{\\left(\\max\\left(1, 2 \\cos{\\left(\\theta \\right)} + 1, \\cos{\\left(\\theta \\right)}\\right) - 1 \\right)}\\right), \\min\\left(1 - \\max\\left(0, 1 - \\max\\left(0, \\operatorname{sign}{\\left(\\max\\left(1, 2 \\cos{\\left(\\theta \\right)} + 1, \\cos{\\left(\\theta \\right)}\\right) - 1 \\right)}\\right)\\right), 1 - \\max\\left(0, \\operatorname{sign}{\\left(- \\cos{\\left(\\theta \\right)} + \\max\\left(1, 2 \\cos{\\left(\\theta \\right)} + 1, \\cos{\\left(\\theta \\right)}\\right) \\right)}\\right)\\right)\\right)\\right)\\right)\\right)\\right)\\right) & - 2 \\left(\\frac{1}{2} - \\frac{\\min\\left(1 - \\max\\left(0, 1 - \\max\\left(0, \\operatorname{sign}{\\left(\\max\\left(1, 2 \\cos{\\left(\\theta \\right)} + 1, \\cos{\\left(\\theta \\right)}\\right) - 1 \\right)}\\right)\\right), 1 - \\max\\left(0, \\operatorname{sign}{\\left(- \\cos{\\left(\\theta \\right)} + \\max\\left(1, 2 \\cos{\\left(\\theta \\right)} + 1, \\cos{\\left(\\theta \\right)}\\right) \\right)}\\right)\\right)}{2}\\right)^{2} \\min\\left(1 - \\max\\left(0, 1 - \\max\\left(0, \\operatorname{sign}{\\left(\\max\\left(1, 2 \\cos{\\left(\\theta \\right)} + 1, \\cos{\\left(\\theta \\right)}\\right) - 1 \\right)}\\right)\\right), 1 - \\max\\left(0, \\operatorname{sign}{\\left(- \\cos{\\left(\\theta \\right)} + \\max\\left(1, 2 \\cos{\\left(\\theta \\right)} + 1, \\cos{\\left(\\theta \\right)}\\right) \\right)}\\right)\\right)^{2} - 2 \\left(\\left(1 - \\max\\left(0, \\operatorname{sign}{\\left(\\max\\left(1, 2 \\cos{\\left(\\theta \\right)} + 1, \\cos{\\left(\\theta \\right)}\\right) - 1 \\right)}\\right)\\right) \\left(\\frac{\\sqrt{\\max\\left(0, 2 - 2 \\cos{\\left(\\theta \\right)}\\right)}}{2} + \\frac{\\max\\left(0, \\operatorname{sign}{\\left(\\max\\left(1, 2 \\cos{\\left(\\theta \\right)} + 1, \\cos{\\left(\\theta \\right)}\\right) - 1 \\right)}\\right)}{2}\\right) + \\frac{2 \\sin{\\left(\\theta \\right)} \\min\\left(1 - \\max\\left(0, \\operatorname{sign}{\\left(- 2 \\cos{\\left(\\theta \\right)} + \\max\\left(1, 2 \\cos{\\left(\\theta \\right)} + 1, \\cos{\\left(\\theta \\right)}\\right) - 1 \\right)}\\right), 1 - \\max\\left(0, 1 - \\max\\left(0, \\operatorname{sign}{\\left(\\max\\left(1, 2 \\cos{\\left(\\theta \\right)} + 1, \\cos{\\left(\\theta \\right)}\\right) - 1 \\right)}\\right), \\min\\left(1 - \\max\\left(0, \\operatorname{sign}{\\left(- \\cos{\\left(\\theta \\right)} + \\max\\left(1, 2 \\cos{\\left(\\theta \\right)} + 1, \\cos{\\left(\\theta \\right)}\\right) \\right)}\\right), \\max\\left(1 - \\max\\left(0, 1 - \\max\\left(0, \\operatorname{sign}{\\left(\\max\\left(1, 2 \\cos{\\left(\\theta \\right)} + 1, \\cos{\\left(\\theta \\right)}\\right) - 1 \\right)}\\right)\\right), 1 - \\max\\left(0, 1 - \\max\\left(0, \\operatorname{sign}{\\left(\\max\\left(1, 2 \\cos{\\left(\\theta \\right)} + 1, \\cos{\\left(\\theta \\right)}\\right) - 1 \\right)}\\right), \\min\\left(1 - \\max\\left(0, 1 - \\max\\left(0, \\operatorname{sign}{\\left(\\max\\left(1, 2 \\cos{\\left(\\theta \\right)} + 1, \\cos{\\left(\\theta \\right)}\\right) - 1 \\right)}\\right)\\right), 1 - \\max\\left(0, \\operatorname{sign}{\\left(- \\cos{\\left(\\theta \\right)} + \\max\\left(1, 2 \\cos{\\left(\\theta \\right)} + 1, \\cos{\\left(\\theta \\right)}\\right) \\right)}\\right)\\right)\\right)\\right)\\right)\\right)\\right)}{2 \\sqrt{\\max\\left(0, 2 \\cos{\\left(\\theta \\right)} + 2\\right)} - 2 \\min\\left(1 - \\max\\left(0, \\operatorname{sign}{\\left(- 2 \\cos{\\left(\\theta \\right)} + \\max\\left(1, 2 \\cos{\\left(\\theta \\right)} + 1, \\cos{\\left(\\theta \\right)}\\right) - 1 \\right)}\\right), 1 - \\max\\left(0, 1 - \\max\\left(0, \\operatorname{sign}{\\left(\\max\\left(1, 2 \\cos{\\left(\\theta \\right)} + 1, \\cos{\\left(\\theta \\right)}\\right) - 1 \\right)}\\right), \\min\\left(1 - \\max\\left(0, \\operatorname{sign}{\\left(- \\cos{\\left(\\theta \\right)} + \\max\\left(1, 2 \\cos{\\left(\\theta \\right)} + 1, \\cos{\\left(\\theta \\right)}\\right) \\right)}\\right), \\max\\left(1 - \\max\\left(0, 1 - \\max\\left(0, \\operatorname{sign}{\\left(\\max\\left(1, 2 \\cos{\\left(\\theta \\right)} + 1, \\cos{\\left(\\theta \\right)}\\right) - 1 \\right)}\\right)\\right), 1 - \\max\\left(0, 1 - \\max\\left(0, \\operatorname{sign}{\\left(\\max\\left(1, 2 \\cos{\\left(\\theta \\right)} + 1, \\cos{\\left(\\theta \\right)}\\right) - 1 \\right)}\\right), \\min\\left(1 - \\max\\left(0, 1 - \\max\\left(0, \\operatorname{sign}{\\left(\\max\\left(1, 2 \\cos{\\left(\\theta \\right)} + 1, \\cos{\\left(\\theta \\right)}\\right) - 1 \\right)}\\right)\\right), 1 - \\max\\left(0, \\operatorname{sign}{\\left(- \\cos{\\left(\\theta \\right)} + \\max\\left(1, 2 \\cos{\\left(\\theta \\right)} + 1, \\cos{\\left(\\theta \\right)}\\right) \\right)}\\right)\\right)\\right)\\right)\\right)\\right)\\right) + 2}\\right)^{2} + 1\\end{matrix}\\right]$"
      ],
      "text/plain": [
       "⎡                                                                                                                                                     \n",
       "⎢                                                                                                                                                     \n",
       "⎢                                                                                                                                                     \n",
       "⎢                                                                                                                                                     \n",
       "⎢                                                                                                                                                     \n",
       "⎢                                                                                                                                                     \n",
       "⎢                                                                                                                                                     \n",
       "⎢                                                                                                                                                     \n",
       "⎢ ⎛1   Min(1 - Max(0, 1 - Max(0, sign(Max(1, 2*cos(theta) + 1, cos(theta)) - 1))), 1 - Max(0, sign(-cos(theta) + Max(1, 2*cos(theta) + 1, cos(theta)))\n",
       "⎢ ⎜─ - ───────────────────────────────────────────────────────────────────────────────────────────────────────────────────────────────────────────────\n",
       "⎢ ⎝2                                                                           2                                                                      \n",
       "⎢                                                                                                                                                     \n",
       "⎢                                                                                                                                                     \n",
       "⎢                                                                                                                                                     \n",
       "⎢                                                                                                                                                     \n",
       "⎢    ⎛1   Min(1 - Max(0, 1 - Max(0, sign(Max(1, 2*cos(theta) + 1, cos(theta)) - 1))), 1 - Max(0, sign(-cos(theta) + Max(1, 2*cos(theta) + 1, cos(theta\n",
       "⎢- 2⋅⎜─ - ────────────────────────────────────────────────────────────────────────────────────────────────────────────────────────────────────────────\n",
       "⎢    ⎝2                                                                           2                                                                   \n",
       "⎣                                                                                                                                                     \n",
       "\n",
       "                                                                                                                                                      \n",
       "                                                                                                                                                      \n",
       "                                                                                                                                                      \n",
       "                                                                                                                                                      \n",
       "                                                                                                                                                      \n",
       "                                                                                                                                                      \n",
       "                                                                                                                                                      \n",
       "    ⎛                                                               ⎛  __________________________                                                     \n",
       "))⎞ ⎜                                                               ⎜╲╱ Max(0, 2 - 2*cos(theta))    Max(0, sign(Max(1, 2*cos(theta) + 1, cos(theta)) -\n",
       "──⎟⋅⎜2⋅(1 - Max(0, sign(Max(1, 2*cos(theta) + 1, cos(theta)) - 1)))⋅⎜──────────────────────────── + ──────────────────────────────────────────────────\n",
       "  ⎠ ⎜                                                               ⎝             2                                           2                       \n",
       "    ⎝                                                                                                                                                 \n",
       "                                                                                                                                                      \n",
       "                                                                                                                                                      \n",
       "       ⎛                                                                                            ⎛  __________________________                     \n",
       ")))))⎞ ⎜          2⋅(1 - Max(0, sign(Max(1, 2*cos(theta) + 1, cos(theta)) - 1)))⋅sin(θ)             ⎜╲╱ Max(0, 2*cos(theta) + 2)    Min(1 - Max(0, sig\n",
       "─────⎟⋅⎜───────────────────────────────────────────────────────────────────────────────────────── + ⎜──────────────────────────── - ──────────────────\n",
       "     ⎠ ⎜    __________________________                                                              ⎝             2                                   \n",
       "       ⎝2⋅╲╱ Max(0, 2 - 2*cos(theta))  + 2⋅Max(0, sign(Max(1, 2*cos(theta) + 1, cos(theta)) - 1))                                                     \n",
       "\n",
       "                                                                                                                                                      \n",
       "                                                                                                                                                      \n",
       "                                                                                                                                                      \n",
       "                                                                                                                                                      \n",
       "                                                                                                                                                      \n",
       "                                                                                                                                                      \n",
       "                                                                                                                                                      \n",
       "    ⎞                                                                                                                                                 \n",
       " 1))⎟                  4⋅sin(θ)⋅Min(1 - Max(0, sign(-2*cos(theta) + Max(1, 2*cos(theta) + 1, cos(theta)) - 1)), 1 - Max(0, 1 - Max(0, sign(Max(1, 2*co\n",
       "────⎟ + ──────────────────────────────────────────────────────────────────────────────────────────────────────────────────────────────────────────────\n",
       "    ⎠       __________________________                                                                                                                \n",
       "        2⋅╲╱ Max(0, 2*cos(theta) + 2)  - 2⋅Min(1 - Max(0, sign(-2*cos(theta) + Max(1, 2*cos(theta) + 1, cos(theta)) - 1)), 1 - Max(0, 1 - Max(0, sign(\n",
       "                                                                                                                                                      \n",
       "                                                                                                                                                      \n",
       "                                                                                                                                                      \n",
       "n(-2*cos(theta) + Max(1, 2*cos(theta) + 1, cos(theta)) - 1)), 1 - Max(0, 1 - Max(0, sign(Max(1, 2*cos(theta) + 1, cos(theta)) - 1)), Min(1 - Max(0, si\n",
       "──────────────────────────────────────────────────────────────────────────────────────────────────────────────────────────────────────────────────────\n",
       "                                                                                                                                                      \n",
       "                                                                                                                                                      \n",
       "\n",
       "                                                                                                                                                      \n",
       "                                                                                                                                                      \n",
       "                                                                                                                                                      \n",
       "                                                                                                                                                      \n",
       "                                                                                                                                                      \n",
       "                                                                                                                                                      \n",
       "                                                                                                                                                      \n",
       "                                                                                                                                                      \n",
       "s(theta) + 1, cos(theta)) - 1)), Min(1 - Max(0, sign(-cos(theta) + Max(1, 2*cos(theta) + 1, cos(theta)))), Max(1 - Max(0, 1 - Max(0, sign(Max(1, 2*cos\n",
       "──────────────────────────────────────────────────────────────────────────────────────────────────────────────────────────────────────────────────────\n",
       "                                                                                                                                                      \n",
       "Max(1, 2*cos(theta) + 1, cos(theta)) - 1)), Min(1 - Max(0, sign(-cos(theta) + Max(1, 2*cos(theta) + 1, cos(theta)))), Max(1 - Max(0, 1 - Max(0, sign(M\n",
       "                                                                                                                                                      \n",
       "                                                                                                                                                      \n",
       "                                                                                                                                                      \n",
       "gn(-cos(theta) + Max(1, 2*cos(theta) + 1, cos(theta)))), Max(1 - Max(0, 1 - Max(0, sign(Max(1, 2*cos(theta) + 1, cos(theta)) - 1))), 1 - Max(0, 1 - Ma\n",
       "──────────────────────────────────────────────────────────────────────────────────────────────────────────────────────────────────────────────────────\n",
       "                                                                                            2                                                         \n",
       "                                                                                                                                                      \n",
       "\n",
       "                                                                                                                                                      \n",
       "                                                                                                                                                      \n",
       "                                                                                                                                                      \n",
       "                                                                                                                                                      \n",
       "                                                                                                                                                      \n",
       "                                                                                                                                                      \n",
       "                                                                                                                                                      \n",
       "                                                                                                                                                      \n",
       "(theta) + 1, cos(theta)) - 1))), 1 - Max(0, 1 - Max(0, sign(Max(1, 2*cos(theta) + 1, cos(theta)) - 1)), Min(1 - Max(0, 1 - Max(0, sign(Max(1, 2*cos(th\n",
       "──────────────────────────────────────────────────────────────────────────────────────────────────────────────────────────────────────────────────────\n",
       "                                                                                                                                                      \n",
       "ax(1, 2*cos(theta) + 1, cos(theta)) - 1))), 1 - Max(0, 1 - Max(0, sign(Max(1, 2*cos(theta) + 1, cos(theta)) - 1)), Min(1 - Max(0, 1 - Max(0, sign(Max(\n",
       "                                                                                                                                                      \n",
       "                                                                                                                                                      \n",
       "                                                                                                                                                      \n",
       "x(0, sign(Max(1, 2*cos(theta) + 1, cos(theta)) - 1)), Min(1 - Max(0, 1 - Max(0, sign(Max(1, 2*cos(theta) + 1, cos(theta)) - 1))), 1 - Max(0, sign(-cos\n",
       "──────────────────────────────────────────────────────────────────────────────────────────────────────────────────────────────────────────────────────\n",
       "                                                                                                                                                      \n",
       "                                                                                                                                                      \n",
       "\n",
       "                                                                                                                                                      \n",
       "                                                                                                                                                      \n",
       "                                                                                                                                                      \n",
       "                                                                                                                                                      \n",
       "                                                                                                                                                      \n",
       "                                                                                                                                                      \n",
       "                                                                                                                                                      \n",
       "                                                                                                                       ⎞                              \n",
       "eta) + 1, cos(theta)) - 1))), 1 - Max(0, sign(-cos(theta) + Max(1, 2*cos(theta) + 1, cos(theta))))))))))               ⎟                              \n",
       "───────────────────────────────────────────────────────────────────────────────────────────────────────────────────────⎟⋅Min(1 - Max(0, 1 - Max(0, sig\n",
       "                                                                                                                       ⎟                              \n",
       "1, 2*cos(theta) + 1, cos(theta)) - 1))), 1 - Max(0, sign(-cos(theta) + Max(1, 2*cos(theta) + 1, cos(theta)))))))))) + 2⎠                              \n",
       "                                                                                                                                                      \n",
       "                                                                                                                                                      \n",
       "                                                          ⎞                                                                                           \n",
       "(theta) + Max(1, 2*cos(theta) + 1, cos(theta))))))))))   1⎟                                                                                           \n",
       "────────────────────────────────────────────────────── + ─⎟⋅Min(1 - Max(0, sign(-2*cos(theta) + Max(1, 2*cos(theta) + 1, cos(theta)) - 1)), 1 - Max(0,\n",
       "                                                         2⎠                                                                                           \n",
       "                                                                                                                                                      \n",
       "\n",
       "                                                                                                                                                      \n",
       "                                               ⎛1   Min(1 - Max(0, 1 - Max(0, sign(Max(1, 2*cos(theta) + 1, cos(theta)) - 1))), 1 - Max(0, sign(-cos(t\n",
       "                                           - 2⋅⎜─ - ──────────────────────────────────────────────────────────────────────────────────────────────────\n",
       "                                               ⎝2                                                                           2                         \n",
       "                                                                                                                                                      \n",
       "                                                                                                                                                      \n",
       "                                                                                                                                                      \n",
       "                                                                                                                                                      \n",
       "                                                                                                                         ⎛1   Min(1 - Max(0, sign(-cos\n",
       "n(Max(1, 2*cos(theta) + 1, cos(theta)) - 1))), 1 - Max(0, sign(-cos(theta) + Max(1, 2*cos(theta) + 1, cos(theta))))) + 2⋅⎜─ - ────────────────────────\n",
       "                                                                                                                         ⎝2                           \n",
       "                                                                                                                                                      \n",
       "                                                                                                                                                      \n",
       "                                                                                                                                                      \n",
       "                                                                                                                                                      \n",
       "                                                                                                                                                      \n",
       " 1 - Max(0, sign(Max(1, 2*cos(theta) + 1, cos(theta)) - 1)), Min(1 - Max(0, sign(-cos(theta) + Max(1, 2*cos(theta) + 1, cos(theta)))), Max(1 - Max(0, \n",
       "                                                                                                                                                      \n",
       "                                                                                                                                                      \n",
       "\n",
       "                                                2                                                                                                     \n",
       "heta) + Max(1, 2*cos(theta) + 1, cos(theta)))))⎞                                                                                                      \n",
       "───────────────────────────────────────────────⎟ ⋅Min(1 - Max(0, 1 - Max(0, sign(Max(1, 2*cos(theta) + 1, cos(theta)) - 1))), 1 - Max(0, sign(-cos(the\n",
       "                                               ⎠                                                                                                      \n",
       "                                                                                                                                                      \n",
       "                                                                                                                                                      \n",
       "                                                                                                                                                      \n",
       "                                                                                                                                                      \n",
       "(theta) + Max(1, 2*cos(theta) + 1, cos(theta)))), 1 - Max(0, 1 - Max(0, sign(Max(1, 2*cos(theta) + 1, cos(theta)) - 1)), Min(1 - Max(0, 1 - Max(0, sig\n",
       "──────────────────────────────────────────────────────────────────────────────────────────────────────────────────────────────────────────────────────\n",
       "                                                                                                                         2                            \n",
       "                                                                                                                                                      \n",
       "                                                                                                                                                      \n",
       "                                                                                                                                                      \n",
       "                                                                                                                                                      \n",
       "                                                                                                                                                      \n",
       "1 - Max(0, sign(Max(1, 2*cos(theta) + 1, cos(theta)) - 1))), 1 - Max(0, 1 - Max(0, sign(Max(1, 2*cos(theta) + 1, cos(theta)) - 1)), Min(1 - Max(0, 1 -\n",
       "                                                                                                                                                      \n",
       "                                                                                                                                                      \n",
       "\n",
       "                                                                                                                                                      \n",
       "                                             2     ⎛1   Min(1 - Max(0, sign(-cos(theta) + Max(1, 2*cos(theta) + 1, cos(theta)))), 1 - Max(0, 1 - Max(0\n",
       "ta) + Max(1, 2*cos(theta) + 1, cos(theta)))))  - 2⋅⎜─ - ──────────────────────────────────────────────────────────────────────────────────────────────\n",
       "                                                   ⎝2                                                                                                 \n",
       "                                                                                                                                                      \n",
       "                                                                                                                                                      \n",
       "                                                                                                                                                      \n",
       "                                                                                                                        ⎛                             \n",
       "n(Max(1, 2*cos(theta) + 1, cos(theta)) - 1))), 1 - Max(0, sign(-cos(theta) + Max(1, 2*cos(theta) + 1, cos(theta)))))))⎞ ⎜          2⋅(1 - Max(0, sign(\n",
       "──────────────────────────────────────────────────────────────────────────────────────────────────────────────────────⎟⋅⎜─────────────────────────────\n",
       "                                                                                                                      ⎠ ⎜    _________________________\n",
       "                                                                                                                        ⎝2⋅╲╱ Max(0, 2 - 2*cos(theta))\n",
       "                                                                                                                                                      \n",
       "                                                                                                                                                      \n",
       "                                                                                                                                    ⎞                 \n",
       "                                                                                                                                    ⎟                 \n",
       " Max(0, sign(Max(1, 2*cos(theta) + 1, cos(theta)) - 1))), 1 - Max(0, sign(-cos(theta) + Max(1, 2*cos(theta) + 1, cos(theta))))))))))⎟⋅Min(1 - Max(0, 1\n",
       "                                                                                                                                    ⎟                 \n",
       "                                                                                                                                    ⎠                 \n",
       "\n",
       "                                                                                                                                                      \n",
       ", sign(Max(1, 2*cos(theta) + 1, cos(theta)) - 1)), Min(1 - Max(0, 1 - Max(0, sign(Max(1, 2*cos(theta) + 1, cos(theta)) - 1))), 1 - Max(0, sign(-cos(th\n",
       "──────────────────────────────────────────────────────────────────────────────────────────────────────────────────────────────────────────────────────\n",
       "                                                   2                                                                                                  \n",
       "                                                                                                                                                      \n",
       "                                                                                                                                                      \n",
       "                                                                                                                                                      \n",
       "                                                               ⎛  __________________________                                                          \n",
       "Max(1, 2*cos(theta) + 1, cos(theta)) - 1)))⋅sin(θ)             ⎜╲╱ Max(0, 2*cos(theta) + 2)    Min(1 - Max(0, sign(-2*cos(theta) + Max(1, 2*cos(theta)\n",
       "──────────────────────────────────────────────────────────── + ⎜──────────────────────────── - ───────────────────────────────────────────────────────\n",
       "_                                                              ⎝             2                                                                        \n",
       "  + 2⋅Max(0, sign(Max(1, 2*cos(theta) + 1, cos(theta)) - 1))                                                                                          \n",
       "                                                                                                                                                      \n",
       "                                                                                                                                                      \n",
       "                                                                                                                                                      \n",
       "                                                                                                                                    ⎛1   Min(1 - Max(0\n",
       " - Max(0, sign(Max(1, 2*cos(theta) + 1, cos(theta)) - 1))), 1 - Max(0, sign(-cos(theta) + Max(1, 2*cos(theta) + 1, cos(theta))))) + ⎜─ - ─────────────\n",
       "                                                                                                                                    ⎝2                \n",
       "                                                                                                                                                      \n",
       "\n",
       "                                                 2                                                                                                    \n",
       "eta) + Max(1, 2*cos(theta) + 1, cos(theta)))))))⎞                                                                                                     \n",
       "────────────────────────────────────────────────⎟ ⋅Min(1 - Max(0, sign(-cos(theta) + Max(1, 2*cos(theta) + 1, cos(theta)))), 1 - Max(0, 1 - Max(0, sig\n",
       "                                                ⎠                                                                                                     \n",
       "                                                                                                                                                      \n",
       "                                                                                                                                                      \n",
       "                                                                                                                                                      \n",
       "                                                                                                                                                      \n",
       " + 1, cos(theta)) - 1)), 1 - Max(0, 1 - Max(0, sign(Max(1, 2*cos(theta) + 1, cos(theta)) - 1)), Min(1 - Max(0, sign(-cos(theta) + Max(1, 2*cos(theta) \n",
       "──────────────────────────────────────────────────────────────────────────────────────────────────────────────────────────────────────────────────────\n",
       "                                                                                                                                                      \n",
       "                                                                                                                                                      \n",
       "                                                                                                                                                      \n",
       "                                                                                                                                                      \n",
       "                                                                                                                                                      \n",
       ", sign(-cos(theta) + Max(1, 2*cos(theta) + 1, cos(theta)))), 1 - Max(0, 1 - Max(0, sign(Max(1, 2*cos(theta) + 1, cos(theta)) - 1)), Min(1 - Max(0, 1 -\n",
       "──────────────────────────────────────────────────────────────────────────────────────────────────────────────────────────────────────────────────────\n",
       "                                                                                                                                    2                 \n",
       "                                                                                                                                                      \n",
       "\n",
       "                                                                                                                                                      \n",
       "                                                                                                                                                      \n",
       "n(Max(1, 2*cos(theta) + 1, cos(theta)) - 1)), Min(1 - Max(0, 1 - Max(0, sign(Max(1, 2*cos(theta) + 1, cos(theta)) - 1))), 1 - Max(0, sign(-cos(theta) \n",
       "                                                                                                                                                      \n",
       "                                                                                                                                                      \n",
       "                                                                                                                                                      \n",
       "                                                                                                                                                      \n",
       "                                                                                                                                                      \n",
       "+ 1, cos(theta)))), Max(1 - Max(0, 1 - Max(0, sign(Max(1, 2*cos(theta) + 1, cos(theta)) - 1))), 1 - Max(0, 1 - Max(0, sign(Max(1, 2*cos(theta) + 1, co\n",
       "──────────────────────────────────────────────────────────────────────────────────────────────────────────────────────────────────────────────────────\n",
       "                                                       2                                                                                              \n",
       "                                                                                                                                                      \n",
       "                                                                                                                                                      \n",
       "                                                                                                                                                      \n",
       "                                                                                                                                   ⎛                  \n",
       " Max(0, sign(Max(1, 2*cos(theta) + 1, cos(theta)) - 1))), 1 - Max(0, sign(-cos(theta) + Max(1, 2*cos(theta) + 1, cos(theta)))))))⎞ ⎜                  \n",
       "─────────────────────────────────────────────────────────────────────────────────────────────────────────────────────────────────⎟⋅⎜2⋅(1 - Max(0, sign\n",
       "                                                                                                                                 ⎠ ⎜                  \n",
       "                                                                                                                                   ⎝                  \n",
       "\n",
       "                                                                                                                                                      \n",
       "                                           2                                                                                                          \n",
       "+ Max(1, 2*cos(theta) + 1, cos(theta)))))))  + 1                                                                                                      \n",
       "                                                                                                                                                      \n",
       "                                                                                                                                                      \n",
       "                                                                                                                                                      \n",
       "                                                                                                                                                      \n",
       "                                                                                                                                                      \n",
       "s(theta)) - 1)), Min(1 - Max(0, 1 - Max(0, sign(Max(1, 2*cos(theta) + 1, cos(theta)) - 1))), 1 - Max(0, sign(-cos(theta) + Max(1, 2*cos(theta) + 1, co\n",
       "──────────────────────────────────────────────────────────────────────────────────────────────────────────────────────────────────────────────────────\n",
       "                                                                                                                                                      \n",
       "                                                                                                                                                      \n",
       "                                                                                                                                                      \n",
       "                                                                                                                                                      \n",
       "                                             ⎛  __________________________                                                         ⎞                  \n",
       "                                             ⎜╲╱ Max(0, 2 - 2*cos(theta))    Max(0, sign(Max(1, 2*cos(theta) + 1, cos(theta)) - 1))⎟                  \n",
       "(Max(1, 2*cos(theta) + 1, cos(theta)) - 1)))⋅⎜──────────────────────────── + ──────────────────────────────────────────────────────⎟ + ───────────────\n",
       "                                             ⎝             2                                           2                           ⎠       ___________\n",
       "                                                                                                                                       2⋅╲╱ Max(0, 2*c\n",
       "\n",
       "                                                                                                                                                      \n",
       "                                                                                                                                                      \n",
       "                                                                                                                                                      \n",
       "                                                                                                                                                      \n",
       "                                                                                                                                                      \n",
       "                                                                                                                                                      \n",
       "                                                                                                                                                      \n",
       "                     ⎞                                                                                                                                \n",
       "s(theta))))))))))   1⎟                                                                                                                                \n",
       "───────────────── + ─⎟⋅Min(1 - Max(0, sign(-2*cos(theta) + Max(1, 2*cos(theta) + 1, cos(theta)) - 1)), 1 - Max(0, 1 - Max(0, sign(Max(1, 2*cos(theta) \n",
       "                    2⎠                                                                                                                                \n",
       "                                                                                                                                                      \n",
       "                                                                                                                                                      \n",
       "                                                                                                                                                      \n",
       "                                                                                                                                                      \n",
       "4⋅sin(θ)⋅Min(1 - Max(0, sign(-2*cos(theta) + Max(1, 2*cos(theta) + 1, cos(theta)) - 1)), 1 - Max(0, 1 - Max(0, sign(Max(1, 2*cos(theta) + 1, cos(theta\n",
       "──────────────────────────────────────────────────────────────────────────────────────────────────────────────────────────────────────────────────────\n",
       "_______________                                                                                                                                       \n",
       "os(theta) + 2)  - 2⋅Min(1 - Max(0, sign(-2*cos(theta) + Max(1, 2*cos(theta) + 1, cos(theta)) - 1)), 1 - Max(0, 1 - Max(0, sign(Max(1, 2*cos(theta) + 1\n",
       "\n",
       "                                                                                                                                                      \n",
       "                                                                                                                                                      \n",
       "                                                                                                                                                      \n",
       "                                                                                                                                                      \n",
       "                                                                                                                                                      \n",
       "                                                                                                                                                      \n",
       "                                                                                                                                                      \n",
       "                                                                                                                                                      \n",
       "                                                                                                                                                      \n",
       "+ 1, cos(theta)) - 1)), Min(1 - Max(0, sign(-cos(theta) + Max(1, 2*cos(theta) + 1, cos(theta)))), Max(1 - Max(0, 1 - Max(0, sign(Max(1, 2*cos(theta) +\n",
       "                                                                                                                                                      \n",
       "                                                                                                                                                      \n",
       "                                                                                                                                                      \n",
       "                                                                                                                                                      \n",
       "                                                                                                                                                      \n",
       ")) - 1)), Min(1 - Max(0, sign(-cos(theta) + Max(1, 2*cos(theta) + 1, cos(theta)))), Max(1 - Max(0, 1 - Max(0, sign(Max(1, 2*cos(theta) + 1, cos(theta)\n",
       "──────────────────────────────────────────────────────────────────────────────────────────────────────────────────────────────────────────────────────\n",
       "                                                                                                                                                      \n",
       ", cos(theta)) - 1)), Min(1 - Max(0, sign(-cos(theta) + Max(1, 2*cos(theta) + 1, cos(theta)))), Max(1 - Max(0, 1 - Max(0, sign(Max(1, 2*cos(theta) + 1,\n",
       "\n",
       "                                                                                                                                                      \n",
       "                                                                                                                                                      \n",
       "                                                                                                                                                      \n",
       "                                                                                                                                                      \n",
       "                                                                                                                                                      \n",
       "                                                                                                                                                      \n",
       "                                                                                                                                                      \n",
       "                                                                                                                                                      \n",
       "                                                                                                                                                      \n",
       " 1, cos(theta)) - 1))), 1 - Max(0, 1 - Max(0, sign(Max(1, 2*cos(theta) + 1, cos(theta)) - 1)), Min(1 - Max(0, 1 - Max(0, sign(Max(1, 2*cos(theta) + 1,\n",
       "                                                                                                                                                      \n",
       "                                                                                                                                                      \n",
       "                                                                                                                                                      \n",
       "                                                                                                                                                      \n",
       "                                                                                                                                                      \n",
       ") - 1))), 1 - Max(0, 1 - Max(0, sign(Max(1, 2*cos(theta) + 1, cos(theta)) - 1)), Min(1 - Max(0, 1 - Max(0, sign(Max(1, 2*cos(theta) + 1, cos(theta)) -\n",
       "──────────────────────────────────────────────────────────────────────────────────────────────────────────────────────────────────────────────────────\n",
       "                                                                                                                                                      \n",
       " cos(theta)) - 1))), 1 - Max(0, 1 - Max(0, sign(Max(1, 2*cos(theta) + 1, cos(theta)) - 1)), Min(1 - Max(0, 1 - Max(0, sign(Max(1, 2*cos(theta) + 1, co\n",
       "\n",
       "                                                                                                                                                      \n",
       "                                                                                                                                                      \n",
       "                                                                                                                                                      \n",
       "                                                                                                                                                      \n",
       "                                                                                                                                                      \n",
       "                                                                                                                                                      \n",
       "                                                                                                                                                      \n",
       "                                                                                               ⎞                                                      \n",
       "                                                                                               ⎟                                                      \n",
       " cos(theta)) - 1))), 1 - Max(0, sign(-cos(theta) + Max(1, 2*cos(theta) + 1, cos(theta))))))))))⎟⋅Min(1 - Max(0, sign(-cos(theta) + Max(1, 2*cos(theta)\n",
       "                                                                                               ⎟                                                      \n",
       "                                                                                               ⎠                                                      \n",
       "                                                                                                                                                      \n",
       "                                                                                                                                                      \n",
       "                                                                                                ⎞                                                     \n",
       " 1))), 1 - Max(0, sign(-cos(theta) + Max(1, 2*cos(theta) + 1, cos(theta))))))))))               ⎟                                                     \n",
       "────────────────────────────────────────────────────────────────────────────────────────────────⎟⋅Min(1 - Max(0, sign(-cos(theta) + Max(1, 2*cos(theta\n",
       "                                                                                                ⎟                                                     \n",
       "s(theta)) - 1))), 1 - Max(0, sign(-cos(theta) + Max(1, 2*cos(theta) + 1, cos(theta)))))))))) + 2⎠                                                     \n",
       "\n",
       "                                                                                                                                                      \n",
       "                                                                                                                                                      \n",
       "                                                                                                                                                      \n",
       "                                                                                                                                                      \n",
       "                                                                                                                                                      \n",
       "                                                                                                                                                      \n",
       "                                                                                                                                                      \n",
       "                                                                                                                                                      \n",
       "                                                                                                                                                      \n",
       " + 1, cos(theta)))), 1 - Max(0, 1 - Max(0, sign(Max(1, 2*cos(theta) + 1, cos(theta)) - 1)), Min(1 - Max(0, 1 - Max(0, sign(Max(1, 2*cos(theta) + 1, co\n",
       "                                                                                                                                                      \n",
       "                                                                                                                                                      \n",
       "                                                                                                                                                      \n",
       "                                                                                                                                                      \n",
       "                                                                                                                                                      \n",
       "                                                                                                                                                      \n",
       ") + 1, cos(theta)))), 1 - Max(0, 1 - Max(0, sign(Max(1, 2*cos(theta) + 1, cos(theta)) - 1)), Min(1 - Max(0, 1 - Max(0, sign(Max(1, 2*cos(theta) + 1, c\n",
       "                                                                                                                                                      \n",
       "                                                                                                                                                      \n",
       "\n",
       "                                                                                                                                                      \n",
       "                                                                                            ⎛1   Min(1 - Max(0, 1 - Max(0, sign(Max(1, 2*cos(theta) + \n",
       "                                                                                            ⎜─ - ─────────────────────────────────────────────────────\n",
       "                                                                                            ⎝2                                                        \n",
       "                                                                                                                                                      \n",
       "                                                                                                                                                      \n",
       "                                                                                                                                                      \n",
       "                                                                                                                                                      \n",
       "                                                                                                                                                      \n",
       "s(theta)) - 1))), 1 - Max(0, sign(-cos(theta) + Max(1, 2*cos(theta) + 1, cos(theta)))))))                                                             \n",
       "                                                                                                                                                      \n",
       "                                                                                                                                                      \n",
       "                                                                                                                                                      \n",
       "                                                                                                                                                      \n",
       "                                                                                                                                                      \n",
       "                                                                                              ⎛1   Min(1 - Max(0, 1 - Max(0, sign(Max(1, 2*cos(theta) \n",
       "os(theta)) - 1))), 1 - Max(0, sign(-cos(theta) + Max(1, 2*cos(theta) + 1, cos(theta)))))))  2⋅⎜─ - ───────────────────────────────────────────────────\n",
       "                                                                                              ⎝2                                                      \n",
       "                                                                                                                                                      \n",
       "\n",
       "                                                                                              ⎛                                                       \n",
       "1, cos(theta)) - 1))), 1 - Max(0, sign(-cos(theta) + Max(1, 2*cos(theta) + 1, cos(theta)))))⎞ ⎜                                                       \n",
       "────────────────────────────────────────────────────────────────────────────────────────────⎟⋅⎜2⋅(1 - Max(0, sign(Max(1, 2*cos(theta) + 1, cos(theta))\n",
       "                   2                                                                        ⎠ ⎜                                                       \n",
       "                                                                                              ⎝                                                       \n",
       "                                                                                                                                                      \n",
       "                                                                                                                                                      \n",
       "                                                                                                                                                      \n",
       "                                                                                                                                                      \n",
       "                                                                                                                                                      \n",
       "                                                                                                                                                      \n",
       "                                                                                                                                                      \n",
       "                                                                                                                                                      \n",
       "                                                                                                                                                      \n",
       "                                                                                                                                                      \n",
       "+ 1, cos(theta)) - 1))), 1 - Max(0, sign(-cos(theta) + Max(1, 2*cos(theta) + 1, cos(theta)))))⎞ ⎛1   Min(1 - Max(0, sign(-cos(theta) + Max(1, 2*cos(th\n",
       "──────────────────────────────────────────────────────────────────────────────────────────────⎟⋅⎜─ - ─────────────────────────────────────────────────\n",
       "                     2                                                                        ⎠ ⎝2                                                    \n",
       "                                                                                                                                                      \n",
       "\n",
       "        ⎛  __________________________                                                         ⎞                                                       \n",
       "        ⎜╲╱ Max(0, 2 - 2*cos(theta))    Max(0, sign(Max(1, 2*cos(theta) + 1, cos(theta)) - 1))⎟                  4⋅sin(θ)⋅Min(1 - Max(0, sign(-2*cos(t\n",
       " - 1)))⋅⎜──────────────────────────── + ──────────────────────────────────────────────────────⎟ + ────────────────────────────────────────────────────\n",
       "        ⎝             2                                           2                           ⎠       __________________________                      \n",
       "                                                                                                  2⋅╲╱ Max(0, 2*cos(theta) + 2)  - 2⋅Min(1 - Max(0, si\n",
       "                                                                                                                                                      \n",
       "                                                                                                                                                      \n",
       "                                                                                                                                                      \n",
       "                                                                                                                                                      \n",
       "                                                                                                                                                      \n",
       "                                                                                                                                                      \n",
       "                                                                                                                                                      \n",
       "                                                                                                                                                      \n",
       "                                                                                                                                                      \n",
       "                                                                                                                                                      \n",
       "eta) + 1, cos(theta)))), 1 - Max(0, 1 - Max(0, sign(Max(1, 2*cos(theta) + 1, cos(theta)) - 1)), Min(1 - Max(0, 1 - Max(0, sign(Max(1, 2*cos(theta) + 1\n",
       "──────────────────────────────────────────────────────────────────────────────────────────────────────────────────────────────────────────────────────\n",
       "                                                                                                2                                                     \n",
       "                                                                                                                                                      \n",
       "\n",
       "                                                                                                                                                      \n",
       "heta) + Max(1, 2*cos(theta) + 1, cos(theta)) - 1)), 1 - Max(0, 1 - Max(0, sign(Max(1, 2*cos(theta) + 1, cos(theta)) - 1)), Min(1 - Max(0, sign(-cos(th\n",
       "──────────────────────────────────────────────────────────────────────────────────────────────────────────────────────────────────────────────────────\n",
       "                                                                                                                                                      \n",
       "gn(-2*cos(theta) + Max(1, 2*cos(theta) + 1, cos(theta)) - 1)), 1 - Max(0, 1 - Max(0, sign(Max(1, 2*cos(theta) + 1, cos(theta)) - 1)), Min(1 - Max(0, s\n",
       "                                                                                                                                                      \n",
       "                                                                                                                                                      \n",
       "                                                                                                                                                      \n",
       "                                                                                                                                                      \n",
       "                                                                                                                                                      \n",
       "                                                                                                                                                      \n",
       "                                                                                                                                                      \n",
       "                                                                                                                                                      \n",
       "                                                                                                                                                      \n",
       "                                                                                                                                                      \n",
       ", cos(theta)) - 1))), 1 - Max(0, sign(-cos(theta) + Max(1, 2*cos(theta) + 1, cos(theta)))))))⎞                                                        \n",
       "─────────────────────────────────────────────────────────────────────────────────────────────⎟⋅Min(1 - Max(0, 1 - Max(0, sign(Max(1, 2*cos(theta) + 1,\n",
       "                                                                                             ⎠                                                        \n",
       "                                                                                                                                                      \n",
       "\n",
       "                                                                                                                                                      \n",
       "eta) + Max(1, 2*cos(theta) + 1, cos(theta)))), Max(1 - Max(0, 1 - Max(0, sign(Max(1, 2*cos(theta) + 1, cos(theta)) - 1))), 1 - Max(0, 1 - Max(0, sign(\n",
       "──────────────────────────────────────────────────────────────────────────────────────────────────────────────────────────────────────────────────────\n",
       "                                                                                                                                                      \n",
       "ign(-cos(theta) + Max(1, 2*cos(theta) + 1, cos(theta)))), Max(1 - Max(0, 1 - Max(0, sign(Max(1, 2*cos(theta) + 1, cos(theta)) - 1))), 1 - Max(0, 1 - M\n",
       "                                                                                                                                                      \n",
       "                                                                                                                                                      \n",
       "                                                                                                                                                      \n",
       "                                                                                                                                                      \n",
       "                                                                                                                                                      \n",
       "                                                                                                                                                      \n",
       "                                                                                                                                                      \n",
       "                                                                                                                                                      \n",
       "                                                                                                                                                      \n",
       "                                                                                                                                                      \n",
       "                                                                                                                                                      \n",
       " cos(theta)) - 1))), 1 - Max(0, sign(-cos(theta) + Max(1, 2*cos(theta) + 1, cos(theta)))))⋅Min(1 - Max(0, sign(-cos(theta) + Max(1, 2*cos(theta) + 1, \n",
       "                                                                                                                                                      \n",
       "                                                                                                                                                      \n",
       "\n",
       "                                                                                                                                                      \n",
       "Max(1, 2*cos(theta) + 1, cos(theta)) - 1)), Min(1 - Max(0, 1 - Max(0, sign(Max(1, 2*cos(theta) + 1, cos(theta)) - 1))), 1 - Max(0, sign(-cos(theta) + \n",
       "──────────────────────────────────────────────────────────────────────────────────────────────────────────────────────────────────────────────────────\n",
       "                                                                                                                                                      \n",
       "ax(0, sign(Max(1, 2*cos(theta) + 1, cos(theta)) - 1)), Min(1 - Max(0, 1 - Max(0, sign(Max(1, 2*cos(theta) + 1, cos(theta)) - 1))), 1 - Max(0, sign(-co\n",
       "                                                                                                                                                      \n",
       "                                                                                                                                                      \n",
       "                                                                                                                                                      \n",
       "                                                                               ⎛1   Min(1 - Max(0, sign(-cos(theta) + Max(1, 2*cos(theta) + 1, cos(the\n",
       "                                                                           - 2⋅⎜─ - ──────────────────────────────────────────────────────────────────\n",
       "                                                                               ⎝2                                                                     \n",
       "                                                                                                                                                      \n",
       "                                                                                                                                                      \n",
       "                                                                                                                                                      \n",
       "                                                                                                                                                      \n",
       "                                                                                                                                                      \n",
       "cos(theta)))), 1 - Max(0, 1 - Max(0, sign(Max(1, 2*cos(theta) + 1, cos(theta)) - 1)), Min(1 - Max(0, 1 - Max(0, sign(Max(1, 2*cos(theta) + 1, cos(thet\n",
       "                                                                                                                                                      \n",
       "                                                                                                                                                      \n",
       "\n",
       "                                                           ⎞                                                                                          \n",
       "Max(1, 2*cos(theta) + 1, cos(theta))))))))))               ⎟                                                                                          \n",
       "───────────────────────────────────────────────────────────⎟⋅Min(1 - Max(0, 1 - Max(0, sign(Max(1, 2*cos(theta) + 1, cos(theta)) - 1))), 1 - Max(0, si\n",
       "                                                           ⎟                                                                                          \n",
       "s(theta) + Max(1, 2*cos(theta) + 1, cos(theta)))))))))) + 2⎠                                                                                          \n",
       "                                                                                                                                                      \n",
       "                                                                                                                                                      \n",
       "                                                                                                                                                      \n",
       "ta)))), 1 - Max(0, 1 - Max(0, sign(Max(1, 2*cos(theta) + 1, cos(theta)) - 1)), Min(1 - Max(0, 1 - Max(0, sign(Max(1, 2*cos(theta) + 1, cos(theta)) - 1\n",
       "──────────────────────────────────────────────────────────────────────────────────────────────────────────────────────────────────────────────────────\n",
       "                                                                               2                                                                      \n",
       "                                                                                                                                                      \n",
       "                                                                                                                                                      \n",
       "                                                                                                                                                      \n",
       "                                                                                      ⎛                                                               \n",
       "                                                                                      ⎜                                                               \n",
       "a)) - 1))), 1 - Max(0, sign(-cos(theta) + Max(1, 2*cos(theta) + 1, cos(theta))))))) + ⎜2⋅(1 - Max(0, sign(Max(1, 2*cos(theta) + 1, cos(theta)) - 1)))⋅\n",
       "                                                                                      ⎜                                                               \n",
       "                                                                                      ⎝                                                               \n",
       "\n",
       "                                                                                                                                                      \n",
       "                                                             ⎛1   Min(1 - Max(0, sign(-cos(theta) + Max(1, 2*cos(theta) + 1, cos(theta)))), 1 - Max(0,\n",
       "gn(-cos(theta) + Max(1, 2*cos(theta) + 1, cos(theta))))) - 2⋅⎜─ - ────────────────────────────────────────────────────────────────────────────────────\n",
       "                                                             ⎝2                                                                                       \n",
       "                                                                                                                                                      \n",
       "                                                                                                                                                      \n",
       "                                                                                                                                                      \n",
       "                                                                             2                                                                        \n",
       "))), 1 - Max(0, sign(-cos(theta) + Max(1, 2*cos(theta) + 1, cos(theta)))))))⎞                                                                         \n",
       "────────────────────────────────────────────────────────────────────────────⎟ ⋅Min(1 - Max(0, sign(-cos(theta) + Max(1, 2*cos(theta) + 1, cos(theta)))\n",
       "                                                                            ⎠                                                                         \n",
       "                                                                                                                                                      \n",
       "                                                                                                                                                      \n",
       "                                                                                                                                                      \n",
       "⎛  __________________________                                                         ⎞                                                               \n",
       "⎜╲╱ Max(0, 2 - 2*cos(theta))    Max(0, sign(Max(1, 2*cos(theta) + 1, cos(theta)) - 1))⎟                  4⋅sin(θ)⋅Min(1 - Max(0, sign(-2*cos(theta) + \n",
       "⎜──────────────────────────── + ──────────────────────────────────────────────────────⎟ + ────────────────────────────────────────────────────────────\n",
       "⎝             2                                           2                           ⎠       __________________________                              \n",
       "                                                                                          2⋅╲╱ Max(0, 2*cos(theta) + 2)  - 2⋅Min(1 - Max(0, sign(-2*co\n",
       "\n",
       "                                                                                                                                                      \n",
       " 1 - Max(0, sign(Max(1, 2*cos(theta) + 1, cos(theta)) - 1)), Min(1 - Max(0, 1 - Max(0, sign(Max(1, 2*cos(theta) + 1, cos(theta)) - 1))), 1 - Max(0, si\n",
       "──────────────────────────────────────────────────────────────────────────────────────────────────────────────────────────────────────────────────────\n",
       "                                                             2                                                                                        \n",
       "                                                                                                                                                      \n",
       "                                                                                                                                                      \n",
       "                                                                                                                                                      \n",
       "                                                                                                                                                      \n",
       "                                                                                                                                                      \n",
       "), 1 - Max(0, 1 - Max(0, sign(Max(1, 2*cos(theta) + 1, cos(theta)) - 1)), Min(1 - Max(0, 1 - Max(0, sign(Max(1, 2*cos(theta) + 1, cos(theta)) - 1))), \n",
       "                                                                                                                                                      \n",
       "                                                                                                                                                      \n",
       "                                                                                                                                                      \n",
       "                                                                                                                                                      \n",
       "                                                                                                                                                      \n",
       "Max(1, 2*cos(theta) + 1, cos(theta)) - 1)), 1 - Max(0, 1 - Max(0, sign(Max(1, 2*cos(theta) + 1, cos(theta)) - 1)), Min(1 - Max(0, sign(-cos(theta) + M\n",
       "──────────────────────────────────────────────────────────────────────────────────────────────────────────────────────────────────────────────────────\n",
       "                                                                                                                                                      \n",
       "s(theta) + Max(1, 2*cos(theta) + 1, cos(theta)) - 1)), 1 - Max(0, 1 - Max(0, sign(Max(1, 2*cos(theta) + 1, cos(theta)) - 1)), Min(1 - Max(0, sign(-cos\n",
       "\n",
       "                                                            ⎛                                                                                         \n",
       "gn(-cos(theta) + Max(1, 2*cos(theta) + 1, cos(theta)))))))⎞ ⎜          2⋅(1 - Max(0, sign(Max(1, 2*cos(theta) + 1, cos(theta)) - 1)))⋅sin(θ)          \n",
       "──────────────────────────────────────────────────────────⎟⋅⎜─────────────────────────────────────────────────────────────────────────────────────────\n",
       "                                                          ⎠ ⎜    __________________________                                                           \n",
       "                                                            ⎝2⋅╲╱ Max(0, 2 - 2*cos(theta))  + 2⋅Max(0, sign(Max(1, 2*cos(theta) + 1, cos(theta)) - 1))\n",
       "                                                                                                                                                      \n",
       "                                                                                                                                                      \n",
       "                                                                             ⎛                                                             ⎛  ________\n",
       "                                                                       2     ⎜                                                             ⎜╲╱ Max(0, \n",
       "1 - Max(0, sign(-cos(theta) + Max(1, 2*cos(theta) + 1, cos(theta)))))))  - 2⋅⎜(1 - Max(0, sign(Max(1, 2*cos(theta) + 1, cos(theta)) - 1)))⋅⎜──────────\n",
       "                                                                             ⎜                                                             ⎝          \n",
       "                                                                             ⎝                                                                        \n",
       "                                                                                                                                                      \n",
       "                                                                                                                                                      \n",
       "                                                                                                                                                      \n",
       "ax(1, 2*cos(theta) + 1, cos(theta)))), Max(1 - Max(0, 1 - Max(0, sign(Max(1, 2*cos(theta) + 1, cos(theta)) - 1))), 1 - Max(0, 1 - Max(0, sign(Max(1, 2\n",
       "──────────────────────────────────────────────────────────────────────────────────────────────────────────────────────────────────────────────────────\n",
       "                                                                                                                                                      \n",
       "(theta) + Max(1, 2*cos(theta) + 1, cos(theta)))), Max(1 - Max(0, 1 - Max(0, sign(Max(1, 2*cos(theta) + 1, cos(theta)) - 1))), 1 - Max(0, 1 - Max(0, si\n",
       "\n",
       "   ⎛  __________________________                                                                                                                      \n",
       "   ⎜╲╱ Max(0, 2*cos(theta) + 2)    Min(1 - Max(0, sign(-2*cos(theta) + Max(1, 2*cos(theta) + 1, cos(theta)) - 1)), 1 - Max(0, 1 - Max(0, sign(Max(1, 2\n",
       " + ⎜──────────────────────────── - ───────────────────────────────────────────────────────────────────────────────────────────────────────────────────\n",
       "   ⎝             2                                                                                                                                    \n",
       "                                                                                                                                                      \n",
       "                                                                                                                                                      \n",
       "                                                                                                                                                      \n",
       "__________________                                                         ⎞                                                                          \n",
       "2 - 2*cos(theta))    Max(0, sign(Max(1, 2*cos(theta) + 1, cos(theta)) - 1))⎟                  2⋅sin(θ)⋅Min(1 - Max(0, sign(-2*cos(theta) + Max(1, 2*co\n",
       "────────────────── + ──────────────────────────────────────────────────────⎟ + ───────────────────────────────────────────────────────────────────────\n",
       "   2                                           2                           ⎠       __________________________                                         \n",
       "                                                                               2⋅╲╱ Max(0, 2*cos(theta) + 2)  - 2⋅Min(1 - Max(0, sign(-2*cos(theta) + \n",
       "                                                                                                                                                      \n",
       "                                                                                                                                                      \n",
       "                                                                                                                                                      \n",
       "*cos(theta) + 1, cos(theta)) - 1)), Min(1 - Max(0, 1 - Max(0, sign(Max(1, 2*cos(theta) + 1, cos(theta)) - 1))), 1 - Max(0, sign(-cos(theta) + Max(1, 2\n",
       "──────────────────────────────────────────────────────────────────────────────────────────────────────────────────────────────────────────────────────\n",
       "                                                                                                                                                      \n",
       "gn(Max(1, 2*cos(theta) + 1, cos(theta)) - 1)), Min(1 - Max(0, 1 - Max(0, sign(Max(1, 2*cos(theta) + 1, cos(theta)) - 1))), 1 - Max(0, sign(-cos(theta)\n",
       "\n",
       "                                                                                                                                                      \n",
       "*cos(theta) + 1, cos(theta)) - 1)), Min(1 - Max(0, sign(-cos(theta) + Max(1, 2*cos(theta) + 1, cos(theta)))), Max(1 - Max(0, 1 - Max(0, sign(Max(1, 2*\n",
       "──────────────────────────────────────────────────────────────────────────────────────────────────────────────────────────────────────────────────────\n",
       "                                                                                                                                                 2    \n",
       "                                                                                                                                                      \n",
       "                                                                                                                                                      \n",
       "                                                                                                                                                      \n",
       "                                                                                                                                                      \n",
       "s(theta) + 1, cos(theta)) - 1)), 1 - Max(0, 1 - Max(0, sign(Max(1, 2*cos(theta) + 1, cos(theta)) - 1)), Min(1 - Max(0, sign(-cos(theta) + Max(1, 2*cos\n",
       "──────────────────────────────────────────────────────────────────────────────────────────────────────────────────────────────────────────────────────\n",
       "                                                                                                                                                      \n",
       "Max(1, 2*cos(theta) + 1, cos(theta)) - 1)), 1 - Max(0, 1 - Max(0, sign(Max(1, 2*cos(theta) + 1, cos(theta)) - 1)), Min(1 - Max(0, sign(-cos(theta) + M\n",
       "                                                                                                                                                      \n",
       "                                                                                                                                                      \n",
       "                                                   ⎞ ⎛                                                                                            ⎛  _\n",
       "*cos(theta) + 1, cos(theta))))))))))               ⎟ ⎜          2⋅(1 - Max(0, sign(Max(1, 2*cos(theta) + 1, cos(theta)) - 1)))⋅sin(θ)             ⎜╲╱ \n",
       "───────────────────────────────────────────────────⎟⋅⎜───────────────────────────────────────────────────────────────────────────────────────── + ⎜───\n",
       "                                                   ⎟ ⎜    __________________________                                                              ⎝   \n",
       " + Max(1, 2*cos(theta) + 1, cos(theta)))))))))) + 2⎠ ⎝2⋅╲╱ Max(0, 2 - 2*cos(theta))  + 2⋅Max(0, sign(Max(1, 2*cos(theta) + 1, cos(theta)) - 1))       \n",
       "\n",
       "                                                                                                                                                      \n",
       "cos(theta) + 1, cos(theta)) - 1))), 1 - Max(0, 1 - Max(0, sign(Max(1, 2*cos(theta) + 1, cos(theta)) - 1)), Min(1 - Max(0, 1 - Max(0, sign(Max(1, 2*cos\n",
       "──────────────────────────────────────────────────────────────────────────────────────────────────────────────────────────────────────────────────────\n",
       "                                                                                                                                                      \n",
       "                                                                                                                                                      \n",
       "                                                                                                                                                      \n",
       "                                                                                                                                                      \n",
       "                                                                                                                                                      \n",
       "(theta) + 1, cos(theta)))), Max(1 - Max(0, 1 - Max(0, sign(Max(1, 2*cos(theta) + 1, cos(theta)) - 1))), 1 - Max(0, 1 - Max(0, sign(Max(1, 2*cos(theta)\n",
       "──────────────────────────────────────────────────────────────────────────────────────────────────────────────────────────────────────────────────────\n",
       "                                                                                                                                                      \n",
       "ax(1, 2*cos(theta) + 1, cos(theta)))), Max(1 - Max(0, 1 - Max(0, sign(Max(1, 2*cos(theta) + 1, cos(theta)) - 1))), 1 - Max(0, 1 - Max(0, sign(Max(1, 2\n",
       "                                                                                                                                                      \n",
       "                                                                                                                                                      \n",
       "_________________________                                                                                                                             \n",
       "Max(0, 2*cos(theta) + 2)    Min(1 - Max(0, sign(-2*cos(theta) + Max(1, 2*cos(theta) + 1, cos(theta)) - 1)), 1 - Max(0, 1 - Max(0, sign(Max(1, 2*cos(th\n",
       "───────────────────────── - ──────────────────────────────────────────────────────────────────────────────────────────────────────────────────────────\n",
       "          2                                                                                                                                           \n",
       "                                                                                                                                                      \n",
       "\n",
       "                                                                                                               ⎞                                      \n",
       "(theta) + 1, cos(theta)) - 1))), 1 - Max(0, sign(-cos(theta) + Max(1, 2*cos(theta) + 1, cos(theta))))))))))   1⎟                                      \n",
       "─────────────────────────────────────────────────────────────────────────────────────────────────────────── + ─⎟⋅Min(1 - Max(0, sign(-2*cos(theta) + M\n",
       "                                                                                                              2⎠                                      \n",
       "                                                                                                                                                      \n",
       "                                                                                                                                                      \n",
       "                                                                                                                                                      \n",
       "                                                                                                                                                      \n",
       " + 1, cos(theta)) - 1)), Min(1 - Max(0, 1 - Max(0, sign(Max(1, 2*cos(theta) + 1, cos(theta)) - 1))), 1 - Max(0, sign(-cos(theta) + Max(1, 2*cos(theta)\n",
       "──────────────────────────────────────────────────────────────────────────────────────────────────────────────────────────────────────────────────────\n",
       "                                                                                                                                                      \n",
       "*cos(theta) + 1, cos(theta)) - 1)), Min(1 - Max(0, 1 - Max(0, sign(Max(1, 2*cos(theta) + 1, cos(theta)) - 1))), 1 - Max(0, sign(-cos(theta) + Max(1, 2\n",
       "                                                                                                                                                      \n",
       "                                                                                                                                                      \n",
       "                                                                                                                                                      \n",
       "eta) + 1, cos(theta)) - 1)), Min(1 - Max(0, sign(-cos(theta) + Max(1, 2*cos(theta) + 1, cos(theta)))), Max(1 - Max(0, 1 - Max(0, sign(Max(1, 2*cos(the\n",
       "──────────────────────────────────────────────────────────────────────────────────────────────────────────────────────────────────────────────────────\n",
       "                                                                                                                                          2           \n",
       "                                                                                                                                                      \n",
       "\n",
       "                                                                                                                                                      \n",
       "                                                                                                                                                      \n",
       "ax(1, 2*cos(theta) + 1, cos(theta)) - 1)), 1 - Max(0, 1 - Max(0, sign(Max(1, 2*cos(theta) + 1, cos(theta)) - 1)), Min(1 - Max(0, sign(-cos(theta) + Ma\n",
       "                                                                                                                                                      \n",
       "                                                                                                                                                      \n",
       "                                                                                                                                                      \n",
       "                                         2                                                                                                            \n",
       "                                        ⎞                                                                                                             \n",
       " + 1, cos(theta))))))))))               ⎟                                                                                                             \n",
       "────────────────────────────────────────⎟  + 1                                                                                                        \n",
       "                                        ⎟                                                                                                             \n",
       "*cos(theta) + 1, cos(theta)))))))))) + 2⎠                                                                                                             \n",
       "                                                                                                                                                      \n",
       "                                                                                                                                                      \n",
       "                                                                                                                                                      \n",
       "ta) + 1, cos(theta)) - 1))), 1 - Max(0, 1 - Max(0, sign(Max(1, 2*cos(theta) + 1, cos(theta)) - 1)), Min(1 - Max(0, 1 - Max(0, sign(Max(1, 2*cos(theta)\n",
       "──────────────────────────────────────────────────────────────────────────────────────────────────────────────────────────────────────────────────────\n",
       "                                                                                                                                                      \n",
       "                                                                                                                                                      \n",
       "\n",
       "                                                                                                                                                      \n",
       "                                                                                                                                                      \n",
       "x(1, 2*cos(theta) + 1, cos(theta)))), Max(1 - Max(0, 1 - Max(0, sign(Max(1, 2*cos(theta) + 1, cos(theta)) - 1))), 1 - Max(0, 1 - Max(0, sign(Max(1, 2*\n",
       "                                                                                                                                                      \n",
       "                                                                                                                                                      \n",
       "                                                                                                                                                      \n",
       "                                                                                                                                                      \n",
       "                                                                                                                                                      \n",
       "                                                                                                                                                      \n",
       "                                                                                                                                                      \n",
       "                                                                                                                                                      \n",
       "                                                                                                                                                      \n",
       "                                                                                                                                                      \n",
       "                                                                                                                                                      \n",
       "                                                                                                        ⎞                                             \n",
       " + 1, cos(theta)) - 1))), 1 - Max(0, sign(-cos(theta) + Max(1, 2*cos(theta) + 1, cos(theta))))))))))   1⎟                                             \n",
       "──────────────────────────────────────────────────────────────────────────────────────────────────── + ─⎟⋅Min(1 - Max(0, sign(-2*cos(theta) + Max(1, 2\n",
       "                                                                                                       2⎠                                             \n",
       "                                                                                                                                                      \n",
       "\n",
       "                                                                                                                                                      \n",
       "                                                                                                                                                      \n",
       "cos(theta) + 1, cos(theta)) - 1)), Min(1 - Max(0, 1 - Max(0, sign(Max(1, 2*cos(theta) + 1, cos(theta)) - 1))), 1 - Max(0, sign(-cos(theta) + Max(1, 2*\n",
       "                                                                                                                                                      \n",
       "                                                                                                                                                      \n",
       "                                                                                                                                                      \n",
       "                                                                                                                                                      \n",
       "                                                                                                                                                      \n",
       "                                                                                                                                                      \n",
       "                                                                                                                                                      \n",
       "                                                                                                                                                      \n",
       "                                                                                                                                                      \n",
       "                                                                                                                                                      \n",
       "                                                                                                                                                      \n",
       "                                                                                                                                                      \n",
       "                                                                                                                                                      \n",
       "*cos(theta) + 1, cos(theta)) - 1)), 1 - Max(0, 1 - Max(0, sign(Max(1, 2*cos(theta) + 1, cos(theta)) - 1)), Min(1 - Max(0, sign(-cos(theta) + Max(1, 2*\n",
       "                                                                                                                                                      \n",
       "                                                                                                                                                      \n",
       "\n",
       "                                   ⎞                                                                                                                  \n",
       "                                   ⎟                                                                                                                  \n",
       "cos(theta) + 1, cos(theta))))))))))⎟⋅Min(1 - Max(0, sign(-cos(theta) + Max(1, 2*cos(theta) + 1, cos(theta)))), 1 - Max(0, 1 - Max(0, sign(Max(1, 2*cos\n",
       "                                   ⎟                                                                                                                  \n",
       "                                   ⎠                                                                                                                  \n",
       "                                                                                                                                                      \n",
       "                                                                                                                                                      \n",
       "                                                                                                                                                      \n",
       "                                                                                                                                                      \n",
       "                                                                                                                                                      \n",
       "                                                                                                                                                      \n",
       "                                                                                                                                                      \n",
       "                                                                                                                                                      \n",
       "                                                                                                                                                      \n",
       "                                                                                                                                                      \n",
       "                                                                                                                                                      \n",
       "cos(theta) + 1, cos(theta)))), Max(1 - Max(0, 1 - Max(0, sign(Max(1, 2*cos(theta) + 1, cos(theta)) - 1))), 1 - Max(0, 1 - Max(0, sign(Max(1, 2*cos(the\n",
       "                                                                                                                                                      \n",
       "                                                                                                                                                      \n",
       "\n",
       "                                                                                                                                                      \n",
       "                                                                                                                                                      \n",
       "(theta) + 1, cos(theta)) - 1)), Min(1 - Max(0, 1 - Max(0, sign(Max(1, 2*cos(theta) + 1, cos(theta)) - 1))), 1 - Max(0, sign(-cos(theta) + Max(1, 2*cos\n",
       "                                                                                                                                                      \n",
       "                                                                                                                                                      \n",
       "                                                                                                                                                      \n",
       "                                                                                                                                                      \n",
       "                                                                                                                                                      \n",
       "                                                                                                                                                      \n",
       "                                                                                                                                                      \n",
       "                                                                                                                                                      \n",
       "                                                                                                                                                      \n",
       "                                                                                                                                                      \n",
       "                                                                                                                                                      \n",
       "                                                                                                                                                      \n",
       "                                                                                                                                                      \n",
       "ta) + 1, cos(theta)) - 1)), Min(1 - Max(0, 1 - Max(0, sign(Max(1, 2*cos(theta) + 1, cos(theta)) - 1))), 1 - Max(0, sign(-cos(theta) + Max(1, 2*cos(the\n",
       "                                                                                                                                                      \n",
       "                                                                                                                                                      \n",
       "\n",
       "                                                                                                                                                      \n",
       "                                 ⎛1   Min(1 - Max(0, 1 - Max(0, sign(Max(1, 2*cos(theta) + 1, cos(theta)) - 1))), 1 - Max(0, sign(-cos(theta) + Max(1,\n",
       "(theta) + 1, cos(theta)))))))  2⋅⎜─ - ────────────────────────────────────────────────────────────────────────────────────────────────────────────────\n",
       "                                 ⎝2                                                                           2                                       \n",
       "                                                                                                                                                      \n",
       "                                                                                                                                                      \n",
       "                                                                                                                                                      \n",
       "                                                                                                                                                      \n",
       "                                 ⎛1   Min(1 - Max(0, 1 - Max(0, sign(Max(1, 2*cos(theta) + 1, cos(theta)) - 1))), 1 - Max(0, sign(-cos(theta) + Max(1,\n",
       "                               2⋅⎜─ - ────────────────────────────────────────────────────────────────────────────────────────────────────────────────\n",
       "                                 ⎝2                                                                           2                                       \n",
       "                                                                                                                                                      \n",
       "                                                                                                                                                      \n",
       "                                                                                                                                                      \n",
       "                            ⎞                                                                                                                         \n",
       "                            ⎟                                                                                                                         \n",
       "ta) + 1, cos(theta))))))))))⎟                                                                                                                         \n",
       "                            ⎟                                                                                                                         \n",
       "                            ⎠                                                                                                                         \n",
       "\n",
       "                                   ⎛                                                                                            ⎛  ___________________\n",
       " 2*cos(theta) + 1, cos(theta)))))⎞ ⎜          2⋅(1 - Max(0, sign(Max(1, 2*cos(theta) + 1, cos(theta)) - 1)))⋅sin(θ)             ⎜╲╱ Max(0, 2*cos(theta\n",
       "─────────────────────────────────⎟⋅⎜───────────────────────────────────────────────────────────────────────────────────────── + ⎜─────────────────────\n",
       "                                 ⎠ ⎜    __________________________                                                              ⎝             2       \n",
       "                                   ⎝2⋅╲╱ Max(0, 2 - 2*cos(theta))  + 2⋅Max(0, sign(Max(1, 2*cos(theta) + 1, cos(theta)) - 1))                         \n",
       "                                                                                                                                                      \n",
       "                                                                                                                                                      \n",
       "                                                                                                                                                      \n",
       " 2*cos(theta) + 1, cos(theta)))))⎞ ⎛1   Min(1 - Max(0, sign(-cos(theta) + Max(1, 2*cos(theta) + 1, cos(theta)))), 1 - Max(0, 1 - Max(0, sign(Max(1, 2*\n",
       "─────────────────────────────────⎟⋅⎜─ - ──────────────────────────────────────────────────────────────────────────────────────────────────────────────\n",
       "                                 ⎠ ⎝2                                                                                                                 \n",
       "                                                                                                                                                      \n",
       "                                                                                                                                                      \n",
       "                                                                                                                                                      \n",
       "                                                                                                                                                      \n",
       "                                                                                                                                                      \n",
       "                                                                                                                                                      \n",
       "                                                                                                                                                      \n",
       "                                                                                                                                                      \n",
       "\n",
       "_______                                                                                                                                               \n",
       ") + 2)    Min(1 - Max(0, sign(-2*cos(theta) + Max(1, 2*cos(theta) + 1, cos(theta)) - 1)), 1 - Max(0, 1 - Max(0, sign(Max(1, 2*cos(theta) + 1, cos(thet\n",
       "─────── - ────────────────────────────────────────────────────────────────────────────────────────────────────────────────────────────────────────────\n",
       "                                                                                                                                                      \n",
       "                                                                                                                                                      \n",
       "                                                                                                                                                      \n",
       "                                                                                                                                                      \n",
       "                                                                                                                                                      \n",
       "cos(theta) + 1, cos(theta)) - 1)), Min(1 - Max(0, 1 - Max(0, sign(Max(1, 2*cos(theta) + 1, cos(theta)) - 1))), 1 - Max(0, sign(-cos(theta) + Max(1, 2*\n",
       "──────────────────────────────────────────────────────────────────────────────────────────────────────────────────────────────────────────────────────\n",
       "                                   2                                                                                                                  \n",
       "                                                                                                                                                      \n",
       "                                                                                                                                                      \n",
       "                                                                                                                                                      \n",
       "                                                                                                                                                      \n",
       "                                                                                                                                                      \n",
       "                                                                                                                                                      \n",
       "                                                                                                                                                      \n",
       "                                                                                                                                                      \n",
       "\n",
       "                                                                                                                                                      \n",
       "a)) - 1)), Min(1 - Max(0, sign(-cos(theta) + Max(1, 2*cos(theta) + 1, cos(theta)))), Max(1 - Max(0, 1 - Max(0, sign(Max(1, 2*cos(theta) + 1, cos(theta\n",
       "──────────────────────────────────────────────────────────────────────────────────────────────────────────────────────────────────────────────────────\n",
       "                                                                                                                        2                             \n",
       "                                                                                                                                                      \n",
       "                                                                                                                                                      \n",
       "                                                                                                                                                      \n",
       "                                                                                                                                                      \n",
       "cos(theta) + 1, cos(theta)))))))⎞                                                                                                                     \n",
       "────────────────────────────────⎟⋅Min(1 - Max(0, 1 - Max(0, sign(Max(1, 2*cos(theta) + 1, cos(theta)) - 1))), 1 - Max(0, sign(-cos(theta) + Max(1, 2*c\n",
       "                                ⎠                                                                                                                     \n",
       "                                                                                                                                                      \n",
       "                                                                                                                                                      \n",
       "                                                                                                                                                      \n",
       "                                                                                                                                                      \n",
       "                                                                                                                                                      \n",
       "                                                                                                                                                      \n",
       "                                                                                                                                                      \n",
       "                                                                                                                                                      \n",
       "\n",
       "                                                                                                                                                      \n",
       ")) - 1))), 1 - Max(0, 1 - Max(0, sign(Max(1, 2*cos(theta) + 1, cos(theta)) - 1)), Min(1 - Max(0, 1 - Max(0, sign(Max(1, 2*cos(theta) + 1, cos(theta)) \n",
       "──────────────────────────────────────────────────────────────────────────────────────────────────────────────────────────────────────────────────────\n",
       "                                                                                                                                                      \n",
       "                                                                                                                                                      \n",
       "                                                                                                                                                      \n",
       "                                                                                                                                                      \n",
       "                                                                                                                                                      \n",
       "                                                                                                                                                      \n",
       "os(theta) + 1, cos(theta)))))⋅Min(1 - Max(0, sign(-cos(theta) + Max(1, 2*cos(theta) + 1, cos(theta)))), 1 - Max(0, 1 - Max(0, sign(Max(1, 2*cos(theta)\n",
       "                                                                                                                                                      \n",
       "                                                                                                                                                      \n",
       "                                                                                                                                                      \n",
       "                                                                                                                                                      \n",
       "                                                                                                                                                      \n",
       "                                                                                                                                                      \n",
       "                                                                                                                                                      \n",
       "                                                                                                                                                      \n",
       "                                                                                                                                                      \n",
       "\n",
       "                                                                                      ⎞                                                               \n",
       "- 1))), 1 - Max(0, sign(-cos(theta) + Max(1, 2*cos(theta) + 1, cos(theta))))))))))   1⎟                                                               \n",
       "────────────────────────────────────────────────────────────────────────────────── + ─⎟⋅Min(1 - Max(0, sign(-2*cos(theta) + Max(1, 2*cos(theta) + 1, c\n",
       "                                                                                     2⎠                                                               \n",
       "                                                                                                                                                      \n",
       "                                                                                                                                                      \n",
       "                                                                                                                                                      \n",
       "                                                                                                                                                      \n",
       "                                                                                                                                                      \n",
       " + 1, cos(theta)) - 1)), Min(1 - Max(0, 1 - Max(0, sign(Max(1, 2*cos(theta) + 1, cos(theta)) - 1))), 1 - Max(0, sign(-cos(theta) + Max(1, 2*cos(theta)\n",
       "                                                                                                                                                      \n",
       "                                                                                                                                                      \n",
       "                                                                                                                                                      \n",
       "                                                                                                                                                      \n",
       "                                                                                                                                                      \n",
       "                                                                                                                                                      \n",
       "                                                                                                                                                      \n",
       "                                                                                                                                                      \n",
       "                                                                                                                                                      \n",
       "\n",
       "                                                                                                                                                      \n",
       "                                                                                                                                                      \n",
       "os(theta)) - 1)), 1 - Max(0, 1 - Max(0, sign(Max(1, 2*cos(theta) + 1, cos(theta)) - 1)), Min(1 - Max(0, sign(-cos(theta) + Max(1, 2*cos(theta) + 1, co\n",
       "                                                                                                                                                      \n",
       "                                                                                                                                                      \n",
       "                                                                                                                                                      \n",
       "                                                                                                                                                      \n",
       "                         ⎛                                                               ⎛  __________________________                                \n",
       "                         ⎜                                                               ⎜╲╱ Max(0, 2 - 2*cos(theta))    Max(0, sign(Max(1, 2*cos(thet\n",
       " + 1, cos(theta))))))) - ⎜2⋅(1 - Max(0, sign(Max(1, 2*cos(theta) + 1, cos(theta)) - 1)))⋅⎜──────────────────────────── + ─────────────────────────────\n",
       "                         ⎜                                                               ⎝             2                                           2  \n",
       "                         ⎝                                                                                                                            \n",
       "                                                                                                                                                      \n",
       "                                                                                                                                                      \n",
       "                                                                                                                                                      \n",
       "               ⎛1   Min(1 - Max(0, 1 - Max(0, sign(Max(1, 2*cos(theta) + 1, cos(theta)) - 1))), 1 - Max(0, sign(-cos(theta) + Max(1, 2*cos(theta) + 1,\n",
       "           - 2⋅⎜─ - ──────────────────────────────────────────────────────────────────────────────────────────────────────────────────────────────────\n",
       "               ⎝2                                                                           2                                                         \n",
       "                                                                                                                                                      \n",
       "\n",
       "                                                                                                                                                      \n",
       "                                                                                                                                                      \n",
       "s(theta)))), Max(1 - Max(0, 1 - Max(0, sign(Max(1, 2*cos(theta) + 1, cos(theta)) - 1))), 1 - Max(0, 1 - Max(0, sign(Max(1, 2*cos(theta) + 1, cos(theta\n",
       "                                                                                                                                                      \n",
       "                                                                                                                                                      \n",
       "                                                                                                                                                      \n",
       "                                                                                                                                                      \n",
       "                         ⎞                                                                                                                            \n",
       "a) + 1, cos(theta)) - 1))⎟                  4⋅sin(θ)⋅Min(1 - Max(0, sign(-2*cos(theta) + Max(1, 2*cos(theta) + 1, cos(theta)) - 1)), 1 - Max(0, 1 - Ma\n",
       "─────────────────────────⎟ + ─────────────────────────────────────────────────────────────────────────────────────────────────────────────────────────\n",
       "                         ⎠       __________________________                                                                                           \n",
       "                             2⋅╲╱ Max(0, 2*cos(theta) + 2)  - 2⋅Min(1 - Max(0, sign(-2*cos(theta) + Max(1, 2*cos(theta) + 1, cos(theta)) - 1)), 1 - Ma\n",
       "                                                                                                                                                      \n",
       "                                                                                                                                                      \n",
       "                2                                                                                                                                     \n",
       " cos(theta)))))⎞                                                                                                                                      \n",
       "───────────────⎟ ⋅Min(1 - Max(0, 1 - Max(0, sign(Max(1, 2*cos(theta) + 1, cos(theta)) - 1))), 1 - Max(0, sign(-cos(theta) + Max(1, 2*cos(theta) + 1, c\n",
       "               ⎠                                                                                                                                      \n",
       "                                                                                                                                                      \n",
       "\n",
       "                                                                                                                                                      \n",
       "                                                                                                                                                      \n",
       ")) - 1)), Min(1 - Max(0, 1 - Max(0, sign(Max(1, 2*cos(theta) + 1, cos(theta)) - 1))), 1 - Max(0, sign(-cos(theta) + Max(1, 2*cos(theta) + 1, cos(theta\n",
       "                                                                                                                                                      \n",
       "                                                                                                                                                      \n",
       "                                                                                                                                                      \n",
       "                                                                                                                                                      \n",
       "                                                                                                                                                      \n",
       "x(0, sign(Max(1, 2*cos(theta) + 1, cos(theta)) - 1)), Min(1 - Max(0, sign(-cos(theta) + Max(1, 2*cos(theta) + 1, cos(theta)))), Max(1 - Max(0, 1 - Max\n",
       "──────────────────────────────────────────────────────────────────────────────────────────────────────────────────────────────────────────────────────\n",
       "                                                                                                                                                      \n",
       "x(0, 1 - Max(0, sign(Max(1, 2*cos(theta) + 1, cos(theta)) - 1)), Min(1 - Max(0, sign(-cos(theta) + Max(1, 2*cos(theta) + 1, cos(theta)))), Max(1 - Max\n",
       "                                                                                                                                                      \n",
       "                                                                                                                                                      \n",
       "                   ⎛                                                             ⎛  __________________________                                        \n",
       "             2     ⎜                                                             ⎜╲╱ Max(0, 2 - 2*cos(theta))    Max(0, sign(Max(1, 2*cos(theta) + 1, \n",
       "os(theta)))))  - 2⋅⎜(1 - Max(0, sign(Max(1, 2*cos(theta) + 1, cos(theta)) - 1)))⋅⎜──────────────────────────── + ─────────────────────────────────────\n",
       "                   ⎜                                                             ⎝             2                                           2          \n",
       "                   ⎝                                                                                                                                  \n",
       "\n",
       "          ⎞                                                                                                                                           \n",
       "          ⎟                                                                                                                                           \n",
       "))))))))))⎟⋅Min(1 - Max(0, 1 - Max(0, sign(Max(1, 2*cos(theta) + 1, cos(theta)) - 1))), 1 - Max(0, sign(-cos(theta) + Max(1, 2*cos(theta) + 1, cos(the\n",
       "          ⎟                                                                                                                                           \n",
       "          ⎠                                                                                                                                           \n",
       "                                                                                                                                                      \n",
       "                                                                                                                                                      \n",
       "                                                                                                                                                      \n",
       "(0, sign(Max(1, 2*cos(theta) + 1, cos(theta)) - 1))), 1 - Max(0, 1 - Max(0, sign(Max(1, 2*cos(theta) + 1, cos(theta)) - 1)), Min(1 - Max(0, 1 - Max(0,\n",
       "──────────────────────────────────────────────────────────────────────────────────────────────────────────────────────────────────────────────────────\n",
       "                                                                                                                                                      \n",
       "(0, 1 - Max(0, sign(Max(1, 2*cos(theta) + 1, cos(theta)) - 1))), 1 - Max(0, 1 - Max(0, sign(Max(1, 2*cos(theta) + 1, cos(theta)) - 1)), Min(1 - Max(0,\n",
       "                                                                                                                                                      \n",
       "                                                                                                                                                      \n",
       "                 ⎞                                                                                                                                    \n",
       "cos(theta)) - 1))⎟                  2⋅sin(θ)⋅Min(1 - Max(0, sign(-2*cos(theta) + Max(1, 2*cos(theta) + 1, cos(theta)) - 1)), 1 - Max(0, 1 - Max(0, sig\n",
       "─────────────────⎟ + ─────────────────────────────────────────────────────────────────────────────────────────────────────────────────────────────────\n",
       "                 ⎠       __________________________                                                                                                   \n",
       "                     2⋅╲╱ Max(0, 2*cos(theta) + 2)  - 2⋅Min(1 - Max(0, sign(-2*cos(theta) + Max(1, 2*cos(theta) + 1, cos(theta)) - 1)), 1 - Max(0, 1 -\n",
       "\n",
       "                                                                                                                                                      \n",
       "          ⎛1   Min(1 - Max(0, sign(-cos(theta) + Max(1, 2*cos(theta) + 1, cos(theta)))), 1 - Max(0, 1 - Max(0, sign(Max(1, 2*cos(theta) + 1, cos(theta\n",
       "ta))))) + ⎜─ - ───────────────────────────────────────────────────────────────────────────────────────────────────────────────────────────────────────\n",
       "          ⎝2                                                                                                                                          \n",
       "                                                                                                                                                      \n",
       "                                                                                                                                                      \n",
       "                                                                                                                                                      \n",
       "                                                                                                                                            ⎞ ⎛       \n",
       " sign(Max(1, 2*cos(theta) + 1, cos(theta)) - 1))), 1 - Max(0, sign(-cos(theta) + Max(1, 2*cos(theta) + 1, cos(theta))))))))))               ⎟ ⎜       \n",
       "────────────────────────────────────────────────────────────────────────────────────────────────────────────────────────────────────────────⎟⋅⎜───────\n",
       "                                                                                                                                            ⎟ ⎜    ___\n",
       " 1 - Max(0, sign(Max(1, 2*cos(theta) + 1, cos(theta)) - 1))), 1 - Max(0, sign(-cos(theta) + Max(1, 2*cos(theta) + 1, cos(theta)))))))))) + 2⎠ ⎝2⋅╲╱ Ma\n",
       "                                                                                                                                                      \n",
       "                                                                                                                                                      \n",
       "                                                                                                                                                      \n",
       "n(Max(1, 2*cos(theta) + 1, cos(theta)) - 1)), Min(1 - Max(0, sign(-cos(theta) + Max(1, 2*cos(theta) + 1, cos(theta)))), Max(1 - Max(0, 1 - Max(0, sign\n",
       "──────────────────────────────────────────────────────────────────────────────────────────────────────────────────────────────────────────────────────\n",
       "                                                                                                                                                      \n",
       " Max(0, sign(Max(1, 2*cos(theta) + 1, cos(theta)) - 1)), Min(1 - Max(0, sign(-cos(theta) + Max(1, 2*cos(theta) + 1, cos(theta)))), Max(1 - Max(0, 1 - \n",
       "\n",
       "                                                                                                                                                      \n",
       ")) - 1)), Min(1 - Max(0, 1 - Max(0, sign(Max(1, 2*cos(theta) + 1, cos(theta)) - 1))), 1 - Max(0, sign(-cos(theta) + Max(1, 2*cos(theta) + 1, cos(theta\n",
       "──────────────────────────────────────────────────────────────────────────────────────────────────────────────────────────────────────────────────────\n",
       "          2                                                                                                                                           \n",
       "                                                                                                                                                      \n",
       "                                                                                                                                                      \n",
       "                                                                                                                                                      \n",
       "                                                                                     ⎛  __________________________                                    \n",
       "   2⋅(1 - Max(0, sign(Max(1, 2*cos(theta) + 1, cos(theta)) - 1)))⋅sin(θ)             ⎜╲╱ Max(0, 2*cos(theta) + 2)    Min(1 - Max(0, sign(-2*cos(theta)\n",
       "────────────────────────────────────────────────────────────────────────────────── + ⎜──────────────────────────── - ─────────────────────────────────\n",
       "_______________________                                                              ⎝             2                                                  \n",
       "x(0, 2 - 2*cos(theta))  + 2⋅Max(0, sign(Max(1, 2*cos(theta) + 1, cos(theta)) - 1))                                                                    \n",
       "                                                                                                                                                      \n",
       "                                                                                                                                                      \n",
       "                                                                                                                                                      \n",
       "(Max(1, 2*cos(theta) + 1, cos(theta)) - 1))), 1 - Max(0, 1 - Max(0, sign(Max(1, 2*cos(theta) + 1, cos(theta)) - 1)), Min(1 - Max(0, 1 - Max(0, sign(Ma\n",
       "──────────────────────────────────────────────────────────────────────────────────────────────────────────────────────────────────────────────────────\n",
       "                                                                                                                                                      \n",
       "Max(0, sign(Max(1, 2*cos(theta) + 1, cos(theta)) - 1))), 1 - Max(0, 1 - Max(0, sign(Max(1, 2*cos(theta) + 1, cos(theta)) - 1)), Min(1 - Max(0, 1 - Max\n",
       "\n",
       "         ⎛                                                               ⎛  __________________________                                                \n",
       ")))))))⎞ ⎜                                                               ⎜╲╱ Max(0, 2 - 2*cos(theta))    Max(0, sign(Max(1, 2*cos(theta) + 1, cos(thet\n",
       "───────⎟⋅⎜2⋅(1 - Max(0, sign(Max(1, 2*cos(theta) + 1, cos(theta)) - 1)))⋅⎜──────────────────────────── + ─────────────────────────────────────────────\n",
       "       ⎠ ⎜                                                               ⎝             2                                           2                  \n",
       "         ⎝                                                                                                                                            \n",
       "                                                                                                                                                      \n",
       "                                                                                                                                                      \n",
       "                                                                                                                                                      \n",
       " + Max(1, 2*cos(theta) + 1, cos(theta)) - 1)), 1 - Max(0, 1 - Max(0, sign(Max(1, 2*cos(theta) + 1, cos(theta)) - 1)), Min(1 - Max(0, sign(-cos(theta) \n",
       "──────────────────────────────────────────────────────────────────────────────────────────────────────────────────────────────────────────────────────\n",
       "                                                                                                                                                      \n",
       "                                                                                                                                                      \n",
       "                                                                                                                                                      \n",
       "                                                                                                                                     2                \n",
       "                                                                                                                                    ⎞                 \n",
       "x(1, 2*cos(theta) + 1, cos(theta)) - 1))), 1 - Max(0, sign(-cos(theta) + Max(1, 2*cos(theta) + 1, cos(theta))))))))))               ⎟                 \n",
       "────────────────────────────────────────────────────────────────────────────────────────────────────────────────────────────────────⎟  + 1            \n",
       "                                                                                                                                    ⎟                 \n",
       "(0, sign(Max(1, 2*cos(theta) + 1, cos(theta)) - 1))), 1 - Max(0, sign(-cos(theta) + Max(1, 2*cos(theta) + 1, cos(theta)))))))))) + 2⎠                 \n",
       "\n",
       "         ⎞                                                                                                                                            \n",
       "a)) - 1))⎟                  4⋅sin(θ)⋅Min(1 - Max(0, sign(-2*cos(theta) + Max(1, 2*cos(theta) + 1, cos(theta)) - 1)), 1 - Max(0, 1 - Max(0, sign(Max(1,\n",
       "─────────⎟ + ─────────────────────────────────────────────────────────────────────────────────────────────────────────────────────────────────────────\n",
       "         ⎠       __________________________                                                                                                           \n",
       "             2⋅╲╱ Max(0, 2*cos(theta) + 2)  - 2⋅Min(1 - Max(0, sign(-2*cos(theta) + Max(1, 2*cos(theta) + 1, cos(theta)) - 1)), 1 - Max(0, 1 - Max(0, \n",
       "                                                                                                                                                      \n",
       "                                                                                                                                                      \n",
       "                                                                                                                                                      \n",
       "+ Max(1, 2*cos(theta) + 1, cos(theta)))), Max(1 - Max(0, 1 - Max(0, sign(Max(1, 2*cos(theta) + 1, cos(theta)) - 1))), 1 - Max(0, 1 - Max(0, sign(Max(1\n",
       "──────────────────────────────────────────────────────────────────────────────────────────────────────────────────────────────────────────────────────\n",
       "                                                                             2                                                                        \n",
       "                                                                                                                                                      \n",
       "                                                                                                                                                      \n",
       "                                                                                                                                                      \n",
       "                                                                                                                                                      \n",
       "                                                                                                                                                      \n",
       "                                                                                                                                                      \n",
       "                                                                                                                                                      \n",
       "                                                                                                                                                      \n",
       "\n",
       "                                                                                                                                                      \n",
       " 2*cos(theta) + 1, cos(theta)) - 1)), Min(1 - Max(0, sign(-cos(theta) + Max(1, 2*cos(theta) + 1, cos(theta)))), Max(1 - Max(0, 1 - Max(0, sign(Max(1, \n",
       "──────────────────────────────────────────────────────────────────────────────────────────────────────────────────────────────────────────────────────\n",
       "                                                                                                                                                      \n",
       "sign(Max(1, 2*cos(theta) + 1, cos(theta)) - 1)), Min(1 - Max(0, sign(-cos(theta) + Max(1, 2*cos(theta) + 1, cos(theta)))), Max(1 - Max(0, 1 - Max(0, s\n",
       "                                                                                                                                                      \n",
       "                                                                                                                                                      \n",
       "                                                                                                                                                      \n",
       ", 2*cos(theta) + 1, cos(theta)) - 1)), Min(1 - Max(0, 1 - Max(0, sign(Max(1, 2*cos(theta) + 1, cos(theta)) - 1))), 1 - Max(0, sign(-cos(theta) + Max(1\n",
       "──────────────────────────────────────────────────────────────────────────────────────────────────────────────────────────────────────────────────────\n",
       "                                                                                                                                                      \n",
       "                                                                                                                                                      \n",
       "                                                                                                                                                      \n",
       "                                                                                                                                                      \n",
       "                                                                                                                                                      \n",
       "                                                                                                                                                      \n",
       "                                                                                                                                                      \n",
       "                                                                                                                                                      \n",
       "                                                                                                                                                      \n",
       "\n",
       "                                                                                                                                                      \n",
       "2*cos(theta) + 1, cos(theta)) - 1))), 1 - Max(0, 1 - Max(0, sign(Max(1, 2*cos(theta) + 1, cos(theta)) - 1)), Min(1 - Max(0, 1 - Max(0, sign(Max(1, 2*c\n",
       "──────────────────────────────────────────────────────────────────────────────────────────────────────────────────────────────────────────────────────\n",
       "                                                                                                                                                      \n",
       "ign(Max(1, 2*cos(theta) + 1, cos(theta)) - 1))), 1 - Max(0, 1 - Max(0, sign(Max(1, 2*cos(theta) + 1, cos(theta)) - 1)), Min(1 - Max(0, 1 - Max(0, sign\n",
       "                                                                                                                                                      \n",
       "                                                                                                                                                      \n",
       "                                           ⎞                                                                                                          \n",
       ", 2*cos(theta) + 1, cos(theta))))))))))   1⎟                                                                                                          \n",
       "─────────────────────────────────────── + ─⎟⋅Min(1 - Max(0, sign(-2*cos(theta) + Max(1, 2*cos(theta) + 1, cos(theta)) - 1)), 1 - Max(0, 1 - Max(0, sig\n",
       "                                          2⎠                                                                                                          \n",
       "                                                                                                                                                      \n",
       "                                                                                                                                                      \n",
       "                                                                                                                                                      \n",
       "                                                                                                                                                      \n",
       "                                                                                                                                                      \n",
       "                                                                                                                                                      \n",
       "                                                                                                                                                      \n",
       "                                                                                                                                                      \n",
       "\n",
       "                                                                                                                            ⎞                         \n",
       "os(theta) + 1, cos(theta)) - 1))), 1 - Max(0, sign(-cos(theta) + Max(1, 2*cos(theta) + 1, cos(theta))))))))))               ⎟                         \n",
       "────────────────────────────────────────────────────────────────────────────────────────────────────────────────────────────⎟⋅Min(1 - Max(0, sign(-cos\n",
       "                                                                                                                            ⎟                         \n",
       "(Max(1, 2*cos(theta) + 1, cos(theta)) - 1))), 1 - Max(0, sign(-cos(theta) + Max(1, 2*cos(theta) + 1, cos(theta)))))))))) + 2⎠                         \n",
       "                                                                                                                                                      \n",
       "                                                                                                                                                      \n",
       "                                                                                                                                                      \n",
       "                                                                                                                                                      \n",
       "n(Max(1, 2*cos(theta) + 1, cos(theta)) - 1)), Min(1 - Max(0, sign(-cos(theta) + Max(1, 2*cos(theta) + 1, cos(theta)))), Max(1 - Max(0, 1 - Max(0, sign\n",
       "                                                                                                                                                      \n",
       "                                                                                                                                                      \n",
       "                                                                                                                                                      \n",
       "                                                                                                                                                      \n",
       "                                                                                                                                                      \n",
       "                                                                                                                                                      \n",
       "                                                                                                                                                      \n",
       "                                                                                                                                                      \n",
       "                                                                                                                                                      \n",
       "\n",
       "                                                                                                                                                      \n",
       "                                                                                                                                                      \n",
       "(theta) + Max(1, 2*cos(theta) + 1, cos(theta)))), 1 - Max(0, 1 - Max(0, sign(Max(1, 2*cos(theta) + 1, cos(theta)) - 1)), Min(1 - Max(0, 1 - Max(0, sig\n",
       "                                                                                                                                                      \n",
       "                                                                                                                                                      \n",
       "                                                                                                                                                      \n",
       "                                                                                                                                                      \n",
       "                                                                                                                                                      \n",
       "                                                                                                                                                      \n",
       "(Max(1, 2*cos(theta) + 1, cos(theta)) - 1))), 1 - Max(0, 1 - Max(0, sign(Max(1, 2*cos(theta) + 1, cos(theta)) - 1)), Min(1 - Max(0, 1 - Max(0, sign(Ma\n",
       "                                                                                                                                                      \n",
       "                                                                                                                                                      \n",
       "                                                                                                                                                      \n",
       "                                                                                                                                                      \n",
       "                                                                                                                                                      \n",
       "                                                                                                                                                      \n",
       "                                                                                                                                                      \n",
       "                                                                                                                                                      \n",
       "                                                                                                                                                      \n",
       "\n",
       "                                                                                                                      ⎤\n",
       "                                                                                                                      ⎥\n",
       "n(Max(1, 2*cos(theta) + 1, cos(theta)) - 1))), 1 - Max(0, sign(-cos(theta) + Max(1, 2*cos(theta) + 1, cos(theta)))))))⎥\n",
       "                                                                                                                      ⎥\n",
       "                                                                                                                      ⎥\n",
       "                                                                                                                      ⎥\n",
       "                                                                                                                      ⎥\n",
       "                                                                                                                     ⎞⎥\n",
       "                                                                                                                     ⎟⎥\n",
       "x(1, 2*cos(theta) + 1, cos(theta)) - 1))), 1 - Max(0, sign(-cos(theta) + Max(1, 2*cos(theta) + 1, cos(theta))))))))))⎟⎥\n",
       "                                                                                                                     ⎟⎥\n",
       "                                                                                                                     ⎠⎥\n",
       "                                                                                                                      ⎥\n",
       "                                                                                                                      ⎥\n",
       "                                                                                                                      ⎥\n",
       "                                                                                                                      ⎥\n",
       "                                                                                                                      ⎥\n",
       "                                                                                                                      ⎥\n",
       "                                                                                                                      ⎦"
      ]
     },
     "metadata": {},
     "output_type": "display_data"
    }
   ],
   "source": [
    "R_mat = sf.Matrix( [[ 1, 0,0],\n",
    "                  [0,sf.cos(theta), -sf.sin(theta)],\n",
    "                  [0, sf.sin(theta), sf.cos(theta)],\n",
    "                  ])\n",
    "R = sf.Rot3.from_rotation_matrix(R_mat)\n",
    "display(R_mat)\n",
    "display(R)\n",
    "display(R.to_rotation_matrix())"
   ]
  },
  {
   "cell_type": "code",
   "execution_count": 19,
   "id": "2267d491-fb0f-4ad5-8a58-e181a0230db3",
   "metadata": {},
   "outputs": [],
   "source": [
    "R = sf.Rot3.from_yaw_pitch_roll(0,0,theta)\n",
    "ypr = R.to_yaw_pitch_roll()"
   ]
  },
  {
   "cell_type": "code",
   "execution_count": 22,
   "id": "206478b5-132b-4c58-9180-24d2a7df1ca8",
   "metadata": {},
   "outputs": [
    {
     "data": {
      "text/plain": [
       "<Rot3 <Q xyzw=[sin(theta/2), 0, 0, cos(theta/2)]>>"
      ]
     },
     "metadata": {},
     "output_type": "display_data"
    },
    {
     "data": {
      "image/png": "[encoded data removed]",
      "text/latex": [
       "$\\displaystyle \\left[ 0, \\  0, \\  \\operatorname{atan}_{2}{\\left(\\sin{\\left(\\theta \\right)},\\cos{\\left(\\theta \\right)} \\right)}\\right]$"
      ],
      "text/plain": [
       "[0, 0, atan2(sin(θ), cos(θ))]"
      ]
     },
     "metadata": {},
     "output_type": "display_data"
    }
   ],
   "source": [
    "display(R)\n",
    "display(ops.StorageOps.simplify(list(ypr)))"
   ]
  },
  {
   "cell_type": "code",
   "execution_count": 23,
   "id": "e58f24dd-999f-4e23-a9a7-c1144a564912",
   "metadata": {},
   "outputs": [],
   "source": [
    "world_R_body = sf.Rot3.symbolic(\"R\")"
   ]
  },
  {
   "cell_type": "code",
   "execution_count": 24,
   "id": "3dcc1c74-872a-42a1-ab7b-a01b95d3e442",
   "metadata": {},
   "outputs": [],
   "source": [
    "body_t_point = sf.Vector3.symbolic(\"p\")"
   ]
  },
  {
   "cell_type": "code",
   "execution_count": 25,
   "id": "32e2eb20-570e-4925-b667-9c8f646603b3",
   "metadata": {},
   "outputs": [],
   "source": [
    "world_t_point = world_R_body*body_t_point;"
   ]
  },
  {
   "cell_type": "code",
   "execution_count": 26,
   "id": "b04d73b1-84ae-4934-b450-6451fa199979",
   "metadata": {},
   "outputs": [
    {
     "data": {
      "image/png": "[encoded data removed]",
      "text/latex": [
       "$\\displaystyle \\left[\\begin{matrix}p_{0} \\left(- 2 R_{y}^{2} - 2 R_{z}^{2} + 1\\right) + p_{1} \\left(- 2 R_{w} R_{z} + 2 R_{x} R_{y}\\right) + p_{2} \\cdot \\left(2 R_{w} R_{y} + 2 R_{x} R_{z}\\right)\\\\p_{0} \\cdot \\left(2 R_{w} R_{z} + 2 R_{x} R_{y}\\right) + p_{1} \\left(- 2 R_{x}^{2} - 2 R_{z}^{2} + 1\\right) + p_{2} \\left(- 2 R_{w} R_{x} + 2 R_{y} R_{z}\\right)\\\\p_{0} \\left(- 2 R_{w} R_{y} + 2 R_{x} R_{z}\\right) + p_{1} \\cdot \\left(2 R_{w} R_{x} + 2 R_{y} R_{z}\\right) + p_{2} \\left(- 2 R_{x}^{2} - 2 R_{y}^{2} + 1\\right)\\end{matrix}\\right]$"
      ],
      "text/plain": [
       "⎡   ⎛       2        2    ⎞                                                         ⎤\n",
       "⎢p₀⋅⎝- 2⋅R_y  - 2⋅R_z  + 1⎠ + p₁⋅(-2⋅R_w⋅R_z + 2⋅Rₓ⋅R_y) + p₂⋅(2⋅R_w⋅R_y + 2⋅Rₓ⋅R_z)⎥\n",
       "⎢                                                                                   ⎥\n",
       "⎢                               ⎛      2        2    ⎞                              ⎥\n",
       "⎢p₀⋅(2⋅R_w⋅R_z + 2⋅Rₓ⋅R_y) + p₁⋅⎝- 2⋅Rₓ  - 2⋅R_z  + 1⎠ + p₂⋅(-2⋅R_w⋅Rₓ + 2⋅R_y⋅R_z) ⎥\n",
       "⎢                                                                                   ⎥\n",
       "⎢                                                            ⎛      2        2    ⎞ ⎥\n",
       "⎣p₀⋅(-2⋅R_w⋅R_y + 2⋅Rₓ⋅R_z) + p₁⋅(2⋅R_w⋅Rₓ + 2⋅R_y⋅R_z) + p₂⋅⎝- 2⋅Rₓ  - 2⋅R_y  + 1⎠ ⎦"
      ]
     },
     "metadata": {},
     "output_type": "display_data"
    }
   ],
   "source": [
    "display(world_t_point)"
   ]
  },
  {
   "cell_type": "code",
   "execution_count": 27,
   "id": "2407301f-8c55-4818-82a0-b570d3ef8979",
   "metadata": {},
   "outputs": [],
   "source": [
    "body_R_cam = sf.Rot3.symbolic(\"R_cam\")"
   ]
  },
  {
   "cell_type": "code",
   "execution_count": 28,
   "id": "e7d5b23a-52da-4bbd-8cc0-dc762338d691",
   "metadata": {},
   "outputs": [],
   "source": [
    "world_R_cam = world_R_body*body_R_cam"
   ]
  },
  {
   "cell_type": "code",
   "execution_count": 34,
   "id": "816563b9-fbf8-4459-b30e-922d9f366864",
   "metadata": {},
   "outputs": [
    {
     "data": {
      "text/plain": [
       "<Rot3 <Q xyzw=[R_cam_x, R_cam_y, R_cam_z, R_cam_w]>>"
      ]
     },
     "metadata": {},
     "output_type": "display_data"
    },
    {
     "data": {
      "text/plain": [
       "<Rot3 <Q xyzw=[-R_cam_x, -R_cam_y, -R_cam_z, R_cam_w]>>"
      ]
     },
     "metadata": {},
     "output_type": "display_data"
    }
   ],
   "source": [
    "cam_R_world = world_R_cam.inverse()\n",
    "display(body_R_cam)\n",
    "display(cam_R_body)"
   ]
  },
  {
   "cell_type": "code",
   "execution_count": 37,
   "id": "60dab434-660f-4044-b1ce-f384403d3b5b",
   "metadata": {},
   "outputs": [
    {
     "data": {
      "image/png": "[encoded data removed]",
      "text/latex": [
       "$\\displaystyle \\left[\\begin{matrix}- 0.662947416398295 p_{0} - 0.554353314451006 p_{1} - 0.503182994394693 p_{2}\\\\- 0.0665166116342196 p_{0} + 0.713061539471145 p_{1} - 0.697938952419008 p_{2}\\\\0.74570521217672 p_{0} - 0.429226797490819 p_{1} - 0.509596009450867 p_{2}\\end{matrix}\\right]$"
      ],
      "text/plain": [
       "⎡-0.662947416398295⋅p₀ - 0.554353314451006⋅p₁ - 0.503182994394693⋅p₂ ⎤\n",
       "⎢                                                                    ⎥\n",
       "⎢-0.0665166116342196⋅p₀ + 0.713061539471145⋅p₁ - 0.697938952419008⋅p₂⎥\n",
       "⎢                                                                    ⎥\n",
       "⎣ 0.74570521217672⋅p₀ - 0.429226797490819⋅p₁ - 0.509596009450867⋅p₂  ⎦"
      ]
     },
     "metadata": {},
     "output_type": "display_data"
    }
   ],
   "source": [
    "world_R_body_numeric = sf.Rot3.from_yaw_pitch_roll(0.1, -2.3, 0.7)\n",
    "display(world_t_point.subs(world_R_body, world_R_body_numeric))"
   ]
  },
  {
   "cell_type": "code",
   "execution_count": 38,
   "id": "c60776dd-5741-4ec7-9ca3-3f42328bb902",
   "metadata": {},
   "outputs": [
    {
     "data": {
      "text/plain": [
       "<Pose3 R=<Rot3 <Q xyzw=[T.R_x, T.R_y, T.R_z, T.R_w]>>, t=(T.t0, T.t1, T.t2)>"
      ]
     },
     "metadata": {},
     "output_type": "display_data"
    }
   ],
   "source": [
    "world_T_body = sf.Pose3.symbolic(\"T\")\n",
    "display(world_T_body)"
   ]
  },
  {
   "cell_type": "code",
   "execution_count": 39,
   "id": "c3398840-1d25-46b2-bfc6-e2565ccef8ec",
   "metadata": {},
   "outputs": [],
   "source": [
    "world_R_body = sf.Rot3.symbolic(\"R\")\n",
    "world_t_body = sf.Vector3.symbolic(\"t\")"
   ]
  },
  {
   "cell_type": "code",
   "execution_count": 40,
   "id": "c2a4aca1-ae61-42ce-b7ec-41f75f2d4ca4",
   "metadata": {},
   "outputs": [],
   "source": [
    "world_T_body = sf.Pose3(R=world_R_body, t=world_t_body)"
   ]
  },
  {
   "cell_type": "code",
   "execution_count": 41,
   "id": "0df21039-c0ec-4e10-a05b-3c4607d1a476",
   "metadata": {},
   "outputs": [
    {
     "data": {
      "text/plain": [
       "<Pose3 R=<Rot3 <Q xyzw=[R_x, R_y, R_z, R_w]>>, t=(t0, t1, t2)>"
      ]
     },
     "metadata": {},
     "output_type": "display_data"
    }
   ],
   "source": [
    "display(world_T_body)"
   ]
  },
  {
   "cell_type": "code",
   "execution_count": 42,
   "id": "389ef405-5a9d-4341-b369-4866f8574d4b",
   "metadata": {},
   "outputs": [],
   "source": [
    "body_T_cam = sf.Pose3.symbolic(\"T_cam\")\n",
    "world_T_cam =  world_T_body*body_T_cam"
   ]
  },
  {
   "cell_type": "code",
   "execution_count": 43,
   "id": "c322fc05-c142-42d4-b6ed-598b9f6695a4",
   "metadata": {},
   "outputs": [],
   "source": [
    "body_t_point = sf.Vector3.symbolic(\"p\")"
   ]
  },
  {
   "cell_type": "code",
   "execution_count": 44,
   "id": "9450bea5-ab7c-40f0-9d8c-9c5ac0551edc",
   "metadata": {},
   "outputs": [
    {
     "data": {
      "image/png": "[encoded data removed]",
      "text/latex": [
       "$\\displaystyle \\left[\\begin{matrix}p_{0} \\left(- 2 R_{y}^{2} - 2 R_{z}^{2} + 1\\right) + p_{1} \\left(- 2 R_{w} R_{z} + 2 R_{x} R_{y}\\right) + p_{2} \\cdot \\left(2 R_{w} R_{y} + 2 R_{x} R_{z}\\right) + t_{0}\\\\p_{0} \\cdot \\left(2 R_{w} R_{z} + 2 R_{x} R_{y}\\right) + p_{1} \\left(- 2 R_{x}^{2} - 2 R_{z}^{2} + 1\\right) + p_{2} \\left(- 2 R_{w} R_{x} + 2 R_{y} R_{z}\\right) + t_{1}\\\\p_{0} \\left(- 2 R_{w} R_{y} + 2 R_{x} R_{z}\\right) + p_{1} \\cdot \\left(2 R_{w} R_{x} + 2 R_{y} R_{z}\\right) + p_{2} \\left(- 2 R_{x}^{2} - 2 R_{y}^{2} + 1\\right) + t_{2}\\end{matrix}\\right]$"
      ],
      "text/plain": [
       "⎡   ⎛       2        2    ⎞                                                              ⎤\n",
       "⎢p₀⋅⎝- 2⋅R_y  - 2⋅R_z  + 1⎠ + p₁⋅(-2⋅R_w⋅R_z + 2⋅Rₓ⋅R_y) + p₂⋅(2⋅R_w⋅R_y + 2⋅Rₓ⋅R_z) + t₀⎥\n",
       "⎢                                                                                        ⎥\n",
       "⎢                               ⎛      2        2    ⎞                                   ⎥\n",
       "⎢p₀⋅(2⋅R_w⋅R_z + 2⋅Rₓ⋅R_y) + p₁⋅⎝- 2⋅Rₓ  - 2⋅R_z  + 1⎠ + p₂⋅(-2⋅R_w⋅Rₓ + 2⋅R_y⋅R_z) + t₁ ⎥\n",
       "⎢                                                                                        ⎥\n",
       "⎢                                                            ⎛      2        2    ⎞      ⎥\n",
       "⎣p₀⋅(-2⋅R_w⋅R_y + 2⋅Rₓ⋅R_z) + p₁⋅(2⋅R_w⋅Rₓ + 2⋅R_y⋅R_z) + p₂⋅⎝- 2⋅Rₓ  - 2⋅R_y  + 1⎠ + t₂ ⎦"
      ]
     },
     "metadata": {},
     "output_type": "display_data"
    }
   ],
   "source": [
    "world_t_point = world_T_body*body_t_point\n",
    "display(world_t_point)"
   ]
  },
  {
   "cell_type": "code",
   "execution_count": 45,
   "id": "e94026f1-6764-4fed-aac2-25524627f02a",
   "metadata": {},
   "outputs": [],
   "source": [
    "body_T_world = world_T_body.inverse()"
   ]
  },
  {
   "cell_type": "code",
   "execution_count": 46,
   "id": "33a01cd9-9522-4845-b15b-fdd8ece33532",
   "metadata": {},
   "outputs": [
    {
     "data": {
      "text/plain": [
       "<Pose3 R=<Rot3 <Q xyzw=[R_x, R_y, R_z, R_w]>>, t=(t0, t1, t2)>"
      ]
     },
     "metadata": {},
     "output_type": "display_data"
    }
   ],
   "source": [
    "display(world_T_body)"
   ]
  },
  {
   "cell_type": "code",
   "execution_count": 47,
   "id": "a65ea59c-a5ed-4376-921e-ef0b358b6ed9",
   "metadata": {},
   "outputs": [
    {
     "data": {
      "text/plain": [
       "<Pose3 R=<Rot3 <Q xyzw=[-R_x, -R_y, -R_z, R_w]>>, t=(-t0*(-2*R_y**2 - 2*R_z**2 + 1) - t1*(2*R_w*R_z + 2*R_x*R_y) - t2*(-2*R_w*R_y + 2*R_x*R_z), -t0*(-2*R_w*R_z + 2*R_x*R_y) - t1*(-2*R_x**2 - 2*R_z**2 + 1) - t2*(2*R_w*R_x + 2*R_y*R_z), -t0*(2*R_w*R_y + 2*R_x*R_z) - t1*(-2*R_w*R_x + 2*R_y*R_z) - t2*(-2*R_x**2 - 2*R_y**2 + 1))>"
      ]
     },
     "metadata": {},
     "output_type": "display_data"
    }
   ],
   "source": [
    "display(body_T_world)"
   ]
  },
  {
   "cell_type": "markdown",
   "id": "c01c7cf5-f48b-4b4a-b3fb-34349357e09a",
   "metadata": {},
   "source": [
    "# Vector and matrices"
   ]
  },
  {
   "cell_type": "code",
   "execution_count": 48,
   "id": "25d51642-3ae6-41d7-8c10-a0e5c60094f3",
   "metadata": {},
   "outputs": [],
   "source": [
    "m1 = sf.Matrix([[1,2,3],[4,5,6]])\n",
    "m2 = sf.Matrix(2,3,[1,2,3,4,5,6])"
   ]
  },
  {
   "cell_type": "code",
   "execution_count": 49,
   "id": "e56ea408-b9f2-4bd0-b09e-5a47fc9d1a66",
   "metadata": {},
   "outputs": [],
   "source": [
    "m3 = sf.Matrix23(1,2,3,4,5,6)\n",
    "m4 = sf.Matrix23([1,2,3,4,5,6])"
   ]
  },
  {
   "cell_type": "code",
   "execution_count": 50,
   "id": "12fedd6d-b336-442f-9f55-34574a61d193",
   "metadata": {},
   "outputs": [],
   "source": [
    "m5 = sf.M([[1,2,3],[4,5,6]])"
   ]
  },
  {
   "cell_type": "code",
   "execution_count": 51,
   "id": "4160eacf-d418-4a6f-a537-d6e6cd90508c",
   "metadata": {},
   "outputs": [
    {
     "data": {
      "image/png": "[encoded data removed]",
      "text/latex": [
       "$\\displaystyle \\left[\\begin{matrix}1 & 2 & 3\\\\3 & 4 & 5\\end{matrix}\\right]$"
      ],
      "text/plain": [
       "⎡1  2  3⎤\n",
       "⎢       ⎥\n",
       "⎣3  4  5⎦"
      ]
     },
     "metadata": {},
     "output_type": "display_data"
    }
   ],
   "source": [
    "m9 = sf.Matrix23.block_matrix([[sf.M13([1,2,3])],[sf.M13([3,4,5])]])\n",
    "display(m9)"
   ]
  },
  {
   "cell_type": "code",
   "execution_count": 54,
   "id": "26db97c8-f644-4ed7-811c-3e1408cd54d5",
   "metadata": {},
   "outputs": [],
   "source": [
    "v1 = sf.Matrix([[1],[2],[3]])\n",
    "v2 = sf.Matrix([1,2,3])"
   ]
  },
  {
   "cell_type": "code",
   "execution_count": 56,
   "id": "54f9e1fd-96c0-4c05-88ab-7fef945b3e30",
   "metadata": {},
   "outputs": [
    {
     "data": {
      "image/png": "[encoded data removed]",
      "text/latex": [
       "$\\displaystyle \\left[\\begin{matrix}1\\\\2\\\\3\\end{matrix}\\right]$"
      ],
      "text/plain": [
       "⎡1⎤\n",
       "⎢ ⎥\n",
       "⎢2⎥\n",
       "⎢ ⎥\n",
       "⎣3⎦"
      ]
     },
     "metadata": {},
     "output_type": "display_data"
    },
    {
     "data": {
      "image/png": "[encoded data removed]",
      "text/latex": [
       "$\\displaystyle \\left[\\begin{matrix}1\\\\2\\\\3\\end{matrix}\\right]$"
      ],
      "text/plain": [
       "⎡1⎤\n",
       "⎢ ⎥\n",
       "⎢2⎥\n",
       "⎢ ⎥\n",
       "⎣3⎦"
      ]
     },
     "metadata": {},
     "output_type": "display_data"
    }
   ],
   "source": [
    "display(v1)\n",
    "display(v2) # column vector"
   ]
  },
  {
   "cell_type": "code",
   "execution_count": 57,
   "id": "f59bbd4e-6d6e-48f3-8950-6bbf847055e4",
   "metadata": {},
   "outputs": [],
   "source": [
    "v3 = sf.Vector3(1,2,3)"
   ]
  },
  {
   "cell_type": "code",
   "execution_count": 58,
   "id": "d2f00e1f-8f4a-4fbb-ab6f-05aecbbb6681",
   "metadata": {},
   "outputs": [
    {
     "data": {
      "image/png": "[encoded data removed]",
      "text/latex": [
       "$\\displaystyle \\left[\\begin{matrix}1\\\\2\\\\3\\end{matrix}\\right]$"
      ],
      "text/plain": [
       "⎡1⎤\n",
       "⎢ ⎥\n",
       "⎢2⎥\n",
       "⎢ ⎥\n",
       "⎣3⎦"
      ]
     },
     "metadata": {},
     "output_type": "display_data"
    }
   ],
   "source": [
    "display(v3)"
   ]
  },
  {
   "cell_type": "code",
   "execution_count": 59,
   "id": "ecaece03-6c5a-4031-a26e-92f7010b53d3",
   "metadata": {},
   "outputs": [
    {
     "data": {
      "image/png": "[encoded data removed]",
      "text/latex": [
       "$\\displaystyle \\left[\\begin{matrix}k_{0 0} p_{0 0} + k_{0 1} p_{1 0} + k_{0 2} p_{2 0} & k_{0 0} p_{0 1} + k_{0 1} p_{1 1} + k_{0 2} p_{2 1} & k_{0 0} p_{0 2} + k_{0 1} p_{1 2} + k_{0 2} p_{2 2}\\\\k_{1 0} p_{0 0} + k_{1 1} p_{1 0} + k_{1 2} p_{2 0} & k_{1 0} p_{0 1} + k_{1 1} p_{1 1} + k_{1 2} p_{2 1} & k_{1 0} p_{0 2} + k_{1 1} p_{1 2} + k_{1 2} p_{2 2}\\\\k_{2 0} p_{0 0} + k_{2 1} p_{1 0} + k_{2 2} p_{2 0} & k_{2 0} p_{0 1} + k_{2 1} p_{1 1} + k_{2 2} p_{2 1} & k_{2 0} p_{0 2} + k_{2 1} p_{1 2} + k_{2 2} p_{2 2}\\end{matrix}\\right]$"
      ],
      "text/plain": [
       "⎡k₀ ₀⋅p₀ ₀ + k₀ ₁⋅p₁ ₀ + k₀ ₂⋅p₂ ₀  k₀ ₀⋅p₀ ₁ + k₀ ₁⋅p₁ ₁ + k₀ ₂⋅p₂ ₁  k₀ ₀⋅p₀ ₂ + k₀ ₁⋅p₁ ₂ + k₀ ₂⋅p₂ ₂⎤\n",
       "⎢                                                                                                       ⎥\n",
       "⎢k₁ ₀⋅p₀ ₀ + k₁ ₁⋅p₁ ₀ + k₁ ₂⋅p₂ ₀  k₁ ₀⋅p₀ ₁ + k₁ ₁⋅p₁ ₁ + k₁ ₂⋅p₂ ₁  k₁ ₀⋅p₀ ₂ + k₁ ₁⋅p₁ ₂ + k₁ ₂⋅p₂ ₂⎥\n",
       "⎢                                                                                                       ⎥\n",
       "⎣k₂ ₀⋅p₀ ₀ + k₂ ₁⋅p₁ ₀ + k₂ ₂⋅p₂ ₀  k₂ ₀⋅p₀ ₁ + k₂ ₁⋅p₁ ₁ + k₂ ₂⋅p₂ ₁  k₂ ₀⋅p₀ ₂ + k₂ ₁⋅p₁ ₂ + k₂ ₂⋅p₂ ₂⎦"
      ]
     },
     "metadata": {},
     "output_type": "display_data"
    }
   ],
   "source": [
    "m12 = sf.M33.symbolic(\"k\")\n",
    "m23 = sf.M33.symbolic(\"p\")\n",
    "display(m12*m23)"
   ]
  },
  {
   "cell_type": "code",
   "execution_count": 62,
   "id": "e5f43d45-ed40-4bb2-a8e5-04e99807040b",
   "metadata": {},
   "outputs": [
    {
     "ename": "AssertionError",
     "evalue": "Not a vector.",
     "output_type": "error",
     "traceback": [
      "\u001b[0;31m---------------------------------------------------------------------------\u001b[0m",
      "\u001b[0;31mAssertionError\u001b[0m                            Traceback (most recent call last)",
      "Cell \u001b[0;32mIn[62], line 1\u001b[0m\n\u001b[0;32m----> 1\u001b[0m norm \u001b[38;5;241m=\u001b[39m \u001b[43mm12\u001b[49m\u001b[38;5;241;43m.\u001b[39;49m\u001b[43mnorm\u001b[49m\u001b[43m(\u001b[49m\u001b[43m)\u001b[49m\n\u001b[1;32m      2\u001b[0m squared_norm \u001b[38;5;241m=\u001b[39m m\u001b[38;5;241m.\u001b[39msquared_norm()\n",
      "File \u001b[0;32m~/.local/lib/python3.8/site-packages/symforce/geo/matrix.py:574\u001b[0m, in \u001b[0;36mMatrix.norm\u001b[0;34m(self, epsilon)\u001b[0m\n\u001b[1;32m    570\u001b[0m \u001b[38;5;28;01mdef\u001b[39;00m \u001b[38;5;21mnorm\u001b[39m(\u001b[38;5;28mself\u001b[39m, epsilon: _T\u001b[38;5;241m.\u001b[39mScalar \u001b[38;5;241m=\u001b[39m sf\u001b[38;5;241m.\u001b[39mepsilon()) \u001b[38;5;241m-\u001b[39m\u001b[38;5;241m>\u001b[39m _T\u001b[38;5;241m.\u001b[39mScalar:\n\u001b[1;32m    571\u001b[0m \u001b[38;5;250m    \u001b[39m\u001b[38;5;124;03m\"\"\"\u001b[39;00m\n\u001b[1;32m    572\u001b[0m \u001b[38;5;124;03m    Norm of a vector (square root of magnitude).\u001b[39;00m\n\u001b[1;32m    573\u001b[0m \u001b[38;5;124;03m    \"\"\"\u001b[39;00m\n\u001b[0;32m--> 574\u001b[0m     \u001b[38;5;28;01mreturn\u001b[39;00m sf\u001b[38;5;241m.\u001b[39msqrt(\u001b[38;5;28;43mself\u001b[39;49m\u001b[38;5;241;43m.\u001b[39;49m\u001b[43msquared_norm\u001b[49m\u001b[43m(\u001b[49m\u001b[43m)\u001b[49m \u001b[38;5;241m+\u001b[39m epsilon)\n",
      "File \u001b[0;32m~/.local/lib/python3.8/site-packages/symforce/geo/matrix.py:567\u001b[0m, in \u001b[0;36mMatrix.squared_norm\u001b[0;34m(self)\u001b[0m\n\u001b[1;32m    563\u001b[0m \u001b[38;5;28;01mdef\u001b[39;00m \u001b[38;5;21msquared_norm\u001b[39m(\u001b[38;5;28mself\u001b[39m) \u001b[38;5;241m-\u001b[39m\u001b[38;5;241m>\u001b[39m _T\u001b[38;5;241m.\u001b[39mScalar:\n\u001b[1;32m    564\u001b[0m \u001b[38;5;250m    \u001b[39m\u001b[38;5;124;03m\"\"\"\u001b[39;00m\n\u001b[1;32m    565\u001b[0m \u001b[38;5;124;03m    Squared norm of a vector, equivalent to the dot product with itself.\u001b[39;00m\n\u001b[1;32m    566\u001b[0m \u001b[38;5;124;03m    \"\"\"\u001b[39;00m\n\u001b[0;32m--> 567\u001b[0m     \u001b[38;5;28;43mself\u001b[39;49m\u001b[38;5;241;43m.\u001b[39;49m\u001b[43m_assert_is_vector\u001b[49m\u001b[43m(\u001b[49m\u001b[43m)\u001b[49m\n\u001b[1;32m    568\u001b[0m     \u001b[38;5;28;01mreturn\u001b[39;00m \u001b[38;5;28mself\u001b[39m\u001b[38;5;241m.\u001b[39mdot(\u001b[38;5;28mself\u001b[39m)\n",
      "File \u001b[0;32m~/.local/lib/python3.8/site-packages/symforce/geo/matrix.py:917\u001b[0m, in \u001b[0;36mMatrix._assert_is_vector\u001b[0;34m(self)\u001b[0m\n\u001b[1;32m    916\u001b[0m \u001b[38;5;28;01mdef\u001b[39;00m \u001b[38;5;21m_assert_is_vector\u001b[39m(\u001b[38;5;28mself\u001b[39m) \u001b[38;5;241m-\u001b[39m\u001b[38;5;241m>\u001b[39m \u001b[38;5;28;01mNone\u001b[39;00m:\n\u001b[0;32m--> 917\u001b[0m     \u001b[38;5;28;01massert\u001b[39;00m \u001b[38;5;28mself\u001b[39m\u001b[38;5;241m.\u001b[39mis_vector(), \u001b[38;5;124m\"\u001b[39m\u001b[38;5;124mNot a vector.\u001b[39m\u001b[38;5;124m\"\u001b[39m\n",
      "\u001b[0;31mAssertionError\u001b[0m: Not a vector."
     ]
    }
   ],
   "source": [
    "norm = sf.Vector3.symbolic(\"v\").norm()\n",
    "squared_norm = sf.Vector3.symbolic(\"v\").squared_norm()"
   ]
  },
  {
   "cell_type": "code",
   "execution_count": null,
   "id": "09507b00-d20a-498c-82ba-a26c42b479e1",
   "metadata": {},
   "outputs": [],
   "source": []
  }
 ],
 "metadata": {
  "kernelspec": {
   "display_name": "Python 3 (ipykernel)",
   "language": "python",
   "name": "python3"
  },
  "language_info": {
   "codemirror_mode": {
    "name": "ipython",
    "version": 3
   },
   "file_extension": ".py",
   "mimetype": "text/x-python",
   "name": "python",
   "nbconvert_exporter": "python",
   "pygments_lexer": "ipython3",
   "version": "3.8.16"
  }
 },
 "nbformat": 4,
 "nbformat_minor": 5
}
