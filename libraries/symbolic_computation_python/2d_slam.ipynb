{
 "cells": [
  {
   "cell_type": "code",
   "execution_count": 21,
   "id": "1d49fcc5-4af9-412d-803b-4d1f79660782",
   "metadata": {},
   "outputs": [
    {
     "ename": "AlreadyUsedEpsilon",
     "evalue": "Cannot set return value of epsilon to epsilon after it has already been accessed with value 0.0.",
     "output_type": "error",
     "traceback": [
      "\u001b[0;31m---------------------------------------------------------------------------\u001b[0m",
      "\u001b[0;31mAlreadyUsedEpsilon\u001b[0m                        Traceback (most recent call last)",
      "Cell \u001b[0;32mIn[21], line 3\u001b[0m\n\u001b[1;32m      1\u001b[0m \u001b[38;5;28;01mimport\u001b[39;00m \u001b[38;5;21;01msymforce\u001b[39;00m\n\u001b[1;32m      2\u001b[0m \u001b[38;5;28;01mimport\u001b[39;00m \u001b[38;5;21;01msymforce\u001b[39;00m\u001b[38;5;21;01m.\u001b[39;00m\u001b[38;5;21;01msymbolic\u001b[39;00m \u001b[38;5;28;01mas\u001b[39;00m \u001b[38;5;21;01msf\u001b[39;00m\n\u001b[0;32m----> 3\u001b[0m \u001b[43msymforce\u001b[49m\u001b[38;5;241;43m.\u001b[39;49m\u001b[43mset_epsilon_to_symbol\u001b[49m\u001b[43m(\u001b[49m\u001b[43m)\u001b[49m\n",
      "File \u001b[0;32m~/.local/lib/python3.8/site-packages/symforce/__init__.py:287\u001b[0m, in \u001b[0;36mset_epsilon_to_symbol\u001b[0;34m(name)\u001b[0m\n\u001b[1;32m    284\u001b[0m \u001b[38;5;28;01melse\u001b[39;00m:\n\u001b[1;32m    285\u001b[0m     \u001b[38;5;28;01mraise\u001b[39;00m InvalidSymbolicApiError(get_symbolic_api())\n\u001b[0;32m--> 287\u001b[0m \u001b[43m_set_epsilon\u001b[49m\u001b[43m(\u001b[49m\u001b[43msympy\u001b[49m\u001b[38;5;241;43m.\u001b[39;49m\u001b[43mSymbol\u001b[49m\u001b[43m(\u001b[49m\u001b[43mname\u001b[49m\u001b[43m)\u001b[49m\u001b[43m)\u001b[49m\n",
      "File \u001b[0;32m~/.local/lib/python3.8/site-packages/symforce/__init__.py:262\u001b[0m, in \u001b[0;36m_set_epsilon\u001b[0;34m(new_epsilon)\u001b[0m\n\u001b[1;32m    259\u001b[0m \u001b[38;5;28;01mglobal\u001b[39;00m _epsilon  \u001b[38;5;66;03m# pylint: disable=global-statement\u001b[39;00m\n\u001b[1;32m    261\u001b[0m \u001b[38;5;28;01mif\u001b[39;00m _have_used_epsilon \u001b[38;5;129;01mand\u001b[39;00m new_epsilon \u001b[38;5;241m!=\u001b[39m _epsilon:\n\u001b[0;32m--> 262\u001b[0m     \u001b[38;5;28;01mraise\u001b[39;00m AlreadyUsedEpsilon(\n\u001b[1;32m    263\u001b[0m         \u001b[38;5;124mf\u001b[39m\u001b[38;5;124m\"\u001b[39m\u001b[38;5;124mCannot set return value of epsilon to \u001b[39m\u001b[38;5;132;01m{\u001b[39;00mnew_epsilon\u001b[38;5;132;01m}\u001b[39;00m\u001b[38;5;124m after it has already been \u001b[39m\u001b[38;5;124m\"\u001b[39m\n\u001b[1;32m    264\u001b[0m         \u001b[38;5;124mf\u001b[39m\u001b[38;5;124m\"\u001b[39m\u001b[38;5;124maccessed with value \u001b[39m\u001b[38;5;132;01m{\u001b[39;00m_epsilon\u001b[38;5;132;01m}\u001b[39;00m\u001b[38;5;124m.\u001b[39m\u001b[38;5;124m\"\u001b[39m\n\u001b[1;32m    265\u001b[0m     )\n\u001b[1;32m    267\u001b[0m _epsilon \u001b[38;5;241m=\u001b[39m new_epsilon\n",
      "\u001b[0;31mAlreadyUsedEpsilon\u001b[0m: Cannot set return value of epsilon to epsilon after it has already been accessed with value 0.0."
     ]
    }
   ],
   "source": [
    "import symforce\n",
    "import symforce.symbolic as sf\n",
    "symforce.set_epsilon_to_symbol()"
   ]
  },
  {
   "cell_type": "code",
   "execution_count": 22,
   "id": "d00d59ab-f183-43a8-8424-fedf43cab812",
   "metadata": {},
   "outputs": [],
   "source": [
    "import numpy as np\n",
    "from symforce.values import Values"
   ]
  },
  {
   "cell_type": "code",
   "execution_count": 23,
   "id": "4f7dd1df-0d59-4229-955c-0b3ed98431d6",
   "metadata": {},
   "outputs": [],
   "source": [
    "num_poses = 3"
   ]
  },
  {
   "cell_type": "code",
   "execution_count": 24,
   "id": "39565817-70e2-404a-985b-415041a98222",
   "metadata": {},
   "outputs": [],
   "source": [
    "num_landmarks = 3"
   ]
  },
  {
   "cell_type": "code",
   "execution_count": 25,
   "id": "03794747-30bb-4578-ae51-aab4d23998c4",
   "metadata": {},
   "outputs": [
    {
     "data": {
      "image/png": "[encoded data removed]",
      "text/latex": [
       "$\\displaystyle \\left[\\begin{matrix}- \\theta + \\operatorname{atan}_{2}{\\left(- T_{0} T_{3} + T_{0} p_{1} + T_{1} T_{2} - T_{1} p_{0},- T_{0} T_{2} + T_{0} p_{0} - T_{1} T_{3} + T_{1} p_{1} \\right)} - 2 \\pi \\left\\lfloor{\\frac{- \\theta + \\operatorname{atan}_{2}{\\left(- T_{0} T_{3} + T_{0} p_{1} + T_{1} T_{2} - T_{1} p_{0},- T_{0} T_{2} + T_{0} p_{0} - T_{1} T_{3} + T_{1} p_{1} \\right)} + \\pi}{2 \\pi}}\\right\\rfloor\\end{matrix}\\right]$"
      ],
      "text/plain": [
       "⎡                                                                                 ⎢-θ + atan2(-T₀⋅T₃ + T₀⋅p₁ + T₁⋅T₂ - T₁⋅p₀, -T₀⋅T₂ + T₀⋅p₀ - T₁⋅T₃ +\n",
       "⎢-θ + atan2(-T₀⋅T₃ + T₀⋅p₁ + T₁⋅T₂ - T₁⋅p₀, -T₀⋅T₂ + T₀⋅p₀ - T₁⋅T₃ + T₁⋅p₁) - 2⋅π⋅⎢───────────────────────────────────────────────────────────────────\n",
       "⎣                                                                                 ⎣                                     2⋅π                           \n",
       "\n",
       " T₁⋅p₁) + π⎥⎤\n",
       "───────────⎥⎥\n",
       "           ⎦⎦"
      ]
     },
     "metadata": {},
     "output_type": "display_data"
    }
   ],
   "source": [
    "initial_values = Values(\n",
    "    poses = [sf.Pose2.identity()]*num_poses, \n",
    "    landmarks = [sf.V2(-2,2), sf.V2(1,-3), sf.V2(5,2)],\n",
    "    distances = [1.7, 1.4],\n",
    "    angles = np.deg2rad([[145,335,55], [185,310,70],[215,310,70]]).tolist(),\n",
    "    epsilon = sf.numeric_epsilon,\n",
    ")\n",
    "def bearing_residual(pose: sf.Pose2, landmark: sf.V2, angle: sf.Scalar) -> sf.V1:\n",
    "    t_body = pose.inverse()*landmark\n",
    "    predicted_angle = sf.atan2(t_body[1], t_body[0])\n",
    "    return sf.V1(sf.wrap_angle(predicted_angle - angle))\n",
    "\n",
    "from symforce.notebook_util import display\n",
    "display(bearing_residual(sf.Pose2.symbolic(\"T\"), sf.V2.symbolic(\"p\"), sf.Symbol(\"theta\")))"
   ]
  },
  {
   "cell_type": "code",
   "execution_count": 26,
   "id": "6f8ed5c2-b571-4ee4-a6d5-bc25c0280435",
   "metadata": {},
   "outputs": [
    {
     "data": {
      "image/png": "[encoded data removed]",
      "text/latex": [
       "$\\displaystyle \\left[\\begin{matrix}- d + \\sqrt{\\left(- T_{1 2} + T_{2 2}\\right)^{2} + \\left(- T_{1 3} + T_{2 3}\\right)^{2}}\\end{matrix}\\right]$"
      ],
      "text/plain": [
       "⎡        ___________________________________⎤\n",
       "⎢       ╱               2                 2 ⎥\n",
       "⎣-d + ╲╱  (-T₁ ₂ + T₂ ₂)  + (-T₁ ₃ + T₂ ₃)  ⎦"
      ]
     },
     "metadata": {},
     "output_type": "display_data"
    }
   ],
   "source": [
    "def odometry_residual(pose_a: sf.Pose2, pose_b: sf.Pose2, dist: sf.Scalar, epsilon: sf.Scalar = 0) -> sf.V1:\n",
    "    return sf.V1((pose_b.t - pose_a.t).norm(epsilon=epsilon) - dist)\n",
    "\n",
    "display(odometry_residual(sf.Pose2.symbolic(\"T1\"), sf.Pose2.symbolic(\"T2\"), sf.Symbol(\"d\")), 0)"
   ]
  },
  {
   "cell_type": "code",
   "execution_count": 27,
   "id": "65244d97-2a95-4b47-857b-414e8d608543",
   "metadata": {},
   "outputs": [
    {
     "name": "stderr",
     "output_type": "stream",
     "text": [
      "codegen.__init__():141 WARNING -- \n",
      "    Generating code with epsilon set to 0 - This is dangerous!  You may get NaNs, Infs,\n",
      "    or numerically unstable results from calling generated functions near singularities.\n",
      "\n",
      "    In order to safely generate code, you should set epsilon to either a symbol\n",
      "    (recommended) or a small numerical value like `sf.numeric_epsilon`.  You should do\n",
      "    this before importing any other code from symforce, e.g. with\n",
      "\n",
      "        import symforce\n",
      "        symforce.set_epsilon_to_symbol()\n",
      "\n",
      "    or\n",
      "\n",
      "        import symforce\n",
      "        symforce.set_epsilon_to_number()\n",
      "\n",
      "    For more information on use of epsilon to prevent singularities, take a look at the\n",
      "    Epsilon Tutorial: https://symforce.org/tutorials/epsilon_tutorial.html\n",
      "\n"
     ]
    },
    {
     "ename": "ValueError",
     "evalue": "There must be a key for each input to the residual. Expected 3 keys but got 4 keys.",
     "output_type": "error",
     "traceback": [
      "\u001b[0;31m---------------------------------------------------------------------------\u001b[0m",
      "\u001b[0;31mValueError\u001b[0m                                Traceback (most recent call last)",
      "Cell \u001b[0;32mIn[27], line 5\u001b[0m\n\u001b[1;32m      3\u001b[0m \u001b[38;5;28;01mfor\u001b[39;00m i \u001b[38;5;129;01min\u001b[39;00m \u001b[38;5;28mrange\u001b[39m(num_poses):\n\u001b[1;32m      4\u001b[0m     \u001b[38;5;28;01mfor\u001b[39;00m j \u001b[38;5;129;01min\u001b[39;00m \u001b[38;5;28mrange\u001b[39m(num_landmarks):\n\u001b[0;32m----> 5\u001b[0m         factors\u001b[38;5;241m.\u001b[39mappend(\u001b[43mFactor\u001b[49m\u001b[43m(\u001b[49m\n\u001b[1;32m      6\u001b[0m \u001b[43m            \u001b[49m\u001b[43mresidual\u001b[49m\u001b[38;5;241;43m=\u001b[39;49m\u001b[43mbearing_residual\u001b[49m\u001b[43m,\u001b[49m\n\u001b[1;32m      7\u001b[0m \u001b[43m            \u001b[49m\u001b[43mkeys\u001b[49m\u001b[38;5;241;43m=\u001b[39;49m\u001b[43m[\u001b[49m\u001b[38;5;124;43mf\u001b[39;49m\u001b[38;5;124;43m\"\u001b[39;49m\u001b[38;5;124;43mposes[\u001b[39;49m\u001b[38;5;132;43;01m{\u001b[39;49;00m\u001b[43mi\u001b[49m\u001b[38;5;132;43;01m}\u001b[39;49;00m\u001b[38;5;124;43m]\u001b[39;49m\u001b[38;5;124;43m\"\u001b[39;49m\u001b[43m,\u001b[49m\u001b[38;5;124;43mf\u001b[39;49m\u001b[38;5;124;43m\"\u001b[39;49m\u001b[38;5;124;43mposes[\u001b[39;49m\u001b[38;5;132;43;01m{\u001b[39;49;00m\u001b[43mi\u001b[49m\u001b[38;5;241;43m+\u001b[39;49m\u001b[38;5;241;43m1\u001b[39;49m\u001b[38;5;132;43;01m}\u001b[39;49;00m\u001b[38;5;124;43m]\u001b[39;49m\u001b[38;5;124;43m\"\u001b[39;49m\u001b[43m,\u001b[49m\u001b[43m \u001b[49m\u001b[38;5;124;43mf\u001b[39;49m\u001b[38;5;124;43m\"\u001b[39;49m\u001b[38;5;124;43mdistances[\u001b[39;49m\u001b[38;5;132;43;01m{\u001b[39;49;00m\u001b[43mi\u001b[49m\u001b[38;5;132;43;01m}\u001b[39;49;00m\u001b[38;5;124;43m]\u001b[39;49m\u001b[38;5;124;43m\"\u001b[39;49m\u001b[43m,\u001b[49m\u001b[43m \u001b[49m\u001b[38;5;124;43m\"\u001b[39;49m\u001b[38;5;124;43mepsilon\u001b[39;49m\u001b[38;5;124;43m\"\u001b[39;49m\u001b[43m]\u001b[49m\u001b[43m,\u001b[49m\n\u001b[1;32m      8\u001b[0m \u001b[43m        \u001b[49m\u001b[43m)\u001b[49m)\n\u001b[1;32m      9\u001b[0m \u001b[38;5;28;01mfor\u001b[39;00m i \u001b[38;5;129;01min\u001b[39;00m \u001b[38;5;28mrange\u001b[39m(num_poses \u001b[38;5;241m-\u001b[39m \u001b[38;5;241m1\u001b[39m):\n\u001b[1;32m     10\u001b[0m     factors\u001b[38;5;241m.\u001b[39mappend(Factor(\n\u001b[1;32m     11\u001b[0m         residual\u001b[38;5;241m=\u001b[39modometry_residual,\n\u001b[1;32m     12\u001b[0m         keys\u001b[38;5;241m=\u001b[39m[\u001b[38;5;124mf\u001b[39m\u001b[38;5;124m\"\u001b[39m\u001b[38;5;124mposes[\u001b[39m\u001b[38;5;132;01m{\u001b[39;00mi\u001b[38;5;132;01m}\u001b[39;00m\u001b[38;5;124m]\u001b[39m\u001b[38;5;124m\"\u001b[39m, \u001b[38;5;124mf\u001b[39m\u001b[38;5;124m\"\u001b[39m\u001b[38;5;124mposes[\u001b[39m\u001b[38;5;132;01m{\u001b[39;00mi\u001b[38;5;250m \u001b[39m\u001b[38;5;241m+\u001b[39m\u001b[38;5;250m \u001b[39m\u001b[38;5;241m1\u001b[39m\u001b[38;5;132;01m}\u001b[39;00m\u001b[38;5;124m]\u001b[39m\u001b[38;5;124m\"\u001b[39m, \u001b[38;5;124mf\u001b[39m\u001b[38;5;124m\"\u001b[39m\u001b[38;5;124mdistances[\u001b[39m\u001b[38;5;132;01m{\u001b[39;00mi\u001b[38;5;132;01m}\u001b[39;00m\u001b[38;5;124m]\u001b[39m\u001b[38;5;124m\"\u001b[39m, \u001b[38;5;124m\"\u001b[39m\u001b[38;5;124mepsilon\u001b[39m\u001b[38;5;124m\"\u001b[39m],\n\u001b[1;32m     13\u001b[0m     ))\n",
      "File \u001b[0;32m~/.local/lib/python3.8/site-packages/symforce/opt/factor.py:85\u001b[0m, in \u001b[0;36mFactor.__init__\u001b[0;34m(self, keys, residual, config, custom_jacobian_func, **kwargs)\u001b[0m\n\u001b[1;32m     82\u001b[0m \u001b[38;5;28;01mif\u001b[39;00m config \u001b[38;5;129;01mis\u001b[39;00m \u001b[38;5;28;01mNone\u001b[39;00m:\n\u001b[1;32m     83\u001b[0m     config \u001b[38;5;241m=\u001b[39m \u001b[38;5;28mself\u001b[39m\u001b[38;5;241m.\u001b[39mdefault_codegen_config()\n\u001b[0;32m---> 85\u001b[0m \u001b[38;5;28;43mself\u001b[39;49m\u001b[38;5;241;43m.\u001b[39;49m\u001b[43m_initialize\u001b[49m\u001b[43m(\u001b[49m\n\u001b[1;32m     86\u001b[0m \u001b[43m    \u001b[49m\u001b[43mkeys\u001b[49m\u001b[38;5;241;43m=\u001b[39;49m\u001b[43mkeys\u001b[49m\u001b[43m,\u001b[49m\n\u001b[1;32m     87\u001b[0m \u001b[43m    \u001b[49m\u001b[43mcodegen_obj\u001b[49m\u001b[38;5;241;43m=\u001b[39;49m\u001b[43mCodegen\u001b[49m\u001b[38;5;241;43m.\u001b[39;49m\u001b[43mfunction\u001b[49m\u001b[43m(\u001b[49m\u001b[43mfunc\u001b[49m\u001b[38;5;241;43m=\u001b[39;49m\u001b[43mresidual\u001b[49m\u001b[43m,\u001b[49m\u001b[43m \u001b[49m\u001b[43mconfig\u001b[49m\u001b[38;5;241;43m=\u001b[39;49m\u001b[43mconfig\u001b[49m\u001b[43m,\u001b[49m\u001b[43m \u001b[49m\u001b[38;5;241;43m*\u001b[39;49m\u001b[38;5;241;43m*\u001b[39;49m\u001b[43mkwargs\u001b[49m\u001b[43m)\u001b[49m\u001b[43m,\u001b[49m\n\u001b[1;32m     88\u001b[0m \u001b[43m    \u001b[49m\u001b[43mcustom_jacobian_func\u001b[49m\u001b[38;5;241;43m=\u001b[39;49m\u001b[43mcustom_jacobian_func\u001b[49m\u001b[43m,\u001b[49m\n\u001b[1;32m     89\u001b[0m \u001b[43m\u001b[49m\u001b[43m)\u001b[49m\n",
      "File \u001b[0;32m~/.local/lib/python3.8/site-packages/symforce/opt/factor.py:159\u001b[0m, in \u001b[0;36mFactor._initialize\u001b[0;34m(self, keys, codegen_obj, custom_jacobian_func)\u001b[0m\n\u001b[1;32m    153\u001b[0m     \u001b[38;5;28;01mraise\u001b[39;00m \u001b[38;5;167;01mValueError\u001b[39;00m(\n\u001b[1;32m    154\u001b[0m         \u001b[38;5;124m\"\u001b[39m\u001b[38;5;124mOnly flat inputs are currently supported (i.e. inputs should not\u001b[39m\u001b[38;5;124m\"\u001b[39m\n\u001b[1;32m    155\u001b[0m         \u001b[38;5;241m+\u001b[39m \u001b[38;5;124m\"\u001b[39m\u001b[38;5;124m contain nested Values objects or Dataclasses or Sequences.\u001b[39m\u001b[38;5;124m\"\u001b[39m\n\u001b[1;32m    156\u001b[0m     )\n\u001b[1;32m    158\u001b[0m \u001b[38;5;28;01mif\u001b[39;00m \u001b[38;5;28mlen\u001b[39m(keys) \u001b[38;5;241m!=\u001b[39m \u001b[38;5;28mlen\u001b[39m(codegen_obj\u001b[38;5;241m.\u001b[39minputs\u001b[38;5;241m.\u001b[39mkeys_recursive()):\n\u001b[0;32m--> 159\u001b[0m     \u001b[38;5;28;01mraise\u001b[39;00m \u001b[38;5;167;01mValueError\u001b[39;00m(\n\u001b[1;32m    160\u001b[0m         \u001b[38;5;124m\"\u001b[39m\u001b[38;5;124mThere must be a key for each input to the residual. Expected\u001b[39m\u001b[38;5;124m\"\u001b[39m\n\u001b[1;32m    161\u001b[0m         \u001b[38;5;241m+\u001b[39m \u001b[38;5;124mf\u001b[39m\u001b[38;5;124m\"\u001b[39m\u001b[38;5;124m \u001b[39m\u001b[38;5;132;01m{\u001b[39;00m\u001b[38;5;28mlen\u001b[39m(codegen_obj\u001b[38;5;241m.\u001b[39minputs\u001b[38;5;241m.\u001b[39mkeys_recursive())\u001b[38;5;132;01m}\u001b[39;00m\u001b[38;5;124m keys but got \u001b[39m\u001b[38;5;132;01m{\u001b[39;00m\u001b[38;5;28mlen\u001b[39m(keys)\u001b[38;5;132;01m}\u001b[39;00m\u001b[38;5;124m keys.\u001b[39m\u001b[38;5;124m\"\u001b[39m\n\u001b[1;32m    162\u001b[0m     )\n\u001b[1;32m    164\u001b[0m \u001b[38;5;28mself\u001b[39m\u001b[38;5;241m.\u001b[39mkeys \u001b[38;5;241m=\u001b[39m keys\n\u001b[1;32m    165\u001b[0m \u001b[38;5;28mself\u001b[39m\u001b[38;5;241m.\u001b[39mcodegen \u001b[38;5;241m=\u001b[39m codegen_obj\n",
      "\u001b[0;31mValueError\u001b[0m: There must be a key for each input to the residual. Expected 3 keys but got 4 keys."
     ]
    }
   ],
   "source": [
    "from symforce.opt.factor import Factor\n",
    "factors = []\n",
    "for i in range(num_poses):\n",
    "    for j in range(num_landmarks):\n",
    "        factors.append(Factor(\n",
    "            residual=bearing_residual,\n",
    "            keys=[f\"poses[{i}]\",f\"poses[{i+1}]\", f\"distances[{i}]\", \"epsilon\"],\n",
    "        ))\n",
    "for i in range(num_poses - 1):\n",
    "    factors.append(Factor(\n",
    "        residual=odometry_residual,\n",
    "        keys=[f\"poses[{i}]\", f\"poses[{i + 1}]\", f\"distances[{i}]\", \"epsilon\"],\n",
    "    ))\n",
    "\n"
   ]
  },
  {
   "cell_type": "code",
   "execution_count": 28,
   "id": "7a4b0514-0865-4577-adae-3aba9649fa02",
   "metadata": {},
   "outputs": [
    {
     "name": "stderr",
     "output_type": "stream",
     "text": [
      "codegen.__init__():141 WARNING -- \n",
      "    Generating code with epsilon set to 0 - This is dangerous!  You may get NaNs, Infs,\n",
      "    or numerically unstable results from calling generated functions near singularities.\n",
      "\n",
      "    In order to safely generate code, you should set epsilon to either a symbol\n",
      "    (recommended) or a small numerical value like `sf.numeric_epsilon`.  You should do\n",
      "    this before importing any other code from symforce, e.g. with\n",
      "\n",
      "        import symforce\n",
      "        symforce.set_epsilon_to_symbol()\n",
      "\n",
      "    or\n",
      "\n",
      "        import symforce\n",
      "        symforce.set_epsilon_to_number()\n",
      "\n",
      "    For more information on use of epsilon to prevent singularities, take a look at the\n",
      "    Epsilon Tutorial: https://symforce.org/tutorials/epsilon_tutorial.html\n",
      "\n",
      "codegen.__init__():141 WARNING -- \n",
      "    Generating code with epsilon set to 0 - This is dangerous!  You may get NaNs, Infs,\n",
      "    or numerically unstable results from calling generated functions near singularities.\n",
      "\n",
      "    In order to safely generate code, you should set epsilon to either a symbol\n",
      "    (recommended) or a small numerical value like `sf.numeric_epsilon`.  You should do\n",
      "    this before importing any other code from symforce, e.g. with\n",
      "\n",
      "        import symforce\n",
      "        symforce.set_epsilon_to_symbol()\n",
      "\n",
      "    or\n",
      "\n",
      "        import symforce\n",
      "        symforce.set_epsilon_to_number()\n",
      "\n",
      "    For more information on use of epsilon to prevent singularities, take a look at the\n",
      "    Epsilon Tutorial: https://symforce.org/tutorials/epsilon_tutorial.html\n",
      "\n"
     ]
    }
   ],
   "source": [
    "codegen = symforce.codegen.Codegen.function(func=bearing_residual, config=symforce.codegen.CppConfig())\n",
    "codegen_linearization = codegen.with_linearization(which_args=[\"pose\"])"
   ]
  },
  {
   "cell_type": "code",
   "execution_count": 32,
   "id": "d5aeb6dc-d611-4ffc-bb15-a7ed31d3e3eb",
   "metadata": {},
   "outputs": [
    {
     "name": "stderr",
     "output_type": "stream",
     "text": [
      "codegen.__init__():141 WARNING -- \n",
      "    Generating code with epsilon set to 0 - This is dangerous!  You may get NaNs, Infs,\n",
      "    or numerically unstable results from calling generated functions near singularities.\n",
      "\n",
      "    In order to safely generate code, you should set epsilon to either a symbol\n",
      "    (recommended) or a small numerical value like `sf.numeric_epsilon`.  You should do\n",
      "    this before importing any other code from symforce, e.g. with\n",
      "\n",
      "        import symforce\n",
      "        symforce.set_epsilon_to_symbol()\n",
      "\n",
      "    or\n",
      "\n",
      "        import symforce\n",
      "        symforce.set_epsilon_to_number()\n",
      "\n",
      "    For more information on use of epsilon to prevent singularities, take a look at the\n",
      "    Epsilon Tutorial: https://symforce.org/tutorials/epsilon_tutorial.html\n",
      "\n"
     ]
    },
    {
     "name": "stdout",
     "output_type": "stream",
     "text": [
      "// -----------------------------------------------------------------------------\n",
      "// This file was autogenerated by symforce from template:\n",
      "//     function/FUNCTION.h.jinja\n",
      "// Do NOT modify by hand.\n",
      "// -----------------------------------------------------------------------------\n",
      "\n",
      "#pragma once\n",
      "\n",
      "#include <Eigen/Dense>\n",
      "\n",
      "#include <sym/pose2.h>\n",
      "\n",
      "namespace sym {\n",
      "\n",
      "/**\n",
      " * This function was autogenerated from a symbolic function. Do not modify by hand.\n",
      " *\n",
      " * Symbolic function: bearing_residual\n",
      " *\n",
      " * Args:\n",
      " *     pose: Pose2\n",
      " *     landmark: Matrix21\n",
      " *     angle: Scalar\n",
      " *\n",
      " * Outputs:\n",
      " *     res: Matrix11\n",
      " *     jacobian: (1x3) jacobian of res wrt arg pose (3)\n",
      " *     hessian: (3x3) Gauss-Newton hessian for arg pose (3)\n",
      " *     rhs: (3x1) Gauss-Newton rhs for arg pose (3)\n",
      " */\n",
      "template <typename Scalar>\n",
      "void BearingFactor(const sym::Pose2<Scalar>& pose, const Eigen::Matrix<Scalar, 2, 1>& landmark,\n",
      "                   const Scalar angle, Eigen::Matrix<Scalar, 1, 1>* const res = nullptr,\n",
      "                   Eigen::Matrix<Scalar, 1, 3>* const jacobian = nullptr,\n",
      "                   Eigen::Matrix<Scalar, 3, 3>* const hessian = nullptr,\n",
      "                   Eigen::Matrix<Scalar, 3, 1>* const rhs = nullptr) {\n",
      "  // Total ops: 62\n",
      "\n",
      "  // Input arrays\n",
      "  const Eigen::Matrix<Scalar, 4, 1>& _pose = pose.Data();\n",
      "\n",
      "  // Intermediate terms (23)\n",
      "  const Scalar _tmp0 = _pose[1] * _pose[2];\n",
      "  const Scalar _tmp1 = _pose[0] * _pose[3];\n",
      "  const Scalar _tmp2 = _pose[0] * landmark(1, 0) - _pose[1] * landmark(0, 0);\n",
      "  const Scalar _tmp3 = _tmp0 - _tmp1 + _tmp2;\n",
      "  const Scalar _tmp4 = _pose[0] * _pose[2] + _pose[1] * _pose[3];\n",
      "  const Scalar _tmp5 = _pose[1] * landmark(1, 0);\n",
      "  const Scalar _tmp6 = _pose[0] * landmark(0, 0);\n",
      "  const Scalar _tmp7 = -_tmp4 + _tmp5 + _tmp6;\n",
      "  const Scalar _tmp8 = -angle + std::atan2(_tmp3, _tmp7);\n",
      "  const Scalar _tmp9 =\n",
      "      _tmp8 - 2 * Scalar(M_PI) *\n",
      "                  std::floor((Scalar(1) / Scalar(2)) * (_tmp8 + Scalar(M_PI)) / Scalar(M_PI));\n",
      "  const Scalar _tmp10 = Scalar(1.0) / (_tmp7);\n",
      "  const Scalar _tmp11 = std::pow(_tmp7, Scalar(2));\n",
      "  const Scalar _tmp12 = _tmp3 / _tmp11;\n",
      "  const Scalar _tmp13 = _tmp10 * (_tmp4 - _tmp5 - _tmp6) - _tmp12 * (_tmp0 - _tmp1 + _tmp2);\n",
      "  const Scalar _tmp14 = _tmp11 + std::pow(_tmp3, Scalar(2));\n",
      "  const Scalar _tmp15 = _tmp11 / _tmp14;\n",
      "  const Scalar _tmp16 = _tmp13 * _tmp15;\n",
      "  const Scalar _tmp17 = _pose[0] * _tmp12 + _pose[1] * _tmp10;\n",
      "  const Scalar _tmp18 = _tmp15 * _tmp17;\n",
      "  const Scalar _tmp19 = -_pose[0] * _tmp10 + _pose[1] * _tmp12;\n",
      "  const Scalar _tmp20 = _tmp15 * _tmp19;\n",
      "  const Scalar _tmp21 = std::pow(_tmp7, Scalar(4)) / std::pow(_tmp14, Scalar(2));\n",
      "  const Scalar _tmp22 = _tmp17 * _tmp21;\n",
      "\n",
      "  // Output terms (4)\n",
      "  if (res != nullptr) {\n",
      "    Eigen::Matrix<Scalar, 1, 1>& _res = (*res);\n",
      "\n",
      "    _res(0, 0) = _tmp9;\n",
      "  }\n",
      "\n",
      "  if (jacobian != nullptr) {\n",
      "    Eigen::Matrix<Scalar, 1, 3>& _jacobian = (*jacobian);\n",
      "\n",
      "    _jacobian(0, 0) = _tmp16;\n",
      "    _jacobian(0, 1) = _tmp18;\n",
      "    _jacobian(0, 2) = _tmp20;\n",
      "  }\n",
      "\n",
      "  if (hessian != nullptr) {\n",
      "    Eigen::Matrix<Scalar, 3, 3>& _hessian = (*hessian);\n",
      "\n",
      "    _hessian(0, 0) = std::pow(_tmp13, Scalar(2)) * _tmp21;\n",
      "    _hessian(1, 0) = _tmp13 * _tmp22;\n",
      "    _hessian(2, 0) = _tmp13 * _tmp19 * _tmp21;\n",
      "    _hessian(0, 1) = 0;\n",
      "    _hessian(1, 1) = std::pow(_tmp17, Scalar(2)) * _tmp21;\n",
      "    _hessian(2, 1) = _tmp19 * _tmp22;\n",
      "    _hessian(0, 2) = 0;\n",
      "    _hessian(1, 2) = 0;\n",
      "    _hessian(2, 2) = std::pow(_tmp19, Scalar(2)) * _tmp21;\n",
      "  }\n",
      "\n",
      "  if (rhs != nullptr) {\n",
      "    Eigen::Matrix<Scalar, 3, 1>& _rhs = (*rhs);\n",
      "\n",
      "    _rhs(0, 0) = _tmp16 * _tmp9;\n",
      "    _rhs(1, 0) = _tmp18 * _tmp9;\n",
      "    _rhs(2, 0) = _tmp20 * _tmp9;\n",
      "  }\n",
      "}  // NOLINT(readability/fn_size)\n",
      "\n",
      "// NOLINTNEXTLINE(readability/fn_size)\n",
      "}  // namespace sym\n",
      "\n"
     ]
    },
    {
     "data": {
      "text/plain": [
       "symforce.values.values.Values"
      ]
     },
     "execution_count": 32,
     "metadata": {},
     "output_type": "execute_result"
    }
   ],
   "source": [
    "metadata = codegen_linearization.generate_function()\n",
    "print(open(metadata.generated_files[0]).read())\n",
    "len(metadata.generated_files)\n",
    "codegen = symforce.codegen.Codegen.function(func=bearing_residual, config=symforce.codegen.CppConfig())\n",
    "type(codegen.outputs)"
   ]
  },
  {
   "cell_type": "code",
   "execution_count": 33,
   "id": "f338f416-8c11-4456-9c4f-19839f844711",
   "metadata": {},
   "outputs": [
    {
     "name": "stdout",
     "output_type": "stream",
     "text": [
      "Help on function with_linearization in module symforce.codegen.codegen:\n",
      "\n",
      "with_linearization(self, which_args: 'T.Sequence[str]' = None, include_result: 'bool' = True, name: 'str' = None, linearization_mode: 'LinearizationMode' = <LinearizationMode.FULL_LINEARIZATION: 'full_linearization'>, sparse_linearization: 'bool' = False, custom_jacobian: 'sf.Matrix' = None) -> 'Codegen'\n",
      "    Given a codegen object that takes some number of inputs and computes a single result,\n",
      "    create a new codegen object that additionally computes the jacobian (or the full\n",
      "    Gauss-Newton linearization) with respect to the given input arguments.\n",
      "    \n",
      "    The jacobians are in the tangent spaces of the inputs and outputs, see\n",
      "    :mod:`jacobian_helpers.py <symforce.jacobian_helpers>` for more information.\n",
      "    \n",
      "    The previous codegen object (the ``self`` argument to this function) is unmodified by this\n",
      "    function and still valid after this function returns.\n",
      "    \n",
      "    Args:\n",
      "        self: Existing codegen object that returns a single value\n",
      "        which_args: Names of args for which to compute jacobians. If not given, uses all.\n",
      "        include_result: For the STACKED_JACOBIAN mode, whether we should still include the\n",
      "                        result or only return the jacobian.  For the FULL_LINEARIZATION mode, we\n",
      "                        always include the result (which is the residual).\n",
      "        name: Generated function name. If not given, picks a reasonable name based on the one\n",
      "              given at construction.\n",
      "        linearization_mode: Whether to generate a single jacobian matrix (STACKED_JACOBIANS), or\n",
      "                            generate a full linearization with a hessian and rhs\n",
      "                            (FULL_LINEARIZATION).\n",
      "        sparse_linearization: Whether to output matrices (jacobian and/or hessian) as sparse\n",
      "                              matrices, as opposed to dense\n",
      "        custom_jacobian: This is generally unnecessary, unless you want to override the jacobian\n",
      "                         computed by SymForce, e.g. to stop derivatives with respect to certain\n",
      "                         variables or directions, or because the jacobian can be analytically\n",
      "                         simplified in a way that SymForce won't do automatically. If not\n",
      "                         provided, the jacobian will be computed automatically.  If provided,\n",
      "                         should have shape (result_dim, input_tangent_dim), where\n",
      "                         input_tangent_dim is the sum of the tangent dimensions of arguments\n",
      "                         corresponding to which_args\n",
      "\n"
     ]
    }
   ],
   "source": [
    "help(symforce.codegen.Codegen.with_linearization)\n"
   ]
  },
  {
   "cell_type": "code",
   "execution_count": 34,
   "id": "747ee7d3-f6d2-457e-a6d1-c76645dd5aca",
   "metadata": {},
   "outputs": [
    {
     "name": "stdout",
     "output_type": "stream",
     "text": [
      "Help on function with_jacobians in module symforce.codegen.codegen:\n",
      "\n",
      "with_jacobians(self, which_args: 'T.Sequence[str]' = None, which_results: 'T.Sequence[int]' = (0,), include_results: 'bool' = True, name: 'str' = None, sparse_jacobians: 'bool' = False) -> 'Codegen'\n",
      "    Given a codegen object that takes some number of inputs and computes some number of results,\n",
      "    create a new codegen object that additionally computes jacobians of the given results with\n",
      "    respect to the given input arguments. By default, computes the jacobians of the first result\n",
      "    with respect to all arguments.  Flexible to produce the values and all jacobians, just the\n",
      "    jacobians, or any combination of one or more jacobians.\n",
      "    \n",
      "    The jacobians are in the tangent spaces of the inputs and outputs, see jacobian_helpers.py\n",
      "    for more information.\n",
      "    \n",
      "    The previous codegen object (the `self` argument to this function) is unmodified by this\n",
      "    function and still valid after this function returns.\n",
      "    \n",
      "    Args:\n",
      "        self: Existing codegen object that return a single value\n",
      "        which_args: Names of args for which to compute jacobians. If not given, uses all.\n",
      "        which_results: Indices of results for which to compute jacobians.  If not given, uses\n",
      "                       the first result.\n",
      "        include_results: Whether we should still return the values in addition to the\n",
      "                         jacobian(s), for the results in which_results.  Values not in\n",
      "                         which_results are always still returned.\n",
      "        name: Generated function name. If not given, picks a reasonable name based on the one\n",
      "              given at construction.\n",
      "        sparse_jacobians: Whether to output jacobians as sparse matrices, as opposed to dense\n",
      "\n"
     ]
    }
   ],
   "source": [
    "help(symforce.codegen.Codegen.with_jacobians)\n"
   ]
  },
  {
   "cell_type": "code",
   "execution_count": 52,
   "id": "ee9efa7a-8bb2-4dc4-aa5d-978fef786041",
   "metadata": {},
   "outputs": [
    {
     "name": "stderr",
     "output_type": "stream",
     "text": [
      "codegen.__init__():141 WARNING -- \n",
      "    Generating code with epsilon set to 0 - This is dangerous!  You may get NaNs, Infs,\n",
      "    or numerically unstable results from calling generated functions near singularities.\n",
      "\n",
      "    In order to safely generate code, you should set epsilon to either a symbol\n",
      "    (recommended) or a small numerical value like `sf.numeric_epsilon`.  You should do\n",
      "    this before importing any other code from symforce, e.g. with\n",
      "\n",
      "        import symforce\n",
      "        symforce.set_epsilon_to_symbol()\n",
      "\n",
      "    or\n",
      "\n",
      "        import symforce\n",
      "        symforce.set_epsilon_to_number()\n",
      "\n",
      "    For more information on use of epsilon to prevent singularities, take a look at the\n",
      "    Epsilon Tutorial: https://symforce.org/tutorials/epsilon_tutorial.html\n",
      "\n"
     ]
    },
    {
     "name": "stdout",
     "output_type": "stream",
     "text": [
      "// -----------------------------------------------------------------------------\n",
      "// This file was autogenerated by symforce from template:\n",
      "//     function/FUNCTION.h.jinja\n",
      "// Do NOT modify by hand.\n",
      "// -----------------------------------------------------------------------------\n",
      "\n",
      "#pragma once\n",
      "\n",
      "#include <Eigen/Dense>\n",
      "\n",
      "#include <sym/pose2.h>\n",
      "\n",
      "namespace sym {\n",
      "\n",
      "/**\n",
      " * This function was autogenerated from a symbolic function. Do not modify by hand.\n",
      " *\n",
      " * Symbolic function: bearing_residual\n",
      " *\n",
      " * Args:\n",
      " *     pose: Pose2\n",
      " *     landmark: Matrix21\n",
      " *     angle: Scalar\n",
      " *\n",
      " * Outputs:\n",
      " *     res: Matrix11\n",
      " */\n",
      "template <typename Scalar>\n",
      "Eigen::Matrix<Scalar, 1, 1> BearingResidual(const sym::Pose2<Scalar>& pose,\n",
      "                                            const Eigen::Matrix<Scalar, 2, 1>& landmark,\n",
      "                                            const Scalar angle) {\n",
      "  // Total ops: 23\n",
      "\n",
      "  // Input arrays\n",
      "  const Eigen::Matrix<Scalar, 4, 1>& _pose = pose.Data();\n",
      "\n",
      "  // Intermediate terms (1)\n",
      "  const Scalar _tmp0 = -angle + std::atan2(-_pose[0] * _pose[3] + _pose[0] * landmark(1, 0) +\n",
      "                                               _pose[1] * _pose[2] - _pose[1] * landmark(0, 0),\n",
      "                                           -_pose[0] * _pose[2] + _pose[0] * landmark(0, 0) -\n",
      "                                               _pose[1] * _pose[3] + _pose[1] * landmark(1, 0));\n",
      "\n",
      "  // Output terms (1)\n",
      "  Eigen::Matrix<Scalar, 1, 1> _res;\n",
      "\n",
      "  _res(0, 0) =\n",
      "      _tmp0 - 2 * Scalar(M_PI) *\n",
      "                  std::floor((Scalar(1) / Scalar(2)) * (_tmp0 + Scalar(M_PI)) / Scalar(M_PI));\n",
      "\n",
      "  return _res;\n",
      "}  // NOLINT(readability/fn_size)\n",
      "\n",
      "// NOLINTNEXTLINE(readability/fn_size)\n",
      "}  // namespace sym\n",
      "\n"
     ]
    }
   ],
   "source": [
    "codegen = symforce.codegen.Codegen.function(func=bearing_residual, config=symforce.codegen.CppConfig(use_eigen_types=True))\n",
    "data  = codegen.generate_function()\n",
    "print(open(data.generated_files[0]).read())\n",
    "\n"
   ]
  },
  {
   "cell_type": "code",
   "execution_count": 45,
   "id": "b3fcf153-7749-43cb-8a91-a8d9a4e412d4",
   "metadata": {},
   "outputs": [],
   "source": [
    "paths = codegen.generate_function()"
   ]
  },
  {
   "cell_type": "code",
   "execution_count": 46,
   "id": "4233b308-2231-4720-8a73-7589995641e9",
   "metadata": {},
   "outputs": [
    {
     "data": {
      "image/png": "[encoded data removed]",
      "text/latex": [
       "$\\displaystyle 1$"
      ],
      "text/plain": [
       "1"
      ]
     },
     "execution_count": 46,
     "metadata": {},
     "output_type": "execute_result"
    }
   ],
   "source": [
    "len(paths.generated_files)"
   ]
  },
  {
   "cell_type": "code",
   "execution_count": 47,
   "id": "6b23d3c0-5a77-4ae4-8669-cce837b073cb",
   "metadata": {},
   "outputs": [],
   "source": [
    "paths1 = codegen_linearization.generate_function()"
   ]
  },
  {
   "cell_type": "code",
   "execution_count": 48,
   "id": "a3400a77-4308-407a-aca1-5625641f9ba7",
   "metadata": {},
   "outputs": [
    {
     "data": {
      "text/plain": [
       "[PosixPath('/tmp/sf_codegen_bearing_factor_0d26j9i7/cpp/symforce/sym/bearing_factor.h')]"
      ]
     },
     "execution_count": 48,
     "metadata": {},
     "output_type": "execute_result"
    }
   ],
   "source": []
  },
  {
   "cell_type": "code",
   "execution_count": 49,
   "id": "799718f3-339d-4cea-a257-d00333dddcfc",
   "metadata": {},
   "outputs": [
    {
     "data": {
      "text/plain": [
       "PosixPath('/tmp/sf_codegen_bearing_factor_0d26j9i7/cpp/lcmtypes')"
      ]
     },
     "execution_count": 49,
     "metadata": {},
     "output_type": "execute_result"
    }
   ],
   "source": [
    "paths1.cpp_types_dir"
   ]
  },
  {
   "cell_type": "code",
   "execution_count": 50,
   "id": "ec3161fc-7d52-4a65-8164-c22546e12d03",
   "metadata": {},
   "outputs": [
    {
     "data": {
      "text/plain": [
       "PosixPath('/tmp/sf_codegen_bearing_factor_0d26j9i7/lcmtypes')"
      ]
     },
     "execution_count": 50,
     "metadata": {},
     "output_type": "execute_result"
    }
   ],
   "source": [
    "paths1.lcm_type_dir\n"
   ]
  },
  {
   "cell_type": "code",
   "execution_count": 51,
   "id": "46f79fc9-00b9-4ccf-9e8e-fcd4890865f9",
   "metadata": {},
   "outputs": [],
   "source": [
    "import os"
   ]
  },
  {
   "cell_type": "code",
   "execution_count": 43,
   "id": "1d86411d-bc55-426a-9ee0-47f477f0052b",
   "metadata": {},
   "outputs": [
    {
     "ename": "FileNotFoundError",
     "evalue": "[Errno 2] No such file or directory: '/tmp/sf_codegen_bearing_factor_jt5jl2qw/cpp/lcmtypes'",
     "output_type": "error",
     "traceback": [
      "\u001b[0;31m---------------------------------------------------------------------------\u001b[0m",
      "\u001b[0;31mFileNotFoundError\u001b[0m                         Traceback (most recent call last)",
      "Cell \u001b[0;32mIn[43], line 1\u001b[0m\n\u001b[0;32m----> 1\u001b[0m \u001b[43mos\u001b[49m\u001b[38;5;241;43m.\u001b[39;49m\u001b[43mlistdir\u001b[49m\u001b[43m(\u001b[49m\u001b[43mpaths1\u001b[49m\u001b[38;5;241;43m.\u001b[39;49m\u001b[43mcpp_types_dir\u001b[49m\u001b[43m)\u001b[49m\n",
      "\u001b[0;31mFileNotFoundError\u001b[0m: [Errno 2] No such file or directory: '/tmp/sf_codegen_bearing_factor_jt5jl2qw/cpp/lcmtypes'"
     ]
    }
   ],
   "source": []
  },
  {
   "cell_type": "code",
   "execution_count": null,
   "id": "8cb52ec2-eb63-4f70-81d1-82afa1f41907",
   "metadata": {},
   "outputs": [],
   "source": []
  }
 ],
 "metadata": {
  "kernelspec": {
   "display_name": "Python 3 (ipykernel)",
   "language": "python",
   "name": "python3"
  },
  "language_info": {
   "codemirror_mode": {
    "name": "ipython",
    "version": 3
   },
   "file_extension": ".py",
   "mimetype": "text/x-python",
   "name": "python",
   "nbconvert_exporter": "python",
   "pygments_lexer": "ipython3",
   "version": "3.8.16"
  }
 },
 "nbformat": 4,
 "nbformat_minor": 5
}
