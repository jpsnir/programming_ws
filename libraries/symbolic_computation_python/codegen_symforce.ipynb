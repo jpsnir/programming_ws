{
 "cells": [
  {
   "cell_type": "code",
   "execution_count": 1,
   "id": "74bea607-23a5-4dc3-a2e4-f797daae40bc",
   "metadata": {},
   "outputs": [],
   "source": [
    "import numpy as np\n",
    "import symforce\n",
    "symforce.set_symbolic_api(\"symengine\")"
   ]
  },
  {
   "cell_type": "code",
   "execution_count": 2,
   "id": "0f34df66-b98c-4905-ad74-f204b9d285ae",
   "metadata": {},
   "outputs": [],
   "source": [
    "symforce.set_log_level(\"warning\")"
   ]
  },
  {
   "cell_type": "code",
   "execution_count": 3,
   "id": "042d4e1f-dedb-4138-bd7e-9889019b70ab",
   "metadata": {},
   "outputs": [],
   "source": [
    "import symforce.symbolic as sf\n",
    "import symforce.codegen as codegen"
   ]
  },
  {
   "cell_type": "code",
   "execution_count": 4,
   "id": "5024fbd2-9a4c-4df7-b542-f3b93ef58eeb",
   "metadata": {},
   "outputs": [],
   "source": [
    "from symforce.codegen import codegen_util"
   ]
  },
  {
   "cell_type": "code",
   "execution_count": 5,
   "id": "cc29bd3b-b646-460c-bdde-cd8a81779862",
   "metadata": {},
   "outputs": [],
   "source": [
    "from symforce import ops\n",
    "from symforce.values import Values\n",
    "from symforce.notebook_util import display, display_code, display_code_file\n"
   ]
  },
  {
   "cell_type": "markdown",
   "id": "7e050a17-f2e6-4bfa-91a2-e00433e8b55e",
   "metadata": {},
   "source": [
    "### creating a function in data structures defined by symforce."
   ]
  },
  {
   "cell_type": "code",
   "execution_count": 17,
   "id": "f55697d6-7c60-4ba0-bf8e-580d7b96e03b",
   "metadata": {},
   "outputs": [],
   "source": [
    "def az_el_from_point(nav_T_cam: sf.Pose3, nav_t_point: sf.Vector3, epsilon: sf.Scalar = 0) -> sf.Vector2:\n",
    "    cam_t_point = nav_T_cam.inverse()*nav_t_point\n",
    "    x, y, z = cam_t_point\n",
    "    theta = sf.atan2(y, x + epsilon)\n",
    "    phi = sf.pi/2 - sf.acos(z/(cam_t_point.norm() + epsilon))\n",
    "    return sf.V2(theta, phi)"
   ]
  },
  {
   "cell_type": "code",
   "execution_count": 30,
   "id": "c4983247-deb6-472b-a3f7-16ad1299b38e",
   "metadata": {},
   "outputs": [
    {
     "name": "stdout",
     "output_type": "stream",
     "text": [
      "Files generated in /tmp/sf_codegen_az_el_from_point_nuwtejg4: \n",
      "\n"
     ]
    }
   ],
   "source": [
    "print(\"Files generated in {}: \\n\".format(az_el_codegen_data.output_dir)"
   ]
  },
  {
   "cell_type": "code",
   "execution_count": 31,
   "id": "0864928d-635a-4195-8d4c-4026a0cb491b",
   "metadata": {},
   "outputs": [
    {
     "name": "stderr",
     "output_type": "stream",
     "text": [
      "codegen.__init__():141 WARNING -- \n",
      "    Generating code with epsilon set to 0 - This is dangerous!  You may get NaNs, Infs,\n",
      "    or numerically unstable results from calling generated functions near singularities.\n",
      "\n",
      "    In order to safely generate code, you should set epsilon to either a symbol\n",
      "    (recommended) or a small numerical value like `sf.numeric_epsilon`.  You should do\n",
      "    this before importing any other code from symforce, e.g. with\n",
      "\n",
      "        import symforce\n",
      "        symforce.set_epsilon_to_symbol()\n",
      "\n",
      "    or\n",
      "\n",
      "        import symforce\n",
      "        symforce.set_epsilon_to_number()\n",
      "\n",
      "    For more information on use of epsilon to prevent singularities, take a look at the\n",
      "    Epsilon Tutorial: https://symforce.org/tutorials/epsilon_tutorial.html\n",
      "\n"
     ]
    },
    {
     "data": {
      "text/latex": [
       "$\\displaystyle \\left( 2, \\  1\\right)$"
      ],
      "text/plain": [
       "(2, 1)"
      ]
     },
     "metadata": {},
     "output_type": "display_data"
    },
    {
     "data": {
      "text/latex": [
       "$\\displaystyle \\left[\\begin{matrix}\\operatorname{atan}_{2}{\\left(- T.t0 \\left(- 2 T.R_{w} T.R_{z} + 2 T.R_{x} T.R_{y}\\right) - T.t1 \\left(- 2 T.R_{x}^{2} - 2 T.R_{z}^{2} + 1\\right) - T.t2 \\cdot \\left(2 T.R_{w} T.R_{x} + 2 T.R_{y} T.R_{z}\\right) + v_{0} \\left(- 2 T.R_{w} T.R_{z} + 2 T.R_{x} T.R_{y}\\right) + v_{1} \\left(- 2 T.R_{x}^{2} - 2 T.R_{z}^{2} + 1\\right) + v_{2} \\cdot \\left(2 T.R_{w} T.R_{x} + 2 T.R_{y} T.R_{z}\\right),- T.t0 \\left(- 2 T.R_{y}^{2} - 2 T.R_{z}^{2} + 1\\right) - T.t1 \\cdot \\left(2 T.R_{w} T.R_{z} + 2 T.R_{x} T.R_{y}\\right) - T.t2 \\left(- 2 T.R_{w} T.R_{y} + 2 T.R_{x} T.R_{z}\\right) + v_{0} \\left(- 2 T.R_{y}^{2} - 2 T.R_{z}^{2} + 1\\right) + v_{1} \\cdot \\left(2 T.R_{w} T.R_{z} + 2 T.R_{x} T.R_{y}\\right) + v_{2} \\left(- 2 T.R_{w} T.R_{y} + 2 T.R_{x} T.R_{z}\\right) \\right)}\\\\- \\operatorname{acos}{\\left(\\frac{- T.t0 \\cdot \\left(2 T.R_{w} T.R_{y} + 2 T.R_{x} T.R_{z}\\right) - T.t1 \\left(- 2 T.R_{w} T.R_{x} + 2 T.R_{y} T.R_{z}\\right) - T.t2 \\left(- 2 T.R_{x}^{2} - 2 T.R_{y}^{2} + 1\\right) + v_{0} \\cdot \\left(2 T.R_{w} T.R_{y} + 2 T.R_{x} T.R_{z}\\right) + v_{1} \\left(- 2 T.R_{w} T.R_{x} + 2 T.R_{y} T.R_{z}\\right) + v_{2} \\left(- 2 T.R_{x}^{2} - 2 T.R_{y}^{2} + 1\\right)}{\\sqrt{\\left(- T.t0 \\cdot \\left(2 T.R_{w} T.R_{y} + 2 T.R_{x} T.R_{z}\\right) - T.t1 \\left(- 2 T.R_{w} T.R_{x} + 2 T.R_{y} T.R_{z}\\right) - T.t2 \\left(- 2 T.R_{x}^{2} - 2 T.R_{y}^{2} + 1\\right) + v_{0} \\cdot \\left(2 T.R_{w} T.R_{y} + 2 T.R_{x} T.R_{z}\\right) + v_{1} \\left(- 2 T.R_{w} T.R_{x} + 2 T.R_{y} T.R_{z}\\right) + v_{2} \\left(- 2 T.R_{x}^{2} - 2 T.R_{y}^{2} + 1\\right)\\right)^{2} + \\left(- T.t0 \\left(- 2 T.R_{w} T.R_{z} + 2 T.R_{x} T.R_{y}\\right) - T.t1 \\left(- 2 T.R_{x}^{2} - 2 T.R_{z}^{2} + 1\\right) - T.t2 \\cdot \\left(2 T.R_{w} T.R_{x} + 2 T.R_{y} T.R_{z}\\right) + v_{0} \\left(- 2 T.R_{w} T.R_{z} + 2 T.R_{x} T.R_{y}\\right) + v_{1} \\left(- 2 T.R_{x}^{2} - 2 T.R_{z}^{2} + 1\\right) + v_{2} \\cdot \\left(2 T.R_{w} T.R_{x} + 2 T.R_{y} T.R_{z}\\right)\\right)^{2} + \\left(- T.t0 \\left(- 2 T.R_{y}^{2} - 2 T.R_{z}^{2} + 1\\right) - T.t1 \\cdot \\left(2 T.R_{w} T.R_{z} + 2 T.R_{x} T.R_{y}\\right) - T.t2 \\left(- 2 T.R_{w} T.R_{y} + 2 T.R_{x} T.R_{z}\\right) + v_{0} \\left(- 2 T.R_{y}^{2} - 2 T.R_{z}^{2} + 1\\right) + v_{1} \\cdot \\left(2 T.R_{w} T.R_{z} + 2 T.R_{x} T.R_{y}\\right) + v_{2} \\left(- 2 T.R_{w} T.R_{y} + 2 T.R_{x} T.R_{z}\\right)\\right)^{2}}} \\right)} + \\frac{\\pi}{2}\\end{matrix}\\right]$"
      ],
      "text/plain": [
       "Matrix([\n",
       "[                                                                                                                                                                                                                                                                                                                                                                                                                                                                                                       atan2(-T.t0*(-2*T.R_w*T.R_z + 2*T.R_x*T.R_y) - T.t1*(-2*T.R_x**2 - 2*T.R_z**2 + 1) - T.t2*(2*T.R_w*T.R_x + 2*T.R_y*T.R_z) + v0*(-2*T.R_w*T.R_z + 2*T.R_x*T.R_y) + v1*(-2*T.R_x**2 - 2*T.R_z**2 + 1) + v2*(2*T.R_w*T.R_x + 2*T.R_y*T.R_z), -T.t0*(-2*T.R_y**2 - 2*T.R_z**2 + 1) - T.t1*(2*T.R_w*T.R_z + 2*T.R_x*T.R_y) - T.t2*(-2*T.R_w*T.R_y + 2*T.R_x*T.R_z) + v0*(-2*T.R_y**2 - 2*T.R_z**2 + 1) + v1*(2*T.R_w*T.R_z + 2*T.R_x*T.R_y) + v2*(-2*T.R_w*T.R_y + 2*T.R_x*T.R_z))],\n",
       "[-acos((-T.t0*(2*T.R_w*T.R_y + 2*T.R_x*T.R_z) - T.t1*(-2*T.R_w*T.R_x + 2*T.R_y*T.R_z) - T.t2*(-2*T.R_x**2 - 2*T.R_y**2 + 1) + v0*(2*T.R_w*T.R_y + 2*T.R_x*T.R_z) + v1*(-2*T.R_w*T.R_x + 2*T.R_y*T.R_z) + v2*(-2*T.R_x**2 - 2*T.R_y**2 + 1))/sqrt((-T.t0*(2*T.R_w*T.R_y + 2*T.R_x*T.R_z) - T.t1*(-2*T.R_w*T.R_x + 2*T.R_y*T.R_z) - T.t2*(-2*T.R_x**2 - 2*T.R_y**2 + 1) + v0*(2*T.R_w*T.R_y + 2*T.R_x*T.R_z) + v1*(-2*T.R_w*T.R_x + 2*T.R_y*T.R_z) + v2*(-2*T.R_x**2 - 2*T.R_y**2 + 1))**2 + (-T.t0*(-2*T.R_w*T.R_z + 2*T.R_x*T.R_y) - T.t1*(-2*T.R_x**2 - 2*T.R_z**2 + 1) - T.t2*(2*T.R_w*T.R_x + 2*T.R_y*T.R_z) + v0*(-2*T.R_w*T.R_z + 2*T.R_x*T.R_y) + v1*(-2*T.R_x**2 - 2*T.R_z**2 + 1) + v2*(2*T.R_w*T.R_x + 2*T.R_y*T.R_z))**2 + (-T.t0*(-2*T.R_y**2 - 2*T.R_z**2 + 1) - T.t1*(2*T.R_w*T.R_z + 2*T.R_x*T.R_y) - T.t2*(-2*T.R_w*T.R_y + 2*T.R_x*T.R_z) + v0*(-2*T.R_y**2 - 2*T.R_z**2 + 1) + v1*(2*T.R_w*T.R_z + 2*T.R_x*T.R_y) + v2*(-2*T.R_w*T.R_y + 2*T.R_x*T.R_z))**2)) + pi/2]])"
      ]
     },
     "metadata": {},
     "output_type": "display_data"
    },
    {
     "ename": "AttributeError",
     "evalue": "'Matrix21' object has no attribute '__name__'",
     "output_type": "error",
     "traceback": [
      "\u001b[0;31m---------------------------------------------------------------------------\u001b[0m",
      "\u001b[0;31mAttributeError\u001b[0m                            Traceback (most recent call last)",
      "Cell \u001b[0;32mIn[31], line 10\u001b[0m\n\u001b[1;32m      7\u001b[0m display(a\u001b[38;5;241m.\u001b[39mshape)\n\u001b[1;32m      8\u001b[0m display(a)\n\u001b[0;32m---> 10\u001b[0m az_el_codegen \u001b[38;5;241m=\u001b[39m \u001b[43mcodegen\u001b[49m\u001b[38;5;241;43m.\u001b[39;49m\u001b[43mCodegen\u001b[49m\u001b[38;5;241;43m.\u001b[39;49m\u001b[43mfunction\u001b[49m\u001b[43m(\u001b[49m\u001b[43mfunc\u001b[49m\u001b[43m \u001b[49m\u001b[38;5;241;43m=\u001b[39;49m\u001b[43m \u001b[49m\u001b[43ma\u001b[49m\u001b[43m,\u001b[49m\u001b[43m \u001b[49m\u001b[43mconfig\u001b[49m\u001b[43m \u001b[49m\u001b[38;5;241;43m=\u001b[39;49m\u001b[43m \u001b[49m\u001b[43mcodegen\u001b[49m\u001b[38;5;241;43m.\u001b[39;49m\u001b[43mCppConfig\u001b[49m\u001b[43m(\u001b[49m\u001b[43m)\u001b[49m\u001b[43m)\u001b[49m\n",
      "File \u001b[0;32m~/.local/lib/python3.8/site-packages/symforce/codegen/codegen.py:290\u001b[0m, in \u001b[0;36mCodegen.function\u001b[0;34m(cls, func, config, name, input_types, output_names, return_key, sparse_matrices, docstring)\u001b[0m\n\u001b[1;32m    288\u001b[0m \u001b[38;5;28;01mif\u001b[39;00m name \u001b[38;5;129;01mis\u001b[39;00m \u001b[38;5;28;01mNone\u001b[39;00m:\n\u001b[1;32m    289\u001b[0m     inner_func \u001b[38;5;241m=\u001b[39m python_util\u001b[38;5;241m.\u001b[39mget_func_from_maybe_bound_function(func)\n\u001b[0;32m--> 290\u001b[0m     \u001b[38;5;28;01massert\u001b[39;00m \u001b[43minner_func\u001b[49m\u001b[38;5;241;43m.\u001b[39;49m\u001b[38;5;18;43m__name__\u001b[39;49m \u001b[38;5;241m!=\u001b[39m \u001b[38;5;124m\"\u001b[39m\u001b[38;5;124m<lambda>\u001b[39m\u001b[38;5;124m\"\u001b[39m, \u001b[38;5;124m\"\u001b[39m\u001b[38;5;124mCan\u001b[39m\u001b[38;5;124m'\u001b[39m\u001b[38;5;124mt deduce name automatically for a lambda\u001b[39m\u001b[38;5;124m\"\u001b[39m\n\u001b[1;32m    291\u001b[0m     name \u001b[38;5;241m=\u001b[39m inner_func\u001b[38;5;241m.\u001b[39m\u001b[38;5;18m__name__\u001b[39m\n\u001b[1;32m    293\u001b[0m inputs \u001b[38;5;241m=\u001b[39m symbolic_inputs(func, input_types)\n",
      "\u001b[0;31mAttributeError\u001b[0m: 'Matrix21' object has no attribute '__name__'"
     ]
    }
   ],
   "source": [
    "az_el_codegen = codegen.Codegen.function(\n",
    "    func=az_el_from_point,\n",
    "    config=codegen.CppConfig()\n",
    ")\n",
    "az_el_codegen_data = az_el_codegen.generate_function()\n",
    "a = az_el_from_point(sf.Pose3.symbolic(\"T\"), sf.V3.symbolic(\"v\"))\n",
    "display(a.shape)\n",
    "display(a)"
   ]
  },
  {
   "cell_type": "code",
   "execution_count": 23,
   "id": "043c519c-ba57-4c4d-8feb-5ae6676b0eb1",
   "metadata": {},
   "outputs": [
    {
     "name": "stdout",
     "output_type": "stream",
     "text": [
      " | = cpp/symforce/sym/az_el_from_point.h\n"
     ]
    },
    {
     "data": {
      "text/html": [
       "<div class=\"highlight\" style=\"background: #f8f8f8\"><pre style=\"line-height: 125%;\"><span></span><span style=\"color: #3D7B7B; font-style: italic\">// -----------------------------------------------------------------------------</span>\n",
       "<span style=\"color: #3D7B7B; font-style: italic\">// This file was autogenerated by symforce from template:</span>\n",
       "<span style=\"color: #3D7B7B; font-style: italic\">//     function/FUNCTION.h.jinja</span>\n",
       "<span style=\"color: #3D7B7B; font-style: italic\">// Do NOT modify by hand.</span>\n",
       "<span style=\"color: #3D7B7B; font-style: italic\">// -----------------------------------------------------------------------------</span>\n",
       "\n",
       "<span style=\"color: #9C6500\">#pragma once</span>\n",
       "\n",
       "<span style=\"color: #9C6500\">#include</span><span style=\"color: #bbbbbb\"> </span><span style=\"color: #3D7B7B; font-style: italic\">&lt;Eigen/Dense&gt;</span>\n",
       "\n",
       "<span style=\"color: #9C6500\">#include</span><span style=\"color: #bbbbbb\"> </span><span style=\"color: #3D7B7B; font-style: italic\">&lt;sym/pose3.h&gt;</span>\n",
       "\n",
       "<span style=\"color: #008000; font-weight: bold\">namespace</span><span style=\"color: #bbbbbb\"> </span><span style=\"color: #0000FF; font-weight: bold\">sym</span><span style=\"color: #bbbbbb\"> </span>{\n",
       "\n",
       "<span style=\"color: #3D7B7B; font-style: italic\">/**</span>\n",
       "<span style=\"color: #3D7B7B; font-style: italic\"> * This function was autogenerated from a symbolic function. Do not modify by hand.</span>\n",
       "<span style=\"color: #3D7B7B; font-style: italic\"> *</span>\n",
       "<span style=\"color: #3D7B7B; font-style: italic\"> * Symbolic function: az_el_from_point</span>\n",
       "<span style=\"color: #3D7B7B; font-style: italic\"> *</span>\n",
       "<span style=\"color: #3D7B7B; font-style: italic\"> * Args:</span>\n",
       "<span style=\"color: #3D7B7B; font-style: italic\"> *     nav_T_cam: Pose3</span>\n",
       "<span style=\"color: #3D7B7B; font-style: italic\"> *     nav_t_point: Matrix31</span>\n",
       "<span style=\"color: #3D7B7B; font-style: italic\"> *     epsilon: Scalar</span>\n",
       "<span style=\"color: #3D7B7B; font-style: italic\"> *</span>\n",
       "<span style=\"color: #3D7B7B; font-style: italic\"> * Outputs:</span>\n",
       "<span style=\"color: #3D7B7B; font-style: italic\"> *     res: Matrix21</span>\n",
       "<span style=\"color: #3D7B7B; font-style: italic\"> */</span>\n",
       "<span style=\"color: #008000; font-weight: bold\">template</span><span style=\"color: #bbbbbb\"> </span><span style=\"color: #666666\">&lt;</span><span style=\"color: #008000; font-weight: bold\">typename</span><span style=\"color: #bbbbbb\"> </span><span style=\"color: #0000FF; font-weight: bold\">Scalar</span><span style=\"color: #666666\">&gt;</span>\n",
       "Eigen<span style=\"color: #666666\">::</span>Matrix<span style=\"color: #666666\">&lt;</span>Scalar,<span style=\"color: #bbbbbb\"> </span><span style=\"color: #666666\">2</span>,<span style=\"color: #bbbbbb\"> </span><span style=\"color: #666666\">1&gt;</span><span style=\"color: #bbbbbb\"> </span>AzElFromPoint(<span style=\"color: #008000; font-weight: bold\">const</span><span style=\"color: #bbbbbb\"> </span>sym<span style=\"color: #666666\">::</span>Pose3<span style=\"color: #666666\">&lt;</span>Scalar<span style=\"color: #666666\">&gt;&amp;</span><span style=\"color: #bbbbbb\"> </span>nav_T_cam,\n",
       "<span style=\"color: #bbbbbb\">                                          </span><span style=\"color: #008000; font-weight: bold\">const</span><span style=\"color: #bbbbbb\"> </span>Eigen<span style=\"color: #666666\">::</span>Matrix<span style=\"color: #666666\">&lt;</span>Scalar,<span style=\"color: #bbbbbb\"> </span><span style=\"color: #666666\">3</span>,<span style=\"color: #bbbbbb\"> </span><span style=\"color: #666666\">1&gt;&amp;</span><span style=\"color: #bbbbbb\"> </span>nav_t_point,\n",
       "<span style=\"color: #bbbbbb\">                                          </span><span style=\"color: #008000; font-weight: bold\">const</span><span style=\"color: #bbbbbb\"> </span>Scalar<span style=\"color: #bbbbbb\"> </span>epsilon)<span style=\"color: #bbbbbb\"> </span>{\n",
       "<span style=\"color: #bbbbbb\">  </span><span style=\"color: #3D7B7B; font-style: italic\">// Total ops: 74</span>\n",
       "\n",
       "<span style=\"color: #bbbbbb\">  </span><span style=\"color: #3D7B7B; font-style: italic\">// Input arrays</span>\n",
       "<span style=\"color: #bbbbbb\">  </span><span style=\"color: #008000; font-weight: bold\">const</span><span style=\"color: #bbbbbb\"> </span>Eigen<span style=\"color: #666666\">::</span>Matrix<span style=\"color: #666666\">&lt;</span>Scalar,<span style=\"color: #bbbbbb\"> </span><span style=\"color: #666666\">7</span>,<span style=\"color: #bbbbbb\"> </span><span style=\"color: #666666\">1&gt;&amp;</span><span style=\"color: #bbbbbb\"> </span>_nav_T_cam<span style=\"color: #bbbbbb\"> </span><span style=\"color: #666666\">=</span><span style=\"color: #bbbbbb\"> </span>nav_T_cam.Data();\n",
       "\n",
       "<span style=\"color: #bbbbbb\">  </span><span style=\"color: #3D7B7B; font-style: italic\">// Intermediate terms (23)</span>\n",
       "<span style=\"color: #bbbbbb\">  </span><span style=\"color: #008000; font-weight: bold\">const</span><span style=\"color: #bbbbbb\"> </span>Scalar<span style=\"color: #bbbbbb\"> </span>_tmp0<span style=\"color: #bbbbbb\"> </span><span style=\"color: #666666\">=</span><span style=\"color: #bbbbbb\"> </span><span style=\"color: #666666\">2</span><span style=\"color: #bbbbbb\"> </span><span style=\"color: #666666\">*</span><span style=\"color: #bbbbbb\"> </span>_nav_T_cam[<span style=\"color: #666666\">0</span>];\n",
       "<span style=\"color: #bbbbbb\">  </span><span style=\"color: #008000; font-weight: bold\">const</span><span style=\"color: #bbbbbb\"> </span>Scalar<span style=\"color: #bbbbbb\"> </span>_tmp1<span style=\"color: #bbbbbb\"> </span><span style=\"color: #666666\">=</span><span style=\"color: #bbbbbb\"> </span>_nav_T_cam[<span style=\"color: #666666\">3</span>]<span style=\"color: #bbbbbb\"> </span><span style=\"color: #666666\">*</span><span style=\"color: #bbbbbb\"> </span>_tmp0;\n",
       "<span style=\"color: #bbbbbb\">  </span><span style=\"color: #008000; font-weight: bold\">const</span><span style=\"color: #bbbbbb\"> </span>Scalar<span style=\"color: #bbbbbb\"> </span>_tmp2<span style=\"color: #bbbbbb\"> </span><span style=\"color: #666666\">=</span><span style=\"color: #bbbbbb\"> </span><span style=\"color: #666666\">2</span><span style=\"color: #bbbbbb\"> </span><span style=\"color: #666666\">*</span><span style=\"color: #bbbbbb\"> </span>_nav_T_cam[<span style=\"color: #666666\">1</span>];\n",
       "<span style=\"color: #bbbbbb\">  </span><span style=\"color: #008000; font-weight: bold\">const</span><span style=\"color: #bbbbbb\"> </span>Scalar<span style=\"color: #bbbbbb\"> </span>_tmp3<span style=\"color: #bbbbbb\"> </span><span style=\"color: #666666\">=</span><span style=\"color: #bbbbbb\"> </span>_nav_T_cam[<span style=\"color: #666666\">2</span>]<span style=\"color: #bbbbbb\"> </span><span style=\"color: #666666\">*</span><span style=\"color: #bbbbbb\"> </span>_tmp2;\n",
       "<span style=\"color: #bbbbbb\">  </span><span style=\"color: #008000; font-weight: bold\">const</span><span style=\"color: #bbbbbb\"> </span>Scalar<span style=\"color: #bbbbbb\"> </span>_tmp4<span style=\"color: #bbbbbb\"> </span><span style=\"color: #666666\">=</span><span style=\"color: #bbbbbb\"> </span>_tmp1<span style=\"color: #bbbbbb\"> </span><span style=\"color: #666666\">+</span><span style=\"color: #bbbbbb\"> </span>_tmp3;\n",
       "<span style=\"color: #bbbbbb\">  </span><span style=\"color: #008000; font-weight: bold\">const</span><span style=\"color: #bbbbbb\"> </span>Scalar<span style=\"color: #bbbbbb\"> </span>_tmp5<span style=\"color: #bbbbbb\"> </span><span style=\"color: #666666\">=</span><span style=\"color: #bbbbbb\"> </span><span style=\"color: #666666\">-2</span><span style=\"color: #bbbbbb\"> </span><span style=\"color: #666666\">*</span><span style=\"color: #bbbbbb\"> </span>std<span style=\"color: #666666\">::</span>pow(_nav_T_cam[<span style=\"color: #666666\">2</span>],<span style=\"color: #bbbbbb\"> </span>Scalar(<span style=\"color: #666666\">2</span>));\n",
       "<span style=\"color: #bbbbbb\">  </span><span style=\"color: #008000; font-weight: bold\">const</span><span style=\"color: #bbbbbb\"> </span>Scalar<span style=\"color: #bbbbbb\"> </span>_tmp6<span style=\"color: #bbbbbb\"> </span><span style=\"color: #666666\">=</span><span style=\"color: #bbbbbb\"> </span><span style=\"color: #666666\">1</span><span style=\"color: #bbbbbb\"> </span><span style=\"color: #666666\">-</span><span style=\"color: #bbbbbb\"> </span><span style=\"color: #666666\">2</span><span style=\"color: #bbbbbb\"> </span><span style=\"color: #666666\">*</span><span style=\"color: #bbbbbb\"> </span>std<span style=\"color: #666666\">::</span>pow(_nav_T_cam[<span style=\"color: #666666\">0</span>],<span style=\"color: #bbbbbb\"> </span>Scalar(<span style=\"color: #666666\">2</span>));\n",
       "<span style=\"color: #bbbbbb\">  </span><span style=\"color: #008000; font-weight: bold\">const</span><span style=\"color: #bbbbbb\"> </span>Scalar<span style=\"color: #bbbbbb\"> </span>_tmp7<span style=\"color: #bbbbbb\"> </span><span style=\"color: #666666\">=</span><span style=\"color: #bbbbbb\"> </span>_tmp5<span style=\"color: #bbbbbb\"> </span><span style=\"color: #666666\">+</span><span style=\"color: #bbbbbb\"> </span>_tmp6;\n",
       "<span style=\"color: #bbbbbb\">  </span><span style=\"color: #008000; font-weight: bold\">const</span><span style=\"color: #bbbbbb\"> </span>Scalar<span style=\"color: #bbbbbb\"> </span>_tmp8<span style=\"color: #bbbbbb\"> </span><span style=\"color: #666666\">=</span><span style=\"color: #bbbbbb\"> </span>_nav_T_cam[<span style=\"color: #666666\">1</span>]<span style=\"color: #bbbbbb\"> </span><span style=\"color: #666666\">*</span><span style=\"color: #bbbbbb\"> </span>_tmp0;\n",
       "<span style=\"color: #bbbbbb\">  </span><span style=\"color: #008000; font-weight: bold\">const</span><span style=\"color: #bbbbbb\"> </span>Scalar<span style=\"color: #bbbbbb\"> </span>_tmp9<span style=\"color: #bbbbbb\"> </span><span style=\"color: #666666\">=</span><span style=\"color: #bbbbbb\"> </span><span style=\"color: #666666\">2</span><span style=\"color: #bbbbbb\"> </span><span style=\"color: #666666\">*</span><span style=\"color: #bbbbbb\"> </span>_nav_T_cam[<span style=\"color: #666666\">2</span>]<span style=\"color: #bbbbbb\"> </span><span style=\"color: #666666\">*</span><span style=\"color: #bbbbbb\"> </span>_nav_T_cam[<span style=\"color: #666666\">3</span>];\n",
       "<span style=\"color: #bbbbbb\">  </span><span style=\"color: #008000; font-weight: bold\">const</span><span style=\"color: #bbbbbb\"> </span>Scalar<span style=\"color: #bbbbbb\"> </span>_tmp10<span style=\"color: #bbbbbb\"> </span><span style=\"color: #666666\">=</span><span style=\"color: #bbbbbb\"> </span>_tmp8<span style=\"color: #bbbbbb\"> </span><span style=\"color: #666666\">-</span><span style=\"color: #bbbbbb\"> </span>_tmp9;\n",
       "<span style=\"color: #bbbbbb\">  </span><span style=\"color: #008000; font-weight: bold\">const</span><span style=\"color: #bbbbbb\"> </span>Scalar<span style=\"color: #bbbbbb\"> </span>_tmp11<span style=\"color: #bbbbbb\"> </span><span style=\"color: #666666\">=</span><span style=\"color: #bbbbbb\"> </span><span style=\"color: #666666\">-</span>_nav_T_cam[<span style=\"color: #666666\">4</span>]<span style=\"color: #bbbbbb\"> </span><span style=\"color: #666666\">*</span><span style=\"color: #bbbbbb\"> </span>_tmp10<span style=\"color: #bbbbbb\"> </span><span style=\"color: #666666\">-</span><span style=\"color: #bbbbbb\"> </span>_nav_T_cam[<span style=\"color: #666666\">5</span>]<span style=\"color: #bbbbbb\"> </span><span style=\"color: #666666\">*</span><span style=\"color: #bbbbbb\"> </span>_tmp7<span style=\"color: #bbbbbb\"> </span><span style=\"color: #666666\">-</span><span style=\"color: #bbbbbb\"> </span>_nav_T_cam[<span style=\"color: #666666\">6</span>]<span style=\"color: #bbbbbb\"> </span><span style=\"color: #666666\">*</span><span style=\"color: #bbbbbb\"> </span>_tmp4<span style=\"color: #bbbbbb\"> </span><span style=\"color: #666666\">+</span>\n",
       "<span style=\"color: #bbbbbb\">                        </span>_tmp10<span style=\"color: #bbbbbb\"> </span><span style=\"color: #666666\">*</span><span style=\"color: #bbbbbb\"> </span>nav_t_point(<span style=\"color: #666666\">0</span>,<span style=\"color: #bbbbbb\"> </span><span style=\"color: #666666\">0</span>)<span style=\"color: #bbbbbb\"> </span><span style=\"color: #666666\">+</span><span style=\"color: #bbbbbb\"> </span>_tmp4<span style=\"color: #bbbbbb\"> </span><span style=\"color: #666666\">*</span><span style=\"color: #bbbbbb\"> </span>nav_t_point(<span style=\"color: #666666\">2</span>,<span style=\"color: #bbbbbb\"> </span><span style=\"color: #666666\">0</span>)<span style=\"color: #bbbbbb\"> </span><span style=\"color: #666666\">+</span>\n",
       "<span style=\"color: #bbbbbb\">                        </span>_tmp7<span style=\"color: #bbbbbb\"> </span><span style=\"color: #666666\">*</span><span style=\"color: #bbbbbb\"> </span>nav_t_point(<span style=\"color: #666666\">1</span>,<span style=\"color: #bbbbbb\"> </span><span style=\"color: #666666\">0</span>);\n",
       "<span style=\"color: #bbbbbb\">  </span><span style=\"color: #008000; font-weight: bold\">const</span><span style=\"color: #bbbbbb\"> </span>Scalar<span style=\"color: #bbbbbb\"> </span>_tmp12<span style=\"color: #bbbbbb\"> </span><span style=\"color: #666666\">=</span><span style=\"color: #bbbbbb\"> </span><span style=\"color: #666666\">-2</span><span style=\"color: #bbbbbb\"> </span><span style=\"color: #666666\">*</span><span style=\"color: #bbbbbb\"> </span>std<span style=\"color: #666666\">::</span>pow(_nav_T_cam[<span style=\"color: #666666\">1</span>],<span style=\"color: #bbbbbb\"> </span>Scalar(<span style=\"color: #666666\">2</span>));\n",
       "<span style=\"color: #bbbbbb\">  </span><span style=\"color: #008000; font-weight: bold\">const</span><span style=\"color: #bbbbbb\"> </span>Scalar<span style=\"color: #bbbbbb\"> </span>_tmp13<span style=\"color: #bbbbbb\"> </span><span style=\"color: #666666\">=</span><span style=\"color: #bbbbbb\"> </span>_tmp12<span style=\"color: #bbbbbb\"> </span><span style=\"color: #666666\">+</span><span style=\"color: #bbbbbb\"> </span>_tmp5<span style=\"color: #bbbbbb\"> </span><span style=\"color: #666666\">+</span><span style=\"color: #bbbbbb\"> </span><span style=\"color: #666666\">1</span>;\n",
       "<span style=\"color: #bbbbbb\">  </span><span style=\"color: #008000; font-weight: bold\">const</span><span style=\"color: #bbbbbb\"> </span>Scalar<span style=\"color: #bbbbbb\"> </span>_tmp14<span style=\"color: #bbbbbb\"> </span><span style=\"color: #666666\">=</span><span style=\"color: #bbbbbb\"> </span>_tmp8<span style=\"color: #bbbbbb\"> </span><span style=\"color: #666666\">+</span><span style=\"color: #bbbbbb\"> </span>_tmp9;\n",
       "<span style=\"color: #bbbbbb\">  </span><span style=\"color: #008000; font-weight: bold\">const</span><span style=\"color: #bbbbbb\"> </span>Scalar<span style=\"color: #bbbbbb\"> </span>_tmp15<span style=\"color: #bbbbbb\"> </span><span style=\"color: #666666\">=</span><span style=\"color: #bbbbbb\"> </span>_nav_T_cam[<span style=\"color: #666666\">3</span>]<span style=\"color: #bbbbbb\"> </span><span style=\"color: #666666\">*</span><span style=\"color: #bbbbbb\"> </span>_tmp2;\n",
       "<span style=\"color: #bbbbbb\">  </span><span style=\"color: #008000; font-weight: bold\">const</span><span style=\"color: #bbbbbb\"> </span>Scalar<span style=\"color: #bbbbbb\"> </span>_tmp16<span style=\"color: #bbbbbb\"> </span><span style=\"color: #666666\">=</span><span style=\"color: #bbbbbb\"> </span>_nav_T_cam[<span style=\"color: #666666\">2</span>]<span style=\"color: #bbbbbb\"> </span><span style=\"color: #666666\">*</span><span style=\"color: #bbbbbb\"> </span>_tmp0;\n",
       "<span style=\"color: #bbbbbb\">  </span><span style=\"color: #008000; font-weight: bold\">const</span><span style=\"color: #bbbbbb\"> </span>Scalar<span style=\"color: #bbbbbb\"> </span>_tmp17<span style=\"color: #bbbbbb\"> </span><span style=\"color: #666666\">=</span><span style=\"color: #bbbbbb\"> </span><span style=\"color: #666666\">-</span>_tmp15<span style=\"color: #bbbbbb\"> </span><span style=\"color: #666666\">+</span><span style=\"color: #bbbbbb\"> </span>_tmp16;\n",
       "<span style=\"color: #bbbbbb\">  </span><span style=\"color: #008000; font-weight: bold\">const</span><span style=\"color: #bbbbbb\"> </span>Scalar<span style=\"color: #bbbbbb\"> </span>_tmp18<span style=\"color: #bbbbbb\"> </span><span style=\"color: #666666\">=</span><span style=\"color: #bbbbbb\"> </span><span style=\"color: #666666\">-</span>_nav_T_cam[<span style=\"color: #666666\">4</span>]<span style=\"color: #bbbbbb\"> </span><span style=\"color: #666666\">*</span><span style=\"color: #bbbbbb\"> </span>_tmp13<span style=\"color: #bbbbbb\"> </span><span style=\"color: #666666\">-</span><span style=\"color: #bbbbbb\"> </span>_nav_T_cam[<span style=\"color: #666666\">5</span>]<span style=\"color: #bbbbbb\"> </span><span style=\"color: #666666\">*</span><span style=\"color: #bbbbbb\"> </span>_tmp14<span style=\"color: #bbbbbb\"> </span><span style=\"color: #666666\">-</span><span style=\"color: #bbbbbb\"> </span>_nav_T_cam[<span style=\"color: #666666\">6</span>]<span style=\"color: #bbbbbb\"> </span><span style=\"color: #666666\">*</span><span style=\"color: #bbbbbb\"> </span>_tmp17<span style=\"color: #bbbbbb\"> </span><span style=\"color: #666666\">+</span>\n",
       "<span style=\"color: #bbbbbb\">                        </span>_tmp13<span style=\"color: #bbbbbb\"> </span><span style=\"color: #666666\">*</span><span style=\"color: #bbbbbb\"> </span>nav_t_point(<span style=\"color: #666666\">0</span>,<span style=\"color: #bbbbbb\"> </span><span style=\"color: #666666\">0</span>)<span style=\"color: #bbbbbb\"> </span><span style=\"color: #666666\">+</span><span style=\"color: #bbbbbb\"> </span>_tmp14<span style=\"color: #bbbbbb\"> </span><span style=\"color: #666666\">*</span><span style=\"color: #bbbbbb\"> </span>nav_t_point(<span style=\"color: #666666\">1</span>,<span style=\"color: #bbbbbb\"> </span><span style=\"color: #666666\">0</span>)<span style=\"color: #bbbbbb\"> </span><span style=\"color: #666666\">+</span>\n",
       "<span style=\"color: #bbbbbb\">                        </span>_tmp17<span style=\"color: #bbbbbb\"> </span><span style=\"color: #666666\">*</span><span style=\"color: #bbbbbb\"> </span>nav_t_point(<span style=\"color: #666666\">2</span>,<span style=\"color: #bbbbbb\"> </span><span style=\"color: #666666\">0</span>);\n",
       "<span style=\"color: #bbbbbb\">  </span><span style=\"color: #008000; font-weight: bold\">const</span><span style=\"color: #bbbbbb\"> </span>Scalar<span style=\"color: #bbbbbb\"> </span>_tmp19<span style=\"color: #bbbbbb\"> </span><span style=\"color: #666666\">=</span><span style=\"color: #bbbbbb\"> </span><span style=\"color: #666666\">-</span>_tmp1<span style=\"color: #bbbbbb\"> </span><span style=\"color: #666666\">+</span><span style=\"color: #bbbbbb\"> </span>_tmp3;\n",
       "<span style=\"color: #bbbbbb\">  </span><span style=\"color: #008000; font-weight: bold\">const</span><span style=\"color: #bbbbbb\"> </span>Scalar<span style=\"color: #bbbbbb\"> </span>_tmp20<span style=\"color: #bbbbbb\"> </span><span style=\"color: #666666\">=</span><span style=\"color: #bbbbbb\"> </span>_tmp12<span style=\"color: #bbbbbb\"> </span><span style=\"color: #666666\">+</span><span style=\"color: #bbbbbb\"> </span>_tmp6;\n",
       "<span style=\"color: #bbbbbb\">  </span><span style=\"color: #008000; font-weight: bold\">const</span><span style=\"color: #bbbbbb\"> </span>Scalar<span style=\"color: #bbbbbb\"> </span>_tmp21<span style=\"color: #bbbbbb\"> </span><span style=\"color: #666666\">=</span><span style=\"color: #bbbbbb\"> </span>_tmp15<span style=\"color: #bbbbbb\"> </span><span style=\"color: #666666\">+</span><span style=\"color: #bbbbbb\"> </span>_tmp16;\n",
       "<span style=\"color: #bbbbbb\">  </span><span style=\"color: #008000; font-weight: bold\">const</span><span style=\"color: #bbbbbb\"> </span>Scalar<span style=\"color: #bbbbbb\"> </span>_tmp22<span style=\"color: #bbbbbb\"> </span><span style=\"color: #666666\">=</span><span style=\"color: #bbbbbb\"> </span><span style=\"color: #666666\">-</span>_nav_T_cam[<span style=\"color: #666666\">4</span>]<span style=\"color: #bbbbbb\"> </span><span style=\"color: #666666\">*</span><span style=\"color: #bbbbbb\"> </span>_tmp21<span style=\"color: #bbbbbb\"> </span><span style=\"color: #666666\">-</span><span style=\"color: #bbbbbb\"> </span>_nav_T_cam[<span style=\"color: #666666\">5</span>]<span style=\"color: #bbbbbb\"> </span><span style=\"color: #666666\">*</span><span style=\"color: #bbbbbb\"> </span>_tmp19<span style=\"color: #bbbbbb\"> </span><span style=\"color: #666666\">-</span><span style=\"color: #bbbbbb\"> </span>_nav_T_cam[<span style=\"color: #666666\">6</span>]<span style=\"color: #bbbbbb\"> </span><span style=\"color: #666666\">*</span><span style=\"color: #bbbbbb\"> </span>_tmp20<span style=\"color: #bbbbbb\"> </span><span style=\"color: #666666\">+</span>\n",
       "<span style=\"color: #bbbbbb\">                        </span>_tmp19<span style=\"color: #bbbbbb\"> </span><span style=\"color: #666666\">*</span><span style=\"color: #bbbbbb\"> </span>nav_t_point(<span style=\"color: #666666\">1</span>,<span style=\"color: #bbbbbb\"> </span><span style=\"color: #666666\">0</span>)<span style=\"color: #bbbbbb\"> </span><span style=\"color: #666666\">+</span><span style=\"color: #bbbbbb\"> </span>_tmp20<span style=\"color: #bbbbbb\"> </span><span style=\"color: #666666\">*</span><span style=\"color: #bbbbbb\"> </span>nav_t_point(<span style=\"color: #666666\">2</span>,<span style=\"color: #bbbbbb\"> </span><span style=\"color: #666666\">0</span>)<span style=\"color: #bbbbbb\"> </span><span style=\"color: #666666\">+</span>\n",
       "<span style=\"color: #bbbbbb\">                        </span>_tmp21<span style=\"color: #bbbbbb\"> </span><span style=\"color: #666666\">*</span><span style=\"color: #bbbbbb\"> </span>nav_t_point(<span style=\"color: #666666\">0</span>,<span style=\"color: #bbbbbb\"> </span><span style=\"color: #666666\">0</span>);\n",
       "\n",
       "<span style=\"color: #bbbbbb\">  </span><span style=\"color: #3D7B7B; font-style: italic\">// Output terms (1)</span>\n",
       "<span style=\"color: #bbbbbb\">  </span>Eigen<span style=\"color: #666666\">::</span>Matrix<span style=\"color: #666666\">&lt;</span>Scalar,<span style=\"color: #bbbbbb\"> </span><span style=\"color: #666666\">2</span>,<span style=\"color: #bbbbbb\"> </span><span style=\"color: #666666\">1&gt;</span><span style=\"color: #bbbbbb\"> </span>_res;\n",
       "\n",
       "<span style=\"color: #bbbbbb\">  </span>_res(<span style=\"color: #666666\">0</span>,<span style=\"color: #bbbbbb\"> </span><span style=\"color: #666666\">0</span>)<span style=\"color: #bbbbbb\"> </span><span style=\"color: #666666\">=</span><span style=\"color: #bbbbbb\"> </span>std<span style=\"color: #666666\">::</span>atan2(_tmp11,<span style=\"color: #bbbbbb\"> </span>_tmp18<span style=\"color: #bbbbbb\"> </span><span style=\"color: #666666\">+</span><span style=\"color: #bbbbbb\"> </span>epsilon);\n",
       "<span style=\"color: #bbbbbb\">  </span>_res(<span style=\"color: #666666\">1</span>,<span style=\"color: #bbbbbb\"> </span><span style=\"color: #666666\">0</span>)<span style=\"color: #bbbbbb\"> </span><span style=\"color: #666666\">=</span><span style=\"color: #bbbbbb\"> </span><span style=\"color: #666666\">-</span>std<span style=\"color: #666666\">::</span>acos(_tmp22<span style=\"color: #bbbbbb\"> </span><span style=\"color: #666666\">/</span><span style=\"color: #bbbbbb\"> </span>(epsilon<span style=\"color: #bbbbbb\"> </span><span style=\"color: #666666\">+</span><span style=\"color: #bbbbbb\"> </span>std<span style=\"color: #666666\">::</span>sqrt(Scalar(std<span style=\"color: #666666\">::</span>pow(_tmp11,<span style=\"color: #bbbbbb\"> </span>Scalar(<span style=\"color: #666666\">2</span>))<span style=\"color: #bbbbbb\"> </span><span style=\"color: #666666\">+</span>\n",
       "<span style=\"color: #bbbbbb\">                                                               </span>std<span style=\"color: #666666\">::</span>pow(_tmp18,<span style=\"color: #bbbbbb\"> </span>Scalar(<span style=\"color: #666666\">2</span>))<span style=\"color: #bbbbbb\"> </span><span style=\"color: #666666\">+</span>\n",
       "<span style=\"color: #bbbbbb\">                                                               </span>std<span style=\"color: #666666\">::</span>pow(_tmp22,<span style=\"color: #bbbbbb\"> </span>Scalar(<span style=\"color: #666666\">2</span>))))))<span style=\"color: #bbbbbb\"> </span><span style=\"color: #666666\">+</span>\n",
       "<span style=\"color: #bbbbbb\">               </span>Scalar(M_PI_2);\n",
       "\n",
       "<span style=\"color: #bbbbbb\">  </span><span style=\"color: #008000; font-weight: bold\">return</span><span style=\"color: #bbbbbb\"> </span>_res;\n",
       "}<span style=\"color: #bbbbbb\">  </span><span style=\"color: #3D7B7B; font-style: italic\">// NOLINT(readability/fn_size)</span>\n",
       "\n",
       "<span style=\"color: #3D7B7B; font-style: italic\">// NOLINTNEXTLINE(readability/fn_size)</span>\n",
       "}<span style=\"color: #bbbbbb\">  </span><span style=\"color: #3D7B7B; font-style: italic\">// namespace sym</span>\n",
       "</pre></div>\n"
      ],
      "text/plain": [
       "<IPython.core.display.HTML object>"
      ]
     },
     "metadata": {},
     "output_type": "display_data"
    }
   ],
   "source": [
    "for f in az_el_codegen_data.generated_files:\n",
    "    print(f\" | = {f.relative_to(az_el_codegen_data.output_dir)}\")\n",
    "display_code_file(az_el_codegen_data.generated_files[0], \"C++\")"
   ]
  },
  {
   "cell_type": "code",
   "execution_count": 32,
   "id": "ed2620a7-09d6-43b1-9003-133128317b98",
   "metadata": {},
   "outputs": [
    {
     "data": {
      "text/latex": [
       "$\\displaystyle \\left( 2, \\  1\\right)$"
      ],
      "text/plain": [
       "(2, 1)"
      ]
     },
     "metadata": {},
     "output_type": "display_data"
    },
    {
     "data": {
      "text/latex": [
       "$\\displaystyle \\left[\\begin{matrix}\\operatorname{atan}_{2}{\\left(- T.t0 \\left(- 2 T.R_{w} T.R_{z} + 2 T.R_{x} T.R_{y}\\right) - T.t1 \\left(- 2 T.R_{x}^{2} - 2 T.R_{z}^{2} + 1\\right) - T.t2 \\cdot \\left(2 T.R_{w} T.R_{x} + 2 T.R_{y} T.R_{z}\\right) + v_{0} \\left(- 2 T.R_{w} T.R_{z} + 2 T.R_{x} T.R_{y}\\right) + v_{1} \\left(- 2 T.R_{x}^{2} - 2 T.R_{z}^{2} + 1\\right) + v_{2} \\cdot \\left(2 T.R_{w} T.R_{x} + 2 T.R_{y} T.R_{z}\\right),- T.t0 \\left(- 2 T.R_{y}^{2} - 2 T.R_{z}^{2} + 1\\right) - T.t1 \\cdot \\left(2 T.R_{w} T.R_{z} + 2 T.R_{x} T.R_{y}\\right) - T.t2 \\left(- 2 T.R_{w} T.R_{y} + 2 T.R_{x} T.R_{z}\\right) + v_{0} \\left(- 2 T.R_{y}^{2} - 2 T.R_{z}^{2} + 1\\right) + v_{1} \\cdot \\left(2 T.R_{w} T.R_{z} + 2 T.R_{x} T.R_{y}\\right) + v_{2} \\left(- 2 T.R_{w} T.R_{y} + 2 T.R_{x} T.R_{z}\\right) \\right)}\\\\- \\operatorname{acos}{\\left(\\frac{- T.t0 \\cdot \\left(2 T.R_{w} T.R_{y} + 2 T.R_{x} T.R_{z}\\right) - T.t1 \\left(- 2 T.R_{w} T.R_{x} + 2 T.R_{y} T.R_{z}\\right) - T.t2 \\left(- 2 T.R_{x}^{2} - 2 T.R_{y}^{2} + 1\\right) + v_{0} \\cdot \\left(2 T.R_{w} T.R_{y} + 2 T.R_{x} T.R_{z}\\right) + v_{1} \\left(- 2 T.R_{w} T.R_{x} + 2 T.R_{y} T.R_{z}\\right) + v_{2} \\left(- 2 T.R_{x}^{2} - 2 T.R_{y}^{2} + 1\\right)}{\\sqrt{\\left(- T.t0 \\cdot \\left(2 T.R_{w} T.R_{y} + 2 T.R_{x} T.R_{z}\\right) - T.t1 \\left(- 2 T.R_{w} T.R_{x} + 2 T.R_{y} T.R_{z}\\right) - T.t2 \\left(- 2 T.R_{x}^{2} - 2 T.R_{y}^{2} + 1\\right) + v_{0} \\cdot \\left(2 T.R_{w} T.R_{y} + 2 T.R_{x} T.R_{z}\\right) + v_{1} \\left(- 2 T.R_{w} T.R_{x} + 2 T.R_{y} T.R_{z}\\right) + v_{2} \\left(- 2 T.R_{x}^{2} - 2 T.R_{y}^{2} + 1\\right)\\right)^{2} + \\left(- T.t0 \\left(- 2 T.R_{w} T.R_{z} + 2 T.R_{x} T.R_{y}\\right) - T.t1 \\left(- 2 T.R_{x}^{2} - 2 T.R_{z}^{2} + 1\\right) - T.t2 \\cdot \\left(2 T.R_{w} T.R_{x} + 2 T.R_{y} T.R_{z}\\right) + v_{0} \\left(- 2 T.R_{w} T.R_{z} + 2 T.R_{x} T.R_{y}\\right) + v_{1} \\left(- 2 T.R_{x}^{2} - 2 T.R_{z}^{2} + 1\\right) + v_{2} \\cdot \\left(2 T.R_{w} T.R_{x} + 2 T.R_{y} T.R_{z}\\right)\\right)^{2} + \\left(- T.t0 \\left(- 2 T.R_{y}^{2} - 2 T.R_{z}^{2} + 1\\right) - T.t1 \\cdot \\left(2 T.R_{w} T.R_{z} + 2 T.R_{x} T.R_{y}\\right) - T.t2 \\left(- 2 T.R_{w} T.R_{y} + 2 T.R_{x} T.R_{z}\\right) + v_{0} \\left(- 2 T.R_{y}^{2} - 2 T.R_{z}^{2} + 1\\right) + v_{1} \\cdot \\left(2 T.R_{w} T.R_{z} + 2 T.R_{x} T.R_{y}\\right) + v_{2} \\left(- 2 T.R_{w} T.R_{y} + 2 T.R_{x} T.R_{z}\\right)\\right)^{2}}} \\right)} + \\frac{\\pi}{2}\\end{matrix}\\right]$"
      ],
      "text/plain": [
       "Matrix([\n",
       "[                                                                                                                                                                                                                                                                                                                                                                                                                                                                                                       atan2(-T.t0*(-2*T.R_w*T.R_z + 2*T.R_x*T.R_y) - T.t1*(-2*T.R_x**2 - 2*T.R_z**2 + 1) - T.t2*(2*T.R_w*T.R_x + 2*T.R_y*T.R_z) + v0*(-2*T.R_w*T.R_z + 2*T.R_x*T.R_y) + v1*(-2*T.R_x**2 - 2*T.R_z**2 + 1) + v2*(2*T.R_w*T.R_x + 2*T.R_y*T.R_z), -T.t0*(-2*T.R_y**2 - 2*T.R_z**2 + 1) - T.t1*(2*T.R_w*T.R_z + 2*T.R_x*T.R_y) - T.t2*(-2*T.R_w*T.R_y + 2*T.R_x*T.R_z) + v0*(-2*T.R_y**2 - 2*T.R_z**2 + 1) + v1*(2*T.R_w*T.R_z + 2*T.R_x*T.R_y) + v2*(-2*T.R_w*T.R_y + 2*T.R_x*T.R_z))],\n",
       "[-acos((-T.t0*(2*T.R_w*T.R_y + 2*T.R_x*T.R_z) - T.t1*(-2*T.R_w*T.R_x + 2*T.R_y*T.R_z) - T.t2*(-2*T.R_x**2 - 2*T.R_y**2 + 1) + v0*(2*T.R_w*T.R_y + 2*T.R_x*T.R_z) + v1*(-2*T.R_w*T.R_x + 2*T.R_y*T.R_z) + v2*(-2*T.R_x**2 - 2*T.R_y**2 + 1))/sqrt((-T.t0*(2*T.R_w*T.R_y + 2*T.R_x*T.R_z) - T.t1*(-2*T.R_w*T.R_x + 2*T.R_y*T.R_z) - T.t2*(-2*T.R_x**2 - 2*T.R_y**2 + 1) + v0*(2*T.R_w*T.R_y + 2*T.R_x*T.R_z) + v1*(-2*T.R_w*T.R_x + 2*T.R_y*T.R_z) + v2*(-2*T.R_x**2 - 2*T.R_y**2 + 1))**2 + (-T.t0*(-2*T.R_w*T.R_z + 2*T.R_x*T.R_y) - T.t1*(-2*T.R_x**2 - 2*T.R_z**2 + 1) - T.t2*(2*T.R_w*T.R_x + 2*T.R_y*T.R_z) + v0*(-2*T.R_w*T.R_z + 2*T.R_x*T.R_y) + v1*(-2*T.R_x**2 - 2*T.R_z**2 + 1) + v2*(2*T.R_w*T.R_x + 2*T.R_y*T.R_z))**2 + (-T.t0*(-2*T.R_y**2 - 2*T.R_z**2 + 1) - T.t1*(2*T.R_w*T.R_z + 2*T.R_x*T.R_y) - T.t2*(-2*T.R_w*T.R_y + 2*T.R_x*T.R_z) + v0*(-2*T.R_y**2 - 2*T.R_z**2 + 1) + v1*(2*T.R_w*T.R_z + 2*T.R_x*T.R_y) + v2*(-2*T.R_w*T.R_y + 2*T.R_x*T.R_z))**2)) + pi/2]])"
      ]
     },
     "metadata": {},
     "output_type": "display_data"
    }
   ],
   "source": [
    "a = az_el_from_point(sf.Pose3.symbolic(\"T\"), sf.V3.symbolic(\"v\"))\n",
    "display(a.shape)\n",
    "display(a)\n"
   ]
  },
  {
   "cell_type": "markdown",
   "id": "b5b22801-3823-460f-99b5-06cff8700e45",
   "metadata": {},
   "source": [
    "### Generating function jacobians"
   ]
  },
  {
   "cell_type": "code",
   "execution_count": 35,
   "id": "5c280ed6-152a-4232-9a02-a42209f716da",
   "metadata": {},
   "outputs": [
    {
     "name": "stderr",
     "output_type": "stream",
     "text": [
      "codegen.__init__():141 WARNING -- \n",
      "    Generating code with epsilon set to 0 - This is dangerous!  You may get NaNs, Infs,\n",
      "    or numerically unstable results from calling generated functions near singularities.\n",
      "\n",
      "    In order to safely generate code, you should set epsilon to either a symbol\n",
      "    (recommended) or a small numerical value like `sf.numeric_epsilon`.  You should do\n",
      "    this before importing any other code from symforce, e.g. with\n",
      "\n",
      "        import symforce\n",
      "        symforce.set_epsilon_to_symbol()\n",
      "\n",
      "    or\n",
      "\n",
      "        import symforce\n",
      "        symforce.set_epsilon_to_number()\n",
      "\n",
      "    For more information on use of epsilon to prevent singularities, take a look at the\n",
      "    Epsilon Tutorial: https://symforce.org/tutorials/epsilon_tutorial.html\n",
      "\n"
     ]
    },
    {
     "data": {
      "text/html": [
       "<div class=\"highlight\" style=\"background: #f8f8f8\"><pre style=\"line-height: 125%;\"><span></span><span style=\"color: #3D7B7B; font-style: italic\">// -----------------------------------------------------------------------------</span>\n",
       "<span style=\"color: #3D7B7B; font-style: italic\">// This file was autogenerated by symforce from template:</span>\n",
       "<span style=\"color: #3D7B7B; font-style: italic\">//     function/FUNCTION.h.jinja</span>\n",
       "<span style=\"color: #3D7B7B; font-style: italic\">// Do NOT modify by hand.</span>\n",
       "<span style=\"color: #3D7B7B; font-style: italic\">// -----------------------------------------------------------------------------</span>\n",
       "\n",
       "<span style=\"color: #9C6500\">#pragma once</span>\n",
       "\n",
       "<span style=\"color: #9C6500\">#include</span><span style=\"color: #bbbbbb\"> </span><span style=\"color: #3D7B7B; font-style: italic\">&lt;Eigen/Dense&gt;</span>\n",
       "\n",
       "<span style=\"color: #9C6500\">#include</span><span style=\"color: #bbbbbb\"> </span><span style=\"color: #3D7B7B; font-style: italic\">&lt;sym/pose3.h&gt;</span>\n",
       "\n",
       "<span style=\"color: #008000; font-weight: bold\">namespace</span><span style=\"color: #bbbbbb\"> </span><span style=\"color: #0000FF; font-weight: bold\">sym</span><span style=\"color: #bbbbbb\"> </span>{\n",
       "\n",
       "<span style=\"color: #3D7B7B; font-style: italic\">/**</span>\n",
       "<span style=\"color: #3D7B7B; font-style: italic\"> * This function was autogenerated from a symbolic function. Do not modify by hand.</span>\n",
       "<span style=\"color: #3D7B7B; font-style: italic\"> *</span>\n",
       "<span style=\"color: #3D7B7B; font-style: italic\"> * Symbolic function: az_el_from_point</span>\n",
       "<span style=\"color: #3D7B7B; font-style: italic\"> *</span>\n",
       "<span style=\"color: #3D7B7B; font-style: italic\"> * Args:</span>\n",
       "<span style=\"color: #3D7B7B; font-style: italic\"> *     nav_T_cam: Pose3</span>\n",
       "<span style=\"color: #3D7B7B; font-style: italic\"> *     nav_t_point: Matrix31</span>\n",
       "<span style=\"color: #3D7B7B; font-style: italic\"> *     epsilon: Scalar</span>\n",
       "<span style=\"color: #3D7B7B; font-style: italic\"> *</span>\n",
       "<span style=\"color: #3D7B7B; font-style: italic\"> * Outputs:</span>\n",
       "<span style=\"color: #3D7B7B; font-style: italic\"> *     res: Matrix21</span>\n",
       "<span style=\"color: #3D7B7B; font-style: italic\"> *     res_D_nav_T_cam: (2x6) jacobian of res (2) wrt arg nav_T_cam (6)</span>\n",
       "<span style=\"color: #3D7B7B; font-style: italic\"> *     res_D_nav_t_point: (2x3) jacobian of res (2) wrt arg nav_t_point (3)</span>\n",
       "<span style=\"color: #3D7B7B; font-style: italic\"> */</span>\n",
       "<span style=\"color: #008000; font-weight: bold\">template</span><span style=\"color: #bbbbbb\"> </span><span style=\"color: #666666\">&lt;</span><span style=\"color: #008000; font-weight: bold\">typename</span><span style=\"color: #bbbbbb\"> </span><span style=\"color: #0000FF; font-weight: bold\">Scalar</span><span style=\"color: #666666\">&gt;</span>\n",
       "Eigen<span style=\"color: #666666\">::</span>Matrix<span style=\"color: #666666\">&lt;</span>Scalar,<span style=\"color: #bbbbbb\"> </span><span style=\"color: #666666\">2</span>,<span style=\"color: #bbbbbb\"> </span><span style=\"color: #666666\">1&gt;</span><span style=\"color: #bbbbbb\"> </span>AzElFromPointWithJacobians01(\n",
       "<span style=\"color: #bbbbbb\">    </span><span style=\"color: #008000; font-weight: bold\">const</span><span style=\"color: #bbbbbb\"> </span>sym<span style=\"color: #666666\">::</span>Pose3<span style=\"color: #666666\">&lt;</span>Scalar<span style=\"color: #666666\">&gt;&amp;</span><span style=\"color: #bbbbbb\"> </span>nav_T_cam,<span style=\"color: #bbbbbb\"> </span><span style=\"color: #008000; font-weight: bold\">const</span><span style=\"color: #bbbbbb\"> </span>Eigen<span style=\"color: #666666\">::</span>Matrix<span style=\"color: #666666\">&lt;</span>Scalar,<span style=\"color: #bbbbbb\"> </span><span style=\"color: #666666\">3</span>,<span style=\"color: #bbbbbb\"> </span><span style=\"color: #666666\">1&gt;&amp;</span><span style=\"color: #bbbbbb\"> </span>nav_t_point,\n",
       "<span style=\"color: #bbbbbb\">    </span><span style=\"color: #008000; font-weight: bold\">const</span><span style=\"color: #bbbbbb\"> </span>Scalar<span style=\"color: #bbbbbb\"> </span>epsilon,<span style=\"color: #bbbbbb\"> </span>Eigen<span style=\"color: #666666\">::</span>Matrix<span style=\"color: #666666\">&lt;</span>Scalar,<span style=\"color: #bbbbbb\"> </span><span style=\"color: #666666\">2</span>,<span style=\"color: #bbbbbb\"> </span><span style=\"color: #666666\">6&gt;*</span><span style=\"color: #bbbbbb\"> </span><span style=\"color: #008000; font-weight: bold\">const</span><span style=\"color: #bbbbbb\"> </span>res_D_nav_T_cam<span style=\"color: #bbbbbb\"> </span><span style=\"color: #666666\">=</span><span style=\"color: #bbbbbb\"> </span><span style=\"color: #008000; font-weight: bold\">nullptr</span>,\n",
       "<span style=\"color: #bbbbbb\">    </span>Eigen<span style=\"color: #666666\">::</span>Matrix<span style=\"color: #666666\">&lt;</span>Scalar,<span style=\"color: #bbbbbb\"> </span><span style=\"color: #666666\">2</span>,<span style=\"color: #bbbbbb\"> </span><span style=\"color: #666666\">3&gt;*</span><span style=\"color: #bbbbbb\"> </span><span style=\"color: #008000; font-weight: bold\">const</span><span style=\"color: #bbbbbb\"> </span>res_D_nav_t_point<span style=\"color: #bbbbbb\"> </span><span style=\"color: #666666\">=</span><span style=\"color: #bbbbbb\"> </span><span style=\"color: #008000; font-weight: bold\">nullptr</span>)<span style=\"color: #bbbbbb\"> </span>{\n",
       "<span style=\"color: #bbbbbb\">  </span><span style=\"color: #3D7B7B; font-style: italic\">// Total ops: 285</span>\n",
       "\n",
       "<span style=\"color: #bbbbbb\">  </span><span style=\"color: #3D7B7B; font-style: italic\">// Input arrays</span>\n",
       "<span style=\"color: #bbbbbb\">  </span><span style=\"color: #008000; font-weight: bold\">const</span><span style=\"color: #bbbbbb\"> </span>Eigen<span style=\"color: #666666\">::</span>Matrix<span style=\"color: #666666\">&lt;</span>Scalar,<span style=\"color: #bbbbbb\"> </span><span style=\"color: #666666\">7</span>,<span style=\"color: #bbbbbb\"> </span><span style=\"color: #666666\">1&gt;&amp;</span><span style=\"color: #bbbbbb\"> </span>_nav_T_cam<span style=\"color: #bbbbbb\"> </span><span style=\"color: #666666\">=</span><span style=\"color: #bbbbbb\"> </span>nav_T_cam.Data();\n",
       "\n",
       "<span style=\"color: #bbbbbb\">  </span><span style=\"color: #3D7B7B; font-style: italic\">// Intermediate terms (92)</span>\n",
       "<span style=\"color: #bbbbbb\">  </span><span style=\"color: #008000; font-weight: bold\">const</span><span style=\"color: #bbbbbb\"> </span>Scalar<span style=\"color: #bbbbbb\"> </span>_tmp0<span style=\"color: #bbbbbb\"> </span><span style=\"color: #666666\">=</span><span style=\"color: #bbbbbb\"> </span>std<span style=\"color: #666666\">::</span>pow(_nav_T_cam[<span style=\"color: #666666\">2</span>],<span style=\"color: #bbbbbb\"> </span>Scalar(<span style=\"color: #666666\">2</span>));\n",
       "<span style=\"color: #bbbbbb\">  </span><span style=\"color: #008000; font-weight: bold\">const</span><span style=\"color: #bbbbbb\"> </span>Scalar<span style=\"color: #bbbbbb\"> </span>_tmp1<span style=\"color: #bbbbbb\"> </span><span style=\"color: #666666\">=</span><span style=\"color: #bbbbbb\"> </span><span style=\"color: #666666\">2</span><span style=\"color: #bbbbbb\"> </span><span style=\"color: #666666\">*</span><span style=\"color: #bbbbbb\"> </span>_tmp0;\n",
       "<span style=\"color: #bbbbbb\">  </span><span style=\"color: #008000; font-weight: bold\">const</span><span style=\"color: #bbbbbb\"> </span>Scalar<span style=\"color: #bbbbbb\"> </span>_tmp2<span style=\"color: #bbbbbb\"> </span><span style=\"color: #666666\">=</span><span style=\"color: #bbbbbb\"> </span><span style=\"color: #666666\">-</span>_tmp1;\n",
       "<span style=\"color: #bbbbbb\">  </span><span style=\"color: #008000; font-weight: bold\">const</span><span style=\"color: #bbbbbb\"> </span>Scalar<span style=\"color: #bbbbbb\"> </span>_tmp3<span style=\"color: #bbbbbb\"> </span><span style=\"color: #666666\">=</span><span style=\"color: #bbbbbb\"> </span>std<span style=\"color: #666666\">::</span>pow(_nav_T_cam[<span style=\"color: #666666\">0</span>],<span style=\"color: #bbbbbb\"> </span>Scalar(<span style=\"color: #666666\">2</span>));\n",
       "<span style=\"color: #bbbbbb\">  </span><span style=\"color: #008000; font-weight: bold\">const</span><span style=\"color: #bbbbbb\"> </span>Scalar<span style=\"color: #bbbbbb\"> </span>_tmp4<span style=\"color: #bbbbbb\"> </span><span style=\"color: #666666\">=</span><span style=\"color: #bbbbbb\"> </span><span style=\"color: #666666\">2</span><span style=\"color: #bbbbbb\"> </span><span style=\"color: #666666\">*</span><span style=\"color: #bbbbbb\"> </span>_tmp3;\n",
       "<span style=\"color: #bbbbbb\">  </span><span style=\"color: #008000; font-weight: bold\">const</span><span style=\"color: #bbbbbb\"> </span>Scalar<span style=\"color: #bbbbbb\"> </span>_tmp5<span style=\"color: #bbbbbb\"> </span><span style=\"color: #666666\">=</span><span style=\"color: #bbbbbb\"> </span><span style=\"color: #666666\">1</span><span style=\"color: #bbbbbb\"> </span><span style=\"color: #666666\">-</span><span style=\"color: #bbbbbb\"> </span>_tmp4;\n",
       "<span style=\"color: #bbbbbb\">  </span><span style=\"color: #008000; font-weight: bold\">const</span><span style=\"color: #bbbbbb\"> </span>Scalar<span style=\"color: #bbbbbb\"> </span>_tmp6<span style=\"color: #bbbbbb\"> </span><span style=\"color: #666666\">=</span><span style=\"color: #bbbbbb\"> </span>_tmp2<span style=\"color: #bbbbbb\"> </span><span style=\"color: #666666\">+</span><span style=\"color: #bbbbbb\"> </span>_tmp5;\n",
       "<span style=\"color: #bbbbbb\">  </span><span style=\"color: #008000; font-weight: bold\">const</span><span style=\"color: #bbbbbb\"> </span>Scalar<span style=\"color: #bbbbbb\"> </span>_tmp7<span style=\"color: #bbbbbb\"> </span><span style=\"color: #666666\">=</span><span style=\"color: #bbbbbb\"> </span><span style=\"color: #666666\">2</span><span style=\"color: #bbbbbb\"> </span><span style=\"color: #666666\">*</span><span style=\"color: #bbbbbb\"> </span>_nav_T_cam[<span style=\"color: #666666\">0</span>];\n",
       "<span style=\"color: #bbbbbb\">  </span><span style=\"color: #008000; font-weight: bold\">const</span><span style=\"color: #bbbbbb\"> </span>Scalar<span style=\"color: #bbbbbb\"> </span>_tmp8<span style=\"color: #bbbbbb\"> </span><span style=\"color: #666666\">=</span><span style=\"color: #bbbbbb\"> </span>_nav_T_cam[<span style=\"color: #666666\">3</span>]<span style=\"color: #bbbbbb\"> </span><span style=\"color: #666666\">*</span><span style=\"color: #bbbbbb\"> </span>_tmp7;\n",
       "<span style=\"color: #bbbbbb\">  </span><span style=\"color: #008000; font-weight: bold\">const</span><span style=\"color: #bbbbbb\"> </span>Scalar<span style=\"color: #bbbbbb\"> </span>_tmp9<span style=\"color: #bbbbbb\"> </span><span style=\"color: #666666\">=</span><span style=\"color: #bbbbbb\"> </span><span style=\"color: #666666\">2</span><span style=\"color: #bbbbbb\"> </span><span style=\"color: #666666\">*</span><span style=\"color: #bbbbbb\"> </span>_nav_T_cam[<span style=\"color: #666666\">1</span>];\n",
       "<span style=\"color: #bbbbbb\">  </span><span style=\"color: #008000; font-weight: bold\">const</span><span style=\"color: #bbbbbb\"> </span>Scalar<span style=\"color: #bbbbbb\"> </span>_tmp10<span style=\"color: #bbbbbb\"> </span><span style=\"color: #666666\">=</span><span style=\"color: #bbbbbb\"> </span>_nav_T_cam[<span style=\"color: #666666\">2</span>]<span style=\"color: #bbbbbb\"> </span><span style=\"color: #666666\">*</span><span style=\"color: #bbbbbb\"> </span>_tmp9;\n",
       "<span style=\"color: #bbbbbb\">  </span><span style=\"color: #008000; font-weight: bold\">const</span><span style=\"color: #bbbbbb\"> </span>Scalar<span style=\"color: #bbbbbb\"> </span>_tmp11<span style=\"color: #bbbbbb\"> </span><span style=\"color: #666666\">=</span><span style=\"color: #bbbbbb\"> </span>_tmp10<span style=\"color: #bbbbbb\"> </span><span style=\"color: #666666\">+</span><span style=\"color: #bbbbbb\"> </span>_tmp8;\n",
       "<span style=\"color: #bbbbbb\">  </span><span style=\"color: #008000; font-weight: bold\">const</span><span style=\"color: #bbbbbb\"> </span>Scalar<span style=\"color: #bbbbbb\"> </span>_tmp12<span style=\"color: #bbbbbb\"> </span><span style=\"color: #666666\">=</span><span style=\"color: #bbbbbb\"> </span>_nav_T_cam[<span style=\"color: #666666\">6</span>]<span style=\"color: #bbbbbb\"> </span><span style=\"color: #666666\">*</span><span style=\"color: #bbbbbb\"> </span>_tmp11;\n",
       "<span style=\"color: #bbbbbb\">  </span><span style=\"color: #008000; font-weight: bold\">const</span><span style=\"color: #bbbbbb\"> </span>Scalar<span style=\"color: #bbbbbb\"> </span>_tmp13<span style=\"color: #bbbbbb\"> </span><span style=\"color: #666666\">=</span><span style=\"color: #bbbbbb\"> </span>_nav_T_cam[<span style=\"color: #666666\">1</span>]<span style=\"color: #bbbbbb\"> </span><span style=\"color: #666666\">*</span><span style=\"color: #bbbbbb\"> </span>_tmp7;\n",
       "<span style=\"color: #bbbbbb\">  </span><span style=\"color: #008000; font-weight: bold\">const</span><span style=\"color: #bbbbbb\"> </span>Scalar<span style=\"color: #bbbbbb\"> </span>_tmp14<span style=\"color: #bbbbbb\"> </span><span style=\"color: #666666\">=</span><span style=\"color: #bbbbbb\"> </span><span style=\"color: #666666\">2</span><span style=\"color: #bbbbbb\"> </span><span style=\"color: #666666\">*</span><span style=\"color: #bbbbbb\"> </span>_nav_T_cam[<span style=\"color: #666666\">2</span>]<span style=\"color: #bbbbbb\"> </span><span style=\"color: #666666\">*</span><span style=\"color: #bbbbbb\"> </span>_nav_T_cam[<span style=\"color: #666666\">3</span>];\n",
       "<span style=\"color: #bbbbbb\">  </span><span style=\"color: #008000; font-weight: bold\">const</span><span style=\"color: #bbbbbb\"> </span>Scalar<span style=\"color: #bbbbbb\"> </span>_tmp15<span style=\"color: #bbbbbb\"> </span><span style=\"color: #666666\">=</span><span style=\"color: #bbbbbb\"> </span><span style=\"color: #666666\">-</span>_tmp14;\n",
       "<span style=\"color: #bbbbbb\">  </span><span style=\"color: #008000; font-weight: bold\">const</span><span style=\"color: #bbbbbb\"> </span>Scalar<span style=\"color: #bbbbbb\"> </span>_tmp16<span style=\"color: #bbbbbb\"> </span><span style=\"color: #666666\">=</span><span style=\"color: #bbbbbb\"> </span>_tmp13<span style=\"color: #bbbbbb\"> </span><span style=\"color: #666666\">+</span><span style=\"color: #bbbbbb\"> </span>_tmp15;\n",
       "<span style=\"color: #bbbbbb\">  </span><span style=\"color: #008000; font-weight: bold\">const</span><span style=\"color: #bbbbbb\"> </span>Scalar<span style=\"color: #bbbbbb\"> </span>_tmp17<span style=\"color: #bbbbbb\"> </span><span style=\"color: #666666\">=</span><span style=\"color: #bbbbbb\"> </span>_nav_T_cam[<span style=\"color: #666666\">4</span>]<span style=\"color: #bbbbbb\"> </span><span style=\"color: #666666\">*</span><span style=\"color: #bbbbbb\"> </span>_tmp16;\n",
       "<span style=\"color: #bbbbbb\">  </span><span style=\"color: #008000; font-weight: bold\">const</span><span style=\"color: #bbbbbb\"> </span>Scalar<span style=\"color: #bbbbbb\"> </span>_tmp18<span style=\"color: #bbbbbb\"> </span><span style=\"color: #666666\">=</span><span style=\"color: #bbbbbb\"> </span>_tmp11<span style=\"color: #bbbbbb\"> </span><span style=\"color: #666666\">*</span><span style=\"color: #bbbbbb\"> </span>nav_t_point(<span style=\"color: #666666\">2</span>,<span style=\"color: #bbbbbb\"> </span><span style=\"color: #666666\">0</span>)<span style=\"color: #bbbbbb\"> </span><span style=\"color: #666666\">+</span><span style=\"color: #bbbbbb\"> </span>_tmp16<span style=\"color: #bbbbbb\"> </span><span style=\"color: #666666\">*</span><span style=\"color: #bbbbbb\"> </span>nav_t_point(<span style=\"color: #666666\">0</span>,<span style=\"color: #bbbbbb\"> </span><span style=\"color: #666666\">0</span>);\n",
       "<span style=\"color: #bbbbbb\">  </span><span style=\"color: #008000; font-weight: bold\">const</span><span style=\"color: #bbbbbb\"> </span>Scalar<span style=\"color: #bbbbbb\"> </span>_tmp19<span style=\"color: #bbbbbb\"> </span><span style=\"color: #666666\">=</span>\n",
       "<span style=\"color: #bbbbbb\">      </span><span style=\"color: #666666\">-</span>_nav_T_cam[<span style=\"color: #666666\">5</span>]<span style=\"color: #bbbbbb\"> </span><span style=\"color: #666666\">*</span><span style=\"color: #bbbbbb\"> </span>_tmp6<span style=\"color: #bbbbbb\"> </span><span style=\"color: #666666\">-</span><span style=\"color: #bbbbbb\"> </span>_tmp12<span style=\"color: #bbbbbb\"> </span><span style=\"color: #666666\">-</span><span style=\"color: #bbbbbb\"> </span>_tmp17<span style=\"color: #bbbbbb\"> </span><span style=\"color: #666666\">+</span><span style=\"color: #bbbbbb\"> </span>_tmp18<span style=\"color: #bbbbbb\"> </span><span style=\"color: #666666\">+</span><span style=\"color: #bbbbbb\"> </span>_tmp6<span style=\"color: #bbbbbb\"> </span><span style=\"color: #666666\">*</span><span style=\"color: #bbbbbb\"> </span>nav_t_point(<span style=\"color: #666666\">1</span>,<span style=\"color: #bbbbbb\"> </span><span style=\"color: #666666\">0</span>);\n",
       "<span style=\"color: #bbbbbb\">  </span><span style=\"color: #008000; font-weight: bold\">const</span><span style=\"color: #bbbbbb\"> </span>Scalar<span style=\"color: #bbbbbb\"> </span>_tmp20<span style=\"color: #bbbbbb\"> </span><span style=\"color: #666666\">=</span><span style=\"color: #bbbbbb\"> </span>std<span style=\"color: #666666\">::</span>pow(_nav_T_cam[<span style=\"color: #666666\">1</span>],<span style=\"color: #bbbbbb\"> </span>Scalar(<span style=\"color: #666666\">2</span>));\n",
       "<span style=\"color: #bbbbbb\">  </span><span style=\"color: #008000; font-weight: bold\">const</span><span style=\"color: #bbbbbb\"> </span>Scalar<span style=\"color: #bbbbbb\"> </span>_tmp21<span style=\"color: #bbbbbb\"> </span><span style=\"color: #666666\">=</span><span style=\"color: #bbbbbb\"> </span><span style=\"color: #666666\">2</span><span style=\"color: #bbbbbb\"> </span><span style=\"color: #666666\">*</span><span style=\"color: #bbbbbb\"> </span>_tmp20;\n",
       "<span style=\"color: #bbbbbb\">  </span><span style=\"color: #008000; font-weight: bold\">const</span><span style=\"color: #bbbbbb\"> </span>Scalar<span style=\"color: #bbbbbb\"> </span>_tmp22<span style=\"color: #bbbbbb\"> </span><span style=\"color: #666666\">=</span><span style=\"color: #bbbbbb\"> </span><span style=\"color: #666666\">-</span>_tmp21;\n",
       "<span style=\"color: #bbbbbb\">  </span><span style=\"color: #008000; font-weight: bold\">const</span><span style=\"color: #bbbbbb\"> </span>Scalar<span style=\"color: #bbbbbb\"> </span>_tmp23<span style=\"color: #bbbbbb\"> </span><span style=\"color: #666666\">=</span><span style=\"color: #bbbbbb\"> </span>_tmp2<span style=\"color: #bbbbbb\"> </span><span style=\"color: #666666\">+</span><span style=\"color: #bbbbbb\"> </span>_tmp22<span style=\"color: #bbbbbb\"> </span><span style=\"color: #666666\">+</span><span style=\"color: #bbbbbb\"> </span><span style=\"color: #666666\">1</span>;\n",
       "<span style=\"color: #bbbbbb\">  </span><span style=\"color: #008000; font-weight: bold\">const</span><span style=\"color: #bbbbbb\"> </span>Scalar<span style=\"color: #bbbbbb\"> </span>_tmp24<span style=\"color: #bbbbbb\"> </span><span style=\"color: #666666\">=</span><span style=\"color: #bbbbbb\"> </span>_tmp13<span style=\"color: #bbbbbb\"> </span><span style=\"color: #666666\">+</span><span style=\"color: #bbbbbb\"> </span>_tmp14;\n",
       "<span style=\"color: #bbbbbb\">  </span><span style=\"color: #008000; font-weight: bold\">const</span><span style=\"color: #bbbbbb\"> </span>Scalar<span style=\"color: #bbbbbb\"> </span>_tmp25<span style=\"color: #bbbbbb\"> </span><span style=\"color: #666666\">=</span><span style=\"color: #bbbbbb\"> </span>_nav_T_cam[<span style=\"color: #666666\">5</span>]<span style=\"color: #bbbbbb\"> </span><span style=\"color: #666666\">*</span><span style=\"color: #bbbbbb\"> </span>_tmp24;\n",
       "<span style=\"color: #bbbbbb\">  </span><span style=\"color: #008000; font-weight: bold\">const</span><span style=\"color: #bbbbbb\"> </span>Scalar<span style=\"color: #bbbbbb\"> </span>_tmp26<span style=\"color: #bbbbbb\"> </span><span style=\"color: #666666\">=</span><span style=\"color: #bbbbbb\"> </span>_nav_T_cam[<span style=\"color: #666666\">3</span>]<span style=\"color: #bbbbbb\"> </span><span style=\"color: #666666\">*</span><span style=\"color: #bbbbbb\"> </span>_tmp9;\n",
       "<span style=\"color: #bbbbbb\">  </span><span style=\"color: #008000; font-weight: bold\">const</span><span style=\"color: #bbbbbb\"> </span>Scalar<span style=\"color: #bbbbbb\"> </span>_tmp27<span style=\"color: #bbbbbb\"> </span><span style=\"color: #666666\">=</span><span style=\"color: #bbbbbb\"> </span><span style=\"color: #666666\">-</span>_tmp26;\n",
       "<span style=\"color: #bbbbbb\">  </span><span style=\"color: #008000; font-weight: bold\">const</span><span style=\"color: #bbbbbb\"> </span>Scalar<span style=\"color: #bbbbbb\"> </span>_tmp28<span style=\"color: #bbbbbb\"> </span><span style=\"color: #666666\">=</span><span style=\"color: #bbbbbb\"> </span>_nav_T_cam[<span style=\"color: #666666\">2</span>]<span style=\"color: #bbbbbb\"> </span><span style=\"color: #666666\">*</span><span style=\"color: #bbbbbb\"> </span>_tmp7;\n",
       "<span style=\"color: #bbbbbb\">  </span><span style=\"color: #008000; font-weight: bold\">const</span><span style=\"color: #bbbbbb\"> </span>Scalar<span style=\"color: #bbbbbb\"> </span>_tmp29<span style=\"color: #bbbbbb\"> </span><span style=\"color: #666666\">=</span><span style=\"color: #bbbbbb\"> </span>_tmp27<span style=\"color: #bbbbbb\"> </span><span style=\"color: #666666\">+</span><span style=\"color: #bbbbbb\"> </span>_tmp28;\n",
       "<span style=\"color: #bbbbbb\">  </span><span style=\"color: #008000; font-weight: bold\">const</span><span style=\"color: #bbbbbb\"> </span>Scalar<span style=\"color: #bbbbbb\"> </span>_tmp30<span style=\"color: #bbbbbb\"> </span><span style=\"color: #666666\">=</span><span style=\"color: #bbbbbb\"> </span>_nav_T_cam[<span style=\"color: #666666\">6</span>]<span style=\"color: #bbbbbb\"> </span><span style=\"color: #666666\">*</span><span style=\"color: #bbbbbb\"> </span>_tmp29;\n",
       "<span style=\"color: #bbbbbb\">  </span><span style=\"color: #008000; font-weight: bold\">const</span><span style=\"color: #bbbbbb\"> </span>Scalar<span style=\"color: #bbbbbb\"> </span>_tmp31<span style=\"color: #bbbbbb\"> </span><span style=\"color: #666666\">=</span><span style=\"color: #bbbbbb\"> </span>_tmp24<span style=\"color: #bbbbbb\"> </span><span style=\"color: #666666\">*</span><span style=\"color: #bbbbbb\"> </span>nav_t_point(<span style=\"color: #666666\">1</span>,<span style=\"color: #bbbbbb\"> </span><span style=\"color: #666666\">0</span>)<span style=\"color: #bbbbbb\"> </span><span style=\"color: #666666\">+</span><span style=\"color: #bbbbbb\"> </span>_tmp29<span style=\"color: #bbbbbb\"> </span><span style=\"color: #666666\">*</span><span style=\"color: #bbbbbb\"> </span>nav_t_point(<span style=\"color: #666666\">2</span>,<span style=\"color: #bbbbbb\"> </span><span style=\"color: #666666\">0</span>);\n",
       "<span style=\"color: #bbbbbb\">  </span><span style=\"color: #008000; font-weight: bold\">const</span><span style=\"color: #bbbbbb\"> </span>Scalar<span style=\"color: #bbbbbb\"> </span>_tmp32<span style=\"color: #bbbbbb\"> </span><span style=\"color: #666666\">=</span>\n",
       "<span style=\"color: #bbbbbb\">      </span><span style=\"color: #666666\">-</span>_nav_T_cam[<span style=\"color: #666666\">4</span>]<span style=\"color: #bbbbbb\"> </span><span style=\"color: #666666\">*</span><span style=\"color: #bbbbbb\"> </span>_tmp23<span style=\"color: #bbbbbb\"> </span><span style=\"color: #666666\">+</span><span style=\"color: #bbbbbb\"> </span>_tmp23<span style=\"color: #bbbbbb\"> </span><span style=\"color: #666666\">*</span><span style=\"color: #bbbbbb\"> </span>nav_t_point(<span style=\"color: #666666\">0</span>,<span style=\"color: #bbbbbb\"> </span><span style=\"color: #666666\">0</span>)<span style=\"color: #bbbbbb\"> </span><span style=\"color: #666666\">-</span><span style=\"color: #bbbbbb\"> </span>_tmp25<span style=\"color: #bbbbbb\"> </span><span style=\"color: #666666\">-</span><span style=\"color: #bbbbbb\"> </span>_tmp30<span style=\"color: #bbbbbb\"> </span><span style=\"color: #666666\">+</span><span style=\"color: #bbbbbb\"> </span>_tmp31;\n",
       "<span style=\"color: #bbbbbb\">  </span><span style=\"color: #008000; font-weight: bold\">const</span><span style=\"color: #bbbbbb\"> </span>Scalar<span style=\"color: #bbbbbb\"> </span>_tmp33<span style=\"color: #bbbbbb\"> </span><span style=\"color: #666666\">=</span><span style=\"color: #bbbbbb\"> </span>_tmp32<span style=\"color: #bbbbbb\"> </span><span style=\"color: #666666\">+</span><span style=\"color: #bbbbbb\"> </span>epsilon;\n",
       "<span style=\"color: #bbbbbb\">  </span><span style=\"color: #008000; font-weight: bold\">const</span><span style=\"color: #bbbbbb\"> </span>Scalar<span style=\"color: #bbbbbb\"> </span>_tmp34<span style=\"color: #bbbbbb\"> </span><span style=\"color: #666666\">=</span><span style=\"color: #bbbbbb\"> </span>_tmp22<span style=\"color: #bbbbbb\"> </span><span style=\"color: #666666\">+</span><span style=\"color: #bbbbbb\"> </span>_tmp5;\n",
       "<span style=\"color: #bbbbbb\">  </span><span style=\"color: #008000; font-weight: bold\">const</span><span style=\"color: #bbbbbb\"> </span>Scalar<span style=\"color: #bbbbbb\"> </span>_tmp35<span style=\"color: #bbbbbb\"> </span><span style=\"color: #666666\">=</span><span style=\"color: #bbbbbb\"> </span><span style=\"color: #666666\">-</span>_tmp8;\n",
       "<span style=\"color: #bbbbbb\">  </span><span style=\"color: #008000; font-weight: bold\">const</span><span style=\"color: #bbbbbb\"> </span>Scalar<span style=\"color: #bbbbbb\"> </span>_tmp36<span style=\"color: #bbbbbb\"> </span><span style=\"color: #666666\">=</span><span style=\"color: #bbbbbb\"> </span>_tmp10<span style=\"color: #bbbbbb\"> </span><span style=\"color: #666666\">+</span><span style=\"color: #bbbbbb\"> </span>_tmp35;\n",
       "<span style=\"color: #bbbbbb\">  </span><span style=\"color: #008000; font-weight: bold\">const</span><span style=\"color: #bbbbbb\"> </span>Scalar<span style=\"color: #bbbbbb\"> </span>_tmp37<span style=\"color: #bbbbbb\"> </span><span style=\"color: #666666\">=</span><span style=\"color: #bbbbbb\"> </span>_nav_T_cam[<span style=\"color: #666666\">5</span>]<span style=\"color: #bbbbbb\"> </span><span style=\"color: #666666\">*</span><span style=\"color: #bbbbbb\"> </span>_tmp36;\n",
       "<span style=\"color: #bbbbbb\">  </span><span style=\"color: #008000; font-weight: bold\">const</span><span style=\"color: #bbbbbb\"> </span>Scalar<span style=\"color: #bbbbbb\"> </span>_tmp38<span style=\"color: #bbbbbb\"> </span><span style=\"color: #666666\">=</span><span style=\"color: #bbbbbb\"> </span>_tmp26<span style=\"color: #bbbbbb\"> </span><span style=\"color: #666666\">+</span><span style=\"color: #bbbbbb\"> </span>_tmp28;\n",
       "<span style=\"color: #bbbbbb\">  </span><span style=\"color: #008000; font-weight: bold\">const</span><span style=\"color: #bbbbbb\"> </span>Scalar<span style=\"color: #bbbbbb\"> </span>_tmp39<span style=\"color: #bbbbbb\"> </span><span style=\"color: #666666\">=</span><span style=\"color: #bbbbbb\"> </span>_nav_T_cam[<span style=\"color: #666666\">4</span>]<span style=\"color: #bbbbbb\"> </span><span style=\"color: #666666\">*</span><span style=\"color: #bbbbbb\"> </span>_tmp38;\n",
       "<span style=\"color: #bbbbbb\">  </span><span style=\"color: #008000; font-weight: bold\">const</span><span style=\"color: #bbbbbb\"> </span>Scalar<span style=\"color: #bbbbbb\"> </span>_tmp40<span style=\"color: #bbbbbb\"> </span><span style=\"color: #666666\">=</span><span style=\"color: #bbbbbb\"> </span>_tmp36<span style=\"color: #bbbbbb\"> </span><span style=\"color: #666666\">*</span><span style=\"color: #bbbbbb\"> </span>nav_t_point(<span style=\"color: #666666\">1</span>,<span style=\"color: #bbbbbb\"> </span><span style=\"color: #666666\">0</span>)<span style=\"color: #bbbbbb\"> </span><span style=\"color: #666666\">+</span><span style=\"color: #bbbbbb\"> </span>_tmp38<span style=\"color: #bbbbbb\"> </span><span style=\"color: #666666\">*</span><span style=\"color: #bbbbbb\"> </span>nav_t_point(<span style=\"color: #666666\">0</span>,<span style=\"color: #bbbbbb\"> </span><span style=\"color: #666666\">0</span>);\n",
       "<span style=\"color: #bbbbbb\">  </span><span style=\"color: #008000; font-weight: bold\">const</span><span style=\"color: #bbbbbb\"> </span>Scalar<span style=\"color: #bbbbbb\"> </span>_tmp41<span style=\"color: #bbbbbb\"> </span><span style=\"color: #666666\">=</span>\n",
       "<span style=\"color: #bbbbbb\">      </span><span style=\"color: #666666\">-</span>_nav_T_cam[<span style=\"color: #666666\">6</span>]<span style=\"color: #bbbbbb\"> </span><span style=\"color: #666666\">*</span><span style=\"color: #bbbbbb\"> </span>_tmp34<span style=\"color: #bbbbbb\"> </span><span style=\"color: #666666\">+</span><span style=\"color: #bbbbbb\"> </span>_tmp34<span style=\"color: #bbbbbb\"> </span><span style=\"color: #666666\">*</span><span style=\"color: #bbbbbb\"> </span>nav_t_point(<span style=\"color: #666666\">2</span>,<span style=\"color: #bbbbbb\"> </span><span style=\"color: #666666\">0</span>)<span style=\"color: #bbbbbb\"> </span><span style=\"color: #666666\">-</span><span style=\"color: #bbbbbb\"> </span>_tmp37<span style=\"color: #bbbbbb\"> </span><span style=\"color: #666666\">-</span><span style=\"color: #bbbbbb\"> </span>_tmp39<span style=\"color: #bbbbbb\"> </span><span style=\"color: #666666\">+</span><span style=\"color: #bbbbbb\"> </span>_tmp40;\n",
       "<span style=\"color: #bbbbbb\">  </span><span style=\"color: #008000; font-weight: bold\">const</span><span style=\"color: #bbbbbb\"> </span>Scalar<span style=\"color: #bbbbbb\"> </span>_tmp42<span style=\"color: #bbbbbb\"> </span><span style=\"color: #666666\">=</span><span style=\"color: #bbbbbb\"> </span>std<span style=\"color: #666666\">::</span>pow(_tmp19,<span style=\"color: #bbbbbb\"> </span>Scalar(<span style=\"color: #666666\">2</span>));\n",
       "<span style=\"color: #bbbbbb\">  </span><span style=\"color: #008000; font-weight: bold\">const</span><span style=\"color: #bbbbbb\"> </span>Scalar<span style=\"color: #bbbbbb\"> </span>_tmp43<span style=\"color: #bbbbbb\"> </span><span style=\"color: #666666\">=</span><span style=\"color: #bbbbbb\"> </span>std<span style=\"color: #666666\">::</span>pow(_tmp41,<span style=\"color: #bbbbbb\"> </span>Scalar(<span style=\"color: #666666\">2</span>));\n",
       "<span style=\"color: #bbbbbb\">  </span><span style=\"color: #008000; font-weight: bold\">const</span><span style=\"color: #bbbbbb\"> </span>Scalar<span style=\"color: #bbbbbb\"> </span>_tmp44<span style=\"color: #bbbbbb\"> </span><span style=\"color: #666666\">=</span><span style=\"color: #bbbbbb\"> </span>std<span style=\"color: #666666\">::</span>sqrt(Scalar(std<span style=\"color: #666666\">::</span>pow(_tmp32,<span style=\"color: #bbbbbb\"> </span>Scalar(<span style=\"color: #666666\">2</span>))<span style=\"color: #bbbbbb\"> </span><span style=\"color: #666666\">+</span><span style=\"color: #bbbbbb\"> </span>_tmp42<span style=\"color: #bbbbbb\"> </span><span style=\"color: #666666\">+</span><span style=\"color: #bbbbbb\"> </span>_tmp43));\n",
       "<span style=\"color: #bbbbbb\">  </span><span style=\"color: #008000; font-weight: bold\">const</span><span style=\"color: #bbbbbb\"> </span>Scalar<span style=\"color: #bbbbbb\"> </span>_tmp45<span style=\"color: #bbbbbb\"> </span><span style=\"color: #666666\">=</span><span style=\"color: #bbbbbb\"> </span>_tmp44<span style=\"color: #bbbbbb\"> </span><span style=\"color: #666666\">+</span><span style=\"color: #bbbbbb\"> </span>epsilon;\n",
       "<span style=\"color: #bbbbbb\">  </span><span style=\"color: #008000; font-weight: bold\">const</span><span style=\"color: #bbbbbb\"> </span>Scalar<span style=\"color: #bbbbbb\"> </span>_tmp46<span style=\"color: #bbbbbb\"> </span><span style=\"color: #666666\">=</span><span style=\"color: #bbbbbb\"> </span>Scalar(<span style=\"color: #666666\">1.0</span>)<span style=\"color: #bbbbbb\"> </span><span style=\"color: #666666\">/</span><span style=\"color: #bbbbbb\"> </span>(_tmp45);\n",
       "<span style=\"color: #bbbbbb\">  </span><span style=\"color: #008000; font-weight: bold\">const</span><span style=\"color: #bbbbbb\"> </span>Scalar<span style=\"color: #bbbbbb\"> </span>_tmp47<span style=\"color: #bbbbbb\"> </span><span style=\"color: #666666\">=</span><span style=\"color: #bbbbbb\"> </span>std<span style=\"color: #666666\">::</span>pow(_tmp33,<span style=\"color: #bbbbbb\"> </span>Scalar(<span style=\"color: #666666\">2</span>));\n",
       "<span style=\"color: #bbbbbb\">  </span><span style=\"color: #008000; font-weight: bold\">const</span><span style=\"color: #bbbbbb\"> </span>Scalar<span style=\"color: #bbbbbb\"> </span>_tmp48<span style=\"color: #bbbbbb\"> </span><span style=\"color: #666666\">=</span><span style=\"color: #bbbbbb\"> </span>Scalar(<span style=\"color: #666666\">1.0</span>)<span style=\"color: #bbbbbb\"> </span><span style=\"color: #666666\">/</span><span style=\"color: #bbbbbb\"> </span>(_tmp42<span style=\"color: #bbbbbb\"> </span><span style=\"color: #666666\">+</span><span style=\"color: #bbbbbb\"> </span>_tmp47);\n",
       "<span style=\"color: #bbbbbb\">  </span><span style=\"color: #008000; font-weight: bold\">const</span><span style=\"color: #bbbbbb\"> </span>Scalar<span style=\"color: #bbbbbb\"> </span>_tmp49<span style=\"color: #bbbbbb\"> </span><span style=\"color: #666666\">=</span><span style=\"color: #bbbbbb\"> </span>std<span style=\"color: #666666\">::</span>pow(_nav_T_cam[<span style=\"color: #666666\">3</span>],<span style=\"color: #bbbbbb\"> </span>Scalar(<span style=\"color: #666666\">2</span>));\n",
       "<span style=\"color: #bbbbbb\">  </span><span style=\"color: #008000; font-weight: bold\">const</span><span style=\"color: #bbbbbb\"> </span>Scalar<span style=\"color: #bbbbbb\"> </span>_tmp50<span style=\"color: #bbbbbb\"> </span><span style=\"color: #666666\">=</span><span style=\"color: #bbbbbb\"> </span><span style=\"color: #666666\">-</span>_tmp20;\n",
       "<span style=\"color: #bbbbbb\">  </span><span style=\"color: #008000; font-weight: bold\">const</span><span style=\"color: #bbbbbb\"> </span>Scalar<span style=\"color: #bbbbbb\"> </span>_tmp51<span style=\"color: #bbbbbb\"> </span><span style=\"color: #666666\">=</span><span style=\"color: #bbbbbb\"> </span>_tmp49<span style=\"color: #bbbbbb\"> </span><span style=\"color: #666666\">+</span><span style=\"color: #bbbbbb\"> </span>_tmp50;\n",
       "<span style=\"color: #bbbbbb\">  </span><span style=\"color: #008000; font-weight: bold\">const</span><span style=\"color: #bbbbbb\"> </span>Scalar<span style=\"color: #bbbbbb\"> </span>_tmp52<span style=\"color: #bbbbbb\"> </span><span style=\"color: #666666\">=</span><span style=\"color: #bbbbbb\"> </span><span style=\"color: #666666\">-</span>_tmp3;\n",
       "<span style=\"color: #bbbbbb\">  </span><span style=\"color: #008000; font-weight: bold\">const</span><span style=\"color: #bbbbbb\"> </span>Scalar<span style=\"color: #bbbbbb\"> </span>_tmp53<span style=\"color: #bbbbbb\"> </span><span style=\"color: #666666\">=</span><span style=\"color: #bbbbbb\"> </span>_tmp0<span style=\"color: #bbbbbb\"> </span><span style=\"color: #666666\">+</span><span style=\"color: #bbbbbb\"> </span>_tmp52;\n",
       "<span style=\"color: #bbbbbb\">  </span><span style=\"color: #008000; font-weight: bold\">const</span><span style=\"color: #bbbbbb\"> </span>Scalar<span style=\"color: #bbbbbb\"> </span>_tmp54<span style=\"color: #bbbbbb\"> </span><span style=\"color: #666666\">=</span><span style=\"color: #bbbbbb\"> </span>_tmp51<span style=\"color: #bbbbbb\"> </span><span style=\"color: #666666\">+</span><span style=\"color: #bbbbbb\"> </span>_tmp53;\n",
       "<span style=\"color: #bbbbbb\">  </span><span style=\"color: #008000; font-weight: bold\">const</span><span style=\"color: #bbbbbb\"> </span>Scalar<span style=\"color: #bbbbbb\"> </span>_tmp55<span style=\"color: #bbbbbb\"> </span><span style=\"color: #666666\">=</span>\n",
       "<span style=\"color: #bbbbbb\">      </span><span style=\"color: #666666\">-</span>_nav_T_cam[<span style=\"color: #666666\">6</span>]<span style=\"color: #bbbbbb\"> </span><span style=\"color: #666666\">*</span><span style=\"color: #bbbbbb\"> </span>_tmp54<span style=\"color: #bbbbbb\"> </span><span style=\"color: #666666\">-</span><span style=\"color: #bbbbbb\"> </span>_tmp37<span style=\"color: #bbbbbb\"> </span><span style=\"color: #666666\">-</span><span style=\"color: #bbbbbb\"> </span>_tmp39<span style=\"color: #bbbbbb\"> </span><span style=\"color: #666666\">+</span><span style=\"color: #bbbbbb\"> </span>_tmp40<span style=\"color: #bbbbbb\"> </span><span style=\"color: #666666\">+</span><span style=\"color: #bbbbbb\"> </span>_tmp54<span style=\"color: #bbbbbb\"> </span><span style=\"color: #666666\">*</span><span style=\"color: #bbbbbb\"> </span>nav_t_point(<span style=\"color: #666666\">2</span>,<span style=\"color: #bbbbbb\"> </span><span style=\"color: #666666\">0</span>);\n",
       "<span style=\"color: #bbbbbb\">  </span><span style=\"color: #008000; font-weight: bold\">const</span><span style=\"color: #bbbbbb\"> </span>Scalar<span style=\"color: #bbbbbb\"> </span>_tmp56<span style=\"color: #bbbbbb\"> </span><span style=\"color: #666666\">=</span><span style=\"color: #bbbbbb\"> </span><span style=\"color: #666666\">-</span>_tmp10;\n",
       "<span style=\"color: #bbbbbb\">  </span><span style=\"color: #008000; font-weight: bold\">const</span><span style=\"color: #bbbbbb\"> </span>Scalar<span style=\"color: #bbbbbb\"> </span>_tmp57<span style=\"color: #bbbbbb\"> </span><span style=\"color: #666666\">=</span><span style=\"color: #bbbbbb\"> </span>_tmp35<span style=\"color: #bbbbbb\"> </span><span style=\"color: #666666\">+</span><span style=\"color: #bbbbbb\"> </span>_tmp56;\n",
       "<span style=\"color: #bbbbbb\">  </span><span style=\"color: #008000; font-weight: bold\">const</span><span style=\"color: #bbbbbb\"> </span>Scalar<span style=\"color: #bbbbbb\"> </span>_tmp58<span style=\"color: #bbbbbb\"> </span><span style=\"color: #666666\">=</span><span style=\"color: #bbbbbb\"> </span><span style=\"color: #666666\">-</span>_tmp49;\n",
       "<span style=\"color: #bbbbbb\">  </span><span style=\"color: #008000; font-weight: bold\">const</span><span style=\"color: #bbbbbb\"> </span>Scalar<span style=\"color: #bbbbbb\"> </span>_tmp59<span style=\"color: #bbbbbb\"> </span><span style=\"color: #666666\">=</span><span style=\"color: #bbbbbb\"> </span>_tmp0<span style=\"color: #bbbbbb\"> </span><span style=\"color: #666666\">+</span><span style=\"color: #bbbbbb\"> </span>_tmp3<span style=\"color: #bbbbbb\"> </span><span style=\"color: #666666\">+</span><span style=\"color: #bbbbbb\"> </span>_tmp50<span style=\"color: #bbbbbb\"> </span><span style=\"color: #666666\">+</span><span style=\"color: #bbbbbb\"> </span>_tmp58;\n",
       "<span style=\"color: #bbbbbb\">  </span><span style=\"color: #008000; font-weight: bold\">const</span><span style=\"color: #bbbbbb\"> </span>Scalar<span style=\"color: #bbbbbb\"> </span>_tmp60<span style=\"color: #bbbbbb\"> </span><span style=\"color: #666666\">=</span><span style=\"color: #bbbbbb\"> </span><span style=\"color: #666666\">-</span>_tmp13;\n",
       "<span style=\"color: #bbbbbb\">  </span><span style=\"color: #008000; font-weight: bold\">const</span><span style=\"color: #bbbbbb\"> </span>Scalar<span style=\"color: #bbbbbb\"> </span>_tmp61<span style=\"color: #bbbbbb\"> </span><span style=\"color: #666666\">=</span><span style=\"color: #bbbbbb\"> </span>_tmp14<span style=\"color: #bbbbbb\"> </span><span style=\"color: #666666\">+</span><span style=\"color: #bbbbbb\"> </span>_tmp60;\n",
       "<span style=\"color: #bbbbbb\">  </span><span style=\"color: #008000; font-weight: bold\">const</span><span style=\"color: #bbbbbb\"> </span>Scalar<span style=\"color: #bbbbbb\"> </span>_tmp62<span style=\"color: #bbbbbb\"> </span><span style=\"color: #666666\">=</span><span style=\"color: #bbbbbb\"> </span><span style=\"color: #666666\">-</span>_nav_T_cam[<span style=\"color: #666666\">4</span>]<span style=\"color: #bbbbbb\"> </span><span style=\"color: #666666\">*</span><span style=\"color: #bbbbbb\"> </span>_tmp61<span style=\"color: #bbbbbb\"> </span><span style=\"color: #666666\">-</span><span style=\"color: #bbbbbb\"> </span>_nav_T_cam[<span style=\"color: #666666\">5</span>]<span style=\"color: #bbbbbb\"> </span><span style=\"color: #666666\">*</span><span style=\"color: #bbbbbb\"> </span>_tmp59<span style=\"color: #bbbbbb\"> </span><span style=\"color: #666666\">-</span><span style=\"color: #bbbbbb\"> </span>_nav_T_cam[<span style=\"color: #666666\">6</span>]<span style=\"color: #bbbbbb\"> </span><span style=\"color: #666666\">*</span><span style=\"color: #bbbbbb\"> </span>_tmp57<span style=\"color: #bbbbbb\"> </span><span style=\"color: #666666\">+</span>\n",
       "<span style=\"color: #bbbbbb\">                        </span>_tmp57<span style=\"color: #bbbbbb\"> </span><span style=\"color: #666666\">*</span><span style=\"color: #bbbbbb\"> </span>nav_t_point(<span style=\"color: #666666\">2</span>,<span style=\"color: #bbbbbb\"> </span><span style=\"color: #666666\">0</span>)<span style=\"color: #bbbbbb\"> </span><span style=\"color: #666666\">+</span><span style=\"color: #bbbbbb\"> </span>_tmp59<span style=\"color: #bbbbbb\"> </span><span style=\"color: #666666\">*</span><span style=\"color: #bbbbbb\"> </span>nav_t_point(<span style=\"color: #666666\">1</span>,<span style=\"color: #bbbbbb\"> </span><span style=\"color: #666666\">0</span>)<span style=\"color: #bbbbbb\"> </span><span style=\"color: #666666\">+</span>\n",
       "<span style=\"color: #bbbbbb\">                        </span>_tmp61<span style=\"color: #bbbbbb\"> </span><span style=\"color: #666666\">*</span><span style=\"color: #bbbbbb\"> </span>nav_t_point(<span style=\"color: #666666\">0</span>,<span style=\"color: #bbbbbb\"> </span><span style=\"color: #666666\">0</span>);\n",
       "<span style=\"color: #bbbbbb\">  </span><span style=\"color: #008000; font-weight: bold\">const</span><span style=\"color: #bbbbbb\"> </span>Scalar<span style=\"color: #bbbbbb\"> </span>_tmp63<span style=\"color: #bbbbbb\"> </span><span style=\"color: #666666\">=</span><span style=\"color: #bbbbbb\"> </span><span style=\"color: #666666\">2</span><span style=\"color: #bbbbbb\"> </span><span style=\"color: #666666\">*</span><span style=\"color: #bbbbbb\"> </span>_tmp19;\n",
       "<span style=\"color: #bbbbbb\">  </span><span style=\"color: #008000; font-weight: bold\">const</span><span style=\"color: #bbbbbb\"> </span>Scalar<span style=\"color: #bbbbbb\"> </span>_tmp64<span style=\"color: #bbbbbb\"> </span><span style=\"color: #666666\">=</span><span style=\"color: #bbbbbb\"> </span><span style=\"color: #666666\">2</span><span style=\"color: #bbbbbb\"> </span><span style=\"color: #666666\">*</span><span style=\"color: #bbbbbb\"> </span>_tmp41;\n",
       "<span style=\"color: #bbbbbb\">  </span><span style=\"color: #008000; font-weight: bold\">const</span><span style=\"color: #bbbbbb\"> </span>Scalar<span style=\"color: #bbbbbb\"> </span>_tmp65<span style=\"color: #bbbbbb\"> </span><span style=\"color: #666666\">=</span><span style=\"color: #bbbbbb\"> </span>std<span style=\"color: #666666\">::</span>pow(_tmp45,<span style=\"color: #bbbbbb\"> </span>Scalar(<span style=\"color: #666666\">-2</span>));\n",
       "<span style=\"color: #bbbbbb\">  </span><span style=\"color: #008000; font-weight: bold\">const</span><span style=\"color: #bbbbbb\"> </span>Scalar<span style=\"color: #bbbbbb\"> </span>_tmp66<span style=\"color: #bbbbbb\"> </span><span style=\"color: #666666\">=</span><span style=\"color: #bbbbbb\"> </span>(Scalar(<span style=\"color: #666666\">1</span>)<span style=\"color: #bbbbbb\"> </span><span style=\"color: #666666\">/</span><span style=\"color: #bbbbbb\"> </span>Scalar(<span style=\"color: #666666\">2</span>))<span style=\"color: #bbbbbb\"> </span><span style=\"color: #666666\">*</span><span style=\"color: #bbbbbb\"> </span>_tmp41<span style=\"color: #bbbbbb\"> </span><span style=\"color: #666666\">*</span><span style=\"color: #bbbbbb\"> </span>_tmp65<span style=\"color: #bbbbbb\"> </span><span style=\"color: #666666\">/</span><span style=\"color: #bbbbbb\"> </span>_tmp44;\n",
       "<span style=\"color: #bbbbbb\">  </span><span style=\"color: #008000; font-weight: bold\">const</span><span style=\"color: #bbbbbb\"> </span>Scalar<span style=\"color: #bbbbbb\"> </span>_tmp67<span style=\"color: #bbbbbb\"> </span><span style=\"color: #666666\">=</span><span style=\"color: #bbbbbb\"> </span>std<span style=\"color: #666666\">::</span>pow(Scalar(<span style=\"color: #666666\">-</span>_tmp43<span style=\"color: #bbbbbb\"> </span><span style=\"color: #666666\">*</span><span style=\"color: #bbbbbb\"> </span>_tmp65<span style=\"color: #bbbbbb\"> </span><span style=\"color: #666666\">+</span><span style=\"color: #bbbbbb\"> </span><span style=\"color: #666666\">1</span>),<span style=\"color: #bbbbbb\"> </span>Scalar(Scalar(<span style=\"color: #666666\">-1</span>)<span style=\"color: #bbbbbb\"> </span><span style=\"color: #666666\">/</span><span style=\"color: #bbbbbb\"> </span>Scalar(<span style=\"color: #666666\">2</span>)));\n",
       "<span style=\"color: #bbbbbb\">  </span><span style=\"color: #008000; font-weight: bold\">const</span><span style=\"color: #bbbbbb\"> </span>Scalar<span style=\"color: #bbbbbb\"> </span>_tmp68<span style=\"color: #bbbbbb\"> </span><span style=\"color: #666666\">=</span><span style=\"color: #bbbbbb\"> </span>_tmp56<span style=\"color: #bbbbbb\"> </span><span style=\"color: #666666\">+</span><span style=\"color: #bbbbbb\"> </span>_tmp8;\n",
       "<span style=\"color: #bbbbbb\">  </span><span style=\"color: #008000; font-weight: bold\">const</span><span style=\"color: #bbbbbb\"> </span>Scalar<span style=\"color: #bbbbbb\"> </span>_tmp69<span style=\"color: #bbbbbb\"> </span><span style=\"color: #666666\">=</span><span style=\"color: #bbbbbb\"> </span><span style=\"color: #666666\">-</span>_tmp0;\n",
       "<span style=\"color: #bbbbbb\">  </span><span style=\"color: #008000; font-weight: bold\">const</span><span style=\"color: #bbbbbb\"> </span>Scalar<span style=\"color: #bbbbbb\"> </span>_tmp70<span style=\"color: #bbbbbb\"> </span><span style=\"color: #666666\">=</span><span style=\"color: #bbbbbb\"> </span>_tmp3<span style=\"color: #bbbbbb\"> </span><span style=\"color: #666666\">+</span><span style=\"color: #bbbbbb\"> </span>_tmp69;\n",
       "<span style=\"color: #bbbbbb\">  </span><span style=\"color: #008000; font-weight: bold\">const</span><span style=\"color: #bbbbbb\"> </span>Scalar<span style=\"color: #bbbbbb\"> </span>_tmp71<span style=\"color: #bbbbbb\"> </span><span style=\"color: #666666\">=</span><span style=\"color: #bbbbbb\"> </span>_tmp20<span style=\"color: #bbbbbb\"> </span><span style=\"color: #666666\">+</span><span style=\"color: #bbbbbb\"> </span>_tmp58;\n",
       "<span style=\"color: #bbbbbb\">  </span><span style=\"color: #008000; font-weight: bold\">const</span><span style=\"color: #bbbbbb\"> </span>Scalar<span style=\"color: #bbbbbb\"> </span>_tmp72<span style=\"color: #bbbbbb\"> </span><span style=\"color: #666666\">=</span><span style=\"color: #bbbbbb\"> </span>_tmp70<span style=\"color: #bbbbbb\"> </span><span style=\"color: #666666\">+</span><span style=\"color: #bbbbbb\"> </span>_tmp71;\n",
       "<span style=\"color: #bbbbbb\">  </span><span style=\"color: #008000; font-weight: bold\">const</span><span style=\"color: #bbbbbb\"> </span>Scalar<span style=\"color: #bbbbbb\"> </span>_tmp73<span style=\"color: #bbbbbb\"> </span><span style=\"color: #666666\">=</span><span style=\"color: #bbbbbb\"> </span><span style=\"color: #666666\">-</span>_tmp28;\n",
       "<span style=\"color: #bbbbbb\">  </span><span style=\"color: #008000; font-weight: bold\">const</span><span style=\"color: #bbbbbb\"> </span>Scalar<span style=\"color: #bbbbbb\"> </span>_tmp74<span style=\"color: #bbbbbb\"> </span><span style=\"color: #666666\">=</span><span style=\"color: #bbbbbb\"> </span>_tmp27<span style=\"color: #bbbbbb\"> </span><span style=\"color: #666666\">+</span><span style=\"color: #bbbbbb\"> </span>_tmp73;\n",
       "<span style=\"color: #bbbbbb\">  </span><span style=\"color: #008000; font-weight: bold\">const</span><span style=\"color: #bbbbbb\"> </span>Scalar<span style=\"color: #bbbbbb\"> </span>_tmp75<span style=\"color: #bbbbbb\"> </span><span style=\"color: #666666\">=</span><span style=\"color: #bbbbbb\"> </span><span style=\"color: #666666\">-</span>_nav_T_cam[<span style=\"color: #666666\">4</span>]<span style=\"color: #bbbbbb\"> </span><span style=\"color: #666666\">*</span><span style=\"color: #bbbbbb\"> </span>_tmp74<span style=\"color: #bbbbbb\"> </span><span style=\"color: #666666\">-</span><span style=\"color: #bbbbbb\"> </span>_nav_T_cam[<span style=\"color: #666666\">5</span>]<span style=\"color: #bbbbbb\"> </span><span style=\"color: #666666\">*</span><span style=\"color: #bbbbbb\"> </span>_tmp68<span style=\"color: #bbbbbb\"> </span><span style=\"color: #666666\">-</span><span style=\"color: #bbbbbb\"> </span>_nav_T_cam[<span style=\"color: #666666\">6</span>]<span style=\"color: #bbbbbb\"> </span><span style=\"color: #666666\">*</span><span style=\"color: #bbbbbb\"> </span>_tmp72<span style=\"color: #bbbbbb\"> </span><span style=\"color: #666666\">+</span>\n",
       "<span style=\"color: #bbbbbb\">                        </span>_tmp68<span style=\"color: #bbbbbb\"> </span><span style=\"color: #666666\">*</span><span style=\"color: #bbbbbb\"> </span>nav_t_point(<span style=\"color: #666666\">1</span>,<span style=\"color: #bbbbbb\"> </span><span style=\"color: #666666\">0</span>)<span style=\"color: #bbbbbb\"> </span><span style=\"color: #666666\">+</span><span style=\"color: #bbbbbb\"> </span>_tmp72<span style=\"color: #bbbbbb\"> </span><span style=\"color: #666666\">*</span><span style=\"color: #bbbbbb\"> </span>nav_t_point(<span style=\"color: #666666\">2</span>,<span style=\"color: #bbbbbb\"> </span><span style=\"color: #666666\">0</span>)<span style=\"color: #bbbbbb\"> </span><span style=\"color: #666666\">+</span>\n",
       "<span style=\"color: #bbbbbb\">                        </span>_tmp74<span style=\"color: #bbbbbb\"> </span><span style=\"color: #666666\">*</span><span style=\"color: #bbbbbb\"> </span>nav_t_point(<span style=\"color: #666666\">0</span>,<span style=\"color: #bbbbbb\"> </span><span style=\"color: #666666\">0</span>);\n",
       "<span style=\"color: #bbbbbb\">  </span><span style=\"color: #008000; font-weight: bold\">const</span><span style=\"color: #bbbbbb\"> </span>Scalar<span style=\"color: #bbbbbb\"> </span>_tmp76<span style=\"color: #bbbbbb\"> </span><span style=\"color: #666666\">=</span><span style=\"color: #bbbbbb\"> </span>_tmp51<span style=\"color: #bbbbbb\"> </span><span style=\"color: #666666\">+</span><span style=\"color: #bbbbbb\"> </span>_tmp70;\n",
       "<span style=\"color: #bbbbbb\">  </span><span style=\"color: #008000; font-weight: bold\">const</span><span style=\"color: #bbbbbb\"> </span>Scalar<span style=\"color: #bbbbbb\"> </span>_tmp77<span style=\"color: #bbbbbb\"> </span><span style=\"color: #666666\">=</span>\n",
       "<span style=\"color: #bbbbbb\">      </span><span style=\"color: #666666\">-</span>_nav_T_cam[<span style=\"color: #666666\">4</span>]<span style=\"color: #bbbbbb\"> </span><span style=\"color: #666666\">*</span><span style=\"color: #bbbbbb\"> </span>_tmp76<span style=\"color: #bbbbbb\"> </span><span style=\"color: #666666\">-</span><span style=\"color: #bbbbbb\"> </span>_tmp25<span style=\"color: #bbbbbb\"> </span><span style=\"color: #666666\">-</span><span style=\"color: #bbbbbb\"> </span>_tmp30<span style=\"color: #bbbbbb\"> </span><span style=\"color: #666666\">+</span><span style=\"color: #bbbbbb\"> </span>_tmp31<span style=\"color: #bbbbbb\"> </span><span style=\"color: #666666\">+</span><span style=\"color: #bbbbbb\"> </span>_tmp76<span style=\"color: #bbbbbb\"> </span><span style=\"color: #666666\">*</span><span style=\"color: #bbbbbb\"> </span>nav_t_point(<span style=\"color: #666666\">0</span>,<span style=\"color: #bbbbbb\"> </span><span style=\"color: #666666\">0</span>);\n",
       "<span style=\"color: #bbbbbb\">  </span><span style=\"color: #008000; font-weight: bold\">const</span><span style=\"color: #bbbbbb\"> </span>Scalar<span style=\"color: #bbbbbb\"> </span>_tmp78<span style=\"color: #bbbbbb\"> </span><span style=\"color: #666666\">=</span><span style=\"color: #bbbbbb\"> </span><span style=\"color: #666666\">2</span><span style=\"color: #bbbbbb\"> </span><span style=\"color: #666666\">*</span><span style=\"color: #bbbbbb\"> </span>_tmp32;\n",
       "<span style=\"color: #bbbbbb\">  </span><span style=\"color: #008000; font-weight: bold\">const</span><span style=\"color: #bbbbbb\"> </span>Scalar<span style=\"color: #bbbbbb\"> </span>_tmp79<span style=\"color: #bbbbbb\"> </span><span style=\"color: #666666\">=</span><span style=\"color: #bbbbbb\"> </span>_tmp53<span style=\"color: #bbbbbb\"> </span><span style=\"color: #666666\">+</span><span style=\"color: #bbbbbb\"> </span>_tmp71;\n",
       "<span style=\"color: #bbbbbb\">  </span><span style=\"color: #008000; font-weight: bold\">const</span><span style=\"color: #bbbbbb\"> </span>Scalar<span style=\"color: #bbbbbb\"> </span>_tmp80<span style=\"color: #bbbbbb\"> </span><span style=\"color: #666666\">=</span><span style=\"color: #bbbbbb\"> </span>_tmp15<span style=\"color: #bbbbbb\"> </span><span style=\"color: #666666\">+</span><span style=\"color: #bbbbbb\"> </span>_tmp60;\n",
       "<span style=\"color: #bbbbbb\">  </span><span style=\"color: #008000; font-weight: bold\">const</span><span style=\"color: #bbbbbb\"> </span>Scalar<span style=\"color: #bbbbbb\"> </span>_tmp81<span style=\"color: #bbbbbb\"> </span><span style=\"color: #666666\">=</span><span style=\"color: #bbbbbb\"> </span>_tmp26<span style=\"color: #bbbbbb\"> </span><span style=\"color: #666666\">+</span><span style=\"color: #bbbbbb\"> </span>_tmp73;\n",
       "<span style=\"color: #bbbbbb\">  </span><span style=\"color: #008000; font-weight: bold\">const</span><span style=\"color: #bbbbbb\"> </span>Scalar<span style=\"color: #bbbbbb\"> </span>_tmp82<span style=\"color: #bbbbbb\"> </span><span style=\"color: #666666\">=</span><span style=\"color: #bbbbbb\"> </span><span style=\"color: #666666\">-</span>_nav_T_cam[<span style=\"color: #666666\">4</span>]<span style=\"color: #bbbbbb\"> </span><span style=\"color: #666666\">*</span><span style=\"color: #bbbbbb\"> </span>_tmp79<span style=\"color: #bbbbbb\"> </span><span style=\"color: #666666\">-</span><span style=\"color: #bbbbbb\"> </span>_nav_T_cam[<span style=\"color: #666666\">5</span>]<span style=\"color: #bbbbbb\"> </span><span style=\"color: #666666\">*</span><span style=\"color: #bbbbbb\"> </span>_tmp80<span style=\"color: #bbbbbb\"> </span><span style=\"color: #666666\">-</span><span style=\"color: #bbbbbb\"> </span>_nav_T_cam[<span style=\"color: #666666\">6</span>]<span style=\"color: #bbbbbb\"> </span><span style=\"color: #666666\">*</span><span style=\"color: #bbbbbb\"> </span>_tmp81<span style=\"color: #bbbbbb\"> </span><span style=\"color: #666666\">+</span>\n",
       "<span style=\"color: #bbbbbb\">                        </span>_tmp79<span style=\"color: #bbbbbb\"> </span><span style=\"color: #666666\">*</span><span style=\"color: #bbbbbb\"> </span>nav_t_point(<span style=\"color: #666666\">0</span>,<span style=\"color: #bbbbbb\"> </span><span style=\"color: #666666\">0</span>)<span style=\"color: #bbbbbb\"> </span><span style=\"color: #666666\">+</span><span style=\"color: #bbbbbb\"> </span>_tmp80<span style=\"color: #bbbbbb\"> </span><span style=\"color: #666666\">*</span><span style=\"color: #bbbbbb\"> </span>nav_t_point(<span style=\"color: #666666\">1</span>,<span style=\"color: #bbbbbb\"> </span><span style=\"color: #666666\">0</span>)<span style=\"color: #bbbbbb\"> </span><span style=\"color: #666666\">+</span>\n",
       "<span style=\"color: #bbbbbb\">                        </span>_tmp81<span style=\"color: #bbbbbb\"> </span><span style=\"color: #666666\">*</span><span style=\"color: #bbbbbb\"> </span>nav_t_point(<span style=\"color: #666666\">2</span>,<span style=\"color: #bbbbbb\"> </span><span style=\"color: #666666\">0</span>);\n",
       "<span style=\"color: #bbbbbb\">  </span><span style=\"color: #008000; font-weight: bold\">const</span><span style=\"color: #bbbbbb\"> </span>Scalar<span style=\"color: #bbbbbb\"> </span>_tmp83<span style=\"color: #bbbbbb\"> </span><span style=\"color: #666666\">=</span><span style=\"color: #bbbbbb\"> </span>Scalar(<span style=\"color: #666666\">1.0</span>)<span style=\"color: #bbbbbb\"> </span><span style=\"color: #666666\">/</span><span style=\"color: #bbbbbb\"> </span>(_tmp33);\n",
       "<span style=\"color: #bbbbbb\">  </span><span style=\"color: #008000; font-weight: bold\">const</span><span style=\"color: #bbbbbb\"> </span>Scalar<span style=\"color: #bbbbbb\"> </span>_tmp84<span style=\"color: #bbbbbb\"> </span><span style=\"color: #666666\">=</span><span style=\"color: #bbbbbb\"> </span>_tmp20<span style=\"color: #bbbbbb\"> </span><span style=\"color: #666666\">+</span><span style=\"color: #bbbbbb\"> </span>_tmp49<span style=\"color: #bbbbbb\"> </span><span style=\"color: #666666\">+</span><span style=\"color: #bbbbbb\"> </span>_tmp52<span style=\"color: #bbbbbb\"> </span><span style=\"color: #666666\">+</span><span style=\"color: #bbbbbb\"> </span>_tmp69;\n",
       "<span style=\"color: #bbbbbb\">  </span><span style=\"color: #008000; font-weight: bold\">const</span><span style=\"color: #bbbbbb\"> </span>Scalar<span style=\"color: #bbbbbb\"> </span>_tmp85<span style=\"color: #bbbbbb\"> </span><span style=\"color: #666666\">=</span>\n",
       "<span style=\"color: #bbbbbb\">      </span><span style=\"color: #666666\">-</span>_nav_T_cam[<span style=\"color: #666666\">5</span>]<span style=\"color: #bbbbbb\"> </span><span style=\"color: #666666\">*</span><span style=\"color: #bbbbbb\"> </span>_tmp84<span style=\"color: #bbbbbb\"> </span><span style=\"color: #666666\">-</span><span style=\"color: #bbbbbb\"> </span>_tmp12<span style=\"color: #bbbbbb\"> </span><span style=\"color: #666666\">-</span><span style=\"color: #bbbbbb\"> </span>_tmp17<span style=\"color: #bbbbbb\"> </span><span style=\"color: #666666\">+</span><span style=\"color: #bbbbbb\"> </span>_tmp18<span style=\"color: #bbbbbb\"> </span><span style=\"color: #666666\">+</span><span style=\"color: #bbbbbb\"> </span>_tmp84<span style=\"color: #bbbbbb\"> </span><span style=\"color: #666666\">*</span><span style=\"color: #bbbbbb\"> </span>nav_t_point(<span style=\"color: #666666\">1</span>,<span style=\"color: #bbbbbb\"> </span><span style=\"color: #666666\">0</span>);\n",
       "<span style=\"color: #bbbbbb\">  </span><span style=\"color: #008000; font-weight: bold\">const</span><span style=\"color: #bbbbbb\"> </span>Scalar<span style=\"color: #bbbbbb\"> </span>_tmp86<span style=\"color: #bbbbbb\"> </span><span style=\"color: #666666\">=</span><span style=\"color: #bbbbbb\"> </span>_tmp19<span style=\"color: #bbbbbb\"> </span><span style=\"color: #666666\">/</span><span style=\"color: #bbbbbb\"> </span>_tmp47;\n",
       "<span style=\"color: #bbbbbb\">  </span><span style=\"color: #008000; font-weight: bold\">const</span><span style=\"color: #bbbbbb\"> </span>Scalar<span style=\"color: #bbbbbb\"> </span>_tmp87<span style=\"color: #bbbbbb\"> </span><span style=\"color: #666666\">=</span><span style=\"color: #bbbbbb\"> </span>_tmp47<span style=\"color: #bbbbbb\"> </span><span style=\"color: #666666\">*</span><span style=\"color: #bbbbbb\"> </span>_tmp48;\n",
       "<span style=\"color: #bbbbbb\">  </span><span style=\"color: #008000; font-weight: bold\">const</span><span style=\"color: #bbbbbb\"> </span>Scalar<span style=\"color: #bbbbbb\"> </span>_tmp88<span style=\"color: #bbbbbb\"> </span><span style=\"color: #666666\">=</span><span style=\"color: #bbbbbb\"> </span>_tmp1<span style=\"color: #bbbbbb\"> </span><span style=\"color: #666666\">+</span><span style=\"color: #bbbbbb\"> </span>_tmp21<span style=\"color: #bbbbbb\"> </span><span style=\"color: #666666\">-</span><span style=\"color: #bbbbbb\"> </span><span style=\"color: #666666\">1</span>;\n",
       "<span style=\"color: #bbbbbb\">  </span><span style=\"color: #008000; font-weight: bold\">const</span><span style=\"color: #bbbbbb\"> </span>Scalar<span style=\"color: #bbbbbb\"> </span>_tmp89<span style=\"color: #bbbbbb\"> </span><span style=\"color: #666666\">=</span><span style=\"color: #bbbbbb\"> </span>_tmp4<span style=\"color: #bbbbbb\"> </span><span style=\"color: #666666\">-</span><span style=\"color: #bbbbbb\"> </span><span style=\"color: #666666\">1</span>;\n",
       "<span style=\"color: #bbbbbb\">  </span><span style=\"color: #008000; font-weight: bold\">const</span><span style=\"color: #bbbbbb\"> </span>Scalar<span style=\"color: #bbbbbb\"> </span>_tmp90<span style=\"color: #bbbbbb\"> </span><span style=\"color: #666666\">=</span><span style=\"color: #bbbbbb\"> </span>_tmp1<span style=\"color: #bbbbbb\"> </span><span style=\"color: #666666\">+</span><span style=\"color: #bbbbbb\"> </span>_tmp89;\n",
       "<span style=\"color: #bbbbbb\">  </span><span style=\"color: #008000; font-weight: bold\">const</span><span style=\"color: #bbbbbb\"> </span>Scalar<span style=\"color: #bbbbbb\"> </span>_tmp91<span style=\"color: #bbbbbb\"> </span><span style=\"color: #666666\">=</span><span style=\"color: #bbbbbb\"> </span>_tmp21<span style=\"color: #bbbbbb\"> </span><span style=\"color: #666666\">+</span><span style=\"color: #bbbbbb\"> </span>_tmp89;\n",
       "\n",
       "<span style=\"color: #bbbbbb\">  </span><span style=\"color: #3D7B7B; font-style: italic\">// Output terms (3)</span>\n",
       "<span style=\"color: #bbbbbb\">  </span>Eigen<span style=\"color: #666666\">::</span>Matrix<span style=\"color: #666666\">&lt;</span>Scalar,<span style=\"color: #bbbbbb\"> </span><span style=\"color: #666666\">2</span>,<span style=\"color: #bbbbbb\"> </span><span style=\"color: #666666\">1&gt;</span><span style=\"color: #bbbbbb\"> </span>_res;\n",
       "\n",
       "<span style=\"color: #bbbbbb\">  </span>_res(<span style=\"color: #666666\">0</span>,<span style=\"color: #bbbbbb\"> </span><span style=\"color: #666666\">0</span>)<span style=\"color: #bbbbbb\"> </span><span style=\"color: #666666\">=</span><span style=\"color: #bbbbbb\"> </span>std<span style=\"color: #666666\">::</span>atan2(_tmp19,<span style=\"color: #bbbbbb\"> </span>_tmp33);\n",
       "<span style=\"color: #bbbbbb\">  </span>_res(<span style=\"color: #666666\">1</span>,<span style=\"color: #bbbbbb\"> </span><span style=\"color: #666666\">0</span>)<span style=\"color: #bbbbbb\"> </span><span style=\"color: #666666\">=</span><span style=\"color: #bbbbbb\"> </span><span style=\"color: #666666\">-</span>std<span style=\"color: #666666\">::</span>acos(_tmp41<span style=\"color: #bbbbbb\"> </span><span style=\"color: #666666\">*</span><span style=\"color: #bbbbbb\"> </span>_tmp46)<span style=\"color: #bbbbbb\"> </span><span style=\"color: #666666\">+</span><span style=\"color: #bbbbbb\"> </span>Scalar(M_PI_2);\n",
       "\n",
       "<span style=\"color: #bbbbbb\">  </span><span style=\"color: #008000; font-weight: bold\">if</span><span style=\"color: #bbbbbb\"> </span>(res_D_nav_T_cam<span style=\"color: #bbbbbb\"> </span><span style=\"color: #666666\">!=</span><span style=\"color: #bbbbbb\"> </span><span style=\"color: #008000; font-weight: bold\">nullptr</span>)<span style=\"color: #bbbbbb\"> </span>{\n",
       "<span style=\"color: #bbbbbb\">    </span>Eigen<span style=\"color: #666666\">::</span>Matrix<span style=\"color: #666666\">&lt;</span>Scalar,<span style=\"color: #bbbbbb\"> </span><span style=\"color: #666666\">2</span>,<span style=\"color: #bbbbbb\"> </span><span style=\"color: #666666\">6&gt;&amp;</span><span style=\"color: #bbbbbb\"> </span>_res_D_nav_T_cam<span style=\"color: #bbbbbb\"> </span><span style=\"color: #666666\">=</span><span style=\"color: #bbbbbb\"> </span>(<span style=\"color: #666666\">*</span>res_D_nav_T_cam);\n",
       "\n",
       "<span style=\"color: #bbbbbb\">    </span>_res_D_nav_T_cam(<span style=\"color: #666666\">0</span>,<span style=\"color: #bbbbbb\"> </span><span style=\"color: #666666\">0</span>)<span style=\"color: #bbbbbb\"> </span><span style=\"color: #666666\">=</span><span style=\"color: #bbbbbb\"> </span>_tmp33<span style=\"color: #bbbbbb\"> </span><span style=\"color: #666666\">*</span><span style=\"color: #bbbbbb\"> </span>_tmp48<span style=\"color: #bbbbbb\"> </span><span style=\"color: #666666\">*</span><span style=\"color: #bbbbbb\"> </span>_tmp55;\n",
       "<span style=\"color: #bbbbbb\">    </span>_res_D_nav_T_cam(<span style=\"color: #666666\">1</span>,<span style=\"color: #bbbbbb\"> </span><span style=\"color: #666666\">0</span>)<span style=\"color: #bbbbbb\"> </span><span style=\"color: #666666\">=</span>\n",
       "<span style=\"color: #bbbbbb\">        </span>_tmp67<span style=\"color: #bbbbbb\"> </span><span style=\"color: #666666\">*</span><span style=\"color: #bbbbbb\"> </span>(_tmp46<span style=\"color: #bbbbbb\"> </span><span style=\"color: #666666\">*</span><span style=\"color: #bbbbbb\"> </span>_tmp62<span style=\"color: #bbbbbb\"> </span><span style=\"color: #666666\">-</span><span style=\"color: #bbbbbb\"> </span>_tmp66<span style=\"color: #bbbbbb\"> </span><span style=\"color: #666666\">*</span><span style=\"color: #bbbbbb\"> </span>(_tmp55<span style=\"color: #bbbbbb\"> </span><span style=\"color: #666666\">*</span><span style=\"color: #bbbbbb\"> </span>_tmp63<span style=\"color: #bbbbbb\"> </span><span style=\"color: #666666\">+</span><span style=\"color: #bbbbbb\"> </span>_tmp62<span style=\"color: #bbbbbb\"> </span><span style=\"color: #666666\">*</span><span style=\"color: #bbbbbb\"> </span>_tmp64));\n",
       "<span style=\"color: #bbbbbb\">    </span>_res_D_nav_T_cam(<span style=\"color: #666666\">0</span>,<span style=\"color: #bbbbbb\"> </span><span style=\"color: #666666\">1</span>)<span style=\"color: #bbbbbb\"> </span><span style=\"color: #666666\">=</span><span style=\"color: #bbbbbb\"> </span><span style=\"color: #666666\">-</span>_tmp19<span style=\"color: #bbbbbb\"> </span><span style=\"color: #666666\">*</span><span style=\"color: #bbbbbb\"> </span>_tmp48<span style=\"color: #bbbbbb\"> </span><span style=\"color: #666666\">*</span><span style=\"color: #bbbbbb\"> </span>_tmp75;\n",
       "<span style=\"color: #bbbbbb\">    </span>_res_D_nav_T_cam(<span style=\"color: #666666\">1</span>,<span style=\"color: #bbbbbb\"> </span><span style=\"color: #666666\">1</span>)<span style=\"color: #bbbbbb\"> </span><span style=\"color: #666666\">=</span>\n",
       "<span style=\"color: #bbbbbb\">        </span>_tmp67<span style=\"color: #bbbbbb\"> </span><span style=\"color: #666666\">*</span><span style=\"color: #bbbbbb\"> </span>(_tmp46<span style=\"color: #bbbbbb\"> </span><span style=\"color: #666666\">*</span><span style=\"color: #bbbbbb\"> </span>_tmp77<span style=\"color: #bbbbbb\"> </span><span style=\"color: #666666\">-</span><span style=\"color: #bbbbbb\"> </span>_tmp66<span style=\"color: #bbbbbb\"> </span><span style=\"color: #666666\">*</span><span style=\"color: #bbbbbb\"> </span>(_tmp64<span style=\"color: #bbbbbb\"> </span><span style=\"color: #666666\">*</span><span style=\"color: #bbbbbb\"> </span>_tmp77<span style=\"color: #bbbbbb\"> </span><span style=\"color: #666666\">+</span><span style=\"color: #bbbbbb\"> </span>_tmp75<span style=\"color: #bbbbbb\"> </span><span style=\"color: #666666\">*</span><span style=\"color: #bbbbbb\"> </span>_tmp78));\n",
       "<span style=\"color: #bbbbbb\">    </span>_res_D_nav_T_cam(<span style=\"color: #666666\">0</span>,<span style=\"color: #bbbbbb\"> </span><span style=\"color: #666666\">2</span>)<span style=\"color: #bbbbbb\"> </span><span style=\"color: #666666\">=</span><span style=\"color: #bbbbbb\"> </span>_tmp87<span style=\"color: #bbbbbb\"> </span><span style=\"color: #666666\">*</span><span style=\"color: #bbbbbb\"> </span>(_tmp82<span style=\"color: #bbbbbb\"> </span><span style=\"color: #666666\">*</span><span style=\"color: #bbbbbb\"> </span>_tmp83<span style=\"color: #bbbbbb\"> </span><span style=\"color: #666666\">-</span><span style=\"color: #bbbbbb\"> </span>_tmp85<span style=\"color: #bbbbbb\"> </span><span style=\"color: #666666\">*</span><span style=\"color: #bbbbbb\"> </span>_tmp86);\n",
       "<span style=\"color: #bbbbbb\">    </span>_res_D_nav_T_cam(<span style=\"color: #666666\">1</span>,<span style=\"color: #bbbbbb\"> </span><span style=\"color: #666666\">2</span>)<span style=\"color: #bbbbbb\"> </span><span style=\"color: #666666\">=</span><span style=\"color: #bbbbbb\"> </span><span style=\"color: #666666\">-</span>_tmp66<span style=\"color: #bbbbbb\"> </span><span style=\"color: #666666\">*</span><span style=\"color: #bbbbbb\"> </span>_tmp67<span style=\"color: #bbbbbb\"> </span><span style=\"color: #666666\">*</span><span style=\"color: #bbbbbb\"> </span>(_tmp63<span style=\"color: #bbbbbb\"> </span><span style=\"color: #666666\">*</span><span style=\"color: #bbbbbb\"> </span>_tmp82<span style=\"color: #bbbbbb\"> </span><span style=\"color: #666666\">+</span><span style=\"color: #bbbbbb\"> </span>_tmp78<span style=\"color: #bbbbbb\"> </span><span style=\"color: #666666\">*</span><span style=\"color: #bbbbbb\"> </span>_tmp85);\n",
       "<span style=\"color: #bbbbbb\">    </span>_res_D_nav_T_cam(<span style=\"color: #666666\">0</span>,<span style=\"color: #bbbbbb\"> </span><span style=\"color: #666666\">3</span>)<span style=\"color: #bbbbbb\"> </span><span style=\"color: #666666\">=</span><span style=\"color: #bbbbbb\"> </span>_tmp87<span style=\"color: #bbbbbb\"> </span><span style=\"color: #666666\">*</span><span style=\"color: #bbbbbb\"> </span>(_tmp61<span style=\"color: #bbbbbb\"> </span><span style=\"color: #666666\">*</span><span style=\"color: #bbbbbb\"> </span>_tmp83<span style=\"color: #bbbbbb\"> </span><span style=\"color: #666666\">-</span><span style=\"color: #bbbbbb\"> </span>_tmp86<span style=\"color: #bbbbbb\"> </span><span style=\"color: #666666\">*</span><span style=\"color: #bbbbbb\"> </span>_tmp88);\n",
       "<span style=\"color: #bbbbbb\">    </span>_res_D_nav_T_cam(<span style=\"color: #666666\">1</span>,<span style=\"color: #bbbbbb\"> </span><span style=\"color: #666666\">3</span>)<span style=\"color: #bbbbbb\"> </span><span style=\"color: #666666\">=</span>\n",
       "<span style=\"color: #bbbbbb\">        </span>_tmp67<span style=\"color: #bbbbbb\"> </span><span style=\"color: #666666\">*</span><span style=\"color: #bbbbbb\"> </span>(_tmp46<span style=\"color: #bbbbbb\"> </span><span style=\"color: #666666\">*</span><span style=\"color: #bbbbbb\"> </span>_tmp74<span style=\"color: #bbbbbb\"> </span><span style=\"color: #666666\">-</span><span style=\"color: #bbbbbb\"> </span>_tmp66<span style=\"color: #bbbbbb\"> </span><span style=\"color: #666666\">*</span><span style=\"color: #bbbbbb\"> </span>(_tmp61<span style=\"color: #bbbbbb\"> </span><span style=\"color: #666666\">*</span><span style=\"color: #bbbbbb\"> </span>_tmp63<span style=\"color: #bbbbbb\"> </span><span style=\"color: #666666\">+</span><span style=\"color: #bbbbbb\"> </span>_tmp64<span style=\"color: #bbbbbb\"> </span><span style=\"color: #666666\">*</span><span style=\"color: #bbbbbb\"> </span>_tmp74<span style=\"color: #bbbbbb\"> </span><span style=\"color: #666666\">+</span><span style=\"color: #bbbbbb\"> </span>_tmp78<span style=\"color: #bbbbbb\"> </span><span style=\"color: #666666\">*</span><span style=\"color: #bbbbbb\"> </span>_tmp88));\n",
       "<span style=\"color: #bbbbbb\">    </span>_res_D_nav_T_cam(<span style=\"color: #666666\">0</span>,<span style=\"color: #bbbbbb\"> </span><span style=\"color: #666666\">4</span>)<span style=\"color: #bbbbbb\"> </span><span style=\"color: #666666\">=</span><span style=\"color: #bbbbbb\"> </span>_tmp87<span style=\"color: #bbbbbb\"> </span><span style=\"color: #666666\">*</span><span style=\"color: #bbbbbb\"> </span>(<span style=\"color: #666666\">-</span>_tmp80<span style=\"color: #bbbbbb\"> </span><span style=\"color: #666666\">*</span><span style=\"color: #bbbbbb\"> </span>_tmp86<span style=\"color: #bbbbbb\"> </span><span style=\"color: #666666\">+</span><span style=\"color: #bbbbbb\"> </span>_tmp83<span style=\"color: #bbbbbb\"> </span><span style=\"color: #666666\">*</span><span style=\"color: #bbbbbb\"> </span>_tmp90);\n",
       "<span style=\"color: #bbbbbb\">    </span>_res_D_nav_T_cam(<span style=\"color: #666666\">1</span>,<span style=\"color: #bbbbbb\"> </span><span style=\"color: #666666\">4</span>)<span style=\"color: #bbbbbb\"> </span><span style=\"color: #666666\">=</span>\n",
       "<span style=\"color: #bbbbbb\">        </span>_tmp67<span style=\"color: #bbbbbb\"> </span><span style=\"color: #666666\">*</span><span style=\"color: #bbbbbb\"> </span>(_tmp46<span style=\"color: #bbbbbb\"> </span><span style=\"color: #666666\">*</span><span style=\"color: #bbbbbb\"> </span>_tmp68<span style=\"color: #bbbbbb\"> </span><span style=\"color: #666666\">-</span><span style=\"color: #bbbbbb\"> </span>_tmp66<span style=\"color: #bbbbbb\"> </span><span style=\"color: #666666\">*</span><span style=\"color: #bbbbbb\"> </span>(_tmp63<span style=\"color: #bbbbbb\"> </span><span style=\"color: #666666\">*</span><span style=\"color: #bbbbbb\"> </span>_tmp90<span style=\"color: #bbbbbb\"> </span><span style=\"color: #666666\">+</span><span style=\"color: #bbbbbb\"> </span>_tmp64<span style=\"color: #bbbbbb\"> </span><span style=\"color: #666666\">*</span><span style=\"color: #bbbbbb\"> </span>_tmp68<span style=\"color: #bbbbbb\"> </span><span style=\"color: #666666\">+</span><span style=\"color: #bbbbbb\"> </span>_tmp78<span style=\"color: #bbbbbb\"> </span><span style=\"color: #666666\">*</span><span style=\"color: #bbbbbb\"> </span>_tmp80));\n",
       "<span style=\"color: #bbbbbb\">    </span>_res_D_nav_T_cam(<span style=\"color: #666666\">0</span>,<span style=\"color: #bbbbbb\"> </span><span style=\"color: #666666\">5</span>)<span style=\"color: #bbbbbb\"> </span><span style=\"color: #666666\">=</span><span style=\"color: #bbbbbb\"> </span>_tmp87<span style=\"color: #bbbbbb\"> </span><span style=\"color: #666666\">*</span><span style=\"color: #bbbbbb\"> </span>(_tmp57<span style=\"color: #bbbbbb\"> </span><span style=\"color: #666666\">*</span><span style=\"color: #bbbbbb\"> </span>_tmp83<span style=\"color: #bbbbbb\"> </span><span style=\"color: #666666\">-</span><span style=\"color: #bbbbbb\"> </span>_tmp81<span style=\"color: #bbbbbb\"> </span><span style=\"color: #666666\">*</span><span style=\"color: #bbbbbb\"> </span>_tmp86);\n",
       "<span style=\"color: #bbbbbb\">    </span>_res_D_nav_T_cam(<span style=\"color: #666666\">1</span>,<span style=\"color: #bbbbbb\"> </span><span style=\"color: #666666\">5</span>)<span style=\"color: #bbbbbb\"> </span><span style=\"color: #666666\">=</span>\n",
       "<span style=\"color: #bbbbbb\">        </span>_tmp67<span style=\"color: #bbbbbb\"> </span><span style=\"color: #666666\">*</span><span style=\"color: #bbbbbb\"> </span>(_tmp46<span style=\"color: #bbbbbb\"> </span><span style=\"color: #666666\">*</span><span style=\"color: #bbbbbb\"> </span>_tmp91<span style=\"color: #bbbbbb\"> </span><span style=\"color: #666666\">-</span><span style=\"color: #bbbbbb\"> </span>_tmp66<span style=\"color: #bbbbbb\"> </span><span style=\"color: #666666\">*</span><span style=\"color: #bbbbbb\"> </span>(_tmp57<span style=\"color: #bbbbbb\"> </span><span style=\"color: #666666\">*</span><span style=\"color: #bbbbbb\"> </span>_tmp63<span style=\"color: #bbbbbb\"> </span><span style=\"color: #666666\">+</span><span style=\"color: #bbbbbb\"> </span>_tmp64<span style=\"color: #bbbbbb\"> </span><span style=\"color: #666666\">*</span><span style=\"color: #bbbbbb\"> </span>_tmp91<span style=\"color: #bbbbbb\"> </span><span style=\"color: #666666\">+</span><span style=\"color: #bbbbbb\"> </span>_tmp78<span style=\"color: #bbbbbb\"> </span><span style=\"color: #666666\">*</span><span style=\"color: #bbbbbb\"> </span>_tmp81));\n",
       "<span style=\"color: #bbbbbb\">  </span>}\n",
       "\n",
       "<span style=\"color: #bbbbbb\">  </span><span style=\"color: #008000; font-weight: bold\">if</span><span style=\"color: #bbbbbb\"> </span>(res_D_nav_t_point<span style=\"color: #bbbbbb\"> </span><span style=\"color: #666666\">!=</span><span style=\"color: #bbbbbb\"> </span><span style=\"color: #008000; font-weight: bold\">nullptr</span>)<span style=\"color: #bbbbbb\"> </span>{\n",
       "<span style=\"color: #bbbbbb\">    </span>Eigen<span style=\"color: #666666\">::</span>Matrix<span style=\"color: #666666\">&lt;</span>Scalar,<span style=\"color: #bbbbbb\"> </span><span style=\"color: #666666\">2</span>,<span style=\"color: #bbbbbb\"> </span><span style=\"color: #666666\">3&gt;&amp;</span><span style=\"color: #bbbbbb\"> </span>_res_D_nav_t_point<span style=\"color: #bbbbbb\"> </span><span style=\"color: #666666\">=</span><span style=\"color: #bbbbbb\"> </span>(<span style=\"color: #666666\">*</span>res_D_nav_t_point);\n",
       "\n",
       "<span style=\"color: #bbbbbb\">    </span>_res_D_nav_t_point(<span style=\"color: #666666\">0</span>,<span style=\"color: #bbbbbb\"> </span><span style=\"color: #666666\">0</span>)<span style=\"color: #bbbbbb\"> </span><span style=\"color: #666666\">=</span><span style=\"color: #bbbbbb\"> </span>_tmp87<span style=\"color: #bbbbbb\"> </span><span style=\"color: #666666\">*</span><span style=\"color: #bbbbbb\"> </span>(_tmp16<span style=\"color: #bbbbbb\"> </span><span style=\"color: #666666\">*</span><span style=\"color: #bbbbbb\"> </span>_tmp83<span style=\"color: #bbbbbb\"> </span><span style=\"color: #666666\">-</span><span style=\"color: #bbbbbb\"> </span>_tmp23<span style=\"color: #bbbbbb\"> </span><span style=\"color: #666666\">*</span><span style=\"color: #bbbbbb\"> </span>_tmp86);\n",
       "<span style=\"color: #bbbbbb\">    </span>_res_D_nav_t_point(<span style=\"color: #666666\">1</span>,<span style=\"color: #bbbbbb\"> </span><span style=\"color: #666666\">0</span>)<span style=\"color: #bbbbbb\"> </span><span style=\"color: #666666\">=</span>\n",
       "<span style=\"color: #bbbbbb\">        </span>_tmp67<span style=\"color: #bbbbbb\"> </span><span style=\"color: #666666\">*</span><span style=\"color: #bbbbbb\"> </span>(_tmp38<span style=\"color: #bbbbbb\"> </span><span style=\"color: #666666\">*</span><span style=\"color: #bbbbbb\"> </span>_tmp46<span style=\"color: #bbbbbb\"> </span><span style=\"color: #666666\">-</span><span style=\"color: #bbbbbb\"> </span>_tmp66<span style=\"color: #bbbbbb\"> </span><span style=\"color: #666666\">*</span><span style=\"color: #bbbbbb\"> </span>(_tmp16<span style=\"color: #bbbbbb\"> </span><span style=\"color: #666666\">*</span><span style=\"color: #bbbbbb\"> </span>_tmp63<span style=\"color: #bbbbbb\"> </span><span style=\"color: #666666\">+</span><span style=\"color: #bbbbbb\"> </span>_tmp23<span style=\"color: #bbbbbb\"> </span><span style=\"color: #666666\">*</span><span style=\"color: #bbbbbb\"> </span>_tmp78<span style=\"color: #bbbbbb\"> </span><span style=\"color: #666666\">+</span><span style=\"color: #bbbbbb\"> </span>_tmp38<span style=\"color: #bbbbbb\"> </span><span style=\"color: #666666\">*</span><span style=\"color: #bbbbbb\"> </span>_tmp64));\n",
       "<span style=\"color: #bbbbbb\">    </span>_res_D_nav_t_point(<span style=\"color: #666666\">0</span>,<span style=\"color: #bbbbbb\"> </span><span style=\"color: #666666\">1</span>)<span style=\"color: #bbbbbb\"> </span><span style=\"color: #666666\">=</span><span style=\"color: #bbbbbb\"> </span>_tmp87<span style=\"color: #bbbbbb\"> </span><span style=\"color: #666666\">*</span><span style=\"color: #bbbbbb\"> </span>(<span style=\"color: #666666\">-</span>_tmp24<span style=\"color: #bbbbbb\"> </span><span style=\"color: #666666\">*</span><span style=\"color: #bbbbbb\"> </span>_tmp86<span style=\"color: #bbbbbb\"> </span><span style=\"color: #666666\">+</span><span style=\"color: #bbbbbb\"> </span>_tmp6<span style=\"color: #bbbbbb\"> </span><span style=\"color: #666666\">*</span><span style=\"color: #bbbbbb\"> </span>_tmp83);\n",
       "<span style=\"color: #bbbbbb\">    </span>_res_D_nav_t_point(<span style=\"color: #666666\">1</span>,<span style=\"color: #bbbbbb\"> </span><span style=\"color: #666666\">1</span>)<span style=\"color: #bbbbbb\"> </span><span style=\"color: #666666\">=</span>\n",
       "<span style=\"color: #bbbbbb\">        </span>_tmp67<span style=\"color: #bbbbbb\"> </span><span style=\"color: #666666\">*</span><span style=\"color: #bbbbbb\"> </span>(_tmp36<span style=\"color: #bbbbbb\"> </span><span style=\"color: #666666\">*</span><span style=\"color: #bbbbbb\"> </span>_tmp46<span style=\"color: #bbbbbb\"> </span><span style=\"color: #666666\">-</span><span style=\"color: #bbbbbb\"> </span>_tmp66<span style=\"color: #bbbbbb\"> </span><span style=\"color: #666666\">*</span><span style=\"color: #bbbbbb\"> </span>(_tmp24<span style=\"color: #bbbbbb\"> </span><span style=\"color: #666666\">*</span><span style=\"color: #bbbbbb\"> </span>_tmp78<span style=\"color: #bbbbbb\"> </span><span style=\"color: #666666\">+</span><span style=\"color: #bbbbbb\"> </span>_tmp36<span style=\"color: #bbbbbb\"> </span><span style=\"color: #666666\">*</span><span style=\"color: #bbbbbb\"> </span>_tmp64<span style=\"color: #bbbbbb\"> </span><span style=\"color: #666666\">+</span><span style=\"color: #bbbbbb\"> </span>_tmp6<span style=\"color: #bbbbbb\"> </span><span style=\"color: #666666\">*</span><span style=\"color: #bbbbbb\"> </span>_tmp63));\n",
       "<span style=\"color: #bbbbbb\">    </span>_res_D_nav_t_point(<span style=\"color: #666666\">0</span>,<span style=\"color: #bbbbbb\"> </span><span style=\"color: #666666\">2</span>)<span style=\"color: #bbbbbb\"> </span><span style=\"color: #666666\">=</span><span style=\"color: #bbbbbb\"> </span>_tmp87<span style=\"color: #bbbbbb\"> </span><span style=\"color: #666666\">*</span><span style=\"color: #bbbbbb\"> </span>(_tmp11<span style=\"color: #bbbbbb\"> </span><span style=\"color: #666666\">*</span><span style=\"color: #bbbbbb\"> </span>_tmp83<span style=\"color: #bbbbbb\"> </span><span style=\"color: #666666\">-</span><span style=\"color: #bbbbbb\"> </span>_tmp29<span style=\"color: #bbbbbb\"> </span><span style=\"color: #666666\">*</span><span style=\"color: #bbbbbb\"> </span>_tmp86);\n",
       "<span style=\"color: #bbbbbb\">    </span>_res_D_nav_t_point(<span style=\"color: #666666\">1</span>,<span style=\"color: #bbbbbb\"> </span><span style=\"color: #666666\">2</span>)<span style=\"color: #bbbbbb\"> </span><span style=\"color: #666666\">=</span>\n",
       "<span style=\"color: #bbbbbb\">        </span>_tmp67<span style=\"color: #bbbbbb\"> </span><span style=\"color: #666666\">*</span><span style=\"color: #bbbbbb\"> </span>(_tmp34<span style=\"color: #bbbbbb\"> </span><span style=\"color: #666666\">*</span><span style=\"color: #bbbbbb\"> </span>_tmp46<span style=\"color: #bbbbbb\"> </span><span style=\"color: #666666\">-</span><span style=\"color: #bbbbbb\"> </span>_tmp66<span style=\"color: #bbbbbb\"> </span><span style=\"color: #666666\">*</span><span style=\"color: #bbbbbb\"> </span>(_tmp11<span style=\"color: #bbbbbb\"> </span><span style=\"color: #666666\">*</span><span style=\"color: #bbbbbb\"> </span>_tmp63<span style=\"color: #bbbbbb\"> </span><span style=\"color: #666666\">+</span><span style=\"color: #bbbbbb\"> </span>_tmp29<span style=\"color: #bbbbbb\"> </span><span style=\"color: #666666\">*</span><span style=\"color: #bbbbbb\"> </span>_tmp78<span style=\"color: #bbbbbb\"> </span><span style=\"color: #666666\">+</span><span style=\"color: #bbbbbb\"> </span>_tmp34<span style=\"color: #bbbbbb\"> </span><span style=\"color: #666666\">*</span><span style=\"color: #bbbbbb\"> </span>_tmp64));\n",
       "<span style=\"color: #bbbbbb\">  </span>}\n",
       "\n",
       "<span style=\"color: #bbbbbb\">  </span><span style=\"color: #008000; font-weight: bold\">return</span><span style=\"color: #bbbbbb\"> </span>_res;\n",
       "}<span style=\"color: #bbbbbb\">  </span><span style=\"color: #3D7B7B; font-style: italic\">// NOLINT(readability/fn_size)</span>\n",
       "\n",
       "<span style=\"color: #3D7B7B; font-style: italic\">// NOLINTNEXTLINE(readability/fn_size)</span>\n",
       "}<span style=\"color: #bbbbbb\">  </span><span style=\"color: #3D7B7B; font-style: italic\">// namespace sym</span>\n",
       "</pre></div>\n"
      ],
      "text/plain": [
       "<IPython.core.display.HTML object>"
      ]
     },
     "metadata": {},
     "output_type": "display_data"
    }
   ],
   "source": [
    "codegen_with_jacobians = az_el_codegen.with_jacobians(\n",
    "    which_args = [\"nav_T_cam\", \"nav_t_point\"],\n",
    "    include_results =True,\n",
    ")\n",
    "\n",
    "data = codegen_with_jacobians.generate_function()\n",
    "from symforce.notebook_util import display_code_file\n",
    "display_code_file(data.generated_files[0], \"C++\")"
   ]
  },
  {
   "cell_type": "code",
   "execution_count": 36,
   "id": "5df3d2f8-5fb5-42d6-9d54-e53002344210",
   "metadata": {},
   "outputs": [
    {
     "name": "stdout",
     "output_type": "stream",
     "text": [
      "Help on package symforce.codegen in symforce:\n",
      "\n",
      "NAME\n",
      "    symforce.codegen - Package for executable code generation from symbolic expressions.\n",
      "\n",
      "PACKAGE CONTENTS\n",
      "    backends (package)\n",
      "    cam_package_codegen\n",
      "    codegen\n",
      "    codegen_config\n",
      "    codegen_util\n",
      "    format_util\n",
      "    geo_factors_codegen\n",
      "    geo_package_codegen\n",
      "    lcm_types_codegen\n",
      "    ops_codegen_util\n",
      "    similarity_index\n",
      "    slam_factors_codegen\n",
      "    sym_util_package_codegen\n",
      "    template_util\n",
      "    types_package_codegen\n",
      "    values_codegen\n",
      "\n",
      "FILE\n",
      "    /home/jagatpreet/.local/lib/python3.8/site-packages/symforce/codegen/__init__.py\n",
      "\n",
      "\n"
     ]
    }
   ],
   "source": [
    "help(symforce.codegen)\n"
   ]
  },
  {
   "cell_type": "code",
   "execution_count": 37,
   "id": "2887086b-2868-41fd-9fbf-66982d1d1b87",
   "metadata": {},
   "outputs": [
    {
     "name": "stdout",
     "output_type": "stream",
     "text": [
      "Help on class Codegen in module symforce.codegen.codegen:\n",
      "\n",
      "class Codegen(builtins.object)\n",
      " |  Codegen(inputs: 'Values', outputs: 'Values', config: 'codegen_config.CodegenConfig', name: 'T.Optional[str]' = None, return_key: 'T.Optional[str]' = None, sparse_matrices: 'T.Sequence[str]' = None, docstring: 'str' = None) -> 'None'\n",
      " |  \n",
      " |  Class used for generating code from symbolic expressions or functions.\n",
      " |  \n",
      " |  Codegen objects can either be used to generate standalone functions, or\n",
      " |  as specifications in a larger code generation pipeline. Each codegen object\n",
      " |  defines an input/output relationship between a set of symbolic inputs and\n",
      " |  a set of symbolic output expressions written in terms of the inputs.\n",
      " |  \n",
      " |  Methods defined here:\n",
      " |  \n",
      " |  __init__(self, inputs: 'Values', outputs: 'Values', config: 'codegen_config.CodegenConfig', name: 'T.Optional[str]' = None, return_key: 'T.Optional[str]' = None, sparse_matrices: 'T.Sequence[str]' = None, docstring: 'str' = None) -> 'None'\n",
      " |      Creates the Codegen specification.\n",
      " |      \n",
      " |      Args:\n",
      " |          inputs: Values object specifying names and symbolic inputs to the function\n",
      " |          outputs: Values object specifying names and output expressions (written in terms\n",
      " |                   of the symbolic inputs) of the function\n",
      " |          config: Programming language and configuration in which the function is to be generated\n",
      " |          name: Name of the function to be generated; must be set before the function is\n",
      " |                generated, but need not be set here if it's going to be set by with_linearization\n",
      " |                or with_jacobians.  Should be snake_case, will be converted to the\n",
      " |                language-specific function name style at generation time\n",
      " |          return_key: If specified, the output with this key is returned rather than filled\n",
      " |                      in as a named output argument.\n",
      " |          sparse_matrices: Outputs with this key will be returned as sparse matrices\n",
      " |          docstring: The docstring to be used with the generated function\n",
      " |  \n",
      " |  generate_function(self, output_dir: 'T.Openable' = None, lcm_bindings_output_dir: 'T.Openable' = None, shared_types: 'T.Mapping[str, str]' = None, namespace: 'str' = 'sym', generated_file_name: 'str' = None, skip_directory_nesting: 'bool' = False) -> 'GeneratedPaths'\n",
      " |      Generates a function that computes the given outputs from the given inputs.\n",
      " |      \n",
      " |      Usage for generating multiple functions with a shared type::\n",
      " |      \n",
      " |          codegen_obj_1.generate_function(namespace=\"my_namespace\")\n",
      " |          shared_types = {\"my_type\": \"my_namespace.my_type_t\"}\n",
      " |          codegen_obj_2.generate_function(shared_types=shared_types, namespace=\"my_namespace\")\n",
      " |      \n",
      " |      In the example above, both ``codegen_obj_1`` and ``codegen_obj_2`` use the type\n",
      " |      ``\"my_type\"``. During the first call to :meth:`generate_function` we generate the type\n",
      " |      ``\"my_type\"``, and it then becomes a shared type for the second call to\n",
      " |      :meth:`generate_function`. This signals that ``\"my_type\"`` does not need to be generated\n",
      " |      during the second call to :meth:`generate_function` as it already exists.\n",
      " |      \n",
      " |      Args:\n",
      " |          output_dir: Directory in which to output the generated function. Any generated types will\n",
      " |              be located in a subdirectory with name equal to the namespace argument.\n",
      " |          lcm_bindings_output_dir: Directory in which to output language-specific LCM bindings\n",
      " |          shared_types: Mapping between types defined as part of this codegen object (e.g. keys in\n",
      " |              self.inputs that map to Values objects) and previously generated external types.\n",
      " |          namespace: Namespace for the generated function and any generated types.  Must be a\n",
      " |                     valid identifier, nested namespaces are not supported.\n",
      " |          generated_file_name: Stem for the filename into which the function is generated, with\n",
      " |                               no file extension\n",
      " |          skip_directory_nesting: Generate the output file directly into output_dir instead of\n",
      " |                                  adding the usual directory structure inside output_dir\n",
      " |  \n",
      " |  output_symbols = <functools.cached_property object>\n",
      " |  print_code_results = <functools.cached_property object>\n",
      " |  total_ops(self) -> 'int'\n",
      " |      The number of symbolic ops in the expression.\n",
      " |  \n",
      " |  unused_arguments = <functools.cached_property object>\n",
      " |  with_jacobians(self, which_args: 'T.Sequence[str]' = None, which_results: 'T.Sequence[int]' = (0,), include_results: 'bool' = True, name: 'str' = None, sparse_jacobians: 'bool' = False) -> 'Codegen'\n",
      " |      Given a codegen object that takes some number of inputs and computes some number of results,\n",
      " |      create a new codegen object that additionally computes jacobians of the given results with\n",
      " |      respect to the given input arguments. By default, computes the jacobians of the first result\n",
      " |      with respect to all arguments.  Flexible to produce the values and all jacobians, just the\n",
      " |      jacobians, or any combination of one or more jacobians.\n",
      " |      \n",
      " |      The jacobians are in the tangent spaces of the inputs and outputs, see jacobian_helpers.py\n",
      " |      for more information.\n",
      " |      \n",
      " |      The previous codegen object (the `self` argument to this function) is unmodified by this\n",
      " |      function and still valid after this function returns.\n",
      " |      \n",
      " |      Args:\n",
      " |          self: Existing codegen object that return a single value\n",
      " |          which_args: Names of args for which to compute jacobians. If not given, uses all.\n",
      " |          which_results: Indices of results for which to compute jacobians.  If not given, uses\n",
      " |                         the first result.\n",
      " |          include_results: Whether we should still return the values in addition to the\n",
      " |                           jacobian(s), for the results in which_results.  Values not in\n",
      " |                           which_results are always still returned.\n",
      " |          name: Generated function name. If not given, picks a reasonable name based on the one\n",
      " |                given at construction.\n",
      " |          sparse_jacobians: Whether to output jacobians as sparse matrices, as opposed to dense\n",
      " |  \n",
      " |  with_linearization(self, which_args: 'T.Sequence[str]' = None, include_result: 'bool' = True, name: 'str' = None, linearization_mode: 'LinearizationMode' = <LinearizationMode.FULL_LINEARIZATION: 'full_linearization'>, sparse_linearization: 'bool' = False, custom_jacobian: 'sf.Matrix' = None) -> 'Codegen'\n",
      " |      Given a codegen object that takes some number of inputs and computes a single result,\n",
      " |      create a new codegen object that additionally computes the jacobian (or the full\n",
      " |      Gauss-Newton linearization) with respect to the given input arguments.\n",
      " |      \n",
      " |      The jacobians are in the tangent spaces of the inputs and outputs, see\n",
      " |      :mod:`jacobian_helpers.py <symforce.jacobian_helpers>` for more information.\n",
      " |      \n",
      " |      The previous codegen object (the ``self`` argument to this function) is unmodified by this\n",
      " |      function and still valid after this function returns.\n",
      " |      \n",
      " |      Args:\n",
      " |          self: Existing codegen object that returns a single value\n",
      " |          which_args: Names of args for which to compute jacobians. If not given, uses all.\n",
      " |          include_result: For the STACKED_JACOBIAN mode, whether we should still include the\n",
      " |                          result or only return the jacobian.  For the FULL_LINEARIZATION mode, we\n",
      " |                          always include the result (which is the residual).\n",
      " |          name: Generated function name. If not given, picks a reasonable name based on the one\n",
      " |                given at construction.\n",
      " |          linearization_mode: Whether to generate a single jacobian matrix (STACKED_JACOBIANS), or\n",
      " |                              generate a full linearization with a hessian and rhs\n",
      " |                              (FULL_LINEARIZATION).\n",
      " |          sparse_linearization: Whether to output matrices (jacobian and/or hessian) as sparse\n",
      " |                                matrices, as opposed to dense\n",
      " |          custom_jacobian: This is generally unnecessary, unless you want to override the jacobian\n",
      " |                           computed by SymForce, e.g. to stop derivatives with respect to certain\n",
      " |                           variables or directions, or because the jacobian can be analytically\n",
      " |                           simplified in a way that SymForce won't do automatically. If not\n",
      " |                           provided, the jacobian will be computed automatically.  If provided,\n",
      " |                           should have shape (result_dim, input_tangent_dim), where\n",
      " |                           input_tangent_dim is the sum of the tangent dimensions of arguments\n",
      " |                           corresponding to which_args\n",
      " |  \n",
      " |  ----------------------------------------------------------------------\n",
      " |  Class methods defined here:\n",
      " |  \n",
      " |  function(func: 'T.Callable', config: 'codegen_config.CodegenConfig', name: 'T.Optional[str]' = None, input_types: 'T.Sequence[T.ElementOrType]' = None, output_names: 'T.Sequence[str]' = None, return_key: 'str' = None, sparse_matrices: 'T.Sequence[str]' = None, docstring: 'str' = None) -> 'Codegen' from builtins.type\n",
      " |      Creates a Codegen object from a symbolic python function.\n",
      " |      \n",
      " |      Args:\n",
      " |          func: Python function. Note, variable position and keyword arguments will be ignored.\n",
      " |              Additionally, keyword only arguments will be set to their default values and not\n",
      " |              included in the signature of the generated function.\n",
      " |          input_types: List of types of the inputs to the given function.  This is optional; if\n",
      " |              ``func`` has type annotations, ``input_types`` can be deduced from those.  Note that\n",
      " |              if the type annotation doesn't match what you want the arguments to be, you need\n",
      " |              to specify manually, for instance a function ``add(x: T.Any, y: T.Any) -> T.Any``\n",
      " |              that you want to use to generate\n",
      " |              ``add(x: sf.Matrix33, y: sf.Matrix33) -> sf.Matrix33``\n",
      " |          config: Programming language and configuration in which the function is to be generated\n",
      " |          name: Name of the function to be generated; if not provided, will be deduced from the\n",
      " |              function name.  Must be provided if ``func`` is a lambda\n",
      " |          output_names: Names to give to outputs returned from ``func``.  If ``None`` (the\n",
      " |              default), names will be chosen as ``f\"res{i}\"`` for functions that return multiple\n",
      " |              results, or ``\"res\"`` for functions that return a single result\n",
      " |          sparse_matrices: Outputs with this key will be returned as sparse matrices\n",
      " |          return_key: If multiple objects are returned, the generated function will return\n",
      " |              the object with this name (must be in ``output_names``)\n",
      " |          docstring: The docstring to be used with the generated function.  Default is to use the\n",
      " |                     existing docstring\n",
      " |  \n",
      " |  ----------------------------------------------------------------------\n",
      " |  Static methods defined here:\n",
      " |  \n",
      " |  common_data() -> 'T.Dict[str, T.Any]'\n",
      " |      Return common template data for code generation.\n",
      " |  \n",
      " |  default_docstring(inputs: 'Values', outputs: 'Values', original_function: 'T.Callable' = None) -> 'str'\n",
      " |      Create a default docstring if no other is available from the function or caller.\n",
      " |  \n",
      " |  wrap_docstring_arg_description(preamble: 'str', description: 'str', config: 'codegen_config.CodegenConfig') -> 'T.List[str]'\n",
      " |  \n",
      " |  ----------------------------------------------------------------------\n",
      " |  Data descriptors defined here:\n",
      " |  \n",
      " |  __dict__\n",
      " |      dictionary for instance variables (if defined)\n",
      " |  \n",
      " |  __weakref__\n",
      " |      list of weak references to the object (if defined)\n",
      "\n"
     ]
    }
   ],
   "source": [
    "help(symforce.codegen.Codegen)"
   ]
  },
  {
   "cell_type": "code",
   "execution_count": 38,
   "id": "dc46a3d2-3633-4cc3-9f3d-5ed0dcbe9b17",
   "metadata": {},
   "outputs": [
    {
     "ename": "TypeError",
     "evalue": "default_docstring() missing 2 required positional arguments: 'inputs' and 'outputs'",
     "output_type": "error",
     "traceback": [
      "\u001b[0;31m---------------------------------------------------------------------------\u001b[0m",
      "\u001b[0;31mTypeError\u001b[0m                                 Traceback (most recent call last)",
      "Cell \u001b[0;32mIn[38], line 1\u001b[0m\n\u001b[0;32m----> 1\u001b[0m \u001b[43msymforce\u001b[49m\u001b[38;5;241;43m.\u001b[39;49m\u001b[43mcodegen\u001b[49m\u001b[38;5;241;43m.\u001b[39;49m\u001b[43mCodegen\u001b[49m\u001b[38;5;241;43m.\u001b[39;49m\u001b[43mdefault_docstring\u001b[49m\u001b[43m(\u001b[49m\u001b[43m)\u001b[49m\n",
      "\u001b[0;31mTypeError\u001b[0m: default_docstring() missing 2 required positional arguments: 'inputs' and 'outputs'"
     ]
    }
   ],
   "source": [
    "symforce.codegen.Codegen.default_docstring()"
   ]
  },
  {
   "cell_type": "code",
   "execution_count": null,
   "id": "63dad2d1-4915-4c41-9042-a14d0cbd50ca",
   "metadata": {},
   "outputs": [],
   "source": []
  }
 ],
 "metadata": {
  "kernelspec": {
   "display_name": "Python 3 (ipykernel)",
   "language": "python",
   "name": "python3"
  },
  "language_info": {
   "codemirror_mode": {
    "name": "ipython",
    "version": 3
   },
   "file_extension": ".py",
   "mimetype": "text/x-python",
   "name": "python",
   "nbconvert_exporter": "python",
   "pygments_lexer": "ipython3",
   "version": "3.8.16"
  }
 },
 "nbformat": 4,
 "nbformat_minor": 5
}
